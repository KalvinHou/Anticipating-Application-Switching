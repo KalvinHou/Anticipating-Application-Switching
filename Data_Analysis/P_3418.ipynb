{
 "cells": [
  {
   "cell_type": "code",
   "execution_count": 1,
   "metadata": {},
   "outputs": [],
   "source": [
    "import pandas as pd\n",
    "import matplotlib.pyplot as plt\n",
    "import json\n",
    "import os\n",
    "from pathlib import Path\n",
    "import seaborn as sns\n",
    "sns.set_style('darkgrid')"
   ]
  },
  {
   "cell_type": "code",
   "execution_count": 2,
   "metadata": {},
   "outputs": [],
   "source": [
    "# Find all the folders\n",
    "root_dir = Path('/shome/ws2021/group9/dataset/37be2146-0a9a-4876-aef9-89a771363418/37be2146-0a9a-4876-aef9-89a771363418')\n",
    "folders = [fld for fld in root_dir.iterdir() if fld.is_dir()]\n",
    "\n",
    "# Find all the file names\n",
    "all_filenames = []\n",
    "for fld in folders:\n",
    "    for f in fld.glob('*application_data.txt'):\n",
    "        all_filenames.append(f.name)\n",
    "        \n",
    "# Open and load the file  \n",
    "for f in list(set(all_filenames)):\n",
    "    app_data = pd.DataFrame({}) # An empty dataframe\n",
    "\n",
    "    for fld in folders:\n",
    "        if (fld / f).is_file():\n",
    "           with open(fld /f, 'r') as fp:\n",
    "            data =  json.load(fp)[\"application_data\"] \n",
    "            temp_df = pd.DataFrame(data)\n",
    "            app_data = app_data.append(temp_df,ignore_index=True)   "
   ]
  },
  {
   "cell_type": "code",
   "execution_count": 4,
   "metadata": {},
   "outputs": [
    {
     "data": {
      "text/html": [
       "<div>\n",
       "<style scoped>\n",
       "    .dataframe tbody tr th:only-of-type {\n",
       "        vertical-align: middle;\n",
       "    }\n",
       "\n",
       "    .dataframe tbody tr th {\n",
       "        vertical-align: top;\n",
       "    }\n",
       "\n",
       "    .dataframe thead th {\n",
       "        text-align: right;\n",
       "    }\n",
       "</style>\n",
       "<table border=\"1\" class=\"dataframe\">\n",
       "  <thead>\n",
       "    <tr style=\"text-align: right;\">\n",
       "      <th></th>\n",
       "      <th>name</th>\n",
       "      <th>time</th>\n",
       "      <th>timeDate</th>\n",
       "    </tr>\n",
       "  </thead>\n",
       "  <tbody>\n",
       "    <tr>\n",
       "      <th>0</th>\n",
       "      <td>com.android.settings</td>\n",
       "      <td>1436987919281117</td>\n",
       "      <td>13.08.2019 17:05:22.441</td>\n",
       "    </tr>\n",
       "    <tr>\n",
       "      <th>1</th>\n",
       "      <td>ch.ethz.inf.vs.staals.visualattentionrecorder</td>\n",
       "      <td>1436994121783927</td>\n",
       "      <td>13.08.2019 17:05:28.644</td>\n",
       "    </tr>\n",
       "    <tr>\n",
       "      <th>2</th>\n",
       "      <td>com.android.settings</td>\n",
       "      <td>1436995160568041</td>\n",
       "      <td>13.08.2019 17:05:29.683</td>\n",
       "    </tr>\n",
       "    <tr>\n",
       "      <th>3</th>\n",
       "      <td>ch.ethz.inf.vs.staals.visualattentionrecorder</td>\n",
       "      <td>1437015455660846</td>\n",
       "      <td>13.08.2019 17:05:49.978</td>\n",
       "    </tr>\n",
       "    <tr>\n",
       "      <th>4</th>\n",
       "      <td>com.android.vending</td>\n",
       "      <td>1437173419387817</td>\n",
       "      <td>13.08.2019 17:08:27.941</td>\n",
       "    </tr>\n",
       "    <tr>\n",
       "      <th>...</th>\n",
       "      <td>...</td>\n",
       "      <td>...</td>\n",
       "      <td>...</td>\n",
       "    </tr>\n",
       "    <tr>\n",
       "      <th>1359</th>\n",
       "      <td>com.miui.home</td>\n",
       "      <td>1690564761463465</td>\n",
       "      <td>16.08.2019 15:31:39.684</td>\n",
       "    </tr>\n",
       "    <tr>\n",
       "      <th>1360</th>\n",
       "      <td>com.whatsapp</td>\n",
       "      <td>1690566902199870</td>\n",
       "      <td>16.08.2019 15:31:41.825</td>\n",
       "    </tr>\n",
       "    <tr>\n",
       "      <th>1361</th>\n",
       "      <td>com.miui.home</td>\n",
       "      <td>1690568540838880</td>\n",
       "      <td>16.08.2019 15:31:43.463</td>\n",
       "    </tr>\n",
       "    <tr>\n",
       "      <th>1362</th>\n",
       "      <td>com.miui.home</td>\n",
       "      <td>1690958882800339</td>\n",
       "      <td>16.08.2019 15:38:13.805</td>\n",
       "    </tr>\n",
       "    <tr>\n",
       "      <th>1363</th>\n",
       "      <td>ch.ethz.inf.vs.staals.visualattentionrecorder</td>\n",
       "      <td>1690961536995442</td>\n",
       "      <td>16.08.2019 15:38:16.460</td>\n",
       "    </tr>\n",
       "  </tbody>\n",
       "</table>\n",
       "<p>1364 rows × 3 columns</p>\n",
       "</div>"
      ],
      "text/plain": [
       "                                               name              time  \\\n",
       "0                              com.android.settings  1436987919281117   \n",
       "1     ch.ethz.inf.vs.staals.visualattentionrecorder  1436994121783927   \n",
       "2                              com.android.settings  1436995160568041   \n",
       "3     ch.ethz.inf.vs.staals.visualattentionrecorder  1437015455660846   \n",
       "4                               com.android.vending  1437173419387817   \n",
       "...                                             ...               ...   \n",
       "1359                                  com.miui.home  1690564761463465   \n",
       "1360                                   com.whatsapp  1690566902199870   \n",
       "1361                                  com.miui.home  1690568540838880   \n",
       "1362                                  com.miui.home  1690958882800339   \n",
       "1363  ch.ethz.inf.vs.staals.visualattentionrecorder  1690961536995442   \n",
       "\n",
       "                     timeDate  \n",
       "0     13.08.2019 17:05:22.441  \n",
       "1     13.08.2019 17:05:28.644  \n",
       "2     13.08.2019 17:05:29.683  \n",
       "3     13.08.2019 17:05:49.978  \n",
       "4     13.08.2019 17:08:27.941  \n",
       "...                       ...  \n",
       "1359  16.08.2019 15:31:39.684  \n",
       "1360  16.08.2019 15:31:41.825  \n",
       "1361  16.08.2019 15:31:43.463  \n",
       "1362  16.08.2019 15:38:13.805  \n",
       "1363  16.08.2019 15:38:16.460  \n",
       "\n",
       "[1364 rows x 3 columns]"
      ]
     },
     "execution_count": 4,
     "metadata": {},
     "output_type": "execute_result"
    }
   ],
   "source": [
    "app_data"
   ]
  },
  {
   "cell_type": "code",
   "execution_count": 15,
   "metadata": {},
   "outputs": [
    {
     "name": "stdout",
     "output_type": "stream",
     "text": [
      "count              1364\n",
      "unique               24\n",
      "top       com.miui.home\n",
      "freq                767\n",
      "Name: name, dtype: object\n"
     ]
    },
    {
     "data": {
      "text/html": [
       "<div>\n",
       "<style scoped>\n",
       "    .dataframe tbody tr th:only-of-type {\n",
       "        vertical-align: middle;\n",
       "    }\n",
       "\n",
       "    .dataframe tbody tr th {\n",
       "        vertical-align: top;\n",
       "    }\n",
       "\n",
       "    .dataframe thead th {\n",
       "        text-align: right;\n",
       "    }\n",
       "</style>\n",
       "<table border=\"1\" class=\"dataframe\">\n",
       "  <thead>\n",
       "    <tr style=\"text-align: right;\">\n",
       "      <th></th>\n",
       "      <th>name</th>\n",
       "      <th>time</th>\n",
       "      <th>timeDate</th>\n",
       "    </tr>\n",
       "  </thead>\n",
       "  <tbody>\n",
       "    <tr>\n",
       "      <th>0</th>\n",
       "      <td>com.android.settings</td>\n",
       "      <td>1436987919281117</td>\n",
       "      <td>13.08.2019 17:05:22.441</td>\n",
       "    </tr>\n",
       "    <tr>\n",
       "      <th>1</th>\n",
       "      <td>ch.ethz.inf.vs.staals.visualattentionrecorder</td>\n",
       "      <td>1436994121783927</td>\n",
       "      <td>13.08.2019 17:05:28.644</td>\n",
       "    </tr>\n",
       "    <tr>\n",
       "      <th>2</th>\n",
       "      <td>com.android.settings</td>\n",
       "      <td>1436995160568041</td>\n",
       "      <td>13.08.2019 17:05:29.683</td>\n",
       "    </tr>\n",
       "    <tr>\n",
       "      <th>3</th>\n",
       "      <td>ch.ethz.inf.vs.staals.visualattentionrecorder</td>\n",
       "      <td>1437015455660846</td>\n",
       "      <td>13.08.2019 17:05:49.978</td>\n",
       "    </tr>\n",
       "    <tr>\n",
       "      <th>4</th>\n",
       "      <td>com.android.vending</td>\n",
       "      <td>1437173419387817</td>\n",
       "      <td>13.08.2019 17:08:27.941</td>\n",
       "    </tr>\n",
       "    <tr>\n",
       "      <th>...</th>\n",
       "      <td>...</td>\n",
       "      <td>...</td>\n",
       "      <td>...</td>\n",
       "    </tr>\n",
       "    <tr>\n",
       "      <th>1359</th>\n",
       "      <td>com.miui.home</td>\n",
       "      <td>2818787282546452</td>\n",
       "      <td>29.08.2019 16:55:21.814</td>\n",
       "    </tr>\n",
       "    <tr>\n",
       "      <th>1360</th>\n",
       "      <td>com.whatsapp</td>\n",
       "      <td>2818787795331504</td>\n",
       "      <td>29.08.2019 16:55:22.327</td>\n",
       "    </tr>\n",
       "    <tr>\n",
       "      <th>1361</th>\n",
       "      <td>com.miui.home</td>\n",
       "      <td>2818796075400199</td>\n",
       "      <td>29.08.2019 16:55:30.607</td>\n",
       "    </tr>\n",
       "    <tr>\n",
       "      <th>1362</th>\n",
       "      <td>com.miui.home</td>\n",
       "      <td>2819024401032504</td>\n",
       "      <td>29.08.2019 16:59:18.933</td>\n",
       "    </tr>\n",
       "    <tr>\n",
       "      <th>1363</th>\n",
       "      <td>ch.ethz.inf.vs.staals.visualattentionrecorder</td>\n",
       "      <td>2819025424013598</td>\n",
       "      <td>29.08.2019 16:59:19.956</td>\n",
       "    </tr>\n",
       "  </tbody>\n",
       "</table>\n",
       "<p>1364 rows × 3 columns</p>\n",
       "</div>"
      ],
      "text/plain": [
       "                                               name              time  \\\n",
       "0                              com.android.settings  1436987919281117   \n",
       "1     ch.ethz.inf.vs.staals.visualattentionrecorder  1436994121783927   \n",
       "2                              com.android.settings  1436995160568041   \n",
       "3     ch.ethz.inf.vs.staals.visualattentionrecorder  1437015455660846   \n",
       "4                               com.android.vending  1437173419387817   \n",
       "...                                             ...               ...   \n",
       "1359                                  com.miui.home  2818787282546452   \n",
       "1360                                   com.whatsapp  2818787795331504   \n",
       "1361                                  com.miui.home  2818796075400199   \n",
       "1362                                  com.miui.home  2819024401032504   \n",
       "1363  ch.ethz.inf.vs.staals.visualattentionrecorder  2819025424013598   \n",
       "\n",
       "                     timeDate  \n",
       "0     13.08.2019 17:05:22.441  \n",
       "1     13.08.2019 17:05:28.644  \n",
       "2     13.08.2019 17:05:29.683  \n",
       "3     13.08.2019 17:05:49.978  \n",
       "4     13.08.2019 17:08:27.941  \n",
       "...                       ...  \n",
       "1359  29.08.2019 16:55:21.814  \n",
       "1360  29.08.2019 16:55:22.327  \n",
       "1361  29.08.2019 16:55:30.607  \n",
       "1362  29.08.2019 16:59:18.933  \n",
       "1363  29.08.2019 16:59:19.956  \n",
       "\n",
       "[1364 rows x 3 columns]"
      ]
     },
     "execution_count": 15,
     "metadata": {},
     "output_type": "execute_result"
    }
   ],
   "source": [
    "# Sort the values by timeDate\n",
    "app_data = app_data.sort_values(by=['timeDate'],ignore_index=True)\n",
    "\n",
    "print(app_data.name.describe())\n",
    "\n",
    "app_data"
   ]
  },
  {
   "cell_type": "code",
   "execution_count": 17,
   "metadata": {},
   "outputs": [
    {
     "data": {
      "text/plain": [
       "count              499\n",
       "unique              22\n",
       "top       com.whatsapp\n",
       "freq               227\n",
       "Name: name, dtype: object"
      ]
     },
     "execution_count": 17,
     "metadata": {},
     "output_type": "execute_result"
    }
   ],
   "source": [
    "# Exclude attention recorder app\n",
    "mask = app_data['name'].isin(['ch.ethz.inf.vs.staals.visualattentionrecorder','com.miui.home'])\n",
    "app_data_m = app_data[~mask]\n",
    "app_data_m.name.describe()"
   ]
  },
  {
   "cell_type": "code",
   "execution_count": 18,
   "metadata": {},
   "outputs": [],
   "source": [
    "# Export dataframe to csv file \n",
    "app_data_m.to_csv(r'/shome/ws2021/group9/dataset/3418app_data_m.csv',index=False)"
   ]
  },
  {
   "cell_type": "code",
   "execution_count": 11,
   "metadata": {},
   "outputs": [
    {
     "data": {
      "text/plain": [
       "com.whatsapp                               227\n",
       "com.supercell.clashroyale                  151\n",
       "com.android.chrome                          23\n",
       "com.google.android.gm                       19\n",
       "com.android.settings                        18\n",
       "com.google.android.youtube                  15\n",
       "com.android.deskclock                        9\n",
       "com.google.android.apps.maps                 8\n",
       "com.ubs.swidK2Y.android                      5\n",
       "com.android.vending                          3\n",
       "com.android.systemui                         3\n",
       "com.android.mms                              2\n",
       "com.google.android.googlequicksearchbox      2\n",
       "com.android.browser                          2\n",
       "com.android.incallui                         2\n",
       "android                                      2\n",
       "com.android.contacts                         2\n",
       "com.android.htmlviewer                       2\n",
       "com.google.android.packageinstaller          1\n",
       "org.telegram.messenger                       1\n",
       "com.miui.global.packageinstaller             1\n",
       "com.miui.gallery                             1\n",
       "Name: name, dtype: int64"
      ]
     },
     "execution_count": 11,
     "metadata": {},
     "output_type": "execute_result"
    }
   ],
   "source": [
    "app_counts = app_data_m.name.value_counts()\n",
    "app_counts"
   ]
  },
  {
   "cell_type": "code",
   "execution_count": 19,
   "metadata": {},
   "outputs": [
    {
     "data": {
      "image/png": "[encoded data removed]",
      "text/plain": [
       "<Figure size 360x216 with 1 Axes>"
      ]
     },
     "metadata": {},
     "output_type": "display_data"
    }
   ],
   "source": [
    "app_counts.plot(kind='bar',xlabel='Name of the Apps', ylabel='No. of Counts',figsize=(5, 3))\n",
    "plt.savefig('Frequency of the apps_3418.jpg',dpi=600,bbox_inches ='tight')\n",
    "plt.show()"
   ]
  },
  {
   "cell_type": "code",
   "execution_count": 12,
   "metadata": {},
   "outputs": [
    {
     "name": "stdout",
     "output_type": "stream",
     "text": [
      "The no. of apps which are used once: 4\n"
     ]
    }
   ],
   "source": [
    "app_1 = app_counts.loc[app_counts==1]\n",
    "print(\"The no. of apps which are used once:\",sum(app_1))"
   ]
  },
  {
   "cell_type": "markdown",
   "metadata": {},
   "source": [
    "Notifications Data"
   ]
  },
  {
   "cell_type": "code",
   "execution_count": 20,
   "metadata": {},
   "outputs": [],
   "source": [
    "from pathlib import Path\n",
    "\n",
    "# Find all the folders\n",
    "root_dir = Path('/shome/ws2021/group9/dataset/37be2146-0a9a-4876-aef9-89a771363418/37be2146-0a9a-4876-aef9-89a771363418')\n",
    "folders = [fld for fld in root_dir.iterdir() if fld.is_dir()]\n",
    "\n",
    "# Find all the file names\n",
    "all_filenames = []\n",
    "for fld in folders:\n",
    "    for f in fld.glob('*notification_data.txt'):\n",
    "        all_filenames.append(f.name)\n",
    "# Open and load the file  \n",
    "for f in list(set(all_filenames)):\n",
    "    noti_data = pd.DataFrame({}) # An empty dataframe\n",
    "\n",
    "    for fld in folders:\n",
    "        if (fld / f).is_file():\n",
    "           with open(fld /f, 'r') as fp:\n",
    "            data =  json.load(fp)[\"notification_data\"] \n",
    "            temp_df = pd.DataFrame(data)\n",
    "            noti_data = noti_data.append(temp_df,ignore_index=True)           "
   ]
  },
  {
   "cell_type": "code",
   "execution_count": 21,
   "metadata": {},
   "outputs": [],
   "source": [
    "# Sort the values by timeDate\n",
    "noti_data = noti_data.sort_values(by=['timeDate'],ignore_index=True)"
   ]
  },
  {
   "cell_type": "code",
   "execution_count": null,
   "metadata": {},
   "outputs": [],
   "source": [
    "# Notification_data\n",
    "noti_data"
   ]
  },
  {
   "cell_type": "code",
   "execution_count": 23,
   "metadata": {},
   "outputs": [],
   "source": [
    "# Exclude the notification data from android launcher, and attention recorder app\n",
    "mask = noti_data['package'].isin([ 'ch.ethz.inf.vs.staals.visualattentionrecorder'])\n",
    "noti_data_m = noti_data[~mask]"
   ]
  },
  {
   "cell_type": "code",
   "execution_count": 24,
   "metadata": {},
   "outputs": [
    {
     "data": {
      "text/plain": [
       "count              581\n",
       "unique              11\n",
       "top       com.whatsapp\n",
       "freq               382\n",
       "Name: package, dtype: object"
      ]
     },
     "execution_count": 24,
     "metadata": {},
     "output_type": "execute_result"
    }
   ],
   "source": [
    "# Information about package column\n",
    "noti_data_m.package.describe()"
   ]
  },
  {
   "cell_type": "code",
   "execution_count": 25,
   "metadata": {},
   "outputs": [],
   "source": [
    "noti_counts= noti_data_m.package.value_counts()"
   ]
  },
  {
   "cell_type": "code",
   "execution_count": 26,
   "metadata": {},
   "outputs": [
    {
     "data": {
      "image/png": "[encoded data removed]",
      "text/plain": [
       "<Figure size 432x288 with 1 Axes>"
      ]
     },
     "metadata": {},
     "output_type": "display_data"
    }
   ],
   "source": [
    "noti_counts.plot(kind='bar',xlabel='Name of the Apps', ylabel='No. of Counts',figsize=(6, 4))\n",
    "#plt.savefig('Notifications_7711.jpg',dpi=600,bbox_inches ='tight')\n",
    "plt.show()"
   ]
  }
 ],
 "metadata": {
  "interpreter": {
   "hash": "cd5f75192e31097ee259bcf8656a23e8ce465196638391df23a9ffa0d2f9a298"
  },
  "kernelspec": {
   "display_name": "Python 3.8.12 64-bit ('test': conda)",
   "language": "python",
   "name": "python3"
  },
  "language_info": {
   "codemirror_mode": {
    "name": "ipython",
    "version": 3
   },
   "file_extension": ".py",
   "mimetype": "text/x-python",
   "name": "python",
   "nbconvert_exporter": "python",
   "pygments_lexer": "ipython3",
   "version": "3.8.12"
  },
  "orig_nbformat": 4
 },
 "nbformat": 4,
 "nbformat_minor": 2
}
