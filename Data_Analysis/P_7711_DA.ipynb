{
  "cells": [
    {
      "cell_type": "markdown",
      "metadata": {
        "colab_type": "text",
        "id": "view-in-github"
      },
      "source": [
        "<a href=\"https://colab.research.google.com/github/AbhishekKaushikCV/HCI/blob/main/P_7711.ipynb\" target=\"_parent\"><img src=\"https://colab.research.google.com/assets/colab-badge.svg\" alt=\"Open In Colab\"/></a>"
      ]
    },
    {
      "cell_type": "markdown",
      "metadata": {
        "id": "x99SEGGeY992"
      },
      "source": [
        "# Participant:7711\n",
        " \n",
        "## Data Analysis\n",
        "- Application_data\n",
        "- Notification_data\n",
        "- Device_data"
      ]
    },
    {
      "cell_type": "markdown",
      "metadata": {
        "id": "wXpKGH4PB-pH"
      },
      "source": [
        "### Application_data"
      ]
    },
    {
      "cell_type": "code",
      "execution_count": 1,
      "metadata": {
        "id": "BquTSZtwN1PC"
      },
      "outputs": [],
      "source": [
        "import pandas as pd\n",
        "import matplotlib.pyplot as plt\n",
        "import json\n",
        "import os\n",
        "import seaborn as sns\n",
        "sns.set_style('darkgrid')"
      ]
    },
    {
      "cell_type": "code",
      "execution_count": 2,
      "metadata": {
        "id": "zbDa4KgIN3j-"
      },
      "outputs": [],
      "source": [
        "from pathlib import Path\n",
        "\n",
        "# Find all the folders\n",
        "root_dir = Path('/shome/ws2021/group9/dataset/fd249093-60d2-4d4f-99d0-3e98954f7711/fd249093-60d2-4d4f-99d0-3e98954f7711')\n",
        "folders = [fld for fld in root_dir.iterdir() if fld.is_dir()]\n",
        "\n",
        "# Find all the file names\n",
        "all_filenames = []\n",
        "for fld in folders:\n",
        "    for f in fld.glob('*application_data.txt'):\n",
        "        all_filenames.append(f.name)"
      ]
    },
    {
      "cell_type": "code",
      "execution_count": null,
      "metadata": {
        "id": "CBgiIJrWbIhO"
      },
      "outputs": [],
      "source": [
        "folders"
      ]
    },
    {
      "cell_type": "code",
      "execution_count": null,
      "metadata": {
        "id": "-M3B--kXQrsR"
      },
      "outputs": [],
      "source": [
        "all_filenames"
      ]
    },
    {
      "cell_type": "code",
      "execution_count": 3,
      "metadata": {
        "id": "vMB6F4TROAtq"
      },
      "outputs": [],
      "source": [
        "# Open and load the file  \n",
        "for f in list(set(all_filenames)):\n",
        "    app_data = pd.DataFrame({}) # An empty dataframe\n",
        "\n",
        "    for fld in folders:\n",
        "        if (fld / f).is_file():\n",
        "           with open(fld /f, 'r') as fp:\n",
        "            data =  json.load(fp)[\"application_data\"] \n",
        "            temp_df = pd.DataFrame(data)\n",
        "            app_data = app_data.append(temp_df,ignore_index=True)           "
      ]
    },
    {
      "cell_type": "code",
      "execution_count": 4,
      "metadata": {
        "colab": {
          "base_uri": "https://localhost:8080/",
          "height": 419
        },
        "id": "LZqw1NNxI5ur",
        "outputId": "4b817d00-e9de-4904-8445-41d909620066"
      },
      "outputs": [
        {
          "data": {
            "text/html": [
              "<div>\n",
              "<style scoped>\n",
              "    .dataframe tbody tr th:only-of-type {\n",
              "        vertical-align: middle;\n",
              "    }\n",
              "\n",
              "    .dataframe tbody tr th {\n",
              "        vertical-align: top;\n",
              "    }\n",
              "\n",
              "    .dataframe thead th {\n",
              "        text-align: right;\n",
              "    }\n",
              "</style>\n",
              "<table border=\"1\" class=\"dataframe\">\n",
              "  <thead>\n",
              "    <tr style=\"text-align: right;\">\n",
              "      <th></th>\n",
              "      <th>name</th>\n",
              "      <th>time</th>\n",
              "      <th>timeDate</th>\n",
              "    </tr>\n",
              "  </thead>\n",
              "  <tbody>\n",
              "    <tr>\n",
              "      <th>0</th>\n",
              "      <td>com.huawei.android.launcher</td>\n",
              "      <td>418242517498629</td>\n",
              "      <td>14.08.2019 22:39:37.303</td>\n",
              "    </tr>\n",
              "    <tr>\n",
              "      <th>1</th>\n",
              "      <td>com.netflix.mediaclient</td>\n",
              "      <td>418262035027271</td>\n",
              "      <td>14.08.2019 22:39:56.820</td>\n",
              "    </tr>\n",
              "    <tr>\n",
              "      <th>2</th>\n",
              "      <td>com.huawei.android.launcher</td>\n",
              "      <td>418539335711083</td>\n",
              "      <td>14.08.2019 22:44:34.121</td>\n",
              "    </tr>\n",
              "    <tr>\n",
              "      <th>3</th>\n",
              "      <td>com.android.systemui</td>\n",
              "      <td>418540428407958</td>\n",
              "      <td>14.08.2019 22:44:35.214</td>\n",
              "    </tr>\n",
              "    <tr>\n",
              "      <th>4</th>\n",
              "      <td>com.huawei.android.launcher</td>\n",
              "      <td>418542462555354</td>\n",
              "      <td>14.08.2019 22:44:37.248</td>\n",
              "    </tr>\n",
              "    <tr>\n",
              "      <th>...</th>\n",
              "      <td>...</td>\n",
              "      <td>...</td>\n",
              "      <td>...</td>\n",
              "    </tr>\n",
              "    <tr>\n",
              "      <th>730</th>\n",
              "      <td>com.huawei.android.launcher</td>\n",
              "      <td>1079110588773309</td>\n",
              "      <td>22.08.2019 14:14:38.374</td>\n",
              "    </tr>\n",
              "    <tr>\n",
              "      <th>731</th>\n",
              "      <td>com.android.calculator2</td>\n",
              "      <td>1079111629919143</td>\n",
              "      <td>22.08.2019 14:14:39.415</td>\n",
              "    </tr>\n",
              "    <tr>\n",
              "      <th>732</th>\n",
              "      <td>com.huawei.android.launcher</td>\n",
              "      <td>1079172851460800</td>\n",
              "      <td>22.08.2019 14:15:40.637</td>\n",
              "    </tr>\n",
              "    <tr>\n",
              "      <th>733</th>\n",
              "      <td>ch.ethz.inf.vs.staals.visualattentionrecorder</td>\n",
              "      <td>1079173419984758</td>\n",
              "      <td>22.08.2019 14:15:41.205</td>\n",
              "    </tr>\n",
              "    <tr>\n",
              "      <th>734</th>\n",
              "      <td>ch.ethz.inf.vs.staals.visualattentionrecorder</td>\n",
              "      <td>1079307809837863</td>\n",
              "      <td>22.08.2019 14:17:55.595</td>\n",
              "    </tr>\n",
              "  </tbody>\n",
              "</table>\n",
              "<p>735 rows × 3 columns</p>\n",
              "</div>"
            ],
            "text/plain": [
              "                                              name              time  \\\n",
              "0                      com.huawei.android.launcher   418242517498629   \n",
              "1                          com.netflix.mediaclient   418262035027271   \n",
              "2                      com.huawei.android.launcher   418539335711083   \n",
              "3                             com.android.systemui   418540428407958   \n",
              "4                      com.huawei.android.launcher   418542462555354   \n",
              "..                                             ...               ...   \n",
              "730                    com.huawei.android.launcher  1079110588773309   \n",
              "731                        com.android.calculator2  1079111629919143   \n",
              "732                    com.huawei.android.launcher  1079172851460800   \n",
              "733  ch.ethz.inf.vs.staals.visualattentionrecorder  1079173419984758   \n",
              "734  ch.ethz.inf.vs.staals.visualattentionrecorder  1079307809837863   \n",
              "\n",
              "                    timeDate  \n",
              "0    14.08.2019 22:39:37.303  \n",
              "1    14.08.2019 22:39:56.820  \n",
              "2    14.08.2019 22:44:34.121  \n",
              "3    14.08.2019 22:44:35.214  \n",
              "4    14.08.2019 22:44:37.248  \n",
              "..                       ...  \n",
              "730  22.08.2019 14:14:38.374  \n",
              "731  22.08.2019 14:14:39.415  \n",
              "732  22.08.2019 14:15:40.637  \n",
              "733  22.08.2019 14:15:41.205  \n",
              "734  22.08.2019 14:17:55.595  \n",
              "\n",
              "[735 rows x 3 columns]"
            ]
          },
          "execution_count": 4,
          "metadata": {},
          "output_type": "execute_result"
        }
      ],
      "source": [
        "app_data"
      ]
    },
    {
      "cell_type": "code",
      "execution_count": 5,
      "metadata": {
        "id": "u0qzu6UPEF3u"
      },
      "outputs": [],
      "source": [
        "# Sort the values by timeDate\n",
        "app_data = app_data.sort_values(by=['timeDate'],ignore_index=True)"
      ]
    },
    {
      "cell_type": "code",
      "execution_count": 6,
      "metadata": {
        "colab": {
          "base_uri": "https://localhost:8080/",
          "height": 419
        },
        "id": "F5BahRTzInlj",
        "outputId": "131ed274-97a3-45aa-c323-ed6748c39504"
      },
      "outputs": [
        {
          "data": {
            "text/html": [
              "<div>\n",
              "<style scoped>\n",
              "    .dataframe tbody tr th:only-of-type {\n",
              "        vertical-align: middle;\n",
              "    }\n",
              "\n",
              "    .dataframe tbody tr th {\n",
              "        vertical-align: top;\n",
              "    }\n",
              "\n",
              "    .dataframe thead th {\n",
              "        text-align: right;\n",
              "    }\n",
              "</style>\n",
              "<table border=\"1\" class=\"dataframe\">\n",
              "  <thead>\n",
              "    <tr style=\"text-align: right;\">\n",
              "      <th></th>\n",
              "      <th>name</th>\n",
              "      <th>time</th>\n",
              "      <th>timeDate</th>\n",
              "    </tr>\n",
              "  </thead>\n",
              "  <tbody>\n",
              "    <tr>\n",
              "      <th>0</th>\n",
              "      <td>com.huawei.android.launcher</td>\n",
              "      <td>453886603627243</td>\n",
              "      <td>09.08.2019 00:19:53.046</td>\n",
              "    </tr>\n",
              "    <tr>\n",
              "      <th>1</th>\n",
              "      <td>com.google.android.gm</td>\n",
              "      <td>453888156162139</td>\n",
              "      <td>09.08.2019 00:19:54.598</td>\n",
              "    </tr>\n",
              "    <tr>\n",
              "      <th>2</th>\n",
              "      <td>com.huawei.android.launcher</td>\n",
              "      <td>453933167223590</td>\n",
              "      <td>09.08.2019 00:20:39.609</td>\n",
              "    </tr>\n",
              "    <tr>\n",
              "      <th>3</th>\n",
              "      <td>ch.ethz.inf.vs.staals.visualattentionrecorder</td>\n",
              "      <td>453933673994423</td>\n",
              "      <td>09.08.2019 00:20:40.116</td>\n",
              "    </tr>\n",
              "    <tr>\n",
              "      <th>4</th>\n",
              "      <td>com.google.android.gm</td>\n",
              "      <td>453936877236089</td>\n",
              "      <td>09.08.2019 00:20:43.319</td>\n",
              "    </tr>\n",
              "    <tr>\n",
              "      <th>...</th>\n",
              "      <td>...</td>\n",
              "      <td>...</td>\n",
              "      <td>...</td>\n",
              "    </tr>\n",
              "    <tr>\n",
              "      <th>730</th>\n",
              "      <td>ch.ethz.inf.vs.staals.visualattentionrecorder</td>\n",
              "      <td>1194522518849319</td>\n",
              "      <td>23.08.2019 22:18:12.193</td>\n",
              "    </tr>\n",
              "    <tr>\n",
              "      <th>731</th>\n",
              "      <td>com.huawei.android.launcher</td>\n",
              "      <td>1194536550817025</td>\n",
              "      <td>23.08.2019 22:18:26.225</td>\n",
              "    </tr>\n",
              "    <tr>\n",
              "      <th>732</th>\n",
              "      <td>com.contextlogic.wish</td>\n",
              "      <td>1194537057995671</td>\n",
              "      <td>23.08.2019 22:18:26.733</td>\n",
              "    </tr>\n",
              "    <tr>\n",
              "      <th>733</th>\n",
              "      <td>com.huawei.android.launcher</td>\n",
              "      <td>1194725318710747</td>\n",
              "      <td>23.08.2019 22:21:34.993</td>\n",
              "    </tr>\n",
              "    <tr>\n",
              "      <th>734</th>\n",
              "      <td>ch.ethz.inf.vs.staals.visualattentionrecorder</td>\n",
              "      <td>1194725824903455</td>\n",
              "      <td>23.08.2019 22:21:35.499</td>\n",
              "    </tr>\n",
              "  </tbody>\n",
              "</table>\n",
              "<p>735 rows × 3 columns</p>\n",
              "</div>"
            ],
            "text/plain": [
              "                                              name              time  \\\n",
              "0                      com.huawei.android.launcher   453886603627243   \n",
              "1                            com.google.android.gm   453888156162139   \n",
              "2                      com.huawei.android.launcher   453933167223590   \n",
              "3    ch.ethz.inf.vs.staals.visualattentionrecorder   453933673994423   \n",
              "4                            com.google.android.gm   453936877236089   \n",
              "..                                             ...               ...   \n",
              "730  ch.ethz.inf.vs.staals.visualattentionrecorder  1194522518849319   \n",
              "731                    com.huawei.android.launcher  1194536550817025   \n",
              "732                          com.contextlogic.wish  1194537057995671   \n",
              "733                    com.huawei.android.launcher  1194725318710747   \n",
              "734  ch.ethz.inf.vs.staals.visualattentionrecorder  1194725824903455   \n",
              "\n",
              "                    timeDate  \n",
              "0    09.08.2019 00:19:53.046  \n",
              "1    09.08.2019 00:19:54.598  \n",
              "2    09.08.2019 00:20:39.609  \n",
              "3    09.08.2019 00:20:40.116  \n",
              "4    09.08.2019 00:20:43.319  \n",
              "..                       ...  \n",
              "730  23.08.2019 22:18:12.193  \n",
              "731  23.08.2019 22:18:26.225  \n",
              "732  23.08.2019 22:18:26.733  \n",
              "733  23.08.2019 22:21:34.993  \n",
              "734  23.08.2019 22:21:35.499  \n",
              "\n",
              "[735 rows x 3 columns]"
            ]
          },
          "execution_count": 6,
          "metadata": {},
          "output_type": "execute_result"
        }
      ],
      "source": [
        "app_data"
      ]
    },
    {
      "cell_type": "code",
      "execution_count": 13,
      "metadata": {},
      "outputs": [],
      "source": [
        "# Export dataframe to csv file \n",
        "app_data.to_csv(r'/shome/ws2021/group9/dataset/app_data.csv',index=False)"
      ]
    },
    {
      "cell_type": "code",
      "execution_count": 7,
      "metadata": {
        "colab": {
          "base_uri": "https://localhost:8080/"
        },
        "id": "o096rPHYM9zI",
        "outputId": "9a467725-618d-4b05-81c4-a1c78280ef87"
      },
      "outputs": [
        {
          "name": "stdout",
          "output_type": "stream",
          "text": [
            "count                             735\n",
            "unique                             36\n",
            "top       com.huawei.android.launcher\n",
            "freq                              312\n",
            "Name: name, dtype: object\n"
          ]
        }
      ],
      "source": [
        "# How many different apps?\n",
        "print(app_data['name'].describe())"
      ]
    },
    {
      "cell_type": "markdown",
      "metadata": {
        "id": "4QRC8dz-NK2k"
      },
      "source": [
        "- 36 different apps were used by the participant during the data recording\n",
        "- There are total 735 switches from one app to another (Including launcher and attention recorder)"
      ]
    },
    {
      "cell_type": "code",
      "execution_count": 12,
      "metadata": {},
      "outputs": [
        {
          "data": {
            "text/plain": [
              "<AxesSubplot:>"
            ]
          },
          "execution_count": 12,
          "metadata": {},
          "output_type": "execute_result"
        },
        {
          "data": {
            "image/png": "[encoded data removed]",
            "text/plain": [
              "<Figure size 432x288 with 1 Axes>"
            ]
          },
          "metadata": {},
          "output_type": "display_data"
        }
      ],
      "source": [
        "k= app_data.name.value_counts()\n",
        "k.plot(kind='bar')"
      ]
    },
    {
      "cell_type": "code",
      "execution_count": 9,
      "metadata": {
        "colab": {
          "base_uri": "https://localhost:8080/"
        },
        "id": "E4-_vIWXM-bT",
        "outputId": "3efa5185-4280-4093-de73-ca99aa7bb646"
      },
      "outputs": [
        {
          "name": "stdout",
          "output_type": "stream",
          "text": [
            "Start time Date: 09.08.2019 00:19:53.046\n",
            "End time Date: 23.08.2019 22:21:35.499\n"
          ]
        }
      ],
      "source": [
        "# Start and End time of the data recording\n",
        "print(\"Start time Date:\",app_data[\"timeDate\"].min())\n",
        "print(\"End time Date:\",app_data[\"timeDate\"].max())"
      ]
    },
    {
      "cell_type": "code",
      "execution_count": 14,
      "metadata": {
        "id": "GJDC6zjjNqoM"
      },
      "outputs": [],
      "source": [
        "# Exclude attention recorder app\n",
        "\n",
        "mask = app_data['name'].isin(['ch.ethz.inf.vs.staals.visualattentionrecorder'])\n",
        "app_data_m = app_data[~mask]"
      ]
    },
    {
      "cell_type": "code",
      "execution_count": 15,
      "metadata": {
        "colab": {
          "base_uri": "https://localhost:8080/"
        },
        "id": "HDCZLSxXPniG",
        "outputId": "1f8b43ca-023e-4019-912c-aaa8ca93ae04"
      },
      "outputs": [
        {
          "name": "stdout",
          "output_type": "stream",
          "text": [
            "count                             606\n",
            "unique                             35\n",
            "top       com.huawei.android.launcher\n",
            "freq                              312\n",
            "Name: name, dtype: object\n"
          ]
        }
      ],
      "source": [
        "print(app_data_m['name'].describe())"
      ]
    },
    {
      "cell_type": "markdown",
      "metadata": {},
      "source": [
        "- After removing the system launcher app there are 606 switches\n",
        "- There are 35 unique apps used by the user\n",
        "- Instagram is the most used app by the user, 82 times "
      ]
    },
    {
      "cell_type": "code",
      "execution_count": 16,
      "metadata": {
        "colab": {
          "base_uri": "https://localhost:8080/"
        },
        "id": "45CEYMDfPrHP",
        "outputId": "b1c2f411-d7fe-4024-8c8d-f5483d18d036"
      },
      "outputs": [],
      "source": [
        "# Changed app names\n",
        "# app_names = app_data.name.unique() # Different app names used in the data\n",
        "# changed_names = ['google','desklock','apple music','books','instagram','facebook','netflix','systemui','whatsapp','systemmanager','chrome',\n",
        "                 #'huawei_hwouc','youtube','huawi_search','wahanda_marketplace','zuerimensa'] # New app names\n",
        "\n",
        "# app_data = app_data.replace(to_replace=app_names,value=changed_names) # Replace old names by new names\n",
        "# print(app_data)"
      ]
    },
    {
      "cell_type": "code",
      "execution_count": 16,
      "metadata": {
        "colab": {
          "base_uri": "https://localhost:8080/",
          "height": 571
        },
        "id": "aH3QAQIvQK1f",
        "outputId": "a02222d0-be9e-401b-a7af-985a98ce3958"
      },
      "outputs": [
        {
          "data": {
            "text/plain": [
              "com.huawei.android.launcher        312\n",
              "com.instagram.android               82\n",
              "com.whatsapp                        56\n",
              "com.facebook.katana                 32\n",
              "com.android.systemui                21\n",
              "com.android.chrome                  18\n",
              "com.google.android.gm               14\n",
              "com.netflix.mediaclient             11\n",
              "com.google.android.youtube          10\n",
              "com.wahanda.marketplace              4\n",
              "com.android.gallery3d                4\n",
              "com.huawei.search                    4\n",
              "com.example.android.notepad          3\n",
              "com.thisclicks.wiw                   3\n",
              "com.google.android.apps.maps         3\n",
              "com.pinterest                        3\n",
              "com.ohh2ahh.zuerimensa               2\n",
              "ch.admin.meteoswiss                  2\n",
              "com.huawei.himovie.overseas          2\n",
              "com.adobe.lrmobile                   2\n",
              "com.android.deskclock                2\n",
              "com.huawei.android.internal.app      2\n",
              "com.contextlogic.wish                2\n",
              "com.android.incallui                 1\n",
              "com.huawei.systemmanager             1\n",
              "com.android.settings                 1\n",
              "com.huawei.android.hwouc             1\n",
              "com.google.android.apps.books        1\n",
              "com.android.calculator2              1\n",
              "com.android.contacts                 1\n",
              "com.apple.android.music              1\n",
              "com.microsoft.office.word            1\n",
              "com.android.calendar                 1\n",
              "com.huawei.camera                    1\n",
              "com.android.vending                  1\n",
              "Name: name, dtype: int64"
            ]
          },
          "execution_count": 16,
          "metadata": {},
          "output_type": "execute_result"
        }
      ],
      "source": [
        "# How many times an app is used?\n",
        "app_counts = app_data_m.name.value_counts()\n",
        "app_counts\n"
      ]
    },
    {
      "cell_type": "code",
      "execution_count": 17,
      "metadata": {},
      "outputs": [
        {
          "data": {
            "text/plain": [
              "<AxesSubplot:title={'center':'Frequency of the apps'}>"
            ]
          },
          "execution_count": 17,
          "metadata": {},
          "output_type": "execute_result"
        },
        {
          "data": {
            "image/png": "[encoded data removed]",
            "text/plain": [
              "<Figure size 432x288 with 1 Axes>"
            ]
          },
          "metadata": {},
          "output_type": "display_data"
        }
      ],
      "source": [
        "app_counts.plot(kind='bar',title='Frequency of the apps')"
      ]
    },
    {
      "cell_type": "markdown",
      "metadata": {
        "id": "xRR7G-wSRhko"
      },
      "source": [
        "     - Instagram (82 times) and whatsapp (56) are the most used apps by the user\n",
        "     - Least used apps are: books, youtube, music"
      ]
    },
    {
      "cell_type": "code",
      "execution_count": 18,
      "metadata": {},
      "outputs": [
        {
          "name": "stdout",
          "output_type": "stream",
          "text": [
            "The number of most frequent used apps: 6\n",
            "The name of most frequent used apps:\n",
            " com.huawei.android.launcher    312\n",
            "com.instagram.android           82\n",
            "com.whatsapp                    56\n",
            "com.facebook.katana             32\n",
            "com.android.systemui            21\n",
            "com.android.chrome              18\n",
            "Name: name, dtype: int64\n"
          ]
        }
      ],
      "source": [
        "# Frequent apps\n",
        "frequent_apps = app_counts[app_counts>=15]\n",
        "print(\"The number of most frequent used apps:\",len(frequent_apps))\n",
        "\n",
        "print(\"The name of most frequent used apps:\\n\",frequent_apps)"
      ]
    },
    {
      "cell_type": "markdown",
      "metadata": {},
      "source": [
        "- On average only 6 apps are used on daily basis"
      ]
    },
    {
      "cell_type": "code",
      "execution_count": 19,
      "metadata": {},
      "outputs": [
        {
          "data": {
            "image/png": "[encoded data removed]",
            "text/plain": [
              "<Figure size 432x288 with 1 Axes>"
            ]
          },
          "metadata": {},
          "output_type": "display_data"
        }
      ],
      "source": [
        "# After excluding attention recorder\n",
        "labels='Home','Instagram','Whatsapp','Facebook','Systemui','Chrome'\n",
        "plt.pie(frequent_apps,labels=labels)\n",
        "plt.title('Frequent apps ')\n",
        "plt.show()"
      ]
    },
    {
      "cell_type": "code",
      "execution_count": 144,
      "metadata": {},
      "outputs": [
        {
          "name": "stdout",
          "output_type": "stream",
          "text": [
            "Number of less frequent apps which the participant used: 10\n"
          ]
        },
        {
          "data": {
            "text/plain": [
              "com.google.android.gm           14\n",
              "com.netflix.mediaclient         11\n",
              "com.google.android.youtube      10\n",
              "com.wahanda.marketplace          4\n",
              "com.android.gallery3d            4\n",
              "com.huawei.search                4\n",
              "com.example.android.notepad      3\n",
              "com.thisclicks.wiw               3\n",
              "com.google.android.apps.maps     3\n",
              "com.pinterest                    3\n",
              "Name: name, dtype: int64"
            ]
          },
          "execution_count": 144,
          "metadata": {},
          "output_type": "execute_result"
        }
      ],
      "source": [
        "# Less frequent apps  \n",
        "l_frequent_apps = app_counts[(app_counts<15)&(app_counts>2)]\n",
        "\n",
        "print(\"Number of less frequent apps which the participant used:\",len(l_frequent_apps))\n",
        "l_frequent_apps"
      ]
    },
    {
      "cell_type": "code",
      "execution_count": 145,
      "metadata": {},
      "outputs": [
        {
          "data": {
            "image/png": "[encoded data removed]",
            "text/plain": [
              "<Figure size 432x288 with 1 Axes>"
            ]
          },
          "metadata": {},
          "output_type": "display_data"
        }
      ],
      "source": [
        "labels='Gmail','Netflix','Youtube','Marketplace','Gallery','Search','Notepad','thisclicks','Maps','Pinterest'\n",
        "plt.pie(l_frequent_apps,labels=labels)\n",
        "plt.title('Less frequent apps')\n",
        "plt.show()"
      ]
    },
    {
      "cell_type": "code",
      "execution_count": 146,
      "metadata": {},
      "outputs": [
        {
          "data": {
            "text/plain": [
              "com.android.incallui             1\n",
              "com.huawei.systemmanager         1\n",
              "com.android.settings             1\n",
              "com.huawei.android.hwouc         1\n",
              "com.google.android.apps.books    1\n",
              "com.android.calculator2          1\n",
              "com.android.contacts             1\n",
              "com.apple.android.music          1\n",
              "com.microsoft.office.word        1\n",
              "com.android.calendar             1\n",
              "com.huawei.camera                1\n",
              "com.android.vending              1\n",
              "Name: name, dtype: int64"
            ]
          },
          "execution_count": 146,
          "metadata": {},
          "output_type": "execute_result"
        }
      ],
      "source": [
        "# Apps which are used once\n",
        "apps_1 = app_counts[app_counts==1]\n",
        "apps_1"
      ]
    },
    {
      "cell_type": "markdown",
      "metadata": {},
      "source": [
        "- Word,books,calculator,camera,music,calendar,contacts are the apps, that are used once \n",
        "- 29 apps were not used on a regular basis\n",
        "- Gmail 14 times and youtube 10 times"
      ]
    },
    {
      "cell_type": "markdown",
      "metadata": {
        "id": "KGGQSkFGCEr4"
      },
      "source": [
        "### Notification_data"
      ]
    },
    {
      "cell_type": "code",
      "execution_count": 147,
      "metadata": {
        "id": "AWa2eYJ-CmbH"
      },
      "outputs": [],
      "source": [
        "from pathlib import Path\n",
        "\n",
        "# Find all the folders\n",
        "root_dir = Path('/shome/ws2021/group9/dataset/fd249093-60d2-4d4f-99d0-3e98954f7711/fd249093-60d2-4d4f-99d0-3e98954f7711')\n",
        "folders = [fld for fld in root_dir.iterdir() if fld.is_dir()]\n",
        "\n",
        "# Find all the file names\n",
        "all_filenames = []\n",
        "for fld in folders:\n",
        "    for f in fld.glob('*notification_data.txt'):\n",
        "        all_filenames.append(f.name)"
      ]
    },
    {
      "cell_type": "code",
      "execution_count": null,
      "metadata": {
        "colab": {
          "base_uri": "https://localhost:8080/"
        },
        "id": "cGfynLGTCw__",
        "outputId": "fb73be46-8aa3-4a16-bc22-37cf9d222391"
      },
      "outputs": [],
      "source": [
        "all_filenames"
      ]
    },
    {
      "cell_type": "code",
      "execution_count": 149,
      "metadata": {
        "id": "eeWcM0ubCyKU"
      },
      "outputs": [],
      "source": [
        "# Open and load the file  \n",
        "for f in list(set(all_filenames)):\n",
        "    noti_data = pd.DataFrame({}) # An empty dataframe\n",
        "\n",
        "    for fld in folders:\n",
        "        if (fld / f).is_file():\n",
        "           with open(fld /f, 'r') as fp:\n",
        "            data =  json.load(fp)[\"notification_data\"] \n",
        "            temp_df = pd.DataFrame(data)\n",
        "            noti_data = noti_data.append(temp_df,ignore_index=True)           "
      ]
    },
    {
      "cell_type": "code",
      "execution_count": 150,
      "metadata": {
        "id": "y5VvadiYF7RD"
      },
      "outputs": [],
      "source": [
        "# Sort the values by timeDate\n",
        "noti_data = noti_data.sort_values(by=['timeDate'],ignore_index=True)"
      ]
    },
    {
      "cell_type": "code",
      "execution_count": 151,
      "metadata": {
        "colab": {
          "base_uri": "https://localhost:8080/",
          "height": 419
        },
        "id": "99rw8YXYDLEl",
        "outputId": "027de2f4-c375-4ace-8ee3-d876f639978e"
      },
      "outputs": [
        {
          "data": {
            "text/html": [
              "<div>\n",
              "<style scoped>\n",
              "    .dataframe tbody tr th:only-of-type {\n",
              "        vertical-align: middle;\n",
              "    }\n",
              "\n",
              "    .dataframe tbody tr th {\n",
              "        vertical-align: top;\n",
              "    }\n",
              "\n",
              "    .dataframe thead th {\n",
              "        text-align: right;\n",
              "    }\n",
              "</style>\n",
              "<table border=\"1\" class=\"dataframe\">\n",
              "  <thead>\n",
              "    <tr style=\"text-align: right;\">\n",
              "      <th></th>\n",
              "      <th>event</th>\n",
              "      <th>package</th>\n",
              "      <th>category</th>\n",
              "      <th>tag</th>\n",
              "      <th>id</th>\n",
              "      <th>isOngoing</th>\n",
              "      <th>time</th>\n",
              "      <th>timeDate</th>\n",
              "      <th>timeSensor</th>\n",
              "    </tr>\n",
              "  </thead>\n",
              "  <tbody>\n",
              "    <tr>\n",
              "      <th>0</th>\n",
              "      <td>posted</td>\n",
              "      <td>ch.ethz.inf.vs.staals.visualattentionrecorder</td>\n",
              "      <td>None</td>\n",
              "      <td>None</td>\n",
              "      <td>1001</td>\n",
              "      <td>True</td>\n",
              "      <td>453837136395480</td>\n",
              "      <td>09.08.2019 00:19:03.578</td>\n",
              "      <td>1565302743491</td>\n",
              "    </tr>\n",
              "    <tr>\n",
              "      <th>1</th>\n",
              "      <td>posted</td>\n",
              "      <td>ch.ethz.inf.vs.staals.visualattentionrecorder</td>\n",
              "      <td>None</td>\n",
              "      <td>ranker_group1</td>\n",
              "      <td>2147483647</td>\n",
              "      <td>False</td>\n",
              "      <td>453837137382980</td>\n",
              "      <td>09.08.2019 00:19:03.579</td>\n",
              "      <td>1565302743571</td>\n",
              "    </tr>\n",
              "    <tr>\n",
              "      <th>2</th>\n",
              "      <td>posted</td>\n",
              "      <td>ch.ethz.inf.vs.staals.visualattentionrecorder</td>\n",
              "      <td>None</td>\n",
              "      <td>None</td>\n",
              "      <td>1002</td>\n",
              "      <td>True</td>\n",
              "      <td>453837136927251</td>\n",
              "      <td>09.08.2019 00:19:03.579</td>\n",
              "      <td>1565302743543</td>\n",
              "    </tr>\n",
              "    <tr>\n",
              "      <th>3</th>\n",
              "      <td>posted</td>\n",
              "      <td>ch.ethz.inf.vs.staals.visualattentionrecorder</td>\n",
              "      <td>None</td>\n",
              "      <td>None</td>\n",
              "      <td>5475</td>\n",
              "      <td>False</td>\n",
              "      <td>453837348988709</td>\n",
              "      <td>09.08.2019 00:19:03.791</td>\n",
              "      <td>1565302743782</td>\n",
              "    </tr>\n",
              "    <tr>\n",
              "      <th>4</th>\n",
              "      <td>posted</td>\n",
              "      <td>ch.ethz.inf.vs.staals.visualattentionrecorder</td>\n",
              "      <td>None</td>\n",
              "      <td>None</td>\n",
              "      <td>5475</td>\n",
              "      <td>False</td>\n",
              "      <td>453838074853292</td>\n",
              "      <td>09.08.2019 00:19:04.517</td>\n",
              "      <td>1565302744496</td>\n",
              "    </tr>\n",
              "    <tr>\n",
              "      <th>...</th>\n",
              "      <td>...</td>\n",
              "      <td>...</td>\n",
              "      <td>...</td>\n",
              "      <td>...</td>\n",
              "      <td>...</td>\n",
              "      <td>...</td>\n",
              "      <td>...</td>\n",
              "      <td>...</td>\n",
              "      <td>...</td>\n",
              "    </tr>\n",
              "    <tr>\n",
              "      <th>5933</th>\n",
              "      <td>posted</td>\n",
              "      <td>ch.ethz.inf.vs.staals.visualattentionrecorder</td>\n",
              "      <td>None</td>\n",
              "      <td>None</td>\n",
              "      <td>1001</td>\n",
              "      <td>True</td>\n",
              "      <td>1193630203029664</td>\n",
              "      <td>23.08.2019 22:03:19.878</td>\n",
              "      <td>1566590599865</td>\n",
              "    </tr>\n",
              "    <tr>\n",
              "      <th>5934</th>\n",
              "      <td>posted</td>\n",
              "      <td>ch.ethz.inf.vs.staals.visualattentionrecorder</td>\n",
              "      <td>None</td>\n",
              "      <td>None</td>\n",
              "      <td>1001</td>\n",
              "      <td>True</td>\n",
              "      <td>1194067843772826</td>\n",
              "      <td>23.08.2019 22:10:37.518</td>\n",
              "      <td>1566591037494</td>\n",
              "    </tr>\n",
              "    <tr>\n",
              "      <th>5935</th>\n",
              "      <td>posted</td>\n",
              "      <td>ch.ethz.inf.vs.staals.visualattentionrecorder</td>\n",
              "      <td>None</td>\n",
              "      <td>None</td>\n",
              "      <td>1001</td>\n",
              "      <td>True</td>\n",
              "      <td>1194535053747755</td>\n",
              "      <td>23.08.2019 22:18:24.728</td>\n",
              "      <td>1566591504708</td>\n",
              "    </tr>\n",
              "    <tr>\n",
              "      <th>5936</th>\n",
              "      <td>posted</td>\n",
              "      <td>com.whatsapp</td>\n",
              "      <td>None</td>\n",
              "      <td>None</td>\n",
              "      <td>11</td>\n",
              "      <td>True</td>\n",
              "      <td>1194584363580560</td>\n",
              "      <td>23.08.2019 22:19:14.038</td>\n",
              "      <td>1566591554016</td>\n",
              "    </tr>\n",
              "    <tr>\n",
              "      <th>5937</th>\n",
              "      <td>removed</td>\n",
              "      <td>com.whatsapp</td>\n",
              "      <td>None</td>\n",
              "      <td>None</td>\n",
              "      <td>11</td>\n",
              "      <td>True</td>\n",
              "      <td>1194584963095143</td>\n",
              "      <td>23.08.2019 22:19:14.638</td>\n",
              "      <td>1566591554016</td>\n",
              "    </tr>\n",
              "  </tbody>\n",
              "</table>\n",
              "<p>5938 rows × 9 columns</p>\n",
              "</div>"
            ],
            "text/plain": [
              "        event                                        package category  \\\n",
              "0      posted  ch.ethz.inf.vs.staals.visualattentionrecorder     None   \n",
              "1      posted  ch.ethz.inf.vs.staals.visualattentionrecorder     None   \n",
              "2      posted  ch.ethz.inf.vs.staals.visualattentionrecorder     None   \n",
              "3      posted  ch.ethz.inf.vs.staals.visualattentionrecorder     None   \n",
              "4      posted  ch.ethz.inf.vs.staals.visualattentionrecorder     None   \n",
              "...       ...                                            ...      ...   \n",
              "5933   posted  ch.ethz.inf.vs.staals.visualattentionrecorder     None   \n",
              "5934   posted  ch.ethz.inf.vs.staals.visualattentionrecorder     None   \n",
              "5935   posted  ch.ethz.inf.vs.staals.visualattentionrecorder     None   \n",
              "5936   posted                                   com.whatsapp     None   \n",
              "5937  removed                                   com.whatsapp     None   \n",
              "\n",
              "                tag          id  isOngoing              time  \\\n",
              "0              None        1001       True   453837136395480   \n",
              "1     ranker_group1  2147483647      False   453837137382980   \n",
              "2              None        1002       True   453837136927251   \n",
              "3              None        5475      False   453837348988709   \n",
              "4              None        5475      False   453838074853292   \n",
              "...             ...         ...        ...               ...   \n",
              "5933           None        1001       True  1193630203029664   \n",
              "5934           None        1001       True  1194067843772826   \n",
              "5935           None        1001       True  1194535053747755   \n",
              "5936           None          11       True  1194584363580560   \n",
              "5937           None          11       True  1194584963095143   \n",
              "\n",
              "                     timeDate     timeSensor  \n",
              "0     09.08.2019 00:19:03.578  1565302743491  \n",
              "1     09.08.2019 00:19:03.579  1565302743571  \n",
              "2     09.08.2019 00:19:03.579  1565302743543  \n",
              "3     09.08.2019 00:19:03.791  1565302743782  \n",
              "4     09.08.2019 00:19:04.517  1565302744496  \n",
              "...                       ...            ...  \n",
              "5933  23.08.2019 22:03:19.878  1566590599865  \n",
              "5934  23.08.2019 22:10:37.518  1566591037494  \n",
              "5935  23.08.2019 22:18:24.728  1566591504708  \n",
              "5936  23.08.2019 22:19:14.038  1566591554016  \n",
              "5937  23.08.2019 22:19:14.638  1566591554016  \n",
              "\n",
              "[5938 rows x 9 columns]"
            ]
          },
          "execution_count": 151,
          "metadata": {},
          "output_type": "execute_result"
        }
      ],
      "source": [
        "# Notification_data\n",
        "noti_data"
      ]
    },
    {
      "cell_type": "code",
      "execution_count": 76,
      "metadata": {
        "colab": {
          "base_uri": "https://localhost:8080/"
        },
        "id": "AjePM8nCDL_S",
        "outputId": "db118dfc-24f4-408b-a3fe-feff66c40232"
      },
      "outputs": [
        {
          "name": "stdout",
          "output_type": "stream",
          "text": [
            "<class 'pandas.core.frame.DataFrame'>\n",
            "RangeIndex: 5938 entries, 0 to 5937\n",
            "Data columns (total 9 columns):\n",
            " #   Column      Non-Null Count  Dtype \n",
            "---  ------      --------------  ----- \n",
            " 0   event       5938 non-null   object\n",
            " 1   package     5938 non-null   object\n",
            " 2   category    149 non-null    object\n",
            " 3   tag         164 non-null    object\n",
            " 4   id          5938 non-null   int64 \n",
            " 5   isOngoing   5938 non-null   bool  \n",
            " 6   time        5938 non-null   int64 \n",
            " 7   timeDate    5938 non-null   object\n",
            " 8   timeSensor  5938 non-null   int64 \n",
            "dtypes: bool(1), int64(3), object(5)\n",
            "memory usage: 377.0+ KB\n"
          ]
        }
      ],
      "source": [
        "noti_data.info()"
      ]
    },
    {
      "cell_type": "code",
      "execution_count": 77,
      "metadata": {
        "colab": {
          "base_uri": "https://localhost:8080/",
          "height": 329
        },
        "id": "OVyynrFWFd5R",
        "outputId": "0dfe049e-6496-4cbe-fac2-91fb006039ff"
      },
      "outputs": [
        {
          "data": {
            "text/plain": [
              "<AxesSubplot:>"
            ]
          },
          "execution_count": 77,
          "metadata": {},
          "output_type": "execute_result"
        },
        {
          "data": {
            "image/png": "[encoded data removed]",
            "text/plain": [
              "<Figure size 432x288 with 1 Axes>"
            ]
          },
          "metadata": {},
          "output_type": "display_data"
        }
      ],
      "source": [
        "# Total null values in the notification data\n",
        "noti_data.isna().sum().sort_values(ascending = False).plot(kind='bar')"
      ]
    },
    {
      "cell_type": "markdown",
      "metadata": {
        "id": "Uzee83dqGvRz"
      },
      "source": [
        "     - There are too many null values in 'category' and 'tag' columns"
      ]
    },
    {
      "cell_type": "code",
      "execution_count": 78,
      "metadata": {
        "colab": {
          "base_uri": "https://localhost:8080/"
        },
        "id": "HsGdNkOeJUjL",
        "outputId": "9b91e306-1dc4-4b5d-c5d2-1845160baaab"
      },
      "outputs": [
        {
          "data": {
            "text/plain": [
              "array([None, 'email', 'msg', 'service', 'call', 'transport', 'event'],\n",
              "      dtype=object)"
            ]
          },
          "execution_count": 78,
          "metadata": {},
          "output_type": "execute_result"
        }
      ],
      "source": [
        "# Category Values\n",
        "category_names = noti_data.category.unique()\n",
        "category_names"
      ]
    },
    {
      "cell_type": "code",
      "execution_count": 79,
      "metadata": {
        "colab": {
          "base_uri": "https://localhost:8080/"
        },
        "id": "hY1WWmu6Inpz",
        "outputId": "91a71d42-7054-403b-ba5a-dc1dc6669a98"
      },
      "outputs": [
        {
          "data": {
            "text/plain": [
              "array([None, 'ranker_group1', 'gig:-2138516909:^sq_ig_i_personal',\n",
              "       'c3Rvcnk6MTE0MjIwNTg0MToxNTY1MzMxMzY1ODI4NjkwOjQ1MTc2MTcxMTUyNjY4Nw==',\n",
              "       '41794788832-1546541104@g.us', '41794788832@s.whatsapp.net',\n",
              "       'direct|184547055;thread_id:340282366841710300949128114516987833340',\n",
              "       '41795488404-1561203818@g.us', '41795488404-1360854648@g.us',\n",
              "       'c3Rvcnk6MTE0MjIwNTg0MToxNTY1NjAxMzI4MDI1MTE3OjQ1MTc2MTcxMTUyNjY4Nw==',\n",
              "       '447515352863-1443182763@g.us',\n",
              "       'direct|184547055;thread_id:3645421029678305852036639462',\n",
              "       '41782589988@s.whatsapp.net', 'HwAudioServiceEx',\n",
              "       '41786930466@s.whatsapp.net',\n",
              "       'com.android.server.wm.AlertWindowNotification - com.facebook.orca',\n",
              "       'ONE_TO_ONE:1093044966:1142205841', '41794788832-1507724209@g.us',\n",
              "       'MissedCallNotifier', '41788049209-1426335400@g.us',\n",
              "       '41786980382-1536910426@g.us',\n",
              "       'direct|184547055;thread_id:340282366841710300949128233675487344698',\n",
              "       '41764735964-1437045833@g.us', '41787906610@s.whatsapp.net',\n",
              "       'c3Rvcnk6MTE0MjIwNTg0MToxNTY2MjQwODU4NjY3MDE4OjQ1MTc2MTcxMTUyNjY4Nw==',\n",
              "       'c3Rvcnk6MTE0MjIwNTg0MToxNTY2MjgwODY2MjQwMzc3OjQ1MTc2MTcxMTUyNjY4Nw==',\n",
              "       'com.android.server.wm.AlertWindowNotification - ch.ethz.inf.vs.staals.visualattentionrecorder',\n",
              "       'newstab|184547055_resurrected_user_post',\n",
              "       'V4Smm+3gJIMomh5+zRoGnnkb94psIRc9ZwqUnu5On9Q=\\n',\n",
              "       'D3cVWtynA+1RMRubQqCTp/rc2ard/st9rzGvbqILSHs=\\n'], dtype=object)"
            ]
          },
          "execution_count": 79,
          "metadata": {},
          "output_type": "execute_result"
        }
      ],
      "source": [
        "# Tag values\n",
        "tag_names = noti_data.tag.unique()\n",
        "tag_names"
      ]
    },
    {
      "cell_type": "code",
      "execution_count": 80,
      "metadata": {
        "colab": {
          "base_uri": "https://localhost:8080/"
        },
        "id": "SwHqHVELJ5dn",
        "outputId": "6f740128-2fe7-4492-b2e3-e2907ec98ae8"
      },
      "outputs": [
        {
          "data": {
            "text/plain": [
              "count                                              5938\n",
              "unique                                               21\n",
              "top       ch.ethz.inf.vs.staals.visualattentionrecorder\n",
              "freq                                               5468\n",
              "Name: package, dtype: object"
            ]
          },
          "execution_count": 80,
          "metadata": {},
          "output_type": "execute_result"
        }
      ],
      "source": [
        "noti_data.package.describe()"
      ]
    },
    {
      "cell_type": "markdown",
      "metadata": {},
      "source": [
        "- User got 5938 total notificications \n",
        "- most notifications are from attenrecorder"
      ]
    },
    {
      "cell_type": "code",
      "execution_count": 96,
      "metadata": {
        "id": "warLmlZgKHvw"
      },
      "outputs": [],
      "source": [
        "# Exclude the notification data from android launcher, and attention recorder app\n",
        "mask = noti_data['package'].isin([ 'ch.ethz.inf.vs.staals.visualattentionrecorder'])\n",
        "noti_data_m = noti_data[~mask]"
      ]
    },
    {
      "cell_type": "code",
      "execution_count": 97,
      "metadata": {
        "colab": {
          "base_uri": "https://localhost:8080/",
          "height": 609
        },
        "id": "XxdYq5VDKqr5",
        "outputId": "f90e31de-769b-40b7-896c-5197094621b7"
      },
      "outputs": [
        {
          "data": {
            "text/html": [
              "<div>\n",
              "<style scoped>\n",
              "    .dataframe tbody tr th:only-of-type {\n",
              "        vertical-align: middle;\n",
              "    }\n",
              "\n",
              "    .dataframe tbody tr th {\n",
              "        vertical-align: top;\n",
              "    }\n",
              "\n",
              "    .dataframe thead th {\n",
              "        text-align: right;\n",
              "    }\n",
              "</style>\n",
              "<table border=\"1\" class=\"dataframe\">\n",
              "  <thead>\n",
              "    <tr style=\"text-align: right;\">\n",
              "      <th></th>\n",
              "      <th>event</th>\n",
              "      <th>package</th>\n",
              "      <th>category</th>\n",
              "      <th>tag</th>\n",
              "      <th>id</th>\n",
              "      <th>isOngoing</th>\n",
              "      <th>time</th>\n",
              "      <th>timeDate</th>\n",
              "      <th>timeSensor</th>\n",
              "    </tr>\n",
              "  </thead>\n",
              "  <tbody>\n",
              "    <tr>\n",
              "      <th>13</th>\n",
              "      <td>removed</td>\n",
              "      <td>com.google.android.gm</td>\n",
              "      <td>email</td>\n",
              "      <td>gig:-2138516909:^sq_ig_i_personal</td>\n",
              "      <td>0</td>\n",
              "      <td>False</td>\n",
              "      <td>482091855790155</td>\n",
              "      <td>09.08.2019 08:10:01.004</td>\n",
              "      <td>1565329237752</td>\n",
              "    </tr>\n",
              "    <tr>\n",
              "      <th>14</th>\n",
              "      <td>removed</td>\n",
              "      <td>com.google.android.gm</td>\n",
              "      <td>email</td>\n",
              "      <td>gig:-2138516909:^sq_ig_i_personal</td>\n",
              "      <td>-448777350</td>\n",
              "      <td>False</td>\n",
              "      <td>482091858480259</td>\n",
              "      <td>09.08.2019 08:10:01.006</td>\n",
              "      <td>1565329237768</td>\n",
              "    </tr>\n",
              "    <tr>\n",
              "      <th>15</th>\n",
              "      <td>posted</td>\n",
              "      <td>com.facebook.katana</td>\n",
              "      <td>None</td>\n",
              "      <td>c3Rvcnk6MTE0MjIwNTg0MToxNTY1MzMxMzY1ODI4NjkwOj...</td>\n",
              "      <td>0</td>\n",
              "      <td>False</td>\n",
              "      <td>482456632043223</td>\n",
              "      <td>09.08.2019 08:16:06.074</td>\n",
              "      <td>1565331366045</td>\n",
              "    </tr>\n",
              "    <tr>\n",
              "      <th>16</th>\n",
              "      <td>removed</td>\n",
              "      <td>com.facebook.katana</td>\n",
              "      <td>None</td>\n",
              "      <td>c3Rvcnk6MTE0MjIwNTg0MToxNTY1MzMxMzY1ODI4NjkwOj...</td>\n",
              "      <td>0</td>\n",
              "      <td>False</td>\n",
              "      <td>482463885337493</td>\n",
              "      <td>09.08.2019 08:16:13.328</td>\n",
              "      <td>1565331366045</td>\n",
              "    </tr>\n",
              "    <tr>\n",
              "      <th>17</th>\n",
              "      <td>posted</td>\n",
              "      <td>com.huawei.systemmanager</td>\n",
              "      <td>None</td>\n",
              "      <td>None</td>\n",
              "      <td>1074241823</td>\n",
              "      <td>False</td>\n",
              "      <td>482640613415070</td>\n",
              "      <td>09.08.2019 08:19:10.056</td>\n",
              "      <td>1565331550025</td>\n",
              "    </tr>\n",
              "    <tr>\n",
              "      <th>...</th>\n",
              "      <td>...</td>\n",
              "      <td>...</td>\n",
              "      <td>...</td>\n",
              "      <td>...</td>\n",
              "      <td>...</td>\n",
              "      <td>...</td>\n",
              "      <td>...</td>\n",
              "      <td>...</td>\n",
              "      <td>...</td>\n",
              "    </tr>\n",
              "    <tr>\n",
              "      <th>5638</th>\n",
              "      <td>posted</td>\n",
              "      <td>com.adobe.lrmobile</td>\n",
              "      <td>None</td>\n",
              "      <td>None</td>\n",
              "      <td>4</td>\n",
              "      <td>True</td>\n",
              "      <td>1173143367636205</td>\n",
              "      <td>23.08.2019 16:21:53.597</td>\n",
              "      <td>1566570113563</td>\n",
              "    </tr>\n",
              "    <tr>\n",
              "      <th>5639</th>\n",
              "      <td>posted</td>\n",
              "      <td>com.adobe.lrmobile</td>\n",
              "      <td>None</td>\n",
              "      <td>None</td>\n",
              "      <td>4</td>\n",
              "      <td>True</td>\n",
              "      <td>1173143367897142</td>\n",
              "      <td>23.08.2019 16:21:53.598</td>\n",
              "      <td>1566570113563</td>\n",
              "    </tr>\n",
              "    <tr>\n",
              "      <th>5822</th>\n",
              "      <td>posted</td>\n",
              "      <td>com.buzzfeed.android</td>\n",
              "      <td>None</td>\n",
              "      <td>None</td>\n",
              "      <td>0</td>\n",
              "      <td>False</td>\n",
              "      <td>1182951701355080</td>\n",
              "      <td>23.08.2019 19:05:21.376</td>\n",
              "      <td>1566579921362</td>\n",
              "    </tr>\n",
              "    <tr>\n",
              "      <th>5936</th>\n",
              "      <td>posted</td>\n",
              "      <td>com.whatsapp</td>\n",
              "      <td>None</td>\n",
              "      <td>None</td>\n",
              "      <td>11</td>\n",
              "      <td>True</td>\n",
              "      <td>1194584363580560</td>\n",
              "      <td>23.08.2019 22:19:14.038</td>\n",
              "      <td>1566591554016</td>\n",
              "    </tr>\n",
              "    <tr>\n",
              "      <th>5937</th>\n",
              "      <td>removed</td>\n",
              "      <td>com.whatsapp</td>\n",
              "      <td>None</td>\n",
              "      <td>None</td>\n",
              "      <td>11</td>\n",
              "      <td>True</td>\n",
              "      <td>1194584963095143</td>\n",
              "      <td>23.08.2019 22:19:14.638</td>\n",
              "      <td>1566591554016</td>\n",
              "    </tr>\n",
              "  </tbody>\n",
              "</table>\n",
              "<p>470 rows × 9 columns</p>\n",
              "</div>"
            ],
            "text/plain": [
              "        event                   package category  \\\n",
              "13    removed     com.google.android.gm    email   \n",
              "14    removed     com.google.android.gm    email   \n",
              "15     posted       com.facebook.katana     None   \n",
              "16    removed       com.facebook.katana     None   \n",
              "17     posted  com.huawei.systemmanager     None   \n",
              "...       ...                       ...      ...   \n",
              "5638   posted        com.adobe.lrmobile     None   \n",
              "5639   posted        com.adobe.lrmobile     None   \n",
              "5822   posted      com.buzzfeed.android     None   \n",
              "5936   posted              com.whatsapp     None   \n",
              "5937  removed              com.whatsapp     None   \n",
              "\n",
              "                                                    tag          id  \\\n",
              "13                    gig:-2138516909:^sq_ig_i_personal           0   \n",
              "14                    gig:-2138516909:^sq_ig_i_personal  -448777350   \n",
              "15    c3Rvcnk6MTE0MjIwNTg0MToxNTY1MzMxMzY1ODI4NjkwOj...           0   \n",
              "16    c3Rvcnk6MTE0MjIwNTg0MToxNTY1MzMxMzY1ODI4NjkwOj...           0   \n",
              "17                                                 None  1074241823   \n",
              "...                                                 ...         ...   \n",
              "5638                                               None           4   \n",
              "5639                                               None           4   \n",
              "5822                                               None           0   \n",
              "5936                                               None          11   \n",
              "5937                                               None          11   \n",
              "\n",
              "      isOngoing              time                 timeDate     timeSensor  \n",
              "13        False   482091855790155  09.08.2019 08:10:01.004  1565329237752  \n",
              "14        False   482091858480259  09.08.2019 08:10:01.006  1565329237768  \n",
              "15        False   482456632043223  09.08.2019 08:16:06.074  1565331366045  \n",
              "16        False   482463885337493  09.08.2019 08:16:13.328  1565331366045  \n",
              "17        False   482640613415070  09.08.2019 08:19:10.056  1565331550025  \n",
              "...         ...               ...                      ...            ...  \n",
              "5638       True  1173143367636205  23.08.2019 16:21:53.597  1566570113563  \n",
              "5639       True  1173143367897142  23.08.2019 16:21:53.598  1566570113563  \n",
              "5822      False  1182951701355080  23.08.2019 19:05:21.376  1566579921362  \n",
              "5936       True  1194584363580560  23.08.2019 22:19:14.038  1566591554016  \n",
              "5937       True  1194584963095143  23.08.2019 22:19:14.638  1566591554016  \n",
              "\n",
              "[470 rows x 9 columns]"
            ]
          },
          "execution_count": 97,
          "metadata": {},
          "output_type": "execute_result"
        }
      ],
      "source": [
        "noti_data_m"
      ]
    },
    {
      "cell_type": "code",
      "execution_count": 98,
      "metadata": {
        "colab": {
          "base_uri": "https://localhost:8080/"
        },
        "id": "Doo9foybKtnN",
        "outputId": "d47905a4-b4f0-4a62-8bc7-b741883e8c06"
      },
      "outputs": [
        {
          "data": {
            "text/plain": [
              "count              470\n",
              "unique              20\n",
              "top       com.whatsapp\n",
              "freq               204\n",
              "Name: package, dtype: object"
            ]
          },
          "execution_count": 98,
          "metadata": {},
          "output_type": "execute_result"
        }
      ],
      "source": [
        "# Information about package column\n",
        "noti_data_m.package.describe()"
      ]
    },
    {
      "cell_type": "markdown",
      "metadata": {},
      "source": [
        "- Most notifications are from whatsapp (204)\n",
        "- 20 different notifications"
      ]
    },
    {
      "cell_type": "code",
      "execution_count": 99,
      "metadata": {
        "colab": {
          "base_uri": "https://localhost:8080/",
          "height": 417
        },
        "id": "2UNwxgvDMbNz",
        "outputId": "cf243047-026b-483f-97c9-20c25b2201f8"
      },
      "outputs": [
        {
          "data": {
            "text/plain": [
              "<AxesSubplot:title={'center':'Notifications'}>"
            ]
          },
          "execution_count": 99,
          "metadata": {},
          "output_type": "execute_result"
        },
        {
          "data": {
            "image/png": "[encoded data removed]",
            "text/plain": [
              "<Figure size 432x288 with 1 Axes>"
            ]
          },
          "metadata": {},
          "output_type": "display_data"
        }
      ],
      "source": [
        "noti_counts= noti_data_m.package.value_counts()\n",
        "noti_counts.plot(kind = 'bar',title='Notifications')"
      ]
    },
    {
      "cell_type": "markdown",
      "metadata": {
        "id": "cBrHXHc6LmLp"
      },
      "source": [
        "     - There are  20 unique package's notification \n",
        "     - In which 'Whatsapp' is the highest one\n",
        "     - Deskclock is the second highest"
      ]
    },
    {
      "cell_type": "code",
      "execution_count": 100,
      "metadata": {},
      "outputs": [
        {
          "data": {
            "text/plain": [
              "<AxesSubplot:title={'center':'Top 5 apps with notifications'}>"
            ]
          },
          "execution_count": 100,
          "metadata": {},
          "output_type": "execute_result"
        },
        {
          "data": {
            "image/png": "[encoded data removed]",
            "text/plain": [
              "<Figure size 432x288 with 1 Axes>"
            ]
          },
          "metadata": {},
          "output_type": "display_data"
        }
      ],
      "source": [
        "# Top 5 notifications\n",
        "noti_counts[:5].plot(kind='bar',title='Top 5 apps with notifications')"
      ]
    },
    {
      "cell_type": "code",
      "execution_count": 103,
      "metadata": {},
      "outputs": [
        {
          "data": {
            "text/html": [
              "<div>\n",
              "<style scoped>\n",
              "    .dataframe tbody tr th:only-of-type {\n",
              "        vertical-align: middle;\n",
              "    }\n",
              "\n",
              "    .dataframe tbody tr th {\n",
              "        vertical-align: top;\n",
              "    }\n",
              "\n",
              "    .dataframe thead th {\n",
              "        text-align: right;\n",
              "    }\n",
              "</style>\n",
              "<table border=\"1\" class=\"dataframe\">\n",
              "  <thead>\n",
              "    <tr style=\"text-align: right;\">\n",
              "      <th></th>\n",
              "      <th>event</th>\n",
              "      <th>package</th>\n",
              "      <th>category</th>\n",
              "      <th>tag</th>\n",
              "      <th>id</th>\n",
              "      <th>isOngoing</th>\n",
              "      <th>time</th>\n",
              "      <th>timeDate</th>\n",
              "      <th>timeSensor</th>\n",
              "    </tr>\n",
              "  </thead>\n",
              "  <tbody>\n",
              "    <tr>\n",
              "      <th>13</th>\n",
              "      <td>removed</td>\n",
              "      <td>com.google.android.gm</td>\n",
              "      <td>email</td>\n",
              "      <td>gig:-2138516909:^sq_ig_i_personal</td>\n",
              "      <td>0</td>\n",
              "      <td>False</td>\n",
              "      <td>482091855790155</td>\n",
              "      <td>09.08.2019 08:10:01.004</td>\n",
              "      <td>1565329237752</td>\n",
              "    </tr>\n",
              "    <tr>\n",
              "      <th>14</th>\n",
              "      <td>removed</td>\n",
              "      <td>com.google.android.gm</td>\n",
              "      <td>email</td>\n",
              "      <td>gig:-2138516909:^sq_ig_i_personal</td>\n",
              "      <td>-448777350</td>\n",
              "      <td>False</td>\n",
              "      <td>482091858480259</td>\n",
              "      <td>09.08.2019 08:10:01.006</td>\n",
              "      <td>1565329237768</td>\n",
              "    </tr>\n",
              "    <tr>\n",
              "      <th>15</th>\n",
              "      <td>posted</td>\n",
              "      <td>com.facebook.katana</td>\n",
              "      <td>None</td>\n",
              "      <td>c3Rvcnk6MTE0MjIwNTg0MToxNTY1MzMxMzY1ODI4NjkwOj...</td>\n",
              "      <td>0</td>\n",
              "      <td>False</td>\n",
              "      <td>482456632043223</td>\n",
              "      <td>09.08.2019 08:16:06.074</td>\n",
              "      <td>1565331366045</td>\n",
              "    </tr>\n",
              "    <tr>\n",
              "      <th>16</th>\n",
              "      <td>removed</td>\n",
              "      <td>com.facebook.katana</td>\n",
              "      <td>None</td>\n",
              "      <td>c3Rvcnk6MTE0MjIwNTg0MToxNTY1MzMxMzY1ODI4NjkwOj...</td>\n",
              "      <td>0</td>\n",
              "      <td>False</td>\n",
              "      <td>482463885337493</td>\n",
              "      <td>09.08.2019 08:16:13.328</td>\n",
              "      <td>1565331366045</td>\n",
              "    </tr>\n",
              "    <tr>\n",
              "      <th>17</th>\n",
              "      <td>posted</td>\n",
              "      <td>com.huawei.systemmanager</td>\n",
              "      <td>None</td>\n",
              "      <td>None</td>\n",
              "      <td>1074241823</td>\n",
              "      <td>False</td>\n",
              "      <td>482640613415070</td>\n",
              "      <td>09.08.2019 08:19:10.056</td>\n",
              "      <td>1565331550025</td>\n",
              "    </tr>\n",
              "    <tr>\n",
              "      <th>...</th>\n",
              "      <td>...</td>\n",
              "      <td>...</td>\n",
              "      <td>...</td>\n",
              "      <td>...</td>\n",
              "      <td>...</td>\n",
              "      <td>...</td>\n",
              "      <td>...</td>\n",
              "      <td>...</td>\n",
              "      <td>...</td>\n",
              "    </tr>\n",
              "    <tr>\n",
              "      <th>5638</th>\n",
              "      <td>posted</td>\n",
              "      <td>com.adobe.lrmobile</td>\n",
              "      <td>None</td>\n",
              "      <td>None</td>\n",
              "      <td>4</td>\n",
              "      <td>True</td>\n",
              "      <td>1173143367636205</td>\n",
              "      <td>23.08.2019 16:21:53.597</td>\n",
              "      <td>1566570113563</td>\n",
              "    </tr>\n",
              "    <tr>\n",
              "      <th>5639</th>\n",
              "      <td>posted</td>\n",
              "      <td>com.adobe.lrmobile</td>\n",
              "      <td>None</td>\n",
              "      <td>None</td>\n",
              "      <td>4</td>\n",
              "      <td>True</td>\n",
              "      <td>1173143367897142</td>\n",
              "      <td>23.08.2019 16:21:53.598</td>\n",
              "      <td>1566570113563</td>\n",
              "    </tr>\n",
              "    <tr>\n",
              "      <th>5822</th>\n",
              "      <td>posted</td>\n",
              "      <td>com.buzzfeed.android</td>\n",
              "      <td>None</td>\n",
              "      <td>None</td>\n",
              "      <td>0</td>\n",
              "      <td>False</td>\n",
              "      <td>1182951701355080</td>\n",
              "      <td>23.08.2019 19:05:21.376</td>\n",
              "      <td>1566579921362</td>\n",
              "    </tr>\n",
              "    <tr>\n",
              "      <th>5936</th>\n",
              "      <td>posted</td>\n",
              "      <td>com.whatsapp</td>\n",
              "      <td>None</td>\n",
              "      <td>None</td>\n",
              "      <td>11</td>\n",
              "      <td>True</td>\n",
              "      <td>1194584363580560</td>\n",
              "      <td>23.08.2019 22:19:14.038</td>\n",
              "      <td>1566591554016</td>\n",
              "    </tr>\n",
              "    <tr>\n",
              "      <th>5937</th>\n",
              "      <td>removed</td>\n",
              "      <td>com.whatsapp</td>\n",
              "      <td>None</td>\n",
              "      <td>None</td>\n",
              "      <td>11</td>\n",
              "      <td>True</td>\n",
              "      <td>1194584963095143</td>\n",
              "      <td>23.08.2019 22:19:14.638</td>\n",
              "      <td>1566591554016</td>\n",
              "    </tr>\n",
              "  </tbody>\n",
              "</table>\n",
              "<p>470 rows × 9 columns</p>\n",
              "</div>"
            ],
            "text/plain": [
              "        event                   package category  \\\n",
              "13    removed     com.google.android.gm    email   \n",
              "14    removed     com.google.android.gm    email   \n",
              "15     posted       com.facebook.katana     None   \n",
              "16    removed       com.facebook.katana     None   \n",
              "17     posted  com.huawei.systemmanager     None   \n",
              "...       ...                       ...      ...   \n",
              "5638   posted        com.adobe.lrmobile     None   \n",
              "5639   posted        com.adobe.lrmobile     None   \n",
              "5822   posted      com.buzzfeed.android     None   \n",
              "5936   posted              com.whatsapp     None   \n",
              "5937  removed              com.whatsapp     None   \n",
              "\n",
              "                                                    tag          id  \\\n",
              "13                    gig:-2138516909:^sq_ig_i_personal           0   \n",
              "14                    gig:-2138516909:^sq_ig_i_personal  -448777350   \n",
              "15    c3Rvcnk6MTE0MjIwNTg0MToxNTY1MzMxMzY1ODI4NjkwOj...           0   \n",
              "16    c3Rvcnk6MTE0MjIwNTg0MToxNTY1MzMxMzY1ODI4NjkwOj...           0   \n",
              "17                                                 None  1074241823   \n",
              "...                                                 ...         ...   \n",
              "5638                                               None           4   \n",
              "5639                                               None           4   \n",
              "5822                                               None           0   \n",
              "5936                                               None          11   \n",
              "5937                                               None          11   \n",
              "\n",
              "      isOngoing              time                 timeDate     timeSensor  \n",
              "13        False   482091855790155  09.08.2019 08:10:01.004  1565329237752  \n",
              "14        False   482091858480259  09.08.2019 08:10:01.006  1565329237768  \n",
              "15        False   482456632043223  09.08.2019 08:16:06.074  1565331366045  \n",
              "16        False   482463885337493  09.08.2019 08:16:13.328  1565331366045  \n",
              "17        False   482640613415070  09.08.2019 08:19:10.056  1565331550025  \n",
              "...         ...               ...                      ...            ...  \n",
              "5638       True  1173143367636205  23.08.2019 16:21:53.597  1566570113563  \n",
              "5639       True  1173143367897142  23.08.2019 16:21:53.598  1566570113563  \n",
              "5822      False  1182951701355080  23.08.2019 19:05:21.376  1566579921362  \n",
              "5936       True  1194584363580560  23.08.2019 22:19:14.038  1566591554016  \n",
              "5937       True  1194584963095143  23.08.2019 22:19:14.638  1566591554016  \n",
              "\n",
              "[470 rows x 9 columns]"
            ]
          },
          "execution_count": 103,
          "metadata": {},
          "output_type": "execute_result"
        }
      ],
      "source": [
        "noti_data"
      ]
    },
    {
      "cell_type": "code",
      "execution_count": 105,
      "metadata": {},
      "outputs": [
        {
          "data": {
            "text/plain": [
              "event         object\n",
              "package       object\n",
              "category      object\n",
              "tag           object\n",
              "id             int64\n",
              "isOngoing       bool\n",
              "time           int64\n",
              "timeDate      object\n",
              "timeSensor     int64\n",
              "dtype: object"
            ]
          },
          "execution_count": 105,
          "metadata": {},
          "output_type": "execute_result"
        }
      ],
      "source": [
        "noti_data.dtypes"
      ]
    },
    {
      "cell_type": "markdown",
      "metadata": {},
      "source": [
        "### Correlation between the columns"
      ]
    },
    {
      "cell_type": "code",
      "execution_count": 101,
      "metadata": {},
      "outputs": [],
      "source": [
        "corr=noti_data.corr()"
      ]
    },
    {
      "cell_type": "code",
      "execution_count": 102,
      "metadata": {},
      "outputs": [
        {
          "data": {
            "text/plain": [
              "<AxesSubplot:>"
            ]
          },
          "execution_count": 102,
          "metadata": {},
          "output_type": "execute_result"
        },
        {
          "data": {
            "image/png": "[encoded data removed]",
            "text/plain": [
              "<Figure size 864x576 with 2 Axes>"
            ]
          },
          "metadata": {},
          "output_type": "display_data"
        }
      ],
      "source": [
        "plt.figure(figsize=(12,8))\n",
        "sns.heatmap(corr, cmap=\"Greens\",annot=True)"
      ]
    },
    {
      "cell_type": "markdown",
      "metadata": {},
      "source": [
        "- As we can see there is some correlation between 'id' and 'isOngoing'"
      ]
    },
    {
      "cell_type": "code",
      "execution_count": 106,
      "metadata": {
        "colab": {
          "base_uri": "https://localhost:8080/"
        },
        "id": "x0PlTAj8MFZd",
        "outputId": "0bdea569-611e-4ddb-ccde-46b5bea5681c"
      },
      "outputs": [
        {
          "data": {
            "text/plain": [
              "count        470\n",
              "unique         2\n",
              "top       posted\n",
              "freq         359\n",
              "Name: event, dtype: object"
            ]
          },
          "execution_count": 106,
          "metadata": {},
          "output_type": "execute_result"
        }
      ],
      "source": [
        "# Information about event column\n",
        "noti_data.event.describe()"
      ]
    },
    {
      "cell_type": "code",
      "execution_count": 107,
      "metadata": {
        "colab": {
          "base_uri": "https://localhost:8080/"
        },
        "id": "NMK_kGJyNjGX",
        "outputId": "fd77ed40-32c0-4465-f199-7929658dbaaa"
      },
      "outputs": [
        {
          "data": {
            "text/plain": [
              "count     149\n",
              "unique      6\n",
              "top       msg\n",
              "freq       76\n",
              "Name: category, dtype: object"
            ]
          },
          "execution_count": 107,
          "metadata": {},
          "output_type": "execute_result"
        }
      ],
      "source": [
        "# Information about category column\n",
        "noti_data.category.describe()"
      ]
    },
    {
      "cell_type": "code",
      "execution_count": 108,
      "metadata": {
        "colab": {
          "base_uri": "https://localhost:8080/"
        },
        "id": "UGRI3skyN5hB",
        "outputId": "302ff5e1-4907-4fda-ba70-a8b5fa3801ed"
      },
      "outputs": [
        {
          "data": {
            "text/plain": [
              "array(['email', None, 'msg', 'service', 'call', 'transport', 'event'],\n",
              "      dtype=object)"
            ]
          },
          "execution_count": 108,
          "metadata": {},
          "output_type": "execute_result"
        }
      ],
      "source": [
        "noti_data.category.unique()"
      ]
    },
    {
      "cell_type": "code",
      "execution_count": 109,
      "metadata": {
        "colab": {
          "base_uri": "https://localhost:8080/"
        },
        "id": "JiRtMc3pOBJ1",
        "outputId": "34c98721-f116-4768-ce98-f7bbb09eaa10"
      },
      "outputs": [
        {
          "data": {
            "text/plain": [
              "msg          76\n",
              "transport    49\n",
              "email        10\n",
              "event         7\n",
              "service       6\n",
              "call          1\n",
              "Name: category, dtype: int64"
            ]
          },
          "execution_count": 109,
          "metadata": {},
          "output_type": "execute_result"
        }
      ],
      "source": [
        "noti_data.category.value_counts()"
      ]
    },
    {
      "cell_type": "markdown",
      "metadata": {
        "id": "QQbZogXxO8d8"
      },
      "source": [
        "### Device_data"
      ]
    },
    {
      "cell_type": "code",
      "execution_count": 110,
      "metadata": {
        "id": "5IXo0Sz5OIoP"
      },
      "outputs": [],
      "source": [
        "from pathlib import Path\n",
        "\n",
        "# Find all the folders\n",
        "root_dir = Path('/shome/ws2021/group9/dataset/fd249093-60d2-4d4f-99d0-3e98954f7711/fd249093-60d2-4d4f-99d0-3e98954f7711')\n",
        "folders = [fld for fld in root_dir.iterdir() if fld.is_dir()]\n",
        "\n",
        "# Find all the file names\n",
        "all_filenames = []\n",
        "for fld in folders:\n",
        "    for f in fld.glob('*device_data.txt'):\n",
        "        all_filenames.append(f.name)"
      ]
    },
    {
      "cell_type": "code",
      "execution_count": 111,
      "metadata": {
        "colab": {
          "base_uri": "https://localhost:8080/"
        },
        "id": "GOHukbO9Rua9",
        "outputId": "6c94a2a4-5cb1-4e59-d8ce-f545cf777ecf"
      },
      "outputs": [
        {
          "data": {
            "text/plain": [
              "128"
            ]
          },
          "execution_count": 111,
          "metadata": {},
          "output_type": "execute_result"
        }
      ],
      "source": [
        "len(all_filenames)"
      ]
    },
    {
      "cell_type": "code",
      "execution_count": 112,
      "metadata": {
        "id": "cPW7o5GkRvbQ"
      },
      "outputs": [],
      "source": [
        "# Open and load the file  \n",
        "for f in list(set(all_filenames)):\n",
        "    device_data = pd.DataFrame({}) # An empty dataframe\n",
        "\n",
        "    for fld in folders:\n",
        "        if (fld / f).is_file():\n",
        "           with open(fld /f, 'r') as fp:\n",
        "            data =  json.load(fp)[\"device_data\"] \n",
        "            temp_df = pd.DataFrame(data)\n",
        "            device_data = device_data.append(temp_df,ignore_index=True)           "
      ]
    },
    {
      "cell_type": "code",
      "execution_count": 113,
      "metadata": {
        "id": "Bm3YsjbjSKbT"
      },
      "outputs": [],
      "source": [
        "# Sort the values by timeDate\n",
        "device_data = device_data.sort_values(by=['timeDate'],ignore_index=True)"
      ]
    },
    {
      "cell_type": "code",
      "execution_count": 114,
      "metadata": {
        "colab": {
          "base_uri": "https://localhost:8080/",
          "height": 419
        },
        "id": "6RyPxWXxSOUN",
        "outputId": "4fe91f6f-9f07-46e7-9386-e17374ce6eb9"
      },
      "outputs": [
        {
          "data": {
            "text/html": [
              "<div>\n",
              "<style scoped>\n",
              "    .dataframe tbody tr th:only-of-type {\n",
              "        vertical-align: middle;\n",
              "    }\n",
              "\n",
              "    .dataframe tbody tr th {\n",
              "        vertical-align: top;\n",
              "    }\n",
              "\n",
              "    .dataframe thead th {\n",
              "        text-align: right;\n",
              "    }\n",
              "</style>\n",
              "<table border=\"1\" class=\"dataframe\">\n",
              "  <thead>\n",
              "    <tr style=\"text-align: right;\">\n",
              "      <th></th>\n",
              "      <th>event</th>\n",
              "      <th>val</th>\n",
              "      <th>time</th>\n",
              "      <th>timeDate</th>\n",
              "    </tr>\n",
              "  </thead>\n",
              "  <tbody>\n",
              "    <tr>\n",
              "      <th>0</th>\n",
              "      <td>ACTION_SCREEN_ON</td>\n",
              "      <td>None</td>\n",
              "      <td>453837011098605</td>\n",
              "      <td>09.08.2019 00:19:03.453</td>\n",
              "    </tr>\n",
              "    <tr>\n",
              "      <th>1</th>\n",
              "      <td>ACTION_USER_PRESENT</td>\n",
              "      <td>None</td>\n",
              "      <td>453837010982980</td>\n",
              "      <td>09.08.2019 00:19:03.453</td>\n",
              "    </tr>\n",
              "    <tr>\n",
              "      <th>2</th>\n",
              "      <td>ACTION_SCREEN_UNLOCKED</td>\n",
              "      <td>None</td>\n",
              "      <td>453837010685063</td>\n",
              "      <td>09.08.2019 00:19:03.453</td>\n",
              "    </tr>\n",
              "    <tr>\n",
              "      <th>3</th>\n",
              "      <td>BATTERY_STATUS_CHARGING</td>\n",
              "      <td>AC</td>\n",
              "      <td>453837043432980</td>\n",
              "      <td>09.08.2019 00:19:03.485</td>\n",
              "    </tr>\n",
              "    <tr>\n",
              "      <th>4</th>\n",
              "      <td>ACTION_BATTERY_CHANGE</td>\n",
              "      <td>51</td>\n",
              "      <td>453837043091834</td>\n",
              "      <td>09.08.2019 00:19:03.485</td>\n",
              "    </tr>\n",
              "    <tr>\n",
              "      <th>...</th>\n",
              "      <td>...</td>\n",
              "      <td>...</td>\n",
              "      <td>...</td>\n",
              "      <td>...</td>\n",
              "    </tr>\n",
              "    <tr>\n",
              "      <th>5294</th>\n",
              "      <td>ACTION_AUDIO_MODE_CHANGE</td>\n",
              "      <td>MODE_NORMAL</td>\n",
              "      <td>1194534999458172</td>\n",
              "      <td>23.08.2019 22:18:24.674</td>\n",
              "    </tr>\n",
              "    <tr>\n",
              "      <th>5295</th>\n",
              "      <td>ACTION_HEADSET_PLUG</td>\n",
              "      <td>UNPLUGGED</td>\n",
              "      <td>1194535006870151</td>\n",
              "      <td>23.08.2019 22:18:24.682</td>\n",
              "    </tr>\n",
              "    <tr>\n",
              "      <th>5296</th>\n",
              "      <td>ACTION_CONNECTIVITY</td>\n",
              "      <td>MOBILE_CONNECT</td>\n",
              "      <td>1194535007717026</td>\n",
              "      <td>23.08.2019 22:18:24.682</td>\n",
              "    </tr>\n",
              "    <tr>\n",
              "      <th>5297</th>\n",
              "      <td>ACTION_RINGER_MODE_CHANGED</td>\n",
              "      <td>RINGER_MODE_VIBRATE</td>\n",
              "      <td>1194535008609734</td>\n",
              "      <td>23.08.2019 22:18:24.683</td>\n",
              "    </tr>\n",
              "    <tr>\n",
              "      <th>5298</th>\n",
              "      <td>ACTION_BATTERY_CHANGE</td>\n",
              "      <td>82</td>\n",
              "      <td>1194568636042541</td>\n",
              "      <td>23.08.2019 22:18:58.311</td>\n",
              "    </tr>\n",
              "  </tbody>\n",
              "</table>\n",
              "<p>5299 rows × 4 columns</p>\n",
              "</div>"
            ],
            "text/plain": [
              "                           event                  val              time  \\\n",
              "0               ACTION_SCREEN_ON                 None   453837011098605   \n",
              "1            ACTION_USER_PRESENT                 None   453837010982980   \n",
              "2         ACTION_SCREEN_UNLOCKED                 None   453837010685063   \n",
              "3        BATTERY_STATUS_CHARGING                   AC   453837043432980   \n",
              "4          ACTION_BATTERY_CHANGE                   51   453837043091834   \n",
              "...                          ...                  ...               ...   \n",
              "5294    ACTION_AUDIO_MODE_CHANGE          MODE_NORMAL  1194534999458172   \n",
              "5295         ACTION_HEADSET_PLUG            UNPLUGGED  1194535006870151   \n",
              "5296         ACTION_CONNECTIVITY       MOBILE_CONNECT  1194535007717026   \n",
              "5297  ACTION_RINGER_MODE_CHANGED  RINGER_MODE_VIBRATE  1194535008609734   \n",
              "5298       ACTION_BATTERY_CHANGE                   82  1194568636042541   \n",
              "\n",
              "                     timeDate  \n",
              "0     09.08.2019 00:19:03.453  \n",
              "1     09.08.2019 00:19:03.453  \n",
              "2     09.08.2019 00:19:03.453  \n",
              "3     09.08.2019 00:19:03.485  \n",
              "4     09.08.2019 00:19:03.485  \n",
              "...                       ...  \n",
              "5294  23.08.2019 22:18:24.674  \n",
              "5295  23.08.2019 22:18:24.682  \n",
              "5296  23.08.2019 22:18:24.682  \n",
              "5297  23.08.2019 22:18:24.683  \n",
              "5298  23.08.2019 22:18:58.311  \n",
              "\n",
              "[5299 rows x 4 columns]"
            ]
          },
          "execution_count": 114,
          "metadata": {},
          "output_type": "execute_result"
        }
      ],
      "source": [
        "device_data"
      ]
    },
    {
      "cell_type": "code",
      "execution_count": 115,
      "metadata": {
        "colab": {
          "base_uri": "https://localhost:8080/"
        },
        "id": "MC1AsQkNSQCg",
        "outputId": "e4685df5-d07d-4077-de95-a4cfa26320ed"
      },
      "outputs": [
        {
          "name": "stdout",
          "output_type": "stream",
          "text": [
            "<class 'pandas.core.frame.DataFrame'>\n",
            "RangeIndex: 5299 entries, 0 to 5298\n",
            "Data columns (total 4 columns):\n",
            " #   Column    Non-Null Count  Dtype \n",
            "---  ------    --------------  ----- \n",
            " 0   event     5299 non-null   object\n",
            " 1   val       4596 non-null   object\n",
            " 2   time      5299 non-null   int64 \n",
            " 3   timeDate  5299 non-null   object\n",
            "dtypes: int64(1), object(3)\n",
            "memory usage: 165.7+ KB\n"
          ]
        }
      ],
      "source": [
        "device_data.info()"
      ]
    },
    {
      "cell_type": "code",
      "execution_count": 116,
      "metadata": {
        "colab": {
          "base_uri": "https://localhost:8080/"
        },
        "id": "z8f4m0isSghr",
        "outputId": "668554b1-8a70-437c-d148-cd15395eac5d"
      },
      "outputs": [
        {
          "data": {
            "text/plain": [
              "val         703\n",
              "event         0\n",
              "time          0\n",
              "timeDate      0\n",
              "dtype: int64"
            ]
          },
          "execution_count": 116,
          "metadata": {},
          "output_type": "execute_result"
        }
      ],
      "source": [
        "# Total null values in the device data\n",
        "device_data.isna().sum().sort_values(ascending = False)"
      ]
    },
    {
      "cell_type": "code",
      "execution_count": 117,
      "metadata": {
        "colab": {
          "base_uri": "https://localhost:8080/"
        },
        "id": "quie4DgzSs9S",
        "outputId": "124a6d1a-4dc9-4d72-fe5d-361c16ca0fd4"
      },
      "outputs": [
        {
          "data": {
            "text/plain": [
              "count                         4596\n",
              "unique                         279\n",
              "top       {\"current\":\"0\",\"max\":15}\n",
              "freq                           167\n",
              "Name: val, dtype: object"
            ]
          },
          "execution_count": 117,
          "metadata": {},
          "output_type": "execute_result"
        }
      ],
      "source": [
        "# Column 'val'\n",
        "device_data.val.describe()"
      ]
    },
    {
      "cell_type": "code",
      "execution_count": 118,
      "metadata": {
        "colab": {
          "base_uri": "https://localhost:8080/"
        },
        "id": "opX6cmXfS2Oz",
        "outputId": "aed5dec8-f106-4fc9-a114-32e8fb193233"
      },
      "outputs": [
        {
          "data": {
            "text/plain": [
              "array([None, 'AC', '51', '9', 'AUTOMATIC', 'PORTRAIT',\n",
              "       '{\"current\":\"9\",\"max\":15}', '{\"current\":\"0\",\"max\":15}',\n",
              "       'MODE_NORMAL', 'RINGER_MODE_VIBRATE', 'WIFI_CONNECT', '52', '100',\n",
              "       '204', 'MOBILE_CONNECT', '203', '202', '200', '199', '198', '196',\n",
              "       '195', '193', '190', '186', '181', '177', '173',\n",
              "       '{\"current\":\"7\",\"max\":15}', '169', '{\"current\":\"6\",\"max\":15}',\n",
              "       '172', '{\"current\":\"5\",\"max\":15}', '178', '185', '191', '189',\n",
              "       '187', '184', '182', '180', '175', '171', '167', '165', '99', '87',\n",
              "       '63', '80', '68', '72', '77', '79', '78', '76', '75', '74', '71',\n",
              "       '69', '67', '65', '64', '62', '61', '59', '98', '60', '73',\n",
              "       '{\"current\":\"4\",\"max\":15}', '97', '95', 'LANDSCAPE', '174', '168',\n",
              "       '161', '154', '148', '143', '137', '131', '126', '121', '116',\n",
              "       '112', '107', '104', '136', '159', '166', '163', '160', '157',\n",
              "       '155', '152', '149', '147', '144', '142', '139', '145', '183',\n",
              "       '179', '176', '94', '164', '156', '141', '138', '134', '128',\n",
              "       '125', '122', '119', '117', '114', '110', '109', '105', '103',\n",
              "       '101', '96', '93', '92', '90', '113', '127', '102', '133', '130',\n",
              "       '120', '115', '108', '111', '162', '170', '158', '153', '146',\n",
              "       '140', '135', '132', '129', '151', '188', '205', '222', '223',\n",
              "       '219', '217', '214', '211', '209', '206', '201', '197', '194',\n",
              "       '192', '91', '213', '220', '218', '216', '208', '212', '221',\n",
              "       '224', '225', '226', '227', 'MOBILE_DISCONNECT', '89', '228',\n",
              "       '229', '230', '88', '150', '124', '106', '09.08.2019 08:58:42.067',\n",
              "       '09.08.2019 08:58:58.083', '86', '118', 'WIFI_DISCONNECT', '85',\n",
              "       '{\"current\":\"3\",\"max\":15}', '84', '83', '82', '81', '70',\n",
              "       '{\"current\":\"10\",\"max\":15}', '{\"current\":\"8\",\"max\":15}', '19',\n",
              "       '27', '30', '37', '45', '55', '58', '57', '56', '54', '53', '50',\n",
              "       '49', '48', '47', '46', '66', '44', '42', '41', '40', '39', '38',\n",
              "       '36', '35', '34', '33', '32', '123', '20', '22', '43', '31', '29',\n",
              "       '28', '26', '25', '23', '21', '18', '17', '24',\n",
              "       '{\"current\":\"12\",\"max\":15}', '674', '{\"current\":\"11\",\"max\":15}',\n",
              "       'USB', '713', '16', '15', '14', '13', '12', '11', '10', '8', '7',\n",
              "       '344', '6', 'PLUGGED', '{\"current\":\"13\",\"max\":15}',\n",
              "       '{\"current\":\"14\",\"max\":15}', '246', '255', '253', '249', '244',\n",
              "       '240', '236', '231', '215', '207', 'UNPLUGGED',\n",
              "       '{\"current\":\"15\",\"max\":15}', 'MODE_IN_CALL',\n",
              "       '{\"current\":\"2\",\"max\":15}', '{\"current\":\"1\",\"max\":15}', '1063',\n",
              "       '210', '2917', '628', '263', '435', '446',\n",
              "       '18.08.2019 21:16:31.239', '20.08.2019 08:20:33.204',\n",
              "       '20.08.2019 20:57:40.050', '4', '451'], dtype=object)"
            ]
          },
          "execution_count": 118,
          "metadata": {},
          "output_type": "execute_result"
        }
      ],
      "source": [
        "# Different values in val column\n",
        "device_data.val.unique()"
      ]
    },
    {
      "cell_type": "code",
      "execution_count": 64,
      "metadata": {
        "colab": {
          "base_uri": "https://localhost:8080/"
        },
        "id": "G8r7KWCiTDr7",
        "outputId": "a43343cd-1b9e-4077-968e-7bc486893c71"
      },
      "outputs": [
        {
          "data": {
            "text/plain": [
              "count                         5299\n",
              "unique                          23\n",
              "top       ACTION_BRIGHTNESS_CHANGE\n",
              "freq                          2882\n",
              "Name: event, dtype: object"
            ]
          },
          "execution_count": 64,
          "metadata": {},
          "output_type": "execute_result"
        }
      ],
      "source": [
        "# Column 'event'\n",
        "device_data.event.describe()"
      ]
    },
    {
      "cell_type": "code",
      "execution_count": 65,
      "metadata": {
        "colab": {
          "base_uri": "https://localhost:8080/",
          "height": 525
        },
        "id": "NB7T2Z_gVDw2",
        "outputId": "2514ec64-c443-488c-a458-dd0807731737"
      },
      "outputs": [
        {
          "data": {
            "text/plain": [
              "<AxesSubplot:xlabel='event'>"
            ]
          },
          "execution_count": 65,
          "metadata": {},
          "output_type": "execute_result"
        },
        {
          "data": {
            "image/png": "[encoded data removed]",
            "text/plain": [
              "<Figure size 432x288 with 1 Axes>"
            ]
          },
          "metadata": {
            "needs_background": "light"
          },
          "output_type": "display_data"
        }
      ],
      "source": [
        "device_data.groupby('event').event.count().plot(kind = 'bar')"
      ]
    },
    {
      "cell_type": "markdown",
      "metadata": {
        "id": "gIue3AzvUGXF"
      },
      "source": [
        "     - Brightness change has the highest frequency in the event column"
      ]
    },
    {
      "cell_type": "code",
      "execution_count": 66,
      "metadata": {
        "colab": {
          "base_uri": "https://localhost:8080/"
        },
        "id": "KgxLwLzmT4yq",
        "outputId": "76d89148-7981-4869-9ef2-84b9cd21effb"
      },
      "outputs": [
        {
          "data": {
            "text/plain": [
              "array(['ACTION_SCREEN_ON', 'ACTION_USER_PRESENT',\n",
              "       'ACTION_SCREEN_UNLOCKED', 'BATTERY_STATUS_CHARGING',\n",
              "       'ACTION_BATTERY_CHANGE', 'ACTION_BRIGHTNESS_CHANGE',\n",
              "       'ACTION_BRIGHTNESS_MODE_CHANGE',\n",
              "       'ACTION_SCREEN_ORIENTATION_CHANGE', 'ACTION_RING_VOLUME_CHANGE',\n",
              "       'ACTION_MUSIC_VOLUME_CHANGE', 'ACTION_NOTIFICATION_VOLUME_CHANGE',\n",
              "       'ACTION_AUDIO_MODE_CHANGE', 'ACTION_RINGER_MODE_CHANGED',\n",
              "       'ACTION_CONNECTIVITY', 'BATTERY_STATUS_NOT_CHARGING',\n",
              "       'ACTION_TIME_CHANGED', 'ACTION_SCREEN_LOCKED', 'ACTION_SCREEN_OFF',\n",
              "       'CONTINUE_RECORDING_DUE_LAST_SCREEN_ON', 'ACTION_POWER_CONNECTED',\n",
              "       'ACTION_POWER_DISCONNECTED', 'ACTION_HEADSET_PLUG',\n",
              "       'android.intent.action.BATTERY_LOW'], dtype=object)"
            ]
          },
          "execution_count": 66,
          "metadata": {},
          "output_type": "execute_result"
        }
      ],
      "source": [
        "# Name of the events\n",
        "device_data.event.unique()"
      ]
    },
    {
      "cell_type": "code",
      "execution_count": 67,
      "metadata": {
        "colab": {
          "base_uri": "https://localhost:8080/",
          "height": 433
        },
        "id": "dEFBJ9xGUXRr",
        "outputId": "f83633fc-8ce9-48ac-cab5-37875f36cd9d"
      },
      "outputs": [
        {
          "data": {
            "text/html": [
              "<div>\n",
              "<style scoped>\n",
              "    .dataframe tbody tr th:only-of-type {\n",
              "        vertical-align: middle;\n",
              "    }\n",
              "\n",
              "    .dataframe tbody tr th {\n",
              "        vertical-align: top;\n",
              "    }\n",
              "\n",
              "    .dataframe thead th {\n",
              "        text-align: right;\n",
              "    }\n",
              "</style>\n",
              "<table border=\"1\" class=\"dataframe\">\n",
              "  <thead>\n",
              "    <tr style=\"text-align: right;\">\n",
              "      <th></th>\n",
              "      <th></th>\n",
              "      <th></th>\n",
              "      <th></th>\n",
              "    </tr>\n",
              "    <tr>\n",
              "      <th>event</th>\n",
              "      <th>val</th>\n",
              "      <th>time</th>\n",
              "      <th>timeDate</th>\n",
              "    </tr>\n",
              "  </thead>\n",
              "  <tbody>\n",
              "    <tr>\n",
              "      <th rowspan=\"5\" valign=\"top\">ACTION_AUDIO_MODE_CHANGE</th>\n",
              "      <th>MODE_IN_CALL</th>\n",
              "      <th>494007869102562</th>\n",
              "      <th>15.08.2019 19:42:24.212</th>\n",
              "    </tr>\n",
              "    <tr>\n",
              "      <th rowspan=\"4\" valign=\"top\">MODE_NORMAL</th>\n",
              "      <th>18405456404664</th>\n",
              "      <th>10.08.2019 07:35:13.742</th>\n",
              "    </tr>\n",
              "    <tr>\n",
              "      <th>24956631685922</th>\n",
              "      <th>10.08.2019 09:24:24.917</th>\n",
              "    </tr>\n",
              "    <tr>\n",
              "      <th>25245887675461</th>\n",
              "      <th>10.08.2019 09:29:14.173</th>\n",
              "    </tr>\n",
              "    <tr>\n",
              "      <th>29458777693701</th>\n",
              "      <th>10.08.2019 10:39:27.063</th>\n",
              "    </tr>\n",
              "    <tr>\n",
              "      <th>...</th>\n",
              "      <th>...</th>\n",
              "      <th>...</th>\n",
              "      <th>...</th>\n",
              "    </tr>\n",
              "    <tr>\n",
              "      <th rowspan=\"5\" valign=\"top\">CONTINUE_RECORDING_DUE_LAST_SCREEN_ON</th>\n",
              "      <th>446</th>\n",
              "      <th>666458894507818</th>\n",
              "      <th>17.08.2019 19:36:38.860</th>\n",
              "    </tr>\n",
              "    <tr>\n",
              "      <th>451</th>\n",
              "      <th>1111044249687273</th>\n",
              "      <th>22.08.2019 23:06:52.768</th>\n",
              "    </tr>\n",
              "    <tr>\n",
              "      <th>628</th>\n",
              "      <th>657298577230239</th>\n",
              "      <th>17.08.2019 17:03:58.574</th>\n",
              "    </tr>\n",
              "    <tr>\n",
              "      <th>674</th>\n",
              "      <th>209352245773753</th>\n",
              "      <th>12.08.2019 12:37:49.333</th>\n",
              "    </tr>\n",
              "    <tr>\n",
              "      <th>713</th>\n",
              "      <th>221298955409551</th>\n",
              "      <th>12.08.2019 15:57:00.296</th>\n",
              "    </tr>\n",
              "  </tbody>\n",
              "</table>\n",
              "<p>4596 rows × 0 columns</p>\n",
              "</div>"
            ],
            "text/plain": [
              "Empty DataFrame\n",
              "Columns: []\n",
              "Index: [(ACTION_AUDIO_MODE_CHANGE, MODE_IN_CALL, 494007869102562, 15.08.2019 19:42:24.212), (ACTION_AUDIO_MODE_CHANGE, MODE_NORMAL, 18405456404664, 10.08.2019 07:35:13.742), (ACTION_AUDIO_MODE_CHANGE, MODE_NORMAL, 24956631685922, 10.08.2019 09:24:24.917), (ACTION_AUDIO_MODE_CHANGE, MODE_NORMAL, 25245887675461, 10.08.2019 09:29:14.173), (ACTION_AUDIO_MODE_CHANGE, MODE_NORMAL, 29458777693701, 10.08.2019 10:39:27.063), (ACTION_AUDIO_MODE_CHANGE, MODE_NORMAL, 29503634104631, 10.08.2019 10:40:11.920), (ACTION_AUDIO_MODE_CHANGE, MODE_NORMAL, 30065691373816, 10.08.2019 10:49:33.977), (ACTION_AUDIO_MODE_CHANGE, MODE_NORMAL, 31320737738005, 10.08.2019 11:10:29.023), (ACTION_AUDIO_MODE_CHANGE, MODE_NORMAL, 37503887811369, 10.08.2019 12:53:30.809), (ACTION_AUDIO_MODE_CHANGE, MODE_NORMAL, 45093313049867, 10.08.2019 14:59:59.524), (ACTION_AUDIO_MODE_CHANGE, MODE_NORMAL, 57347348532648, 10.08.2019 18:24:15.273), (ACTION_AUDIO_MODE_CHANGE, MODE_NORMAL, 57419876669616, 10.08.2019 18:25:27.801), (ACTION_AUDIO_MODE_CHANGE, MODE_NORMAL, 112683043218557, 11.08.2019 09:46:30.626), (ACTION_AUDIO_MODE_CHANGE, MODE_NORMAL, 141437271130522, 11.08.2019 17:45:45.345), (ACTION_AUDIO_MODE_CHANGE, MODE_NORMAL, 141597116295081, 11.08.2019 17:48:25.302), (ACTION_AUDIO_MODE_CHANGE, MODE_NORMAL, 141749753190370, 11.08.2019 17:50:57.939), (ACTION_AUDIO_MODE_CHANGE, MODE_NORMAL, 142218830248225, 11.08.2019 17:58:47.016), (ACTION_AUDIO_MODE_CHANGE, MODE_NORMAL, 142919017432082, 11.08.2019 18:10:27.204), (ACTION_AUDIO_MODE_CHANGE, MODE_NORMAL, 143008127709160, 11.08.2019 18:11:54.855), (ACTION_AUDIO_MODE_CHANGE, MODE_NORMAL, 145290421575820, 11.08.2019 18:49:56.493), (ACTION_AUDIO_MODE_CHANGE, MODE_NORMAL, 145732520285648, 11.08.2019 18:57:18.591), (ACTION_AUDIO_MODE_CHANGE, MODE_NORMAL, 146251262790399, 11.08.2019 19:05:57.334), (ACTION_AUDIO_MODE_CHANGE, MODE_NORMAL, 207909293545111, 12.08.2019 12:13:46.381), (ACTION_AUDIO_MODE_CHANGE, MODE_NORMAL, 208082353576902, 12.08.2019 12:16:39.441), (ACTION_AUDIO_MODE_CHANGE, MODE_NORMAL, 209227970555022, 12.08.2019 12:35:45.058), (ACTION_AUDIO_MODE_CHANGE, MODE_NORMAL, 210627366811268, 12.08.2019 12:59:04.454), (ACTION_AUDIO_MODE_CHANGE, MODE_NORMAL, 212442087959186, 12.08.2019 13:29:20.063), (ACTION_AUDIO_MODE_CHANGE, MODE_NORMAL, 220451405351868, 12.08.2019 15:42:52.746), (ACTION_AUDIO_MODE_CHANGE, MODE_NORMAL, 290510060018399, 13.08.2019 11:10:35.339), (ACTION_AUDIO_MODE_CHANGE, MODE_NORMAL, 291290392512721, 13.08.2019 11:23:35.672), (ACTION_AUDIO_MODE_CHANGE, MODE_NORMAL, 305041607525620, 13.08.2019 15:12:49.519), (ACTION_AUDIO_MODE_CHANGE, MODE_NORMAL, 308761305550158, 13.08.2019 16:14:49.070), (ACTION_AUDIO_MODE_CHANGE, MODE_NORMAL, 330970340252738, 13.08.2019 22:24:58.264), (ACTION_AUDIO_MODE_CHANGE, MODE_NORMAL, 331705825342209, 13.08.2019 22:37:13.749), (ACTION_AUDIO_MODE_CHANGE, MODE_NORMAL, 332390829087417, 13.08.2019 22:48:38.753), (ACTION_AUDIO_MODE_CHANGE, MODE_NORMAL, 334073237264972, 13.08.2019 23:16:40.878), (ACTION_AUDIO_MODE_CHANGE, MODE_NORMAL, 334168577738395, 13.08.2019 23:18:16.219), (ACTION_AUDIO_MODE_CHANGE, MODE_NORMAL, 334228903906094, 13.08.2019 23:19:16.545), (ACTION_AUDIO_MODE_CHANGE, MODE_NORMAL, 369250192538361, 14.08.2019 09:03:02.022), (ACTION_AUDIO_MODE_CHANGE, MODE_NORMAL, 372075076629498, 14.08.2019 09:50:06.080), (ACTION_AUDIO_MODE_CHANGE, MODE_NORMAL, 378440170499797, 14.08.2019 11:36:11.174), (ACTION_AUDIO_MODE_CHANGE, MODE_NORMAL, 383065948860219, 14.08.2019 12:53:16.953), (ACTION_AUDIO_MODE_CHANGE, MODE_NORMAL, 399251252713240, 14.08.2019 17:23:04.798), (ACTION_AUDIO_MODE_CHANGE, MODE_NORMAL, 418240497549671, 14.08.2019 22:39:35.283), (ACTION_AUDIO_MODE_CHANGE, MODE_NORMAL, 418879019082906, 14.08.2019 22:50:13.765), (ACTION_AUDIO_MODE_CHANGE, MODE_NORMAL, 419913315175978, 14.08.2019 23:07:28.061), (ACTION_AUDIO_MODE_CHANGE, MODE_NORMAL, 420164431686877, 14.08.2019 23:11:39.178), (ACTION_AUDIO_MODE_CHANGE, MODE_NORMAL, 420625013353013, 14.08.2019 23:19:20.656), (ACTION_AUDIO_MODE_CHANGE, MODE_NORMAL, 453837047856938, 09.08.2019 00:19:03.490), (ACTION_AUDIO_MODE_CHANGE, MODE_NORMAL, 455632692341545, 15.08.2019 09:02:48.335), (ACTION_AUDIO_MODE_CHANGE, MODE_NORMAL, 464450904966177, 15.08.2019 11:29:47.348), (ACTION_AUDIO_MODE_CHANGE, MODE_NORMAL, 465365896639109, 15.08.2019 11:45:02.340), (ACTION_AUDIO_MODE_CHANGE, MODE_NORMAL, 482078639983386, 09.08.2019 08:09:47.788), (ACTION_AUDIO_MODE_CHANGE, MODE_NORMAL, 483744775681150, 09.08.2019 08:37:33.193), (ACTION_AUDIO_MODE_CHANGE, MODE_NORMAL, 483982435927468, 09.08.2019 08:41:30.853), (ACTION_AUDIO_MODE_CHANGE, MODE_NORMAL, 484362815034702, 09.08.2019 08:47:51.232), (ACTION_AUDIO_MODE_CHANGE, MODE_NORMAL, 484635927444035, 09.08.2019 08:52:24.345), (ACTION_AUDIO_MODE_CHANGE, MODE_NORMAL, 485957129656471, 09.08.2019 09:14:26.340), (ACTION_AUDIO_MODE_CHANGE, MODE_NORMAL, 491257639625658, 15.08.2019 18:56:33.983), (ACTION_AUDIO_MODE_CHANGE, MODE_NORMAL, 492692937923575, 15.08.2019 19:20:29.281), (ACTION_AUDIO_MODE_CHANGE, MODE_NORMAL, 492830136421491, 15.08.2019 19:22:46.480), (ACTION_AUDIO_MODE_CHANGE, MODE_NORMAL, 492986507408447, 15.08.2019 19:25:22.851), (ACTION_AUDIO_MODE_CHANGE, MODE_NORMAL, 493625556019287, 15.08.2019 19:36:01.899), (ACTION_AUDIO_MODE_CHANGE, MODE_NORMAL, 494023801737976, 15.08.2019 19:42:40.145), (ACTION_AUDIO_MODE_CHANGE, MODE_NORMAL, 494087170350986, 15.08.2019 19:43:43.341), (ACTION_AUDIO_MODE_CHANGE, MODE_NORMAL, 498106419565303, 09.08.2019 12:36:56.055), (ACTION_AUDIO_MODE_CHANGE, MODE_NORMAL, 499130911238132, 09.08.2019 12:54:00.547), (ACTION_AUDIO_MODE_CHANGE, MODE_NORMAL, 558112598232877, 16.08.2019 13:30:52.579), (ACTION_AUDIO_MODE_CHANGE, MODE_NORMAL, 560989713151623, 16.08.2019 14:18:49.687), (ACTION_AUDIO_MODE_CHANGE, MODE_NORMAL, 569906256330463, 16.08.2019 16:47:26.235), (ACTION_AUDIO_MODE_CHANGE, MODE_NORMAL, 571213786382868, 16.08.2019 17:09:13.765), (ACTION_AUDIO_MODE_CHANGE, MODE_NORMAL, 571280887831816, 16.08.2019 17:10:20.866), (ACTION_AUDIO_MODE_CHANGE, MODE_NORMAL, 575406913900040, 16.08.2019 18:19:06.892), (ACTION_AUDIO_MODE_CHANGE, MODE_NORMAL, 627434796686869, 17.08.2019 08:46:14.758), (ACTION_AUDIO_MODE_CHANGE, MODE_NORMAL, 628407113990366, 17.08.2019 09:02:27.076), (ACTION_AUDIO_MODE_CHANGE, MODE_NORMAL, 630113498807339, 17.08.2019 09:30:53.461), (ACTION_AUDIO_MODE_CHANGE, MODE_NORMAL, 656121110554730, 17.08.2019 16:44:21.107), (ACTION_AUDIO_MODE_CHANGE, MODE_NORMAL, 656927215838495, 17.08.2019 16:57:47.213), (ACTION_AUDIO_MODE_CHANGE, MODE_NORMAL, 657644884412021, 17.08.2019 17:09:44.881), (ACTION_AUDIO_MODE_CHANGE, MODE_NORMAL, 657708091214615, 17.08.2019 17:10:48.088), (ACTION_AUDIO_MODE_CHANGE, MODE_NORMAL, 666355369595854, 17.08.2019 19:34:55.335), (ACTION_AUDIO_MODE_CHANGE, MODE_NORMAL, 667934978342728, 17.08.2019 20:01:14.944), (ACTION_AUDIO_MODE_CHANGE, MODE_NORMAL, 726975855493633, 18.08.2019 12:25:23.244), (ACTION_AUDIO_MODE_CHANGE, MODE_NORMAL, 748498122308729, 18.08.2019 18:24:05.737), (ACTION_AUDIO_MODE_CHANGE, MODE_NORMAL, 756229224226955, 18.08.2019 20:32:58.714), (ACTION_AUDIO_MODE_CHANGE, MODE_NORMAL, 757579195464967, 18.08.2019 20:55:29.624), (ACTION_AUDIO_MODE_CHANGE, MODE_NORMAL, 758554505020700, 18.08.2019 21:11:44.934), (ACTION_AUDIO_MODE_CHANGE, MODE_NORMAL, 758839333963407, 18.08.2019 21:16:29.763), (ACTION_AUDIO_MODE_CHANGE, MODE_NORMAL, 759812596496591, 18.08.2019 21:32:43.817), (ACTION_AUDIO_MODE_CHANGE, MODE_NORMAL, 762507891024826, 18.08.2019 22:17:39.112), (ACTION_AUDIO_MODE_CHANGE, MODE_NORMAL, 762562358505026, 18.08.2019 22:18:33.579), (ACTION_AUDIO_MODE_CHANGE, MODE_NORMAL, 823272152821446, 19.08.2019 15:10:27.759), (ACTION_AUDIO_MODE_CHANGE, MODE_NORMAL, 844952211269117, 19.08.2019 21:11:49.782), (ACTION_AUDIO_MODE_CHANGE, MODE_NORMAL, 845156735477940, 19.08.2019 21:15:14.306), (ACTION_AUDIO_MODE_CHANGE, MODE_NORMAL, 845968719221315, 19.08.2019 21:28:46.290), (ACTION_AUDIO_MODE_CHANGE, MODE_NORMAL, 846129859347356, 19.08.2019 21:31:27.430), (ACTION_AUDIO_MODE_CHANGE, MODE_NORMAL, 846817919416106, 19.08.2019 21:42:55.490), (ACTION_AUDIO_MODE_CHANGE, MODE_NORMAL, 848198971943710, 19.08.2019 22:05:56.543), (ACTION_AUDIO_MODE_CHANGE, MODE_NORMAL, 850332974397323, 19.08.2019 22:41:30.545), (ACTION_AUDIO_MODE_CHANGE, MODE_NORMAL, 884870774172876, 20.08.2019 08:17:08.345), ...]\n",
              "\n",
              "[4596 rows x 0 columns]"
            ]
          },
          "execution_count": 67,
          "metadata": {},
          "output_type": "execute_result"
        }
      ],
      "source": [
        "device_data.groupby(['event','val','time','timeDate']).count()"
      ]
    },
    {
      "cell_type": "code",
      "execution_count": 68,
      "metadata": {
        "id": "z2NPOTo-Vx4S"
      },
      "outputs": [],
      "source": [
        "# Exclude the 'ACTION_BRIGHTNESS_CHANGE'\n",
        "mask = device_data['event'].isin(['ACTION_BRIGHTNESS_CHANGE'])\n",
        "device_data = device_data[~mask]"
      ]
    },
    {
      "cell_type": "code",
      "execution_count": 69,
      "metadata": {
        "colab": {
          "base_uri": "https://localhost:8080/",
          "height": 419
        },
        "id": "51RMomgDW4vE",
        "outputId": "a6c49073-e40c-4b3f-8620-4b1c149ccbdf"
      },
      "outputs": [
        {
          "data": {
            "text/html": [
              "<div>\n",
              "<style scoped>\n",
              "    .dataframe tbody tr th:only-of-type {\n",
              "        vertical-align: middle;\n",
              "    }\n",
              "\n",
              "    .dataframe tbody tr th {\n",
              "        vertical-align: top;\n",
              "    }\n",
              "\n",
              "    .dataframe thead th {\n",
              "        text-align: right;\n",
              "    }\n",
              "</style>\n",
              "<table border=\"1\" class=\"dataframe\">\n",
              "  <thead>\n",
              "    <tr style=\"text-align: right;\">\n",
              "      <th></th>\n",
              "      <th>event</th>\n",
              "      <th>val</th>\n",
              "      <th>time</th>\n",
              "      <th>timeDate</th>\n",
              "    </tr>\n",
              "  </thead>\n",
              "  <tbody>\n",
              "    <tr>\n",
              "      <th>0</th>\n",
              "      <td>ACTION_SCREEN_ON</td>\n",
              "      <td>None</td>\n",
              "      <td>453837011098605</td>\n",
              "      <td>09.08.2019 00:19:03.453</td>\n",
              "    </tr>\n",
              "    <tr>\n",
              "      <th>1</th>\n",
              "      <td>ACTION_USER_PRESENT</td>\n",
              "      <td>None</td>\n",
              "      <td>453837010982980</td>\n",
              "      <td>09.08.2019 00:19:03.453</td>\n",
              "    </tr>\n",
              "    <tr>\n",
              "      <th>2</th>\n",
              "      <td>ACTION_SCREEN_UNLOCKED</td>\n",
              "      <td>None</td>\n",
              "      <td>453837010685063</td>\n",
              "      <td>09.08.2019 00:19:03.453</td>\n",
              "    </tr>\n",
              "    <tr>\n",
              "      <th>3</th>\n",
              "      <td>BATTERY_STATUS_CHARGING</td>\n",
              "      <td>AC</td>\n",
              "      <td>453837043432980</td>\n",
              "      <td>09.08.2019 00:19:03.485</td>\n",
              "    </tr>\n",
              "    <tr>\n",
              "      <th>4</th>\n",
              "      <td>ACTION_BATTERY_CHANGE</td>\n",
              "      <td>51</td>\n",
              "      <td>453837043091834</td>\n",
              "      <td>09.08.2019 00:19:03.485</td>\n",
              "    </tr>\n",
              "    <tr>\n",
              "      <th>...</th>\n",
              "      <td>...</td>\n",
              "      <td>...</td>\n",
              "      <td>...</td>\n",
              "      <td>...</td>\n",
              "    </tr>\n",
              "    <tr>\n",
              "      <th>5294</th>\n",
              "      <td>ACTION_AUDIO_MODE_CHANGE</td>\n",
              "      <td>MODE_NORMAL</td>\n",
              "      <td>1194534999458172</td>\n",
              "      <td>23.08.2019 22:18:24.674</td>\n",
              "    </tr>\n",
              "    <tr>\n",
              "      <th>5295</th>\n",
              "      <td>ACTION_HEADSET_PLUG</td>\n",
              "      <td>UNPLUGGED</td>\n",
              "      <td>1194535006870151</td>\n",
              "      <td>23.08.2019 22:18:24.682</td>\n",
              "    </tr>\n",
              "    <tr>\n",
              "      <th>5296</th>\n",
              "      <td>ACTION_CONNECTIVITY</td>\n",
              "      <td>MOBILE_CONNECT</td>\n",
              "      <td>1194535007717026</td>\n",
              "      <td>23.08.2019 22:18:24.682</td>\n",
              "    </tr>\n",
              "    <tr>\n",
              "      <th>5297</th>\n",
              "      <td>ACTION_RINGER_MODE_CHANGED</td>\n",
              "      <td>RINGER_MODE_VIBRATE</td>\n",
              "      <td>1194535008609734</td>\n",
              "      <td>23.08.2019 22:18:24.683</td>\n",
              "    </tr>\n",
              "    <tr>\n",
              "      <th>5298</th>\n",
              "      <td>ACTION_BATTERY_CHANGE</td>\n",
              "      <td>82</td>\n",
              "      <td>1194568636042541</td>\n",
              "      <td>23.08.2019 22:18:58.311</td>\n",
              "    </tr>\n",
              "  </tbody>\n",
              "</table>\n",
              "<p>2417 rows × 4 columns</p>\n",
              "</div>"
            ],
            "text/plain": [
              "                           event                  val              time  \\\n",
              "0               ACTION_SCREEN_ON                 None   453837011098605   \n",
              "1            ACTION_USER_PRESENT                 None   453837010982980   \n",
              "2         ACTION_SCREEN_UNLOCKED                 None   453837010685063   \n",
              "3        BATTERY_STATUS_CHARGING                   AC   453837043432980   \n",
              "4          ACTION_BATTERY_CHANGE                   51   453837043091834   \n",
              "...                          ...                  ...               ...   \n",
              "5294    ACTION_AUDIO_MODE_CHANGE          MODE_NORMAL  1194534999458172   \n",
              "5295         ACTION_HEADSET_PLUG            UNPLUGGED  1194535006870151   \n",
              "5296         ACTION_CONNECTIVITY       MOBILE_CONNECT  1194535007717026   \n",
              "5297  ACTION_RINGER_MODE_CHANGED  RINGER_MODE_VIBRATE  1194535008609734   \n",
              "5298       ACTION_BATTERY_CHANGE                   82  1194568636042541   \n",
              "\n",
              "                     timeDate  \n",
              "0     09.08.2019 00:19:03.453  \n",
              "1     09.08.2019 00:19:03.453  \n",
              "2     09.08.2019 00:19:03.453  \n",
              "3     09.08.2019 00:19:03.485  \n",
              "4     09.08.2019 00:19:03.485  \n",
              "...                       ...  \n",
              "5294  23.08.2019 22:18:24.674  \n",
              "5295  23.08.2019 22:18:24.682  \n",
              "5296  23.08.2019 22:18:24.682  \n",
              "5297  23.08.2019 22:18:24.683  \n",
              "5298  23.08.2019 22:18:58.311  \n",
              "\n",
              "[2417 rows x 4 columns]"
            ]
          },
          "execution_count": 69,
          "metadata": {},
          "output_type": "execute_result"
        }
      ],
      "source": [
        "device_data"
      ]
    },
    {
      "cell_type": "code",
      "execution_count": 119,
      "metadata": {
        "colab": {
          "base_uri": "https://localhost:8080/",
          "height": 525
        },
        "id": "kijKSDGEW53R",
        "outputId": "a2cdb05d-4232-4339-f8ba-18193a116578"
      },
      "outputs": [
        {
          "data": {
            "text/plain": [
              "<AxesSubplot:xlabel='event'>"
            ]
          },
          "execution_count": 119,
          "metadata": {},
          "output_type": "execute_result"
        },
        {
          "data": {
            "image/png": "[encoded data removed]",
            "text/plain": [
              "<Figure size 432x288 with 1 Axes>"
            ]
          },
          "metadata": {},
          "output_type": "display_data"
        }
      ],
      "source": [
        "device_data.groupby('event').event.count().plot(kind = 'bar')"
      ]
    }
  ],
  "metadata": {
    "colab": {
      "include_colab_link": true,
      "name": "P_7711.ipynb",
      "provenance": []
    },
    "kernelspec": {
      "display_name": "Python 3",
      "name": "python3"
    },
    "language_info": {
      "codemirror_mode": {
        "name": "ipython",
        "version": 3
      },
      "file_extension": ".py",
      "mimetype": "text/x-python",
      "name": "python",
      "nbconvert_exporter": "python",
      "pygments_lexer": "ipython3",
      "version": "3.8.12"
    }
  },
  "nbformat": 4,
  "nbformat_minor": 0
}
