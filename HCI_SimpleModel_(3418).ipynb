{
 "cells": [
  {
   "cell_type": "code",
   "execution_count": 1,
   "id": "1e01f078",
   "metadata": {},
   "outputs": [],
   "source": [
    "import tensorflow as tf\n",
    "import matplotlib.pyplot as plt\n",
    "import heapq\n",
    "import cv2\n",
    "import pandas as pd\n",
    "from tensorflow import keras\n",
    "import numpy as np\n",
    "import os\n",
    "import json\n",
    "from sklearn.ensemble import AdaBoostClassifier\n",
    "from sklearn.neighbors import KNeighborsClassifier\n",
    "from sklearn.ensemble import RandomForestClassifier\n",
    "from sklearn.dummy import DummyClassifier\n",
    "from sklearn.model_selection import train_test_split\n",
    "from sklearn import metrics\n",
    "from sklearn.preprocessing import StandardScaler"
   ]
  },
  {
   "cell_type": "markdown",
   "id": "e2bdaf8a",
   "metadata": {},
   "source": [
    "# 0. Data Preprocessing"
   ]
  },
  {
   "cell_type": "code",
   "execution_count": 2,
   "id": "8cf99d23",
   "metadata": {},
   "outputs": [],
   "source": [
    "#Feature Normalization:\n",
    "scaler = StandardScaler()"
   ]
  },
  {
   "cell_type": "markdown",
   "id": "0896db45",
   "metadata": {},
   "source": [
    "# 1. One-Feature-Model:   \n",
    "\n",
    "Regard application swichting as the only feature, \n",
    "e.g. instagram --> whatsapp \n",
    "instagram as X_data\n",
    "whatsapp as y_label\n"
   ]
  },
  {
   "cell_type": "code",
   "execution_count": 3,
   "id": "f0c36387",
   "metadata": {
    "scrolled": true
   },
   "outputs": [
    {
     "name": "stdout",
     "output_type": "stream",
     "text": [
      "INPUT DATA:\n",
      "470\n",
      "['com.android.settings', 'com.android.settings', 'com.android.vending', 'com.whatsapp', 'com.supercell.clashroyale', 'com.whatsapp', 'com.supercell.clashroyale', 'com.supercell.clashroyale', 'com.whatsapp', 'com.supercell.clashroyale', 'com.supercell.clashroyale', 'com.whatsapp', 'com.whatsapp', 'com.supercell.clashroyale', 'com.whatsapp', 'com.supercell.clashroyale', 'com.supercell.clashroyale', 'com.whatsapp', 'com.whatsapp', 'com.supercell.clashroyale', 'com.whatsapp', 'com.supercell.clashroyale', 'com.whatsapp', 'com.android.chrome', 'com.whatsapp', 'com.whatsapp', 'com.supercell.clashroyale', 'com.whatsapp', 'com.supercell.clashroyale', 'com.supercell.clashroyale', 'com.whatsapp', 'com.supercell.clashroyale', 'com.whatsapp', 'com.android.chrome', 'com.whatsapp', 'com.supercell.clashroyale', 'com.whatsapp', 'com.whatsapp', 'com.supercell.clashroyale', 'com.whatsapp', 'com.android.vending', 'com.miui.global.packageinstaller', 'com.ubs.swidK2Y.android', 'com.google.android.packageinstaller', 'com.ubs.swidK2Y.android', 'com.android.vending', 'com.ubs.swidK2Y.android', 'com.whatsapp', 'com.supercell.clashroyale', 'com.whatsapp', 'com.supercell.clashroyale', 'com.whatsapp', 'com.whatsapp', 'com.supercell.clashroyale', 'com.supercell.clashroyale', 'com.ubs.swidK2Y.android', 'com.whatsapp', 'com.ubs.swidK2Y.android', 'com.google.android.gm', 'com.whatsapp', 'com.supercell.clashroyale', 'com.whatsapp', 'com.whatsapp', 'com.supercell.clashroyale', 'org.telegram.messenger', 'com.google.android.gm', 'com.google.android.gm', 'com.whatsapp', 'com.supercell.clashroyale', 'com.google.android.youtube', 'com.whatsapp', 'com.google.android.gm', 'com.whatsapp', 'com.whatsapp', 'com.whatsapp', 'com.whatsapp', 'com.whatsapp', 'com.whatsapp', 'com.whatsapp', 'com.whatsapp', 'com.whatsapp', 'com.whatsapp', 'com.android.chrome', 'com.whatsapp', 'com.google.android.youtube', 'com.supercell.clashroyale', 'com.android.deskclock', 'com.android.deskclock', 'com.android.deskclock', 'com.android.chrome', 'com.supercell.clashroyale', 'com.android.chrome', 'com.google.android.gm', 'com.whatsapp', 'com.supercell.clashroyale', 'com.supercell.clashroyale', 'com.whatsapp', 'com.supercell.clashroyale', 'com.whatsapp', 'com.supercell.clashroyale', 'com.google.android.youtube', 'com.google.android.apps.maps', 'com.google.android.gm', 'com.android.settings', 'com.google.android.apps.maps', 'com.android.settings', 'com.supercell.clashroyale', 'com.android.settings', 'com.whatsapp', 'com.supercell.clashroyale', 'com.google.android.apps.maps', 'com.supercell.clashroyale', 'com.whatsapp', 'com.whatsapp', 'com.whatsapp', 'com.supercell.clashroyale', 'com.supercell.clashroyale', 'com.whatsapp', 'com.whatsapp', 'com.supercell.clashroyale', 'com.whatsapp', 'com.whatsapp', 'com.supercell.clashroyale', 'com.whatsapp', 'com.supercell.clashroyale', 'com.whatsapp', 'com.supercell.clashroyale', 'com.google.android.gm', 'com.android.chrome', 'com.whatsapp', 'com.google.android.youtube', 'com.whatsapp', 'com.whatsapp', 'com.supercell.clashroyale', 'com.whatsapp', 'com.supercell.clashroyale', 'com.whatsapp', 'com.google.android.gm', 'com.whatsapp', 'com.supercell.clashroyale', 'com.android.mms', 'com.supercell.clashroyale', 'com.whatsapp', 'com.whatsapp', 'com.supercell.clashroyale', 'com.supercell.clashroyale', 'com.whatsapp', 'com.supercell.clashroyale', 'com.whatsapp', 'com.whatsapp', 'com.supercell.clashroyale', 'com.whatsapp', 'com.supercell.clashroyale', 'com.whatsapp', 'com.whatsapp', 'com.supercell.clashroyale', 'com.whatsapp', 'com.whatsapp', 'com.whatsapp', 'com.supercell.clashroyale', 'com.google.android.gm', 'com.android.chrome', 'com.whatsapp', 'com.supercell.clashroyale', 'com.google.android.googlequicksearchbox', 'com.google.android.youtube', 'com.supercell.clashroyale', 'com.whatsapp', 'com.supercell.clashroyale', 'com.supercell.clashroyale', 'com.android.chrome', 'com.android.mms', 'com.whatsapp', 'com.supercell.clashroyale', 'com.whatsapp', 'com.supercell.clashroyale', 'com.whatsapp', 'com.whatsapp', 'com.whatsapp', 'com.whatsapp', 'com.android.settings', 'com.whatsapp', 'com.supercell.clashroyale', 'com.supercell.clashroyale', 'com.google.android.googlequicksearchbox', 'com.whatsapp', 'com.android.chrome', 'com.whatsapp', 'com.whatsapp', 'com.whatsapp', 'com.supercell.clashroyale', 'com.whatsapp', 'com.supercell.clashroyale', 'com.google.android.apps.maps', 'com.android.chrome', 'com.google.android.apps.maps', 'com.google.android.gm', 'com.android.browser', 'com.android.chrome', 'com.supercell.clashroyale', 'com.whatsapp', 'com.supercell.clashroyale', 'com.whatsapp', 'com.android.deskclock', 'com.google.android.apps.maps', 'com.whatsapp', 'com.whatsapp', 'com.whatsapp', 'com.supercell.clashroyale', 'com.whatsapp', 'com.supercell.clashroyale', 'com.google.android.apps.maps', 'com.whatsapp', 'com.supercell.clashroyale', 'com.whatsapp', 'com.whatsapp', 'com.supercell.clashroyale', 'com.whatsapp', 'com.google.android.apps.maps', 'com.android.chrome', 'com.whatsapp', 'com.android.chrome', 'com.whatsapp', 'com.supercell.clashroyale', 'com.whatsapp', 'com.supercell.clashroyale', 'com.google.android.gm', 'com.whatsapp', 'com.supercell.clashroyale', 'com.whatsapp', 'com.whatsapp', 'com.whatsapp', 'com.supercell.clashroyale', 'com.google.android.gm', 'com.google.android.youtube', 'com.android.chrome', 'com.google.android.youtube', 'com.android.settings', 'com.android.chrome', 'com.android.incallui', 'com.android.incallui', 'com.whatsapp', 'com.supercell.clashroyale', 'com.google.android.gm', 'com.google.android.youtube', 'com.whatsapp', 'com.supercell.clashroyale', 'com.google.android.gm', 'com.supercell.clashroyale', 'com.whatsapp', 'com.supercell.clashroyale', 'com.whatsapp', 'com.supercell.clashroyale', 'com.whatsapp', 'com.google.android.youtube', 'com.android.browser', 'com.google.android.youtube', 'com.whatsapp', 'com.supercell.clashroyale', 'com.whatsapp', 'com.whatsapp', 'com.supercell.clashroyale', 'com.whatsapp', 'com.supercell.clashroyale', 'com.whatsapp', 'com.whatsapp', 'com.whatsapp', 'com.whatsapp', 'com.supercell.clashroyale', 'com.whatsapp', 'com.supercell.clashroyale', 'android', 'com.whatsapp', 'com.supercell.clashroyale', 'android', 'com.whatsapp', 'com.supercell.clashroyale', 'com.whatsapp', 'com.whatsapp', 'com.supercell.clashroyale', 'com.supercell.clashroyale', 'com.supercell.clashroyale', 'com.android.systemui', 'com.whatsapp', 'com.supercell.clashroyale', 'com.whatsapp', 'com.whatsapp', 'com.supercell.clashroyale', 'com.whatsapp', 'com.whatsapp', 'com.whatsapp', 'com.whatsapp', 'com.supercell.clashroyale', 'com.supercell.clashroyale', 'com.supercell.clashroyale', 'com.whatsapp', 'com.supercell.clashroyale', 'com.whatsapp', 'com.supercell.clashroyale', 'com.whatsapp', 'com.whatsapp', 'com.whatsapp', 'com.whatsapp', 'com.supercell.clashroyale', 'com.whatsapp', 'com.google.android.youtube', 'com.whatsapp', 'com.whatsapp', 'com.supercell.clashroyale', 'com.whatsapp', 'com.supercell.clashroyale', 'com.supercell.clashroyale', 'com.supercell.clashroyale', 'com.supercell.clashroyale', 'com.supercell.clashroyale', 'com.whatsapp', 'com.supercell.clashroyale', 'com.whatsapp', 'com.whatsapp', 'com.google.android.youtube', 'com.android.deskclock', 'com.android.deskclock', 'com.android.deskclock', 'com.android.deskclock', 'com.android.deskclock', 'com.whatsapp', 'com.supercell.clashroyale', 'com.whatsapp', 'com.supercell.clashroyale', 'com.supercell.clashroyale', 'com.whatsapp', 'com.supercell.clashroyale', 'com.supercell.clashroyale', 'com.whatsapp', 'com.supercell.clashroyale', 'com.android.chrome', 'com.supercell.clashroyale', 'com.whatsapp', 'com.whatsapp', 'com.supercell.clashroyale', 'com.supercell.clashroyale', 'com.supercell.clashroyale', 'com.whatsapp', 'com.supercell.clashroyale', 'com.whatsapp', 'com.supercell.clashroyale', 'com.whatsapp', 'com.whatsapp', 'com.supercell.clashroyale', 'com.whatsapp', 'com.supercell.clashroyale', 'com.whatsapp', 'com.whatsapp', 'com.google.android.gm', 'com.whatsapp', 'com.supercell.clashroyale', 'com.whatsapp', 'com.supercell.clashroyale', 'com.whatsapp', 'com.android.contacts', 'com.whatsapp', 'com.android.contacts', 'com.whatsapp', 'com.whatsapp', 'com.supercell.clashroyale', 'com.google.android.gm', 'com.android.settings', 'com.android.settings', 'com.android.settings', 'com.android.htmlviewer', 'com.android.settings', 'com.android.htmlviewer', 'com.android.settings', 'com.whatsapp', 'com.android.settings', 'com.android.chrome', 'com.android.settings', 'com.android.settings', 'com.android.settings', 'com.android.settings', 'com.whatsapp', 'com.supercell.clashroyale', 'com.whatsapp', 'com.whatsapp', 'com.whatsapp', 'com.whatsapp', 'com.supercell.clashroyale', 'com.whatsapp', 'com.whatsapp', 'com.supercell.clashroyale', 'com.whatsapp', 'com.supercell.clashroyale', 'com.whatsapp', 'com.supercell.clashroyale', 'com.whatsapp', 'com.miui.gallery', 'com.google.android.gm', 'com.whatsapp', 'com.whatsapp', 'com.supercell.clashroyale', 'com.whatsapp', 'com.supercell.clashroyale', 'com.whatsapp', 'com.whatsapp', 'com.whatsapp', 'com.supercell.clashroyale', 'com.whatsapp', 'com.whatsapp', 'com.whatsapp', 'com.whatsapp', 'com.whatsapp', 'com.google.android.youtube', 'com.supercell.clashroyale', 'com.whatsapp', 'com.whatsapp', 'com.whatsapp', 'com.supercell.clashroyale', 'com.whatsapp', 'com.supercell.clashroyale', 'com.whatsapp', 'com.google.android.gm', 'com.whatsapp', 'com.supercell.clashroyale', 'com.whatsapp', 'com.whatsapp', 'com.supercell.clashroyale', 'com.whatsapp', 'com.whatsapp', 'com.supercell.clashroyale', 'com.whatsapp', 'com.whatsapp', 'com.supercell.clashroyale', 'com.supercell.clashroyale', 'com.whatsapp', 'com.whatsapp', 'com.supercell.clashroyale', 'com.whatsapp', 'com.supercell.clashroyale', 'com.whatsapp', 'com.android.chrome', 'com.whatsapp', 'com.supercell.clashroyale', 'com.android.chrome', 'com.whatsapp', 'com.supercell.clashroyale', 'com.google.android.youtube', 'com.whatsapp', 'com.supercell.clashroyale', 'com.android.settings', 'com.whatsapp', 'com.supercell.clashroyale', 'com.whatsapp', 'com.whatsapp', 'com.supercell.clashroyale', 'com.whatsapp', 'com.google.android.youtube', 'com.whatsapp', 'com.whatsapp', 'com.supercell.clashroyale', 'com.android.chrome', 'com.whatsapp', 'com.supercell.clashroyale', 'com.whatsapp', 'com.supercell.clashroyale', 'com.whatsapp', 'com.whatsapp', 'com.supercell.clashroyale', 'com.whatsapp', 'com.whatsapp', 'com.android.chrome']\n",
      "----------------------------------------------------------------\n",
      "LABEL DATA:\n",
      "470\n",
      "['com.android.vending', 'com.android.vending', 'com.whatsapp', 'com.supercell.clashroyale', 'com.whatsapp', 'com.supercell.clashroyale', 'com.whatsapp', 'com.whatsapp', 'com.supercell.clashroyale', 'com.whatsapp', 'com.whatsapp', 'com.supercell.clashroyale', 'com.supercell.clashroyale', 'com.whatsapp', 'com.supercell.clashroyale', 'com.whatsapp', 'com.whatsapp', 'com.supercell.clashroyale', 'com.supercell.clashroyale', 'com.whatsapp', 'com.supercell.clashroyale', 'com.whatsapp', 'com.android.chrome', 'com.whatsapp', 'com.supercell.clashroyale', 'com.supercell.clashroyale', 'com.whatsapp', 'com.supercell.clashroyale', 'com.whatsapp', 'com.whatsapp', 'com.supercell.clashroyale', 'com.whatsapp', 'com.android.chrome', 'com.whatsapp', 'com.supercell.clashroyale', 'com.whatsapp', 'com.supercell.clashroyale', 'com.supercell.clashroyale', 'com.whatsapp', 'com.android.vending', 'com.miui.global.packageinstaller', 'com.ubs.swidK2Y.android', 'com.google.android.packageinstaller', 'com.ubs.swidK2Y.android', 'com.android.vending', 'com.ubs.swidK2Y.android', 'com.whatsapp', 'com.supercell.clashroyale', 'com.whatsapp', 'com.supercell.clashroyale', 'com.whatsapp', 'com.supercell.clashroyale', 'com.supercell.clashroyale', 'com.ubs.swidK2Y.android', 'com.ubs.swidK2Y.android', 'com.whatsapp', 'com.ubs.swidK2Y.android', 'com.google.android.gm', 'com.whatsapp', 'com.supercell.clashroyale', 'com.whatsapp', 'com.supercell.clashroyale', 'com.supercell.clashroyale', 'org.telegram.messenger', 'com.google.android.gm', 'com.whatsapp', 'com.whatsapp', 'com.supercell.clashroyale', 'com.google.android.youtube', 'com.whatsapp', 'com.google.android.gm', 'com.whatsapp', 'com.android.chrome', 'com.android.chrome', 'com.android.chrome', 'com.android.chrome', 'com.android.chrome', 'com.android.chrome', 'com.android.chrome', 'com.android.chrome', 'com.android.chrome', 'com.android.chrome', 'com.whatsapp', 'com.google.android.youtube', 'com.supercell.clashroyale', 'com.whatsapp', 'com.android.chrome', 'com.android.chrome', 'com.android.chrome', 'com.supercell.clashroyale', 'com.android.chrome', 'com.google.android.gm', 'com.whatsapp', 'com.supercell.clashroyale', 'com.whatsapp', 'com.whatsapp', 'com.supercell.clashroyale', 'com.whatsapp', 'com.supercell.clashroyale', 'com.google.android.youtube', 'com.google.android.apps.maps', 'com.google.android.gm', 'com.android.settings', 'com.google.android.apps.maps', 'com.android.settings', 'com.supercell.clashroyale', 'com.android.settings', 'com.whatsapp', 'com.supercell.clashroyale', 'com.google.android.apps.maps', 'com.supercell.clashroyale', 'com.whatsapp', 'com.supercell.clashroyale', 'com.supercell.clashroyale', 'com.supercell.clashroyale', 'com.whatsapp', 'com.whatsapp', 'com.supercell.clashroyale', 'com.supercell.clashroyale', 'com.whatsapp', 'com.supercell.clashroyale', 'com.supercell.clashroyale', 'com.whatsapp', 'com.supercell.clashroyale', 'com.whatsapp', 'com.supercell.clashroyale', 'com.google.android.gm', 'com.android.chrome', 'com.whatsapp', 'com.google.android.youtube', 'com.whatsapp', 'com.supercell.clashroyale', 'com.supercell.clashroyale', 'com.whatsapp', 'com.supercell.clashroyale', 'com.whatsapp', 'com.google.android.gm', 'com.whatsapp', 'com.supercell.clashroyale', 'com.android.mms', 'com.supercell.clashroyale', 'com.whatsapp', 'com.supercell.clashroyale', 'com.supercell.clashroyale', 'com.whatsapp', 'com.whatsapp', 'com.supercell.clashroyale', 'com.whatsapp', 'com.supercell.clashroyale', 'com.supercell.clashroyale', 'com.whatsapp', 'com.supercell.clashroyale', 'com.whatsapp', 'com.supercell.clashroyale', 'com.supercell.clashroyale', 'com.whatsapp', 'com.supercell.clashroyale', 'com.supercell.clashroyale', 'com.supercell.clashroyale', 'com.google.android.gm', 'com.android.chrome', 'com.whatsapp', 'com.supercell.clashroyale', 'com.google.android.googlequicksearchbox', 'com.google.android.youtube', 'com.supercell.clashroyale', 'com.whatsapp', 'com.supercell.clashroyale', 'com.android.chrome', 'com.android.chrome', 'com.android.mms', 'com.whatsapp', 'com.supercell.clashroyale', 'com.whatsapp', 'com.supercell.clashroyale', 'com.whatsapp', 'com.android.settings', 'com.android.settings', 'com.android.settings', 'com.android.settings', 'com.whatsapp', 'com.supercell.clashroyale', 'com.google.android.googlequicksearchbox', 'com.google.android.googlequicksearchbox', 'com.supercell.clashroyale', 'com.android.chrome', 'com.whatsapp', 'com.supercell.clashroyale', 'com.supercell.clashroyale', 'com.supercell.clashroyale', 'com.whatsapp', 'com.supercell.clashroyale', 'com.google.android.apps.maps', 'com.android.chrome', 'com.google.android.apps.maps', 'com.google.android.gm', 'com.android.browser', 'com.android.chrome', 'com.supercell.clashroyale', 'com.whatsapp', 'com.supercell.clashroyale', 'com.whatsapp', 'com.android.deskclock', 'com.google.android.apps.maps', 'com.whatsapp', 'com.supercell.clashroyale', 'com.supercell.clashroyale', 'com.supercell.clashroyale', 'com.whatsapp', 'com.supercell.clashroyale', 'com.google.android.apps.maps', 'com.whatsapp', 'com.supercell.clashroyale', 'com.whatsapp', 'com.supercell.clashroyale', 'com.supercell.clashroyale', 'com.whatsapp', 'com.google.android.apps.maps', 'com.android.chrome', 'com.whatsapp', 'com.android.chrome', 'com.whatsapp', 'com.supercell.clashroyale', 'com.whatsapp', 'com.supercell.clashroyale', 'com.google.android.gm', 'com.whatsapp', 'com.supercell.clashroyale', 'com.whatsapp', 'com.supercell.clashroyale', 'com.supercell.clashroyale', 'com.supercell.clashroyale', 'com.google.android.gm', 'com.google.android.youtube', 'com.android.chrome', 'com.google.android.youtube', 'com.android.settings', 'com.android.systemui', 'com.android.incallui', 'com.whatsapp', 'com.whatsapp', 'com.supercell.clashroyale', 'com.google.android.gm', 'com.google.android.youtube', 'com.android.chrome', 'com.supercell.clashroyale', 'com.google.android.gm', 'com.supercell.clashroyale', 'com.whatsapp', 'com.supercell.clashroyale', 'com.whatsapp', 'com.supercell.clashroyale', 'com.whatsapp', 'com.google.android.youtube', 'com.android.browser', 'com.google.android.youtube', 'com.android.systemui', 'com.supercell.clashroyale', 'com.whatsapp', 'com.supercell.clashroyale', 'com.supercell.clashroyale', 'com.whatsapp', 'com.supercell.clashroyale', 'com.whatsapp', 'com.supercell.clashroyale', 'com.supercell.clashroyale', 'com.supercell.clashroyale', 'com.supercell.clashroyale', 'com.whatsapp', 'com.supercell.clashroyale', 'android', 'com.whatsapp', 'com.supercell.clashroyale', 'android', 'com.whatsapp', 'com.supercell.clashroyale', 'com.whatsapp', 'com.supercell.clashroyale', 'com.supercell.clashroyale', 'com.whatsapp', 'com.whatsapp', 'com.android.systemui', 'com.whatsapp', 'com.supercell.clashroyale', 'com.whatsapp', 'com.supercell.clashroyale', 'com.supercell.clashroyale', 'com.whatsapp', 'com.supercell.clashroyale', 'com.supercell.clashroyale', 'com.supercell.clashroyale', 'com.supercell.clashroyale', 'com.whatsapp', 'com.whatsapp', 'com.whatsapp', 'com.supercell.clashroyale', 'com.whatsapp', 'com.supercell.clashroyale', 'com.whatsapp', 'com.supercell.clashroyale', 'com.supercell.clashroyale', 'com.supercell.clashroyale', 'com.supercell.clashroyale', 'com.whatsapp', 'com.google.android.youtube', 'com.whatsapp', 'com.supercell.clashroyale', 'com.supercell.clashroyale', 'com.whatsapp', 'com.supercell.clashroyale', 'com.whatsapp', 'com.whatsapp', 'com.whatsapp', 'com.whatsapp', 'com.whatsapp', 'com.supercell.clashroyale', 'com.whatsapp', 'com.google.android.youtube', 'com.google.android.youtube', 'com.android.deskclock', 'com.android.chrome', 'com.android.chrome', 'com.android.chrome', 'com.android.chrome', 'com.android.chrome', 'com.supercell.clashroyale', 'com.whatsapp', 'com.supercell.clashroyale', 'com.whatsapp', 'com.whatsapp', 'com.supercell.clashroyale', 'com.whatsapp', 'com.whatsapp', 'com.supercell.clashroyale', 'com.android.chrome', 'com.supercell.clashroyale', 'com.whatsapp', 'com.supercell.clashroyale', 'com.supercell.clashroyale', 'com.whatsapp', 'com.whatsapp', 'com.whatsapp', 'com.supercell.clashroyale', 'com.whatsapp', 'com.supercell.clashroyale', 'com.whatsapp', 'com.supercell.clashroyale', 'com.supercell.clashroyale', 'com.whatsapp', 'com.supercell.clashroyale', 'com.whatsapp', 'com.google.android.gm', 'com.google.android.gm', 'com.whatsapp', 'com.supercell.clashroyale', 'com.whatsapp', 'com.supercell.clashroyale', 'com.whatsapp', 'com.android.contacts', 'com.whatsapp', 'com.android.contacts', 'com.whatsapp', 'com.supercell.clashroyale', 'com.supercell.clashroyale', 'com.whatsapp', 'com.android.settings', 'com.android.htmlviewer', 'com.android.htmlviewer', 'com.android.htmlviewer', 'com.android.settings', 'com.android.htmlviewer', 'com.android.settings', 'com.whatsapp', 'com.android.settings', 'com.android.chrome', 'com.android.settings', 'com.whatsapp', 'com.whatsapp', 'com.whatsapp', 'com.whatsapp', 'com.supercell.clashroyale', 'com.whatsapp', 'com.supercell.clashroyale', 'com.supercell.clashroyale', 'com.supercell.clashroyale', 'com.supercell.clashroyale', 'com.whatsapp', 'com.supercell.clashroyale', 'com.supercell.clashroyale', 'com.whatsapp', 'com.supercell.clashroyale', 'com.whatsapp', 'com.supercell.clashroyale', 'com.whatsapp', 'com.miui.gallery', 'com.google.android.gm', 'com.whatsapp', 'com.supercell.clashroyale', 'com.supercell.clashroyale', 'com.whatsapp', 'com.supercell.clashroyale', 'com.whatsapp', 'com.supercell.clashroyale', 'com.supercell.clashroyale', 'com.supercell.clashroyale', 'com.whatsapp', 'com.supercell.clashroyale', 'com.supercell.clashroyale', 'com.supercell.clashroyale', 'com.google.android.youtube', 'com.google.android.youtube', 'com.supercell.clashroyale', 'com.whatsapp', 'com.supercell.clashroyale', 'com.supercell.clashroyale', 'com.supercell.clashroyale', 'com.whatsapp', 'com.supercell.clashroyale', 'com.whatsapp', 'com.google.android.gm', 'com.whatsapp', 'com.supercell.clashroyale', 'com.whatsapp', 'com.supercell.clashroyale', 'com.supercell.clashroyale', 'com.whatsapp', 'com.supercell.clashroyale', 'com.supercell.clashroyale', 'com.whatsapp', 'com.supercell.clashroyale', 'com.supercell.clashroyale', 'com.whatsapp', 'com.whatsapp', 'com.supercell.clashroyale', 'com.supercell.clashroyale', 'com.whatsapp', 'com.supercell.clashroyale', 'com.whatsapp', 'com.android.chrome', 'com.whatsapp', 'com.supercell.clashroyale', 'com.android.chrome', 'com.whatsapp', 'com.supercell.clashroyale', 'com.google.android.youtube', 'com.whatsapp', 'com.supercell.clashroyale', 'com.android.settings', 'com.whatsapp', 'com.supercell.clashroyale', 'com.whatsapp', 'com.supercell.clashroyale', 'com.supercell.clashroyale', 'com.whatsapp', 'com.google.android.youtube', 'com.whatsapp', 'com.supercell.clashroyale', 'com.supercell.clashroyale', 'com.android.chrome', 'com.whatsapp', 'com.supercell.clashroyale', 'com.whatsapp', 'com.supercell.clashroyale', 'com.whatsapp', 'com.supercell.clashroyale', 'com.supercell.clashroyale', 'com.whatsapp', 'com.android.chrome', 'com.android.chrome', 'com.whatsapp']\n",
      "[1436994121783927, 1437015455660846, 1437177727439430, 1437204149420045, 1437424108891263, 1437630634432538, 1437835984136002, 1438237423531465, 1444139584688335, 1444152040132914, 1444400585881462, 1444441889107228, 1456303703058746, 1456330909022642, 1456370155621012, 1457376886607438, 1457894103173277, 1457948392923620, 1458283503162918, 1458562350173072, 1503180905685762, 1503859020722587, 1503863250808887, 1503877962474246, 1503892878926220, 1503938436093494, 1504148221436487, 1505001647558640, 1505033214634565, 1505041546014145, 1511323684511355, 1511439460451780, 1516198439643079, 1516318274822617, 1516330273001310, 1516355198950311, 1516382131645249, 1516977883943236, 1517398596978492, 1517556026005515, 1517787251117971, 1517793558439531, 1517794624217135, 1517797309465936, 1517970741977172, 1517974414971858, 1518029975962358, 1576158782375471, 1576231852627735, 1576265772669492, 1576271105709230, 1576381180458407, 1578433278465886, 1578859996425411, 1582327998726487, 1582629844491048, 1582703115593308, 1582722334689239, 1583530386832126, 1583538125795248, 1583548085066182, 1584721904238340, 1584731800858909, 1584753281151922, 1584759079221503, 1584771086405509, 1585808007235747, 1585811695896943, 1586133938322185, 1587325521166386, 1587469300061279, 1587481314061431, 1587566278999055, 1587597980107062, 1587681353729322, 1587725444800503, 1587880606901065, 1587904210202097, 1587981113284878, 1587986778292844, 1588447461428845, 1588898728299796, 1589509974652873, 1592301310953353, 1592309617491787, 1592543668771854, 1658977555519881, 1659286950966478, 1661857816066476, 1661881314419540, 1662124563774291, 1666065750416408, 1666084414890203, 1666088043503483, 1666313473589855, 1666905092409209, 1671638957066359, 1671641591391723, 1671659086859008, 1671685673409050, 1671871318502718, 1672125944976423, 1674826179162269, 1674885304013287, 1674939533145506, 1675561438952449, 1681286491384967, 1681290851271945, 1681427655152622, 1681435723045483, 1687966997675743, 1689716407824064, 1689791373472421, 1689832241476572, 1690188507940123, 1690397244868741, 1690564761463465, 1753953710694250, 1754296546522765, 1754575035918596, 1754603046224314, 1755174039740950, 1755536616203364, 1756698196515212, 1756730345269418, 1756885136286443, 1756909195375496, 1756921269579033, 1756938460660433, 1756945780528190, 1757214938393817, 1759805215340731, 1759817745682341, 1759849887626964, 1838140149678033, 1838211065730089, 1838228469438312, 1838236228537424, 1840332281502002, 1842541430136778, 1844639910166627, 1856425375636716, 1856431845885776, 1862645606893959, 1862666983578221, 1863116819388831, 1863899846260643, 1863926203495112, 1865859934641286, 1865938467356881, 1866157291791121, 1866171905450803, 1866235286248487, 1866993922093132, 1866997106128860, 1867199476856022, 1867212019463101, 1867753422896066, 1868717569166314, 1868753892758540, 1922469121099732, 1922539745900899, 1923671578638255, 1923696615202256, 1923719787798133, 1923834405872724, 1925051515478176, 1927895825030420, 1928142719412462, 1929013230722113, 1929198690015681, 1936390708414101, 1936536307297275, 1936576579490853, 1936702594333045, 1936896161603075, 1936899940320782, 1936926347158897, 1936928452188584, 1936942861103943, 1936948119116909, 1941137792135741, 1941159328090629, 1941265277678297, 1941267494069077, 2010513425607607, 2011203377326221, 2011208559874448, 2011219502823350, 2011229443896211, 2011249622861984, 2014632718067496, 2014664918132119, 2014676003594875, 2014709496155904, 2014802148262431, 2014823987525652, 2014882837577296, 2014925069252957, 2015209158381961, 2015337755449456, 2015975866536400, 2015999112506183, 2016001790900192, 2016086295087035, 2016121964822334, 2016126610681395, 2016160144074299, 2016202004445324, 2016225594443909, 2016256206208116, 2016268465763893, 2016977624007129, 2017014347410865, 2017044434154864, 2017538778632153, 2017556955624750, 2017661700561216, 2017882550819040, 2017970267631606, 2018584870226077, 2020803983042349, 2020825911495778, 2020844580266188, 2023361254938937, 2023424703634486, 2023436185631356, 2023491983451283, 2023850223612188, 2023853931220624, 2024165590948837, 2024974515640393, 2025194864396298, 2027697104253124, 2027713165381660, 2027795132041941, 2028333899367235, 2028341122245201, 2029621942886558, 2030496302531991, 2034880490298637, 2034906562095190, 2035422934938066, 2035427739830981, 2036677337102952, 2095348807365449, 2095554598614381, 2096995593116612, 2101409102846734, 2101524274824086, 2101731665698486, 2101747461318897, 2104865579228140, 2104872883658814, 2105283400464111, 2105289708457859, 2105297306452022, 2110209485709962, 2110410007379209, 2110851636066527, 2110881810989848, 2111142249881051, 2111161669262190, 2111253369483977, 2111383883435636, 2111477623114765, 2111593679119718, 2111837316860401, 2111867281381952, 2111881430904863, 2111944546278740, 2111946616771239, 2111968831177689, 2111971043672168, 2111972669522844, 2112030432588968, 2112051217198283, 2112055398690573, 2112160204476621, 2112175776647083, 2112181503879998, 2184845845251587, 2186044390795042, 2186050040144258, 2186122376975897, 2186184736611290, 2186251052465380, 2186713881985359, 2186721229682909, 2187469266683635, 2187955817167341, 2189172574582006, 2189406453786969, 2190407890221470, 2192605821512629, 2193844587438127, 2193863860353484, 2193878467650093, 2194077465005903, 2194089957502148, 2194095181315792, 2195138845195692, 2265954583445836, 2266036151512941, 2266053285465642, 2266373019351198, 2267992995153111, 2267995067737120, 2268262181776706, 2269090006214860, 2270663048478260, 2272884639830724, 2273655894809061, 2274799657121479, 2276422423916202, 2286390740973516, 2286442482476308, 2286452586776409, 2286576248970264, 2287846867035091, 2287896859557622, 2288019184979656, 2288119138712426, 2288207433410359, 2288255003832997, 2354663617498053, 2354694966447625, 2355111833225313, 2355169267011749, 2356996035597487, 2357091381133649, 2357180686403979, 2359107511124059, 2359110208940933, 2360536827087507, 2360984165845019, 2364031902900817, 2364073436738978, 2364464476330849, 2365186845270052, 2366150670940441, 2366888645952696, 2441656168004482, 2441745002632000, 2442417595840621, 2442880626662580, 2442893875920179, 2444061829542978, 2444482275375266, 2447684376744548, 2447967979136472, 2447971874090220, 2448262514193432, 2448436321006699, 2455419351120221, 2455446962770575, 2455496371312119, 2455523684404504, 2455706493174956, 2455713825285786, 2455995550387502, 2456007552113851, 2456012248896401, 2456175709342797, 2456220765042155, 2528322989201493, 2538263228011281, 2538355600595618, 2538711365449122, 2538722312437868, 2538773648816077, 2538774670173473, 2538780966120762, 2538810569102626, 2538924792633155, 2538933621144454, 2539146993968435, 2539627209016162, 2539806782788906, 2539925467455476, 2539944280730885, 2540019883825283, 2540344326198150, 2540410316132395, 2540894569414127, 2543013089350995, 2543738867393062, 2543744249246706, 2545562412117110, 2546223562684931, 2616028029735869, 2616479610280385, 2616546870076817, 2622320457689767, 2622341871778665, 2622371940024435, 2622386455549898, 2622417682782334, 2622954016636600, 2624673630352142, 2624715353470876, 2624728918977850, 2624733774132223, 2624987153554305, 2626445445391662, 2626600524511915, 2626664957980015, 2627485414617239, 2627512056849519, 2704906681629759, 2707522242322776, 2708341642508661, 2709561707900830, 2709575589584158, 2709683306189634, 2709731737729772, 2709744344284819, 2709812396776876, 2709835306698274, 2709873288272634, 2716487751946055, 2716499743812977, 2716514795200211, 2716625611298033, 2716995956546004, 2717223384972740, 2719534732206364, 2719775625243976, 2719803128393080, 2720361757678430, 2789910287660304, 2789945800190290, 2792892884176523, 2792924900684740, 2794460869117480, 2794472757466537, 2794483338525075, 2794495778175904, 2794509864294336, 2794535839799743, 2794571672576396, 2794589294395191, 2794700118692168, 2795521268694323, 2795536764549474, 2796393488611907, 2796404969822267, 2796418573358981, 2798976902996023, 2799000450102056, 2799020647048871, 2799032684478398, 2799476336065994, 2799517772172072, 2799553425669506, 2799609221823651, 2799625266098697, 2800552955641786, 2800939895274451, 2801417175155285, 2802722325004323, 2802736907800047, 2802743776446971, 2802981406348027, 2802984106464953, 2816137526319489, 2816170203762184, 2816525853716465, 2816861249774873, 2817020488181426]\n"
     ]
    }
   ],
   "source": [
    "account_path = r\"E:\\37be2146-0a9a-4876-aef9-89a771363418\\37be2146-0a9a-4876-aef9-89a771363418\"\n",
    "input_raw = []\n",
    "label_raw = []\n",
    "temp_switchingTime = []\n",
    "temp_switchingTimeDate = []\n",
    "duration = []\n",
    "\n",
    "for recording in os.listdir(account_path):\n",
    "    recording_path = os.path.join (account_path, str(recording))\n",
    "    \n",
    "    assert(os.path.exists(recording_path))\n",
    "\n",
    "    list_session = []\n",
    "    for file in os.listdir(recording_path):\n",
    "        if str(file)[:7] == \"Session\":\n",
    "            list_session.append(str(file))\n",
    "\n",
    "    #if list_session==[]:\n",
    "    #    continue    \n",
    "    \n",
    "    with open (os.path.join(recording_path, \"application_data.txt\")) as application_file:\n",
    "        application_data = json.load(application_file)[\"application_data\"]\n",
    "        application_index = 0\n",
    "        while application_index < len(application_data):\n",
    "            if (application_data[application_index][\"name\"] != \"com.miui.home\" \n",
    "            and application_data[application_index][\"name\"] != \"ch.ethz.inf.vs.staals.visualattentionrecorder\"):\n",
    "                num = 1\n",
    "                while application_index+num < len(application_data):\n",
    "                    if (application_data[application_index+num][\"name\"] != \"com.miui.home\" \n",
    "                    and application_data[application_index+num][\"name\"] != \"ch.ethz.inf.vs.staals.visualattentionrecorder\"\n",
    "                    and application_data[application_index+num][\"name\"] != application_data[application_index][\"name\"]):\n",
    "                        input_raw.append (application_data[application_index][\"name\"])\n",
    "                        label_raw.append (application_data[application_index+num][\"name\"])\n",
    "                        temp_switchingTime.append (application_data[application_index+1][\"time\"])\n",
    "                        temp_switchingTimeDate.append (application_data[application_index+1][\"timeDate\"])\n",
    "                        duration.append (application_data[application_index+num][\"time\"] - application_data[application_index][\"time\"])\n",
    "                        break\n",
    "                    else:\n",
    "                        num += 1\n",
    "            \n",
    "            application_index += 1\n",
    "\n",
    "print(\"INPUT DATA:\")\n",
    "print(len(input_raw))\n",
    "print(input_raw)\n",
    "print(\"----------------------------------------------------------------\")\n",
    "print(\"LABEL DATA:\")\n",
    "print(len(label_raw))\n",
    "print(label_raw)\n",
    "print(temp_switchingTime)\n",
    "feature_switchingTime = temp_switchingTime"
   ]
  },
  {
   "cell_type": "code",
   "execution_count": 4,
   "id": "17dc993b",
   "metadata": {
    "scrolled": true
   },
   "outputs": [
    {
     "name": "stdout",
     "output_type": "stream",
     "text": [
      "[0, 0, 1, 2, 3, 2, 3, 3, 2, 3, 3, 2, 2, 3, 2, 3, 3, 2, 2, 3, 2, 3, 2, 4, 2, 2, 3, 2, 3, 3, 2, 3, 2, 4, 2, 3, 2, 2, 3, 2, 1, 5, 6, 7, 6, 1, 6, 2, 3, 2, 3, 2, 2, 3, 3, 6, 2, 6, 8, 2, 3, 2, 2, 3, 9, 8, 8, 2, 3, 10, 2, 8, 2, 2, 2, 2, 2, 2, 2, 2, 2, 2, 4, 2, 10, 3, 11, 11, 11, 4, 3, 4, 8, 2, 3, 3, 2, 3, 2, 3, 10, 12, 8, 0, 12, 0, 3, 0, 2, 3, 12, 3, 2, 2, 2, 3, 3, 2, 2, 3, 2, 2, 3, 2, 3, 2, 3, 8, 4, 2, 10, 2, 2, 3, 2, 3, 2, 8, 2, 3, 13, 3, 2, 2, 3, 3, 2, 3, 2, 2, 3, 2, 3, 2, 2, 3, 2, 2, 2, 3, 8, 4, 2, 3, 14, 10, 3, 2, 3, 3, 4, 13, 2, 3, 2, 3, 2, 2, 2, 2, 0, 2, 3, 3, 14, 2, 4, 2, 2, 2, 3, 2, 3, 12, 4, 12, 8, 15, 4, 3, 2, 3, 2, 11, 12, 2, 2, 2, 3, 2, 3, 12, 2, 3, 2, 2, 3, 2, 12, 4, 2, 4, 2, 3, 2, 3, 8, 2, 3, 2, 2, 2, 3, 8, 10, 4, 10, 0, 4, 16, 16, 2, 3, 8, 10, 2, 3, 8, 3, 2, 3, 2, 3, 2, 10, 15, 10, 2, 3, 2, 2, 3, 2, 3, 2, 2, 2, 2, 3, 2, 3, 17, 2, 3, 17, 2, 3, 2, 2, 3, 3, 3, 18, 2, 3, 2, 2, 3, 2, 2, 2, 2, 3, 3, 3, 2, 3, 2, 3, 2, 2, 2, 2, 3, 2, 10, 2, 2, 3, 2, 3, 3, 3, 3, 3, 2, 3, 2, 2, 10, 11, 11, 11, 11, 11, 2, 3, 2, 3, 3, 2, 3, 3, 2, 3, 4, 3, 2, 2, 3, 3, 3, 2, 3, 2, 3, 2, 2, 3, 2, 3, 2, 2, 8, 2, 3, 2, 3, 2, 19, 2, 19, 2, 2, 3, 8, 0, 0, 0, 20, 0, 20, 0, 2, 0, 4, 0, 0, 0, 0, 2, 3, 2, 2, 2, 2, 3, 2, 2, 3, 2, 3, 2, 3, 2, 21, 8, 2, 2, 3, 2, 3, 2, 2, 2, 3, 2, 2, 2, 2, 2, 10, 3, 2, 2, 2, 3, 2, 3, 2, 8, 2, 3, 2, 2, 3, 2, 2, 3, 2, 2, 3, 3, 2, 2, 3, 2, 3, 2, 4, 2, 3, 4, 2, 3, 10, 2, 3, 0, 2, 3, 2, 2, 3, 2, 10, 2, 2, 3, 4, 2, 3, 2, 3, 2, 2, 3, 2, 2, 4]\n",
      "[1, 1, 2, 3, 2, 3, 2, 2, 3, 2, 2, 3, 3, 2, 3, 2, 2, 3, 3, 2, 3, 2, 4, 2, 3, 3, 2, 3, 2, 2, 3, 2, 4, 2, 3, 2, 3, 3, 2, 1, 5, 6, 7, 6, 1, 6, 2, 3, 2, 3, 2, 3, 3, 6, 6, 2, 6, 8, 2, 3, 2, 3, 3, 9, 8, 2, 2, 3, 10, 2, 8, 2, 4, 4, 4, 4, 4, 4, 4, 4, 4, 4, 2, 10, 3, 2, 4, 4, 4, 3, 4, 8, 2, 3, 2, 2, 3, 2, 3, 10, 12, 8, 0, 12, 0, 3, 0, 2, 3, 12, 3, 2, 3, 3, 3, 2, 2, 3, 3, 2, 3, 3, 2, 3, 2, 3, 8, 4, 2, 10, 2, 3, 3, 2, 3, 2, 8, 2, 3, 13, 3, 2, 3, 3, 2, 2, 3, 2, 3, 3, 2, 3, 2, 3, 3, 2, 3, 3, 3, 8, 4, 2, 3, 14, 10, 3, 2, 3, 4, 4, 13, 2, 3, 2, 3, 2, 0, 0, 0, 0, 2, 3, 14, 14, 3, 4, 2, 3, 3, 3, 2, 3, 12, 4, 12, 8, 15, 4, 3, 2, 3, 2, 11, 12, 2, 3, 3, 3, 2, 3, 12, 2, 3, 2, 3, 3, 2, 12, 4, 2, 4, 2, 3, 2, 3, 8, 2, 3, 2, 3, 3, 3, 8, 10, 4, 10, 0, 18, 16, 2, 2, 3, 8, 10, 4, 3, 8, 3, 2, 3, 2, 3, 2, 10, 15, 10, 18, 3, 2, 3, 3, 2, 3, 2, 3, 3, 3, 3, 2, 3, 17, 2, 3, 17, 2, 3, 2, 3, 3, 2, 2, 18, 2, 3, 2, 3, 3, 2, 3, 3, 3, 3, 2, 2, 2, 3, 2, 3, 2, 3, 3, 3, 3, 2, 10, 2, 3, 3, 2, 3, 2, 2, 2, 2, 2, 3, 2, 10, 10, 11, 4, 4, 4, 4, 4, 3, 2, 3, 2, 2, 3, 2, 2, 3, 4, 3, 2, 3, 3, 2, 2, 2, 3, 2, 3, 2, 3, 3, 2, 3, 2, 8, 8, 2, 3, 2, 3, 2, 19, 2, 19, 2, 3, 3, 2, 0, 20, 20, 20, 0, 20, 0, 2, 0, 4, 0, 2, 2, 2, 2, 3, 2, 3, 3, 3, 3, 2, 3, 3, 2, 3, 2, 3, 2, 21, 8, 2, 3, 3, 2, 3, 2, 3, 3, 3, 2, 3, 3, 3, 10, 10, 3, 2, 3, 3, 3, 2, 3, 2, 8, 2, 3, 2, 3, 3, 2, 3, 3, 2, 3, 3, 2, 2, 3, 3, 2, 3, 2, 4, 2, 3, 4, 2, 3, 10, 2, 3, 0, 2, 3, 2, 3, 3, 2, 10, 2, 3, 3, 4, 2, 3, 2, 3, 2, 3, 3, 2, 4, 4, 2]\n"
     ]
    }
   ],
   "source": [
    "app = []\n",
    "for i in range(len(input_raw)):\n",
    "    signal = 1\n",
    "    for j in range(len(app)):\n",
    "        if app[j]==input_raw[i]:\n",
    "            signal = 0\n",
    "            break \n",
    "    if signal!=0:\n",
    "        app.append(input_raw[i])\n",
    "for i in range(len(label_raw)):\n",
    "    signal = 1\n",
    "    for j in range(len(app)):\n",
    "        if app[j]==label_raw[i]:\n",
    "            signal = 0\n",
    "            break \n",
    "    if signal!=0:\n",
    "        app.append(label_raw[i])\n",
    "input = []\n",
    "for element in input_raw:\n",
    "    input.append(app.index(element))\n",
    "print(input)\n",
    "label = []\n",
    "for element in label_raw:\n",
    "    label.append(app.index(element))\n",
    "print(label)"
   ]
  },
  {
   "cell_type": "code",
   "execution_count": 5,
   "id": "6f00751e",
   "metadata": {},
   "outputs": [
    {
     "data": {
      "text/plain": [
       "22"
      ]
     },
     "execution_count": 5,
     "metadata": {},
     "output_type": "execute_result"
    }
   ],
   "source": [
    "feature_app = np.array(input)\n",
    "np_label = np.array(label)\n",
    "feature_app = feature_app.reshape(len(input_raw),1)\n",
    "len(app)"
   ]
  },
  {
   "cell_type": "code",
   "execution_count": 6,
   "id": "050d13eb",
   "metadata": {},
   "outputs": [
    {
     "data": {
      "text/plain": [
       "(470, 1)"
      ]
     },
     "execution_count": 6,
     "metadata": {},
     "output_type": "execute_result"
    }
   ],
   "source": [
    "feature_app.shape"
   ]
  },
  {
   "cell_type": "markdown",
   "id": "2cad1889",
   "metadata": {},
   "source": [
    "# from app(1 feature) to app"
   ]
  },
  {
   "cell_type": "code",
   "execution_count": 7,
   "id": "b4b1bc3f",
   "metadata": {},
   "outputs": [
    {
     "data": {
      "text/plain": [
       "(470,)"
      ]
     },
     "execution_count": 7,
     "metadata": {},
     "output_type": "execute_result"
    }
   ],
   "source": [
    "X = scaler.fit_transform(feature_app)\n",
    "y = np_label\n",
    "y.shape"
   ]
  },
  {
   "cell_type": "code",
   "execution_count": 8,
   "id": "9cc3ab47",
   "metadata": {},
   "outputs": [],
   "source": [
    "X_train, X_test, y_train, y_test = train_test_split(X, y, random_state=0)"
   ]
  },
  {
   "cell_type": "markdown",
   "id": "99e1c971",
   "metadata": {},
   "source": [
    "## kNN Model:"
   ]
  },
  {
   "cell_type": "code",
   "execution_count": 9,
   "id": "d6560f4a",
   "metadata": {},
   "outputs": [
    {
     "name": "stdout",
     "output_type": "stream",
     "text": [
      "0.7372881355932204\n"
     ]
    }
   ],
   "source": [
    "kNN = KNeighborsClassifier(n_neighbors=7, weights='distance').fit(X_train,y_train) #probabilistic \n",
    "model_1_kNN = kNN.score(X_test, y_test)\n",
    "print(model_1_kNN)"
   ]
  },
  {
   "cell_type": "markdown",
   "id": "5ef6250d",
   "metadata": {},
   "source": [
    "# Random Forest Model:"
   ]
  },
  {
   "cell_type": "code",
   "execution_count": 10,
   "id": "8be3d195",
   "metadata": {},
   "outputs": [
    {
     "name": "stdout",
     "output_type": "stream",
     "text": [
      "0.7203389830508474\n"
     ]
    }
   ],
   "source": [
    "rf = RandomForestClassifier(n_estimators=30)\n",
    "rf.fit(X_train,y_train)\n",
    "model_1_rf = rf.score(X_test, y_test)\n",
    "print(model_1_rf)"
   ]
  },
  {
   "cell_type": "markdown",
   "id": "40612ecd",
   "metadata": {},
   "source": [
    "# 2. Model plus video features:\n",
    "\n",
    "Video features are extracted from .csv file\n",
    "Still with 3 different time windows"
   ]
  },
  {
   "cell_type": "code",
   "execution_count": 11,
   "id": "c3cde1ca",
   "metadata": {},
   "outputs": [],
   "source": [
    "def extractFeatures(df_temp, switchingTime, sessionStartTime, timeWindow):\n",
    "    df = df_temp.iloc[:,2:]\n",
    "    index_timestamp_list=[]\n",
    "    for index,timestamp in df[\"timestamp\"].items():\n",
    "        if timestamp >= (switchingTime-sessionStartTime)/1_000_000_000 - timeWindow and timestamp <= (switchingTime-sessionStartTime)/1_000_000_000:\n",
    "            index_timestamp_list.append(index)\n",
    "\n",
    "    df_timestamp_window = pd.DataFrame(columns=df.columns.values.tolist())\n",
    "    for i in index_timestamp_list:\n",
    "        df_timestamp_window=df_timestamp_window.append(df.iloc[i],ignore_index=True)\n",
    "\n",
    "    index_confidence_list=[]\n",
    "    for index,confidence in df_timestamp_window[\"confidence\"].items():#use confidence or we could use \"sucess==1\" to check the validity\n",
    "        if confidence > 0.8:\n",
    "            index_confidence_list.append(index)\n",
    "\n",
    "    df_window = pd.DataFrame(columns=df.columns.values.tolist())#contains the valid and high confidence features for all frames during the time window\n",
    "    for i in index_confidence_list:\n",
    "        df_window=df_window.append(df_timestamp_window.iloc[i],ignore_index=True)\n",
    "\n",
    "    #df_window.mean()series form of all averaged value for the features during the time window\n",
    "    video_mean_features = df_window.mean().values[3:11]#final features for one switch (291 video features totally)\n",
    "    video_var_features = df_window.var().values[3:11]\n",
    "    video_std_features = df_window.std().values[3:11]\n",
    "    return video_mean_features, video_var_features, video_std_features"
   ]
  },
  {
   "cell_type": "code",
   "execution_count": 12,
   "id": "dd32eae3",
   "metadata": {
    "scrolled": true
   },
   "outputs": [
    {
     "name": "stdout",
     "output_type": "stream",
     "text": [
      "Recording 000\n",
      "Session 0000\n",
      "Session 0001\n",
      "Session 0002\n",
      "Session 0003\n",
      "Session 0004\n",
      "Session 0005\n",
      "Session 0006\n",
      "Session 0007\n",
      "Session 0008\n",
      "Session 0009\n",
      "Session 0010\n",
      "Session 0012\n",
      "Session 0013\n",
      "Session 0014\n",
      "Session 0015\n",
      "Session 0016\n",
      "Session 0017\n",
      "Session 0018\n",
      "Session 0019\n",
      "Session 0020\n",
      "Session 0021\n",
      "Recording 001\n",
      "Session 0000\n",
      "Session 0001\n",
      "Session 0002\n",
      "Session 0003\n",
      "Session 0004\n",
      "Session 0005\n",
      "Session 0006\n",
      "Session 0007\n",
      "Session 0008\n",
      "Session 0009\n",
      "Session 0010\n",
      "Session 0011\n",
      "Session 0012\n",
      "Session 0013\n",
      "Session 0014\n",
      "Session 0015\n",
      "Session 0016\n",
      "Session 0017\n",
      "Session 0018\n",
      "Session 0019\n",
      "Session 0020\n",
      "Session 0021\n",
      "Session 0022\n",
      "Recording 002\n",
      "Session 0001\n",
      "Session 0002\n",
      "Session 0003\n",
      "Session 0004\n",
      "Session 0005\n",
      "Session 0006\n",
      "Session 0007\n",
      "Session 0008\n",
      "Session 0009\n",
      "Session 0010\n",
      "Session 0011\n",
      "Session 0012\n",
      "Session 0013\n",
      "Session 0014\n",
      "Session 0015\n",
      "Session 0016\n",
      "Recording 003\n",
      "Session 0000\n",
      "Session 0001\n",
      "Session 0002\n",
      "Session 0003\n",
      "Session 0004\n",
      "Session 0005\n",
      "Session 0006\n",
      "Session 0007\n",
      "Session 0008\n",
      "Session 0009\n",
      "Session 0010\n",
      "Session 0011\n",
      "Recording 004\n",
      "Session 0000\n",
      "Session 0001\n",
      "Session 0002\n",
      "Session 0003\n",
      "Session 0004\n",
      "Session 0005\n",
      "Session 0006\n",
      "Session 0007\n",
      "Session 0008\n",
      "Session 0009\n",
      "Session 0010\n",
      "Session 0011\n",
      "Session 0012\n",
      "Session 0013\n",
      "Session 0014\n",
      "Session 0015\n",
      "Recording 005\n",
      "Session 0000\n",
      "Recording 006\n",
      "Session 0000\n",
      "Session 0001\n",
      "Session 0002\n",
      "Session 0003\n",
      "Session 0004\n",
      "Session 0005\n",
      "Session 0006\n",
      "Session 0007\n",
      "Session 0008\n",
      "Session 0009\n",
      "Session 0010\n",
      "Recording 007\n",
      "Session 0000\n",
      "Session 0001\n",
      "Session 0002\n",
      "Session 0003\n",
      "Session 0004\n",
      "Session 0005\n",
      "Session 0006\n",
      "Recording 008\n",
      "Session 0000\n",
      "Session 0001\n",
      "Session 0002\n",
      "Session 0003\n",
      "Session 0004\n",
      "Session 0005\n",
      "Session 0006\n",
      "Session 0007\n",
      "Session 0008\n",
      "Session 0009\n",
      "Session 0010\n",
      "Session 0011\n",
      "Session 0012\n",
      "Session 0013\n",
      "Session 0014\n",
      "Session 0015\n",
      "Session 0016\n",
      "Session 0017\n",
      "Session 0018\n",
      "Session 0019\n",
      "Session 0020\n",
      "Session 0021\n",
      "Recording 009\n",
      "Session 0000\n",
      "Session 0001\n",
      "Session 0002\n",
      "Session 0003\n",
      "Session 0004\n",
      "Recording 010\n",
      "Recording 011\n",
      "Session 0000\n",
      "Session 0001\n",
      "Session 0002\n",
      "Session 0003\n",
      "Session 0004\n",
      "Recording 012\n",
      "Session 0000\n",
      "Session 0001\n",
      "Session 0002\n",
      "Session 0003\n",
      "Session 0004\n",
      "Session 0005\n",
      "Session 0006\n",
      "Session 0007\n",
      "Session 0008\n",
      "Recording 013\n",
      "Session 0000\n",
      "Session 0001\n",
      "Session 0002\n",
      "Session 0003\n",
      "Session 0005\n",
      "Session 0006\n",
      "Session 0007\n",
      "Session 0008\n",
      "Session 0009\n",
      "Session 0010\n",
      "Session 0011\n",
      "Recording 014\n",
      "Session 0000\n",
      "Session 0001\n",
      "Session 0002\n",
      "Session 0003\n",
      "Session 0004\n",
      "Session 0005\n",
      "Session 0006\n",
      "Session 0007\n",
      "Session 0008\n",
      "Session 0009\n",
      "Session 0010\n",
      "Session 0011\n",
      "Session 0012\n",
      "Session 0013\n",
      "Session 0014\n",
      "Session 0015\n",
      "Session 0016\n",
      "Session 0017\n",
      "Session 0018\n",
      "Session 0019\n",
      "Recording 015\n",
      "Session 0000\n",
      "Session 0001\n",
      "Session 0002\n",
      "Session 0003\n",
      "Session 0004\n",
      "Session 0005\n",
      "Session 0006\n",
      "Session 0007\n",
      "Recording 016\n",
      "Session 0000\n",
      "Session 0001\n",
      "Session 0002\n",
      "Session 0003\n",
      "Session 0004\n",
      "Session 0005\n",
      "Session 0006\n",
      "Session 0007\n",
      "Recording 017\n",
      "Session 0000\n",
      "Recording 018\n",
      "Session 0000\n",
      "Session 0001\n",
      "Session 0002\n",
      "Session 0003\n",
      "Session 0004\n",
      "Session 0005\n",
      "Session 0006\n",
      "Session 0007\n",
      "Session 0008\n",
      "Recording 019\n",
      "Session 0000\n",
      "Recording 020\n",
      "Session 0000\n",
      "Recording 021\n",
      "Session 0000\n",
      "Recording 022\n",
      "Session 0000\n",
      "Recording 023\n",
      "Session 0000\n",
      "Session 0001\n",
      "Session 0002\n",
      "Session 0003\n",
      "Session 0004\n",
      "Session 0005\n",
      "Session 0006\n",
      "Session 0007\n",
      "Session 0008\n",
      "Session 0009\n",
      "Session 0010\n",
      "Session 0011\n",
      "Session 0012\n",
      "Session 0013\n",
      "Session 0014\n",
      "Session 0015\n",
      "Recording 024\n",
      "Session 0000\n",
      "Session 0001\n",
      "Session 0002\n",
      "Session 0003\n",
      "Session 0004\n",
      "Session 0005\n",
      "Session 0006\n",
      "Session 0007\n",
      "Session 0008\n",
      "Session 0009\n",
      "Session 0010\n",
      "Session 0011\n",
      "Session 0012\n",
      "Session 0013\n",
      "Recording 025\n",
      "Session 0000\n",
      "Session 0001\n",
      "Session 0002\n",
      "Session 0003\n",
      "Session 0004\n",
      "Session 0005\n",
      "Session 0006\n",
      "Session 0007\n",
      "Session 0008\n",
      "Session 0009\n",
      "Session 0010\n",
      "Session 0011\n",
      "Recording 026\n",
      "Session 0000\n",
      "Recording 027\n",
      "Session 0000\n",
      "Session 0001\n",
      "Session 0002\n",
      "Session 0003\n",
      "Session 0004\n",
      "Session 0005\n",
      "Session 0006\n",
      "Session 0007\n",
      "Session 0008\n",
      "Session 0009\n",
      "Session 0010\n",
      "Session 0011\n",
      "Session 0012\n",
      "Session 0013\n",
      "Session 0014\n",
      "Session 0015\n",
      "Recording 028\n",
      "[0, 1, 2, 3, 4, 5, 6, 7, 8, 9, 10, 11, 15, 16, 0, 1, 6, 7, 8, 9, 10, 11, 12, 15, 0, 47, 48, 49, 50, 51, 52, 53, 56, 57, 58, 59, 60, 61, 62, 63, 64, 65, 66, 67, 68, 47, 48, 49, 50, 51, 52, 55, 56, 61, 62, 47, 48, 49, 50, 52, 89, 90, 91, 92, 93, 94, 95, 96, 97, 98, 99, 100, 101, 102, 91, 92, 93, 94, 96, 97, 98, 117, 118, 119, 120, 121, 122, 123, 124, 125, 126, 127, 128, 129, 130, 117, 134, 135, 136, 137, 138, 139, 140, 141, 142, 143, 144, 145, 146, 147, 134, 135, 136, 137, 138, 140, 160, 161, 162, 163, 164, 165, 166, 167, 168, 169, 170, 171, 172, 173, 174, 175, 176, 177, 178, 179, 180, 160, 181, 182, 183, 184, 185, 186, 187, 188, 189, 190, 191, 192, 193, 194, 195, 196, 197, 198, 199, 200, 201, 202, 203, 204, 205, 206, 207, 208, 209, 210, 211, 212, 213, 214, 215, 216, 217, 191, 192, 193, 194, 199, 200, 210, 211, 212, 215, 238, 241, 242, 243, 244, 245, 246, 247, 248, 249, 250, 251, 252, 253, 254, 255, 256, 257, 259, 260, 261, 262, 263, 264, 265, 266, 267, 268, 269, 270, 271, 272, 273, 274, 275, 276, 277, 278, 279, 280, 281, 282, 283, 284, 285, 286, 287, 288, 289, 290, 291, 292, 293, 294, 282, 283, 302, 303, 304, 305, 306, 307, 308, 309, 310, 311, 312, 313, 302, 309, 310, 325, 326, 327, 328, 329, 330, 331, 332, 333, 334, 335, 336, 337, 338, 339, 340, 342, 343, 344, 345, 346, 347, 348, 350, 351, 352, 353, 354, 355, 356, 357, 358, 359, 360, 361, 362, 363, 364, 365, 368, 369, 370, 371, 372, 373, 374, 375, 376, 377, 379, 380, 381, 382, 383, 366, 373, 390, 391, 392, 393, 394, 395, 396, 397, 398, 399, 400, 401, 402, 403, 404, 405, 406, 407, 409, 410, 411, 412, 413, 414, 415, 416, 417, 418, 419, 420, 421, 422, 423, 424, 425, 426, 427, 428, 430, 431, 432, 433, 434, 435, 436, 437, 438, 439, 440, 441, 442, 443, 444, 447, 448, 449, 450, 451, 453, 454, 455, 456, 457, 458, 459, 430, 431, 434, 435, 436, 437, 438, 439, 440, 441, 447]\n"
     ]
    }
   ],
   "source": [
    "# video features in the past timeWindow=3/5/10 seconds\n",
    "timeWindow = 3\n",
    "list_mean_features_video = []\n",
    "list_var_features_video = []\n",
    "list_std_features_video = []\n",
    "valid_index=[]\n",
    "\n",
    "for recording in os.listdir(account_path):\n",
    "    recording_path = os.path.join (account_path, str(recording))\n",
    "    \n",
    "    assert(os.path.exists(recording_path))\n",
    "\n",
    "    print(recording)\n",
    "    \n",
    "    # open each of the recording file\n",
    "    \n",
    "    with open (os.path.join(recording_path, \"video_data.txt\")) as video_file:\n",
    "        video_data = json.load(video_file)[\"video_data\"]\n",
    "    \n",
    "        #num_session = len(video_data)\n",
    "        #????????????????????????????????????????????? something wrong with the video_data for recording 001&002\n",
    "        \n",
    "        # count the number of sessions\n",
    "        list_session = []\n",
    "        for file in os.listdir(recording_path):\n",
    "            if str(file)[:7] == \"Session\":\n",
    "                list_session.append(str(file))\n",
    "        \n",
    "        if list_session==[]:\n",
    "            continue\n",
    "        \n",
    "        \n",
    "        # open each of the session file\n",
    "        for session in list_session:\n",
    "            session_path = os.path.join(recording_path, session)\n",
    "            \n",
    "            assert(os.path.exists(session_path))\n",
    "            \n",
    "            #get the timestamp which the video started recording\n",
    "            sessionStartTime = video_data[int(session[-1])][\"startTime\"]\n",
    "            sessionStopTime = video_data[int(session[-1])][\"stopTime\"]\n",
    "            \n",
    "            \n",
    "            if os.path.exists((os.path.join(session_path, \"r_video.csv\")))==False:\n",
    "                continue\n",
    "            df_temp = pd.read_csv(os.path.join(session_path, \"r_video.csv\"))\n",
    "\n",
    "            print(session)\n",
    "  \n",
    "            for switchingTime in feature_switchingTime:\n",
    "                if switchingTime < sessionStopTime and switchingTime > sessionStartTime:\n",
    "\n",
    "                    mean_video_features_switching, var_video_features_switching, std_video_features_switching = extractFeatures(df_temp, switchingTime, sessionStartTime, timeWindow)\n",
    "                    isnan1 = np.isnan(np.array(mean_video_features_switching.tolist()))\n",
    "                    isnan2 = np.isnan(np.array(var_video_features_switching.tolist()))\n",
    "                    isnan3 = np.isnan(np.array(std_video_features_switching.tolist()))\n",
    "                    p1 = True in isnan1\n",
    "                    p2 = True in isnan2\n",
    "                    p3 = True in isnan3\n",
    "                    if p1==False and p2==False and p3==False:\n",
    "                        valid_index.append(feature_switchingTime.index(switchingTime))\n",
    "                        list_mean_features_video.append(mean_video_features_switching.tolist())\n",
    "                        list_var_features_video.append(var_video_features_switching.tolist())\n",
    "                        list_std_features_video.append(std_video_features_switching.tolist())\n",
    "features_mean_video = np.array(list_mean_features_video)\n",
    "features_var_video = np.array(list_var_features_video)\n",
    "features_std_video = np.array(list_std_features_video)\n",
    "print(valid_index)"
   ]
  },
  {
   "cell_type": "code",
   "execution_count": 22,
   "id": "fe69f02d",
   "metadata": {},
   "outputs": [
    {
     "name": "stdout",
     "output_type": "stream",
     "text": [
      "388\n"
     ]
    }
   ],
   "source": [
    "features_mean_video = np.array(list_mean_features_video)\n",
    "features_var_video = np.array(list_var_features_video)\n",
    "features_std_video = np.array(list_std_features_video)\n",
    "print(len(valid_index))"
   ]
  },
  {
   "cell_type": "code",
   "execution_count": 14,
   "id": "23ae10f2",
   "metadata": {},
   "outputs": [],
   "source": [
    "# There's a shrinkage of the dataset between feature_video(110) and feature_app(128)\n",
    "# The problems can be:\n",
    "# 1. There are no Session document in Recording but video_data and application_data show the application switching\n",
    "# 2. Video_data shows there are n totally sessions but only m(m<n) sessions instead"
   ]
  },
  {
   "cell_type": "code",
   "execution_count": 15,
   "id": "b759c284",
   "metadata": {},
   "outputs": [
    {
     "name": "stdout",
     "output_type": "stream",
     "text": [
      "(388, 1)\n"
     ]
    }
   ],
   "source": [
    "feature_valid_app=[]\n",
    "feature_valid_switchingTime=[]\n",
    "valid_label=[]\n",
    "for index in valid_index:\n",
    "    feature_valid_app.append(feature_app[index][0])\n",
    "    feature_valid_switchingTime.append(feature_switchingTime[index])\n",
    "    valid_label.append(np_label[index])\n",
    "feature_valid_app = np.array(feature_valid_app).reshape(len(feature_valid_app),1)\n",
    "valid_label = np.array(valid_label)\n",
    "print(feature_valid_app.shape)"
   ]
  },
  {
   "cell_type": "code",
   "execution_count": 16,
   "id": "4e6deed0",
   "metadata": {},
   "outputs": [
    {
     "data": {
      "text/plain": [
       "(388,)"
      ]
     },
     "execution_count": 16,
     "metadata": {},
     "output_type": "execute_result"
    }
   ],
   "source": [
    "valid_label.shape"
   ]
  },
  {
   "cell_type": "markdown",
   "id": "72a797ac",
   "metadata": {},
   "source": [
    "# Feature of app category:"
   ]
  },
  {
   "cell_type": "code",
   "execution_count": 24,
   "id": "208e4655",
   "metadata": {},
   "outputs": [
    {
     "data": {
      "text/plain": [
       "['com.android.settings',\n",
       " 'com.android.vending',\n",
       " 'com.whatsapp',\n",
       " 'com.supercell.clashroyale',\n",
       " 'com.android.chrome',\n",
       " 'com.miui.global.packageinstaller',\n",
       " 'com.ubs.swidK2Y.android',\n",
       " 'com.google.android.packageinstaller',\n",
       " 'com.google.android.gm',\n",
       " 'org.telegram.messenger',\n",
       " 'com.google.android.youtube',\n",
       " 'com.android.deskclock',\n",
       " 'com.google.android.apps.maps',\n",
       " 'com.android.mms',\n",
       " 'com.google.android.googlequicksearchbox',\n",
       " 'com.android.browser',\n",
       " 'com.android.incallui',\n",
       " 'android',\n",
       " 'com.android.systemui',\n",
       " 'com.android.contacts',\n",
       " 'com.android.htmlviewer',\n",
       " 'com.miui.gallery']"
      ]
     },
     "execution_count": 24,
     "metadata": {},
     "output_type": "execute_result"
    }
   ],
   "source": [
    "app"
   ]
  },
  {
   "cell_type": "code",
   "execution_count": 25,
   "id": "2b8132a6",
   "metadata": {},
   "outputs": [],
   "source": [
    "category = ['financial', 'explorer', 'tools', 'shopping_food_travel',  'sports', 'efficiency', 'entertainment', 'social_media', 'system', 'others']\n",
    "dict_app = {'financial': ['ro.bcr.georgego','com.eTokenBCR','com.revolut.revolut', 'com.ubs.swidKXJ.android', 'com.ubs.swidK2Y.android', 'com.ubs.swidK2Y.android',],\n",
    "                   'explorer': [ 'com.android.chrome','com.android.browser', 'com.android.htmlviewer','com.android.chrome', 'com.UCMobile.intl'],\n",
    "                   'tools': [ 'com.huawei.search', 'com.android.calendar','com.google.android.apps.maps', 'ch.admin.meteoswiss','com.android.deskclock','com.android.deskclock','com.google.android.apps.maps','com.android.calendar', 'com.weather.Weather'],\n",
    "                   'shopping_food_travel': [ 'com.wahanda.marketplace', 'com.contextlogic.wish', 'com.fision',  'com.app.tgtg', 'com.airbnb.android'],\n",
    "                   'sports': [ 'com.espn.score_center', 'de.motain.iliga', 'com.popularapp.thirtydayfitnesschallenge', 'com.bleacherreport.android.teamstream', 'ch.publibike.app', 'homedia.sky.sport'],\n",
    "                   'efficiency': ['com.google.android.gm', 'com.microsoft.office.word','com.example.android.notepad', 'com.thisclicks.wiw','com.google.android.googlequicksearchbox','com.google.android.gm','com.google.android.gms', 'com.android.email', 'com.google.android.apps.translate', 'cn.wps.moffice_eng'],\n",
    "                   'entertainment': ['com.apple.android.music','com.google.android.apps.books', 'com.huawei.camera', 'com.google.android.youtube', 'com.adobe.lrmobile','com.huawei.himovie.overseas', 'com.netflix.mediaclient','com.google.android.youtube','com.spotify.music', 'com.android.camera', 'com.miui.player', 'fm.player',  'com.supercell.clashroyale',],\n",
    "                   'social_media': ['com.instagram.android', 'com.whatsapp','com.facebook.katana', 'com.android.contacts', 'com.pinterest','com.instagram.android', 'com.whatsapp', 'com.facebook.orca', 'com.facebook.katana', 'com.android.mms','com.android.contacts','jp.naver.line.android',  'com.Slack',  'org.telegram.messenger',],\n",
    "                   'system': [ 'com.huawei.systemmanager', 'com.ohh2ahh.zuerimensa', 'com.android.incallui','com.android.settings', 'com.huawei.android.internal.app', 'com.android.gallery3d','com.android.vending', 'com.huawei.android.hwouc','com.miui.gallery', 'com.android.settings', 'com.miui.securitycenter', 'com.miui.cleanmaster', 'com.android.providers.downloads.ui', 'com.android.vending',  'com.android.systemui', 'com.android.incallui', 'com.mi.android.globalFileexplorer','android',  'com.miui.global.packageinstaller', 'com.google.android.packageinstaller',]\n",
    "                  }"
   ]
  },
  {
   "cell_type": "code",
   "execution_count": 26,
   "id": "c601e667",
   "metadata": {},
   "outputs": [
    {
     "data": {
      "text/plain": [
       "(470, 1)"
      ]
     },
     "execution_count": 26,
     "metadata": {},
     "output_type": "execute_result"
    }
   ],
   "source": [
    "list_feature_app_category = []\n",
    "for digit in input:\n",
    "    for key, value in dict_app.items():\n",
    "        for element in value:\n",
    "            if element== app[digit]:\n",
    "                list_feature_app_category.append(category.index(key))\n",
    "                break\n",
    "feature_app_category = np.array(list_feature_app_category).reshape(len(list_feature_app_category),1)\n",
    "feature_app_category.shape"
   ]
  },
  {
   "cell_type": "code",
   "execution_count": 27,
   "id": "fb6957cb",
   "metadata": {},
   "outputs": [
    {
     "name": "stdout",
     "output_type": "stream",
     "text": [
      "(388, 1)\n"
     ]
    }
   ],
   "source": [
    "feature_valid_app_category=[]\n",
    "for index in valid_index:\n",
    "    feature_valid_app_category.append(feature_app_category[index][0])\n",
    "feature_valid_app_category = np.array(feature_valid_app_category).reshape(len(feature_valid_app_category),1)\n",
    "print(feature_valid_app_category.shape)"
   ]
  },
  {
   "cell_type": "markdown",
   "id": "e77eeb35",
   "metadata": {},
   "source": [
    "# Label with categories"
   ]
  },
  {
   "cell_type": "code",
   "execution_count": 28,
   "id": "b75d837f",
   "metadata": {},
   "outputs": [
    {
     "name": "stdout",
     "output_type": "stream",
     "text": [
      "(388,)\n"
     ]
    }
   ],
   "source": [
    "list_label_category = []\n",
    "for digit in label:\n",
    "    for key, value in dict_app.items():\n",
    "        for element in value:\n",
    "            if element== app[digit]:\n",
    "                list_label_category.append(category.index(key))\n",
    "                break\n",
    "label_category = np.array(list_label_category).reshape(len(list_label_category),1)\n",
    "label_valid_category=[]\n",
    "for index in valid_index:\n",
    "    label_valid_category.append(label_category[index][0])\n",
    "label_valid_category = np.array(label_valid_category).reshape(len(label_valid_category),)\n",
    "print(label_valid_category.shape)"
   ]
  },
  {
   "cell_type": "markdown",
   "id": "e7de59a4",
   "metadata": {},
   "source": [
    "# Feature of app frequency"
   ]
  },
  {
   "cell_type": "code",
   "execution_count": 29,
   "id": "a4b45ba8",
   "metadata": {},
   "outputs": [
    {
     "data": {
      "text/plain": [
       "(470, 1)"
      ]
     },
     "execution_count": 29,
     "metadata": {},
     "output_type": "execute_result"
    }
   ],
   "source": [
    "hash_app_frequency = {}\n",
    "for digit in input:\n",
    "    hash_app_frequency[digit] = (hash_app_frequency.get(digit, 0) + 1)\n",
    "for digit in label:\n",
    "    hash_app_frequency[digit] = (hash_app_frequency.get(digit, 0) + 1)\n",
    "    \n",
    "list_app_frequency = []\n",
    "for digit in input:\n",
    "    list_app_frequency.append(hash_app_frequency.get(digit, 0))\n",
    "feature_app_frequency = np.array(list_app_frequency).reshape(len(list_app_frequency),1)\n",
    "feature_app_frequency.shape"
   ]
  },
  {
   "cell_type": "code",
   "execution_count": 30,
   "id": "1f5013d9",
   "metadata": {
    "scrolled": true
   },
   "outputs": [
    {
     "name": "stdout",
     "output_type": "stream",
     "text": [
      "(388, 1)\n"
     ]
    }
   ],
   "source": [
    "feature_valid_app_frequency=[]\n",
    "for index in valid_index:\n",
    "    feature_valid_app_frequency.append(feature_app_frequency[index][0])\n",
    "feature_valid_app_frequency = np.array(feature_valid_app_frequency).reshape(len(feature_valid_app_frequency),1)\n",
    "print(feature_valid_app_frequency.shape)"
   ]
  },
  {
   "cell_type": "markdown",
   "id": "29ee04af",
   "metadata": {},
   "source": [
    "# Feature Duration"
   ]
  },
  {
   "cell_type": "code",
   "execution_count": 31,
   "id": "625a3351",
   "metadata": {},
   "outputs": [
    {
     "name": "stdout",
     "output_type": "stream",
     "text": [
      "(388, 1)\n"
     ]
    }
   ],
   "source": [
    "feature_duration = np.array(duration).reshape(len(duration),1)\n",
    "feature_valid_duration = []\n",
    "for index in valid_index:\n",
    "    feature_valid_duration.append(feature_duration[index][0])\n",
    "feature_valid_duration = np.array(feature_valid_duration).reshape(len(feature_valid_duration),1)\n",
    "print(feature_valid_duration.shape)"
   ]
  },
  {
   "cell_type": "markdown",
   "id": "c68a0703",
   "metadata": {},
   "source": [
    "# Feature TimeOfTheDay"
   ]
  },
  {
   "cell_type": "code",
   "execution_count": 32,
   "id": "ab938ff4",
   "metadata": {},
   "outputs": [
    {
     "name": "stdout",
     "output_type": "stream",
     "text": [
      "(388, 1)\n"
     ]
    }
   ],
   "source": [
    "# switching time:\n",
    "feature_switchingTime = []\n",
    "for element in temp_switchingTime:\n",
    "    feature_switchingTime.append(int(element))\n",
    "\n",
    "    \n",
    "# switching timedate\n",
    "temp = []\n",
    "for index in range(len(temp_switchingTimeDate)):\n",
    "    temp.append(temp_switchingTimeDate[index][11:13]+temp_switchingTimeDate[index][14:16]+temp_switchingTimeDate[index][17:19])\n",
    "feature_switchingTimeDate = []\n",
    "for element in temp:\n",
    "    feature_switchingTimeDate.append(int(element))\n",
    "tt_feature_switchingTimeDate = np.array(feature_switchingTimeDate).reshape(len(feature_switchingTimeDate),1)\n",
    "feature_valid_switchingTimeDate = []\n",
    "for index in valid_index:\n",
    "    feature_valid_switchingTimeDate.append(tt_feature_switchingTimeDate[index][0])\n",
    "feature_valid_switchingTimeDate = np.array(feature_valid_switchingTimeDate).reshape(len(feature_valid_switchingTimeDate),1)\n",
    "print(feature_valid_switchingTimeDate.shape)"
   ]
  },
  {
   "cell_type": "markdown",
   "id": "378d164c",
   "metadata": {},
   "source": [
    "# Feature DeviceStatus(3/5/10)"
   ]
  },
  {
   "cell_type": "code",
   "execution_count": 33,
   "id": "5f6fe4f5",
   "metadata": {},
   "outputs": [
    {
     "name": "stdout",
     "output_type": "stream",
     "text": [
      "470\n"
     ]
    }
   ],
   "source": [
    "deviceStatus3=[0]*len(feature_switchingTime)\n",
    "deviceStatus5=[0]*len(feature_switchingTime)\n",
    "deviceStatus10=[0]*len(feature_switchingTime)\n",
    "for recording in os.listdir(account_path):\n",
    "    recording_path = os.path.join (account_path, str(recording))\n",
    "    \n",
    "    assert(os.path.exists(recording_path))\n",
    "\n",
    "    if os.path.exists((os.path.join(recording_path, \"video_data.txt\")))==False:\n",
    "        continue\n",
    "    # open each of the recording file\n",
    "    \n",
    "    with open (os.path.join(recording_path, \"video_data.txt\")) as video_file:\n",
    "        video_data = json.load(video_file)[\"video_data\"]\n",
    "        #num_session = len(video_data)\n",
    "        #????????????????????????????????????????????? something wrong with the video_data for recording 001&002\n",
    "        \n",
    "            \n",
    "        with open(os.path.join(recording_path, \"device_data.txt\")) as device_file:\n",
    "            device_data = json.load(device_file)[\"device_data\"]\n",
    "\n",
    "            for d_index in range(len(device_data)):\n",
    "                for s_index in range(len(feature_switchingTime)):\n",
    "                    if device_data[d_index][\"time\"] >= feature_switchingTime[s_index] - 3*1_000_000_000 and device_data[d_index][\"time\"] <= feature_switchingTime[s_index]:\n",
    "                        deviceStatus3[s_index]+=1\n",
    "                    if device_data[d_index][\"time\"] >= feature_switchingTime[s_index] - 5*1_000_000_000 and device_data[d_index][\"time\"] <= feature_switchingTime[s_index]:\n",
    "                        deviceStatus5[s_index]+=1                    \n",
    "                    if device_data[d_index][\"time\"] >= feature_switchingTime[s_index] - 10*1_000_000_000 and device_data[d_index][\"time\"] <= feature_switchingTime[s_index]:\n",
    "                        deviceStatus10[s_index]+=1            \n",
    "print(len(deviceStatus3))"
   ]
  },
  {
   "cell_type": "code",
   "execution_count": 34,
   "id": "4c3aebe4",
   "metadata": {},
   "outputs": [
    {
     "name": "stdout",
     "output_type": "stream",
     "text": [
      "(388, 1)\n"
     ]
    }
   ],
   "source": [
    "feature_deviceStatus3 = np.array(deviceStatus3).reshape(len(deviceStatus3),1)\n",
    "feature_valid_deviceStatus3 = []\n",
    "for index in valid_index:\n",
    "    feature_valid_deviceStatus3.append(feature_deviceStatus3[index][0])\n",
    "feature_valid_deviceStatus3 = np.array(feature_valid_deviceStatus3).reshape(len(feature_valid_deviceStatus3),1)\n",
    "print(feature_valid_deviceStatus3.shape)"
   ]
  },
  {
   "cell_type": "markdown",
   "id": "2f88cc81",
   "metadata": {},
   "source": [
    "# Feature TouchEvent(3/5/10)"
   ]
  },
  {
   "cell_type": "code",
   "execution_count": 35,
   "id": "f0e612f4",
   "metadata": {},
   "outputs": [
    {
     "name": "stdout",
     "output_type": "stream",
     "text": [
      "470\n"
     ]
    }
   ],
   "source": [
    "# touch data: happened touch events in the past 3/5/10 seconds\n",
    "touchTimes_data3=[0]*len(feature_switchingTime)\n",
    "touchTimes_data5=[0]*len(feature_switchingTime)\n",
    "touchTimes_data10=[0]*len(feature_switchingTime)\n",
    "for recording in os.listdir(account_path):\n",
    "    recording_path = os.path.join (account_path, str(recording))\n",
    "    \n",
    "    assert(os.path.exists(recording_path))\n",
    "\n",
    "    if os.path.exists((os.path.join(recording_path, \"video_data.txt\")))==False:\n",
    "        continue\n",
    "    # open each of the recording file\n",
    "    \n",
    "    with open (os.path.join(recording_path, \"video_data.txt\")) as video_file:\n",
    "        video_data = json.load(video_file)[\"video_data\"]\n",
    "        #num_session = len(video_data)\n",
    "        #????????????????????????????????????????????? something wrong with the video_data for recording 001&002\n",
    "        \n",
    "\n",
    "        for file in os.listdir(recording_path):\n",
    "            if str(file)[:7] == \"Session\":\n",
    "                # open each of the session file\n",
    "                session_path = os.path.join(recording_path, str(file))\n",
    "\n",
    "                assert(os.path.exists(session_path))\n",
    "\n",
    "                with open(os.path.join(session_path, \"touch_data.txt\")) as touch_file:\n",
    "                    touch_data = json.load(touch_file)[\"touch_data\"]\n",
    "\n",
    "                    for t_index in range(len(touch_data)):\n",
    "                        for s_index in range(len(feature_switchingTime)):\n",
    "                            if touch_data[t_index][\"time\"] >= feature_switchingTime[s_index] - 3*1_000_000_000 and touch_data[t_index][\"time\"] <= feature_switchingTime[s_index]:\n",
    "                                touchTimes_data3[s_index]+=1\n",
    "                            if touch_data[t_index][\"time\"] >= feature_switchingTime[s_index] - 5*1_000_000_000 and touch_data[t_index][\"time\"] <= feature_switchingTime[s_index]:\n",
    "                                touchTimes_data5[s_index]+=1                    \n",
    "                            if touch_data[t_index][\"time\"] >= feature_switchingTime[s_index] - 10*1_000_000_000 and touch_data[t_index][\"time\"] <= feature_switchingTime[s_index]:\n",
    "                                touchTimes_data10[s_index]+=1            \n",
    "print(len(touchTimes_data3))"
   ]
  },
  {
   "cell_type": "code",
   "execution_count": 36,
   "id": "24d5698a",
   "metadata": {},
   "outputs": [
    {
     "name": "stdout",
     "output_type": "stream",
     "text": [
      "(388, 1)\n"
     ]
    }
   ],
   "source": [
    "feature_touchTimes3 = np.array(touchTimes_data3).reshape(len(touchTimes_data3),1)\n",
    "feature_valid_touchTimes3 = []\n",
    "for index in valid_index:\n",
    "    feature_valid_touchTimes3.append(feature_touchTimes3[index][0])\n",
    "feature_valid_touchTimes3 = np.array(feature_valid_touchTimes3).reshape(len(feature_valid_touchTimes3),1)\n",
    "print(feature_valid_touchTimes3.shape)"
   ]
  },
  {
   "cell_type": "markdown",
   "id": "f3820ac4",
   "metadata": {},
   "source": [
    "# valid Label"
   ]
  },
  {
   "cell_type": "code",
   "execution_count": 37,
   "id": "ff1d8cfd",
   "metadata": {},
   "outputs": [
    {
     "name": "stdout",
     "output_type": "stream",
     "text": [
      "(388,)\n"
     ]
    }
   ],
   "source": [
    "label_app = np.array(label).reshape(len(label),1)\n",
    "label_valid_app=[]\n",
    "for index in valid_index:\n",
    "    label_valid_app.append(label_app[index][0])\n",
    "label_valid_app = np.array(label_valid_app).reshape(len(label_valid_category),)\n",
    "print(label_valid_app.shape)"
   ]
  },
  {
   "cell_type": "markdown",
   "id": "9ad17c86",
   "metadata": {},
   "source": [
    "# Function"
   ]
  },
  {
   "cell_type": "code",
   "execution_count": 38,
   "id": "429cb5fa",
   "metadata": {},
   "outputs": [],
   "source": [
    "def predict_top_k(X_test, y_test, model, k=3):\n",
    "\n",
    "    probs = model.predict_proba(X_test)\n",
    "    labels = model.classes_\n",
    "    result = 0\n",
    "\n",
    "    for i in range(probs.shape[0]):\n",
    "        a = probs[i]\n",
    "        index = heapq.nlargest(k, range(probs.shape[1]), a.take)\n",
    "        for element in index:\n",
    "            if labels[element] == y_test[i]:\n",
    "                result+=1\n",
    "    \n",
    "    return result/y_test.shape[0]\n",
    "\n",
    "def kNN_training (feature, label):\n",
    "    valid_X = scaler.fit_transform(feature)\n",
    "    valid_y = label\n",
    "    X_train, X_test, y_train, y_test = train_test_split(valid_X, valid_y, random_state=0)\n",
    "    model = KNeighborsClassifier(n_neighbors=7, weights='uniform').fit(X_train,y_train)\n",
    "    accuracy = model.score(X_test, y_test)\n",
    "    top_accuracy4 = predict_top_k(X_test, y_test, model, k=4)\n",
    "    top_accuracy8 = predict_top_k(X_test, y_test, model, k=8)\n",
    "    return accuracy, top_accuracy4, top_accuracy8\n",
    "\n",
    "def rf_training (feature, label):\n",
    "    valid_X = scaler.fit_transform(feature)\n",
    "    valid_y = label\n",
    "    X_train, X_test, y_train, y_test = train_test_split(valid_X, valid_y, random_state=0)\n",
    "    model = RandomForestClassifier(n_estimators=50).fit(X_train,y_train)\n",
    "    accuracy = model.score(X_test, y_test)\n",
    "    top_accuracy4 = predict_top_k(X_test, y_test, model, k=4)\n",
    "    top_accuracy8 = predict_top_k(X_test, y_test, model, k=8)\n",
    "    return accuracy, top_accuracy4, top_accuracy8\n",
    "\n",
    "def Ada_training (feature, label):\n",
    "    valid_X = scaler.fit_transform(feature)\n",
    "    valid_y = label\n",
    "    X_train, X_test, y_train, y_test = train_test_split(valid_X, valid_y, random_state=0)\n",
    "    model = AdaBoostClassifier(n_estimators=100, random_state=0).fit(X_train,y_train)\n",
    "    accuracy = model.score(X_test, y_test)\n",
    "    top_accuracy4 = predict_top_k(X_test, y_test, model, k=4)\n",
    "    top_accuracy8 = predict_top_k(X_test, y_test, model, k=8)\n",
    "    return accuracy, top_accuracy4, top_accuracy8\n",
    "\n",
    "def dummy_training(feature, label):\n",
    "    dummy = DummyClassifier(strategy=\"most_frequent\")\n",
    "    dummy = dummy.fit(feature, label)\n",
    "    accuracy = dummy.score(feature, label)\n",
    "    return accuracy\n",
    "\n",
    "def calculateMeanRF(feature, label):\n",
    "    accuracy=[]\n",
    "    top4=[]\n",
    "    top8=[]\n",
    "    for i in range(5):\n",
    "        accuracy_rf, top_accuracy_rf4, top_accuracy_rf8= rf_training (feature, label)\n",
    "        accuracy.append(accuracy_rf)\n",
    "        top4.append(top_accuracy_rf4)\n",
    "        top8.append(top_accuracy_rf8)\n",
    "    return sum(accuracy)/len(accuracy), sum(top4)/len(top4), sum(top8)/len(top8)\n",
    "\n",
    "def calculateMeanKNN(feature, label):\n",
    "    accuracy=[]\n",
    "    top4=[]\n",
    "    top8=[]\n",
    "    for i in range(5):\n",
    "        accuracy_kNN, top_accuracy_kNN4, top_accuracy_kNN8= kNN_training (feature, label)\n",
    "        accuracy.append(accuracy_kNN)\n",
    "        top4.append(top_accuracy_kNN4)\n",
    "        top8.append(top_accuracy_kNN8)\n",
    "    return sum(accuracy)/len(accuracy), sum(top4)/len(top4), sum(top8)/len(top8)\n",
    "\n",
    "def calculateMeanAda(feature, label):\n",
    "    accuracy=[]\n",
    "    top4=[]\n",
    "    top8=[]\n",
    "    for i in range(5):\n",
    "        accuracy_kNN, top_accuracy_kNN4, top_accuracy_kNN8= Ada_training (feature, label)\n",
    "        accuracy.append(accuracy_kNN)\n",
    "        top4.append(top_accuracy_kNN4)\n",
    "        top8.append(top_accuracy_kNN8)\n",
    "    return sum(accuracy)/len(accuracy), sum(top4)/len(top4), sum(top8)/len(top8)"
   ]
  },
  {
   "cell_type": "markdown",
   "id": "05a6e5a0",
   "metadata": {},
   "source": [
    "# Feature Summary"
   ]
  },
  {
   "cell_type": "code",
   "execution_count": 39,
   "id": "d117d96e",
   "metadata": {
    "scrolled": true
   },
   "outputs": [
    {
     "name": "stdout",
     "output_type": "stream",
     "text": [
      "(388, 1)\n",
      "(388, 1)\n",
      "(388, 1)\n",
      "(388, 1)\n",
      "(388, 1)\n",
      "(388, 1)\n",
      "(388, 1)\n",
      "(388, 8)\n",
      "(388, 8)\n",
      "(388, 8)\n",
      "(388,)\n",
      "(388,)\n"
     ]
    }
   ],
   "source": [
    "print(feature_valid_app.shape)\n",
    "print(feature_valid_duration.shape)\n",
    "print(feature_valid_switchingTimeDate.shape)\n",
    "print(feature_valid_deviceStatus3.shape)\n",
    "print(feature_valid_touchTimes3.shape)\n",
    "print(feature_valid_app_category.shape)\n",
    "print(feature_valid_app_frequency.shape)\n",
    "print(features_mean_video.shape)\n",
    "print(features_var_video.shape)\n",
    "print(features_std_video.shape)\n",
    "print(label_valid_category.shape)\n",
    "print(label_valid_app.shape)"
   ]
  },
  {
   "cell_type": "code",
   "execution_count": 40,
   "id": "2a742694",
   "metadata": {},
   "outputs": [
    {
     "name": "stdout",
     "output_type": "stream",
     "text": [
      "(388, 31)\n"
     ]
    }
   ],
   "source": [
    "allFeatures = np.concatenate([feature_valid_app,\n",
    "                              feature_valid_duration,\n",
    "                              feature_valid_switchingTimeDate,\n",
    "                              feature_valid_deviceStatus3,\n",
    "                              feature_valid_touchTimes3,\n",
    "                              feature_valid_app_category, \n",
    "                              feature_valid_app_frequency, \n",
    "                              features_mean_video, \n",
    "                              features_var_video,\n",
    "                              features_std_video],\n",
    "                        axis=1)\n",
    "print(allFeatures.shape)"
   ]
  },
  {
   "cell_type": "code",
   "execution_count": 41,
   "id": "17ceddb1",
   "metadata": {},
   "outputs": [
    {
     "name": "stdout",
     "output_type": "stream",
     "text": [
      "False\n"
     ]
    }
   ],
   "source": [
    "isnan = np.isnan(features_std_video) # 判断每个元素是不是nan,返回[False,False,False,False,True]\n",
    "\n",
    "print(True in isnan) # 判断isnan中是否包含True, 返回 True"
   ]
  },
  {
   "cell_type": "markdown",
   "id": "d77d327d",
   "metadata": {},
   "source": [
    "# Feature Selection"
   ]
  },
  {
   "cell_type": "code",
   "execution_count": 42,
   "id": "c6342870",
   "metadata": {},
   "outputs": [
    {
     "name": "stderr",
     "output_type": "stream",
     "text": [
      "D:\\Softwares\\Anaconda3\\lib\\site-packages\\sklearn\\svm\\_base.py:985: ConvergenceWarning: Liblinear failed to converge, increase the number of iterations.\n",
      "  warnings.warn(\"Liblinear failed to converge, increase \"\n"
     ]
    },
    {
     "data": {
      "text/plain": [
       "(388, 5)"
      ]
     },
     "execution_count": 42,
     "metadata": {},
     "output_type": "execute_result"
    }
   ],
   "source": [
    "#L1-based feature selection for all 288+1 features\n",
    "from sklearn.feature_selection import SelectFromModel\n",
    "from sklearn.svm import LinearSVC\n",
    "\n",
    "linearsvc = LinearSVC(C=0.01, penalty='l1', dual=False).fit(allFeatures, label_valid_app)\n",
    "model = SelectFromModel(linearsvc, prefit=True)\n",
    "X_new_l1 = model.transform(allFeatures)\n",
    "X_new_l1.shape"
   ]
  },
  {
   "cell_type": "code",
   "execution_count": 43,
   "id": "19f29b4a",
   "metadata": {},
   "outputs": [
    {
     "data": {
      "text/plain": [
       "(388, 3)"
      ]
     },
     "execution_count": 43,
     "metadata": {},
     "output_type": "execute_result"
    }
   ],
   "source": [
    "from sklearn.ensemble import ExtraTreesClassifier\n",
    "from sklearn.feature_selection import SelectFromModel\n",
    "clf = ExtraTreesClassifier(n_estimators=100).fit(allFeatures, label_valid_app)\n",
    "model = SelectFromModel(clf, prefit=True)\n",
    "X_new_tree = model.transform(allFeatures)\n",
    "X_new_tree.shape"
   ]
  },
  {
   "cell_type": "markdown",
   "id": "d3dd1c0c",
   "metadata": {},
   "source": [
    "# Model Performance"
   ]
  },
  {
   "cell_type": "code",
   "execution_count": 87,
   "id": "99a06535",
   "metadata": {},
   "outputs": [
    {
     "name": "stdout",
     "output_type": "stream",
     "text": [
      "0.7422680412371134 0.9030927835051547 0.9628865979381442\n"
     ]
    }
   ],
   "source": [
    "accuracy_rf, top_accuracy_rf4, top_accuracy_rf8 = calculateMeanRF(X_new_tree, label_valid_app)\n",
    "print(accuracy_rf, top_accuracy_rf4, top_accuracy_rf8)"
   ]
  },
  {
   "cell_type": "code",
   "execution_count": 89,
   "id": "b99e9bda",
   "metadata": {},
   "outputs": [
    {
     "name": "stdout",
     "output_type": "stream",
     "text": [
      "0.7319587628865979 0.845360824742268 0.9278350515463918\n"
     ]
    }
   ],
   "source": [
    "accuracy_kNN, top_accuracy_kNN4, top_accuracy_kNN8 = calculateMeanKNN(X_new_tree, label_valid_app)\n",
    "print(accuracy_kNN, top_accuracy_kNN4, top_accuracy_kNN8)"
   ]
  },
  {
   "cell_type": "code",
   "execution_count": 93,
   "id": "6f4f6443",
   "metadata": {},
   "outputs": [
    {
     "name": "stdout",
     "output_type": "stream",
     "text": [
      "0.7319587628865979 0.8762886597938145 0.9690721649484535\n"
     ]
    }
   ],
   "source": [
    "accuracy_ada, top_accuracy_ada4, top_accuracy_ada8 = calculateMeanAda(X_new_tree, label_valid_app)\n",
    "print(accuracy_ada, top_accuracy_ada4, top_accuracy_ada8)"
   ]
  },
  {
   "cell_type": "markdown",
   "id": "0748430c",
   "metadata": {},
   "source": [
    "# ======================================="
   ]
  },
  {
   "cell_type": "code",
   "execution_count": 95,
   "id": "af078410",
   "metadata": {},
   "outputs": [
    {
     "name": "stdout",
     "output_type": "stream",
     "text": [
      "0.39948453608247425\n"
     ]
    }
   ],
   "source": [
    "accuracy_dummy = dummy_training(X_new_tree, label_valid_app)\n",
    "print(accuracy_dummy)"
   ]
  },
  {
   "cell_type": "markdown",
   "id": "abd76b9f",
   "metadata": {},
   "source": [
    "# ====================================="
   ]
  },
  {
   "cell_type": "code",
   "execution_count": null,
   "id": "9a393710",
   "metadata": {},
   "outputs": [],
   "source": [
    "# 1. probabilistic model                            check\n",
    "# 2. columns manuelly select                        check\n",
    "# 3. mean, variance, standard deviation             check\n",
    "# 4. weights of the frequency                       check\n",
    "# 5. categorical app                                check"
   ]
  }
 ],
 "metadata": {
  "kernelspec": {
   "display_name": "Python 3",
   "language": "python",
   "name": "python3"
  },
  "language_info": {
   "codemirror_mode": {
    "name": "ipython",
    "version": 3
   },
   "file_extension": ".py",
   "mimetype": "text/x-python",
   "name": "python",
   "nbconvert_exporter": "python",
   "pygments_lexer": "ipython3",
   "version": "3.8.8"
  }
 },
 "nbformat": 4,
 "nbformat_minor": 5
}
