{
 "cells": [
  {
   "cell_type": "code",
   "execution_count": 1,
   "id": "1e01f078",
   "metadata": {},
   "outputs": [],
   "source": [
    "import tensorflow as tf\n",
    "import matplotlib.pyplot as plt\n",
    "import heapq\n",
    "import cv2\n",
    "import pandas as pd\n",
    "from tensorflow import keras\n",
    "import numpy as np\n",
    "import os\n",
    "import json\n",
    "from sklearn.ensemble import AdaBoostClassifier\n",
    "from sklearn.neighbors import KNeighborsClassifier\n",
    "from sklearn.ensemble import RandomForestClassifier\n",
    "from sklearn.dummy import DummyClassifier\n",
    "from sklearn.model_selection import train_test_split\n",
    "from sklearn import metrics\n",
    "from sklearn.preprocessing import StandardScaler"
   ]
  },
  {
   "cell_type": "markdown",
   "id": "e2bdaf8a",
   "metadata": {},
   "source": [
    "# 0. Data Preprocessing"
   ]
  },
  {
   "cell_type": "code",
   "execution_count": 2,
   "id": "8cf99d23",
   "metadata": {},
   "outputs": [],
   "source": [
    "#Feature Normalization:\n",
    "scaler = StandardScaler()"
   ]
  },
  {
   "cell_type": "markdown",
   "id": "0896db45",
   "metadata": {},
   "source": [
    "# 1. One-Feature-Model:\n",
    "\n",
    "Regard application swichting as the only feature, \n",
    "e.g. instagram --> whatsapp \n",
    "instagram as X_data\n",
    "whatsapp as y_label\n"
   ]
  },
  {
   "cell_type": "code",
   "execution_count": 3,
   "id": "f0c36387",
   "metadata": {
    "scrolled": true
   },
   "outputs": [
    {
     "name": "stdout",
     "output_type": "stream",
     "text": [
      "INPUT DATA:\n",
      "128\n",
      "['com.google.android.gm', 'com.google.android.gm', 'com.google.android.gm', 'com.apple.android.music', 'com.google.android.apps.books', 'com.instagram.android', 'com.whatsapp', 'com.huawei.systemmanager', 'com.whatsapp', 'com.whatsapp', 'com.instagram.android', 'com.android.chrome', 'com.google.android.gm', 'com.whatsapp', 'com.huawei.search', 'com.huawei.search', 'com.huawei.search', 'com.huawei.search', 'com.wahanda.marketplace', 'com.wahanda.marketplace', 'com.instagram.android', 'com.whatsapp', 'com.whatsapp', 'com.whatsapp', 'com.instagram.android', 'com.whatsapp', 'com.whatsapp', 'com.ohh2ahh.zuerimensa', 'com.instagram.android', 'com.instagram.android', 'com.whatsapp', 'com.whatsapp', 'com.whatsapp', 'com.instagram.android', 'com.huawei.camera', 'com.google.android.gm', 'com.google.android.gm', 'com.whatsapp', 'com.whatsapp', 'com.whatsapp', 'com.android.chrome', 'com.android.calendar', 'com.whatsapp', 'com.google.android.gm', 'com.microsoft.office.word', 'com.facebook.katana', 'com.facebook.katana', 'com.facebook.katana', 'com.android.incallui', 'com.facebook.katana', 'com.whatsapp', 'com.android.chrome', 'com.whatsapp', 'com.whatsapp', 'com.whatsapp', 'com.instagram.android', 'com.instagram.android', 'com.whatsapp', 'com.android.chrome', 'com.whatsapp', 'com.android.chrome', 'com.whatsapp', 'com.whatsapp', 'com.instagram.android', 'com.instagram.android', 'com.instagram.android', 'com.instagram.android', 'com.whatsapp', 'com.whatsapp', 'com.whatsapp', 'com.whatsapp', 'com.whatsapp', 'com.whatsapp', 'com.android.chrome', 'com.instagram.android', 'com.google.android.apps.maps', 'com.whatsapp', 'com.google.android.apps.maps', 'com.instagram.android', 'com.google.android.gm', 'com.google.android.gm', 'com.android.settings', 'com.google.android.gm', 'com.facebook.katana', 'com.whatsapp', 'com.huawei.android.internal.app', 'com.facebook.katana', 'com.facebook.katana', 'com.whatsapp', 'com.facebook.katana', 'com.google.android.apps.maps', 'com.whatsapp', 'ch.admin.meteoswiss', 'com.instagram.android', 'com.instagram.android', 'com.instagram.android', 'com.android.chrome', 'com.instagram.android', 'com.google.android.youtube', 'com.whatsapp', 'com.instagram.android', 'com.instagram.android', 'com.android.contacts', 'com.android.chrome', 'com.google.android.gm', 'com.instagram.android', 'com.android.gallery3d', 'com.huawei.android.internal.app', 'com.instagram.android', 'com.example.android.notepad', 'com.instagram.android', 'com.instagram.android', 'com.example.android.notepad', 'com.android.chrome', 'com.example.android.notepad', 'com.adobe.lrmobile', 'com.adobe.lrmobile', 'com.android.gallery3d', 'com.huawei.himovie.overseas', 'com.android.gallery3d', 'com.huawei.himovie.overseas', 'com.android.gallery3d', 'com.thisclicks.wiw', 'com.thisclicks.wiw', 'com.android.deskclock', 'com.pinterest', 'com.whatsapp', 'com.android.vending']\n",
      "----------------------------------------------------------------\n",
      "LABEL DATA:\n",
      "128\n",
      "['com.android.deskclock', 'com.android.deskclock', 'com.apple.android.music', 'com.google.android.apps.books', 'com.instagram.android', 'com.facebook.katana', 'com.huawei.systemmanager', 'com.whatsapp', 'com.instagram.android', 'com.google.android.gm', 'com.android.chrome', 'com.google.android.gm', 'com.instagram.android', 'com.huawei.android.hwouc', 'com.wahanda.marketplace', 'com.wahanda.marketplace', 'com.wahanda.marketplace', 'com.wahanda.marketplace', 'com.whatsapp', 'com.android.chrome', 'com.whatsapp', 'com.instagram.android', 'com.instagram.android', 'com.instagram.android', 'com.whatsapp', 'com.google.android.gm', 'com.facebook.katana', 'com.facebook.katana', 'com.whatsapp', 'com.whatsapp', 'com.instagram.android', 'com.instagram.android', 'com.instagram.android', 'com.whatsapp', 'com.google.android.gm', 'com.android.chrome', 'com.android.chrome', 'com.netflix.mediaclient', 'com.netflix.mediaclient', 'com.android.chrome', 'com.android.calendar', 'com.android.chrome', 'com.google.android.gm', 'com.microsoft.office.word', 'com.google.android.gm', 'com.android.incallui', 'com.android.incallui', 'com.android.incallui', 'com.facebook.katana', 'com.whatsapp', 'com.android.chrome', 'com.whatsapp', 'com.instagram.android', 'com.google.android.youtube', 'com.instagram.android', 'com.whatsapp', 'com.whatsapp', 'com.android.chrome', 'com.whatsapp', 'com.android.chrome', 'com.whatsapp', 'com.android.chrome', 'com.android.chrome', 'com.whatsapp', 'com.whatsapp', 'com.whatsapp', 'com.whatsapp', 'com.android.chrome', 'com.android.chrome', 'com.android.chrome', 'com.android.chrome', 'com.android.chrome', 'com.android.chrome', 'com.whatsapp', 'com.google.android.apps.maps', 'com.whatsapp', 'com.google.android.apps.maps', 'com.instagram.android', 'com.facebook.katana', 'com.facebook.katana', 'com.android.settings', 'com.google.android.gm', 'com.instagram.android', 'com.whatsapp', 'com.huawei.android.internal.app', 'com.facebook.katana', 'com.whatsapp', 'com.whatsapp', 'com.facebook.katana', 'com.google.android.apps.maps', 'com.facebook.katana', 'com.netflix.mediaclient', 'com.thisclicks.wiw', 'com.android.chrome', 'com.android.chrome', 'com.android.chrome', 'com.instagram.android', 'com.google.android.youtube', 'com.whatsapp', 'com.google.android.youtube', 'com.android.contacts', 'com.android.contacts', 'com.instagram.android', 'com.google.android.gm', 'com.android.chrome', 'com.android.gallery3d', 'com.huawei.android.internal.app', 'com.instagram.android', 'com.example.android.notepad', 'com.instagram.android', 'com.example.android.notepad', 'com.example.android.notepad', 'com.android.chrome', 'com.example.android.notepad', 'com.adobe.lrmobile', 'com.android.gallery3d', 'com.android.gallery3d', 'com.huawei.himovie.overseas', 'com.android.gallery3d', 'com.huawei.himovie.overseas', 'com.android.gallery3d', 'com.instagram.android', 'com.instagram.android', 'com.android.deskclock', 'com.pinterest', 'com.whatsapp', 'com.pinterest', 'com.contextlogic.wish']\n",
      "[453933167223590, 453958819479836, 482097009342237, 482131576558899, 482666442577045, 483012108746263, 485981416601780, 485987589108550, 486003216502298, 498113557825198, 499893892515806, 499912888088199, 499927461559030, 18432438158306, 45098595650908, 45103228184241, 45104777604032, 45111974658198, 45205735257142, 57428087396177, 112729566589904, 112747461955526, 112773512121668, 112790916143019, 142532939551823, 142928168954477, 207977726241455, 208109975966481, 220876551003887, 221172990038737, 221180735436653, 372091400239912, 372092925463870, 372273606632592, 399261540041364, 399279520129903, 399291319418963, 419938790950974, 419940349065036, 465385399752127, 465396069296396, 465403267021395, 491271966897531, 491281666951175, 491323345177210, 493737276556770, 493742905654165, 494005316902041, 494024884139017, 494908690133153, 494912269011798, 494958609427937, 494962321053457, 558137589616727, 561039788949012, 561616034546934, 561617692514121, 569923660078377, 571401809903152, 571410536966171, 571682150851546, 571683165434880, 571690423366129, 575527274128147, 581167868023490, 581169590522448, 656196227132844, 656954933691095, 657002254574421, 657044263523894, 657063803547328, 657108765157738, 657111323912425, 657155149867627, 667976363803659, 667978395401054, 668012197426570, 668015261504174, 756268582952470, 762573631776899, 823340331209977, 823348999259975, 823371902549555, 885023943474415, 885028532856185, 885031587361393, 885207781255637, 918276297854986, 918281392191965, 918325327109666, 918331433105499, 920641036511419, 927227876114944, 1017676968895045, 1017901277354941, 1018315500186128, 1018380103252785, 1106156145914582, 1107844496359637, 1107893986603900, 1110808510060226, 1110888788301881, 1110890805149276, 1167228164862712, 1167290441481453, 1172571715931035, 1172621070832590, 1172627725494047, 1172636423168004, 1172646114723732, 1172649202732586, 1172658890658105, 1172714327258097, 1172726077216949, 1172739315167468, 1172766053060741, 1172770211663866, 1172822770679483, 1172830428665419, 1172833466731564, 1172837652012293, 1172909850252386, 1193422331940112, 1193645431964557, 1193663242099450, 1193776148715058, 1193777164019225, 1194095527462405]\n"
     ]
    }
   ],
   "source": [
    "account_path = r\"D:\\Dokuments\\Project_of_HCI\\emva-dataset\\EMVA_from_gDrive\\fd249093-60d2-4d4f-99d0-3e98954f7711\"\n",
    "input_raw = []\n",
    "label_raw = []\n",
    "temp_switchingTime = []\n",
    "temp_switchingTimeDate = []\n",
    "duration = []\n",
    "\n",
    "\n",
    "for recording in os.listdir(account_path):\n",
    "    recording_path = os.path.join (account_path, str(recording))\n",
    "    \n",
    "    assert(os.path.exists(recording_path))\n",
    "\n",
    "    list_session = []\n",
    "    for file in os.listdir(recording_path):\n",
    "        if str(file)[:7] == \"Session\":\n",
    "            list_session.append(str(file))\n",
    "\n",
    "    #if list_session==[]:\n",
    "    #    continue    \n",
    "    \n",
    "    with open (os.path.join(recording_path, \"application_data.txt\")) as application_file:\n",
    "        application_data = json.load(application_file)[\"application_data\"]\n",
    "        application_index = 0\n",
    "        while application_index < len(application_data):\n",
    "            if (application_data[application_index][\"name\"] != \"com.huawei.android.launcher\" \n",
    "            and application_data[application_index][\"name\"] != \"ch.ethz.inf.vs.staals.visualattentionrecorder\"\n",
    "            and application_data[application_index][\"name\"] != \"com.android.systemui\"):\n",
    "                num = 1\n",
    "                while application_index+num < len(application_data):\n",
    "                    if (application_data[application_index+num][\"name\"] != \"com.huawei.android.launcher\" \n",
    "                    and application_data[application_index+num][\"name\"] != \"com.android.systemui\"\n",
    "                    and application_data[application_index+num][\"name\"] != \"ch.ethz.inf.vs.staals.visualattentionrecorder\"\n",
    "                    and application_data[application_index+num][\"name\"] != application_data[application_index][\"name\"]):\n",
    "                        input_raw.append (application_data[application_index][\"name\"])\n",
    "                        label_raw.append (application_data[application_index+num][\"name\"])\n",
    "                        temp_switchingTime.append (application_data[application_index+1][\"time\"])\n",
    "                        temp_switchingTimeDate.append (application_data[application_index+1][\"timeDate\"])\n",
    "                        duration.append (application_data[application_index+num][\"time\"] - application_data[application_index][\"time\"])\n",
    "                        break\n",
    "                    else:\n",
    "                        num += 1\n",
    "            \n",
    "            application_index += 1\n",
    "\n",
    "print(\"INPUT DATA:\")\n",
    "print(len(input_raw))\n",
    "print(input_raw)\n",
    "print(\"----------------------------------------------------------------\")\n",
    "print(\"LABEL DATA:\")\n",
    "print(len(label_raw))\n",
    "print(label_raw)\n",
    "print(temp_switchingTime)\n",
    "feature_switchingTime = temp_switchingTime"
   ]
  },
  {
   "cell_type": "code",
   "execution_count": 4,
   "id": "17dc993b",
   "metadata": {
    "scrolled": true
   },
   "outputs": [
    {
     "name": "stdout",
     "output_type": "stream",
     "text": [
      "[0, 0, 0, 1, 2, 3, 4, 5, 4, 4, 3, 6, 0, 4, 7, 7, 7, 7, 8, 8, 3, 4, 4, 4, 3, 4, 4, 9, 3, 3, 4, 4, 4, 3, 10, 0, 0, 4, 4, 4, 6, 11, 4, 0, 12, 13, 13, 13, 14, 13, 4, 6, 4, 4, 4, 3, 3, 4, 6, 4, 6, 4, 4, 3, 3, 3, 3, 4, 4, 4, 4, 4, 4, 6, 3, 15, 4, 15, 3, 0, 0, 16, 0, 13, 4, 17, 13, 13, 4, 13, 15, 4, 18, 3, 3, 3, 6, 3, 19, 4, 3, 3, 20, 6, 0, 3, 21, 17, 3, 22, 3, 3, 22, 6, 22, 23, 23, 21, 24, 21, 24, 21, 25, 25, 26, 27, 4, 28]\n",
      "[26, 26, 1, 2, 3, 13, 5, 4, 3, 0, 6, 0, 3, 29, 8, 8, 8, 8, 4, 6, 4, 3, 3, 3, 4, 0, 13, 13, 4, 4, 3, 3, 3, 4, 0, 6, 6, 30, 30, 6, 11, 6, 0, 12, 0, 14, 14, 14, 13, 4, 6, 4, 3, 19, 3, 4, 4, 6, 4, 6, 4, 6, 6, 4, 4, 4, 4, 6, 6, 6, 6, 6, 6, 4, 15, 4, 15, 3, 13, 13, 16, 0, 3, 4, 17, 13, 4, 4, 13, 15, 13, 30, 25, 6, 6, 6, 3, 19, 4, 19, 20, 20, 3, 0, 6, 21, 17, 3, 22, 3, 22, 22, 6, 22, 23, 21, 21, 24, 21, 24, 21, 3, 3, 26, 27, 4, 27, 31]\n"
     ]
    }
   ],
   "source": [
    "app = []\n",
    "for i in range(len(input_raw)):\n",
    "    signal = 1\n",
    "    for j in range(len(app)):\n",
    "        if app[j]==input_raw[i]:\n",
    "            signal = 0\n",
    "            break \n",
    "    if signal!=0:\n",
    "        app.append(input_raw[i])\n",
    "for i in range(len(label_raw)):\n",
    "    signal = 1\n",
    "    for j in range(len(app)):\n",
    "        if app[j]==label_raw[i]:\n",
    "            signal = 0\n",
    "            break \n",
    "    if signal!=0:\n",
    "        app.append(label_raw[i])\n",
    "input = []\n",
    "for element in input_raw:\n",
    "    input.append(app.index(element))\n",
    "print(input)\n",
    "label = []\n",
    "for element in label_raw:\n",
    "    label.append(app.index(element))\n",
    "print(label)"
   ]
  },
  {
   "cell_type": "code",
   "execution_count": 5,
   "id": "6f00751e",
   "metadata": {},
   "outputs": [
    {
     "data": {
      "text/plain": [
       "32"
      ]
     },
     "execution_count": 5,
     "metadata": {},
     "output_type": "execute_result"
    }
   ],
   "source": [
    "feature_app = np.array(input)\n",
    "np_label = np.array(label)\n",
    "feature_app = feature_app.reshape(len(input_raw),1)\n",
    "len(app)"
   ]
  },
  {
   "cell_type": "code",
   "execution_count": 6,
   "id": "923a7270",
   "metadata": {},
   "outputs": [
    {
     "data": {
      "text/plain": [
       "(128, 1)"
      ]
     },
     "execution_count": 6,
     "metadata": {},
     "output_type": "execute_result"
    }
   ],
   "source": [
    "feature_app.shape"
   ]
  },
  {
   "cell_type": "code",
   "execution_count": 7,
   "id": "b4b1bc3f",
   "metadata": {},
   "outputs": [
    {
     "data": {
      "text/plain": [
       "(128,)"
      ]
     },
     "execution_count": 7,
     "metadata": {},
     "output_type": "execute_result"
    }
   ],
   "source": [
    "X = scaler.fit_transform(feature_app)\n",
    "y = np_label\n",
    "y.shape"
   ]
  },
  {
   "cell_type": "code",
   "execution_count": 8,
   "id": "9cc3ab47",
   "metadata": {},
   "outputs": [],
   "source": [
    "X_train, X_test, y_train, y_test = train_test_split(X, y, random_state=0)"
   ]
  },
  {
   "cell_type": "markdown",
   "id": "99e1c971",
   "metadata": {},
   "source": [
    "## kNN Model:"
   ]
  },
  {
   "cell_type": "code",
   "execution_count": 9,
   "id": "d6560f4a",
   "metadata": {},
   "outputs": [
    {
     "name": "stdout",
     "output_type": "stream",
     "text": [
      "0.25\n"
     ]
    }
   ],
   "source": [
    "kNN = KNeighborsClassifier(n_neighbors=7, weights='distance').fit(X_train,y_train) #probabilistic \n",
    "model_1_kNN = kNN.score(X_test, y_test)\n",
    "print(model_1_kNN)"
   ]
  },
  {
   "cell_type": "markdown",
   "id": "a009699f",
   "metadata": {},
   "source": [
    "# Random Forest Model:"
   ]
  },
  {
   "cell_type": "code",
   "execution_count": 10,
   "id": "51131c16",
   "metadata": {},
   "outputs": [
    {
     "name": "stdout",
     "output_type": "stream",
     "text": [
      "0.25\n"
     ]
    }
   ],
   "source": [
    "rf = RandomForestClassifier(n_estimators=30)\n",
    "rf.fit(X_train,y_train)\n",
    "model_1_rf = rf.score(X_test, y_test)\n",
    "print(model_1_rf)"
   ]
  },
  {
   "cell_type": "markdown",
   "id": "40612ecd",
   "metadata": {},
   "source": [
    "# 2. Model plus video features:\n",
    "\n",
    "Video features are extracted from .csv file\n",
    "Still with 3 different time windows"
   ]
  },
  {
   "cell_type": "code",
   "execution_count": 11,
   "id": "c3cde1ca",
   "metadata": {},
   "outputs": [],
   "source": [
    "def extractFeatures(df_temp, switchingTime, sessionStartTime, timeWindow):\n",
    "    df = df_temp.iloc[:,2:]\n",
    "    index_timestamp_list=[]\n",
    "    for index,timestamp in df[\"timestamp\"].items():\n",
    "        if timestamp >= (switchingTime-sessionStartTime)/1_000_000_000 - timeWindow and timestamp <= (switchingTime-sessionStartTime)/1_000_000_000:\n",
    "            index_timestamp_list.append(index)\n",
    "\n",
    "    df_timestamp_window = pd.DataFrame(columns=df.columns.values.tolist())\n",
    "    for i in index_timestamp_list:\n",
    "        df_timestamp_window=df_timestamp_window.append(df.iloc[i],ignore_index=True)\n",
    "\n",
    "    index_confidence_list=[]\n",
    "    for index,confidence in df_timestamp_window[\"confidence\"].items():#use confidence or we could use \"sucess==1\" to check the validity\n",
    "        if confidence > 0.8:\n",
    "            index_confidence_list.append(index)\n",
    "\n",
    "    df_window = pd.DataFrame(columns=df.columns.values.tolist())#contains the valid and high confidence features for all frames during the time window\n",
    "    for i in index_confidence_list:\n",
    "        df_window=df_window.append(df_timestamp_window.iloc[i],ignore_index=True)\n",
    "\n",
    "    #df_window.mean()series form of all averaged value for the features during the time window\n",
    "    video_mean_features = df_window.mean().values[3:11]#final features for one switch (291 video features totally)\n",
    "    video_var_features = df_window.var().values[3:11]\n",
    "    video_std_features = df_window.std().values[3:11]\n",
    "    return video_mean_features, video_var_features, video_std_features"
   ]
  },
  {
   "cell_type": "code",
   "execution_count": 12,
   "id": "dd32eae3",
   "metadata": {
    "scrolled": true
   },
   "outputs": [
    {
     "name": "stdout",
     "output_type": "stream",
     "text": [
      "Recording 000\n",
      "Recording 001\n",
      "Session 0000\n",
      "Session 0001\n",
      "Recording 002\n",
      "Session 0000\n",
      "Recording 003\n",
      "Session 0000\n",
      "Recording 004\n",
      "Session 0000\n",
      "Recording 005\n",
      "Session 0000\n",
      "Recording 006\n",
      "Session 0000\n",
      "Session 0001\n",
      "Recording 007\n",
      "Session 0000\n",
      "Recording 008\n",
      "Session 0000\n",
      "Recording 009\n",
      "Session 0000\n",
      "Recording 010\n",
      "Session 0000\n",
      "Recording 011\n",
      "Session 0000\n",
      "Recording 012\n",
      "Recording 013\n",
      "Session 0000\n",
      "Recording 014\n",
      "Session 0000\n",
      "Recording 015\n",
      "Session 0000\n",
      "Recording 016\n",
      "Session 0000\n",
      "Recording 017\n",
      "Session 0001\n",
      "Recording 018\n",
      "Session 0000\n",
      "Recording 019\n",
      "Session 0000\n",
      "Recording 020\n",
      "Session 0000\n",
      "Recording 021\n",
      "Session 0000\n",
      "Recording 022\n",
      "Session 0000\n",
      "Recording 023\n",
      "Session 0000\n",
      "Recording 024\n",
      "Session 0000\n",
      "Recording 025\n",
      "Session 0000\n",
      "Session 0001\n",
      "Recording 026\n",
      "Session 0000\n",
      "Recording 027\n",
      "Session 0000\n",
      "Recording 028\n",
      "Session 0000\n",
      "Recording 029\n",
      "Session 0000\n",
      "Recording 030\n",
      "Session 0000\n",
      "Recording 031\n",
      "Session 0000\n",
      "Recording 032\n",
      "Session 0000\n",
      "Session 0001\n",
      "Recording 033\n",
      "Session 0000\n",
      "Session 0001\n",
      "Recording 034\n",
      "Session 0000\n",
      "Recording 035\n",
      "Session 0000\n",
      "Session 0001\n",
      "Session 0003\n",
      "Recording 036\n",
      "Session 0000\n",
      "Recording 037\n",
      "Session 0000\n",
      "Recording 038\n",
      "Session 0000\n",
      "Recording 039\n",
      "Session 0000\n",
      "Recording 040\n",
      "Session 0000\n",
      "Recording 041\n",
      "Session 0000\n",
      "Recording 042\n",
      "Session 0000\n",
      "Recording 043\n",
      "Session 0000\n",
      "Recording 044\n",
      "Session 0000\n",
      "Recording 045\n",
      "Session 0000\n",
      "Recording 046\n",
      "Session 0000\n",
      "Recording 047\n",
      "Session 0000\n",
      "Recording 048\n",
      "Session 0000\n",
      "Recording 049\n",
      "Session 0000\n",
      "Recording 050\n",
      "Session 0000\n",
      "Session 0001\n",
      "Recording 051\n",
      "Session 0000\n",
      "Recording 052\n",
      "Session 0000\n",
      "Recording 053\n",
      "Session 0000\n",
      "Recording 054\n",
      "Session 0000\n",
      "Recording 055\n",
      "Session 0000\n",
      "Recording 056\n",
      "Session 0000\n",
      "Recording 057\n",
      "Session 0000\n",
      "Recording 058\n",
      "Session 0000\n",
      "Recording 059\n",
      "Session 0000\n",
      "Recording 060\n",
      "Session 0000\n",
      "Recording 061\n",
      "Session 0000\n",
      "Recording 062\n",
      "Session 0000\n",
      "Recording 063\n",
      "Session 0000\n",
      "Session 0001\n",
      "Recording 064\n",
      "Session 0000\n",
      "Session 0001\n",
      "Recording 065\n",
      "Session 0000\n",
      "Recording 066\n",
      "Session 0000\n",
      "Session 0001\n",
      "Recording 067\n",
      "Session 0000\n",
      "Recording 068\n",
      "Session 0000\n",
      "Recording 069\n",
      "Session 0000\n",
      "Session 0001\n",
      "Session 0002\n",
      "Recording 070\n",
      "Session 0000\n",
      "Session 0001\n",
      "Recording 071\n",
      "Session 0000\n",
      "Recording 072\n",
      "Session 0000\n",
      "Recording 073\n",
      "Session 0000\n",
      "Session 0001\n",
      "Recording 074\n",
      "Session 0000\n",
      "Recording 075\n",
      "Session 0000\n",
      "Session 0001\n",
      "Session 0002\n",
      "Session 0003\n",
      "Session 0004\n",
      "Session 0005\n",
      "Session 0006\n",
      "Session 0007\n",
      "Session 0008\n",
      "Recording 076\n",
      "Session 0000\n",
      "Recording 077\n",
      "Session 0000\n",
      "Session 0001\n",
      "Session 0002\n",
      "Session 0003\n",
      "Session 0004\n",
      "Recording 078\n",
      "Recording 079\n",
      "Session 0000\n",
      "Recording 080\n",
      "Session 0000\n",
      "Recording 081\n",
      "Session 0000\n",
      "Recording 082\n",
      "Session 0000\n",
      "Recording 083\n",
      "Session 0000\n",
      "Recording 084\n",
      "Session 0000\n",
      "Recording 085\n",
      "Session 0000\n",
      "Session 0001\n",
      "Recording 086\n",
      "Session 0000\n",
      "Recording 087\n",
      "Session 0000\n",
      "Recording 088\n",
      "Session 0000\n",
      "Recording 089\n",
      "Session 0000\n",
      "Recording 090\n",
      "Session 0000\n",
      "Recording 091\n",
      "Session 0000\n",
      "Recording 092\n",
      "Session 0000\n",
      "Recording 093\n",
      "Session 0000\n",
      "Recording 094\n",
      "Session 0000\n",
      "Recording 095\n",
      "Session 0000\n",
      "Session 0001\n",
      "Session 0002\n",
      "Session 0003\n",
      "Session 0004\n",
      "Recording 096\n",
      "Session 0000\n",
      "Recording 097\n",
      "Session 0000\n",
      "Recording 098\n",
      "Session 0000\n",
      "Recording 099\n",
      "Session 0000\n",
      "Recording 100\n",
      "Session 0000\n",
      "Recording 101\n",
      "Session 0000\n",
      "Recording 102\n",
      "Session 0000\n",
      "Recording 103\n",
      "Session 0000\n",
      "Session 0001\n",
      "Session 0002\n",
      "Recording 104\n",
      "Session 0000\n",
      "Recording 105\n",
      "Session 0000\n",
      "Recording 106\n",
      "Session 0000\n",
      "Recording 107\n",
      "Session 0000\n",
      "Recording 108\n",
      "Session 0000\n",
      "Recording 109\n",
      "Session 0000\n",
      "Session 0001\n",
      "Recording 110\n",
      "Session 0000\n",
      "Session 0001\n",
      "Session 0002\n",
      "Session 0003\n",
      "Recording 111\n",
      "Session 0000\n",
      "Session 0001\n",
      "Recording 112\n",
      "Session 0000\n",
      "Recording 113\n",
      "Session 0000\n",
      "Session 0001\n",
      "Recording 114\n",
      "Session 0000\n",
      "Recording 115\n",
      "Session 0000\n",
      "Recording 116\n",
      "Session 0000\n",
      "Recording 117\n",
      "Session 0000\n",
      "Recording 118\n",
      "Session 0000\n",
      "Session 0001\n",
      "Recording 119\n",
      "Session 0000\n",
      "Session 0001\n",
      "Recording 120\n",
      "Session 0000\n",
      "Session 0001\n",
      "Recording 121\n",
      "Session 0000\n",
      "Recording 122\n",
      "Session 0000\n",
      "Recording 123\n",
      "Session 0000\n",
      "Recording 124\n",
      "Recording 125\n",
      "Session 0000\n",
      "Recording 126\n",
      "Session 0000\n",
      "Recording 127\n",
      "Session 0000\n",
      "[2, 3, 4, 5, 6, 7, 8, 9, 13, 19, 20, 21, 22, 23, 24, 25, 26, 27, 29, 30, 31, 32, 33, 34, 35, 36, 37, 38, 39, 40, 41, 42, 43, 44, 46, 47, 49, 51, 52, 53, 54, 55, 56, 57, 58, 59, 60, 61, 62, 64, 65, 66, 67, 68, 69, 70, 71, 72, 73, 74, 75, 76, 77, 78, 79, 80, 81, 82, 83, 84, 85, 86, 87, 88, 89, 90, 91, 92, 95, 96, 97, 98, 99, 100, 101, 102, 103, 104, 105, 106, 107, 108, 109, 110, 111, 112, 113, 114, 115, 116, 117, 118, 119, 120, 121, 123, 124, 125, 126, 127]\n"
     ]
    }
   ],
   "source": [
    "# video features in the past timeWindow=3/5/10 seconds\n",
    "timeWindow = 3\n",
    "list_mean_features_video = []\n",
    "list_var_features_video = []\n",
    "list_std_features_video = []\n",
    "valid_index=[]\n",
    "\n",
    "for recording in os.listdir(account_path):\n",
    "    recording_path = os.path.join (account_path, str(recording))\n",
    "    \n",
    "    assert(os.path.exists(recording_path))\n",
    "\n",
    "    print(recording)\n",
    "    \n",
    "    # open each of the recording file\n",
    "    \n",
    "    with open (os.path.join(recording_path, \"video_data.txt\")) as video_file:\n",
    "        video_data = json.load(video_file)[\"video_data\"]\n",
    "    \n",
    "        #num_session = len(video_data)\n",
    "        #????????????????????????????????????????????? something wrong with the video_data for recording 001&002\n",
    "        \n",
    "        # count the number of sessions\n",
    "        list_session = []\n",
    "        for file in os.listdir(recording_path):\n",
    "            if str(file)[:7] == \"Session\":\n",
    "                list_session.append(str(file))\n",
    "        \n",
    "        if list_session==[]:\n",
    "            continue\n",
    "        \n",
    "        \n",
    "        # open each of the session file\n",
    "        for session in list_session:\n",
    "            session_path = os.path.join(recording_path, session)\n",
    "            \n",
    "            assert(os.path.exists(session_path))\n",
    "            \n",
    "            #get the timestamp which the video started recording\n",
    "            sessionStartTime = video_data[int(session[-1])][\"startTime\"]\n",
    "            sessionStopTime = video_data[int(session[-1])][\"stopTime\"]\n",
    "            \n",
    "            \n",
    "            if os.path.exists((os.path.join(session_path, \"r_video.csv\")))==False:\n",
    "                continue\n",
    "            df_temp = pd.read_csv(os.path.join(session_path, \"r_video.csv\"))\n",
    "\n",
    "            print(session)\n",
    "  \n",
    "            for switchingTime in feature_switchingTime:\n",
    "                if switchingTime < sessionStopTime and switchingTime > sessionStartTime:\n",
    "\n",
    "                    mean_video_features_switching, var_video_features_switching, std_video_features_switching = extractFeatures(df_temp, switchingTime, sessionStartTime, timeWindow)\n",
    "                    if mean_video_features_switching.dtype=='float64' and var_video_features_switching.dtype=='float64' and std_video_features_switching.dtype=='float64':\n",
    "                        valid_index.append(feature_switchingTime.index(switchingTime))\n",
    "                        list_mean_features_video.append(mean_video_features_switching.tolist())\n",
    "                        list_var_features_video.append(var_video_features_switching.tolist())\n",
    "                        list_std_features_video.append(std_video_features_switching.tolist())\n",
    "features_mean_video = np.array(list_mean_features_video)\n",
    "features_var_video = np.array(list_var_features_video)\n",
    "features_std_video = np.array(list_std_features_video)\n",
    "print(valid_index)"
   ]
  },
  {
   "cell_type": "code",
   "execution_count": 13,
   "id": "c6ed0d2f",
   "metadata": {},
   "outputs": [],
   "source": [
    "# There's a shrinkage of the dataset between feature_video(110) and feature_app(128)\n",
    "# The problems can be:\n",
    "# 1. There are no Session document in Recording but video_data and application_data show the application switching\n",
    "# 2. Video_data shows there are n totally sessions but only m(m<n) sessions instead"
   ]
  },
  {
   "cell_type": "code",
   "execution_count": 14,
   "id": "38afb197",
   "metadata": {},
   "outputs": [
    {
     "name": "stdout",
     "output_type": "stream",
     "text": [
      "(110, 1)\n"
     ]
    }
   ],
   "source": [
    "feature_valid_app=[]\n",
    "feature_valid_switchingTime=[]\n",
    "valid_label=[]\n",
    "for index in valid_index:\n",
    "    feature_valid_app.append(feature_app[index][0])\n",
    "    feature_valid_switchingTime.append(feature_switchingTime[index])\n",
    "    valid_label.append(np_label[index])\n",
    "feature_valid_app = np.array(feature_valid_app).reshape(len(feature_valid_app),1)\n",
    "valid_label = np.array(valid_label)\n",
    "print(feature_valid_app.shape)"
   ]
  },
  {
   "cell_type": "code",
   "execution_count": 15,
   "id": "e037fd09",
   "metadata": {},
   "outputs": [
    {
     "data": {
      "text/plain": [
       "(110,)"
      ]
     },
     "execution_count": 15,
     "metadata": {},
     "output_type": "execute_result"
    }
   ],
   "source": [
    "valid_label.shape"
   ]
  },
  {
   "cell_type": "markdown",
   "id": "5ae38735",
   "metadata": {},
   "source": [
    "# Feature of app category:"
   ]
  },
  {
   "cell_type": "code",
   "execution_count": 16,
   "id": "b9acb24a",
   "metadata": {},
   "outputs": [
    {
     "data": {
      "text/plain": [
       "['com.google.android.gm',\n",
       " 'com.apple.android.music',\n",
       " 'com.google.android.apps.books',\n",
       " 'com.instagram.android',\n",
       " 'com.whatsapp',\n",
       " 'com.huawei.systemmanager',\n",
       " 'com.android.chrome',\n",
       " 'com.huawei.search',\n",
       " 'com.wahanda.marketplace',\n",
       " 'com.ohh2ahh.zuerimensa',\n",
       " 'com.huawei.camera',\n",
       " 'com.android.calendar',\n",
       " 'com.microsoft.office.word',\n",
       " 'com.facebook.katana',\n",
       " 'com.android.incallui',\n",
       " 'com.google.android.apps.maps',\n",
       " 'com.android.settings',\n",
       " 'com.huawei.android.internal.app',\n",
       " 'ch.admin.meteoswiss',\n",
       " 'com.google.android.youtube',\n",
       " 'com.android.contacts',\n",
       " 'com.android.gallery3d',\n",
       " 'com.example.android.notepad',\n",
       " 'com.adobe.lrmobile',\n",
       " 'com.huawei.himovie.overseas',\n",
       " 'com.thisclicks.wiw',\n",
       " 'com.android.deskclock',\n",
       " 'com.pinterest',\n",
       " 'com.android.vending',\n",
       " 'com.huawei.android.hwouc',\n",
       " 'com.netflix.mediaclient',\n",
       " 'com.contextlogic.wish']"
      ]
     },
     "execution_count": 16,
     "metadata": {},
     "output_type": "execute_result"
    }
   ],
   "source": [
    "app"
   ]
  },
  {
   "cell_type": "code",
   "execution_count": 17,
   "id": "b44ccbe1",
   "metadata": {},
   "outputs": [],
   "source": [
    "category = ['financial', 'explorer', 'tools', 'shopping_food_travel',  'sports', 'efficiency', 'entertainment', 'social_media', 'system', 'others']\n",
    "dict_app = {'financial': ['ro.bcr.georgego','com.eTokenBCR','com.revolut.revolut', 'com.ubs.swidKXJ.android', 'com.ubs.swidK2Y.android',],\n",
    "                   'explorer': [ 'com.android.chrome','com.android.browser', 'com.android.htmlviewer','com.android.chrome', 'com.UCMobile.intl'],\n",
    "                   'tools': [ 'com.huawei.search', 'com.android.calendar','com.google.android.apps.maps', 'ch.admin.meteoswiss','com.android.deskclock','com.android.deskclock','com.google.android.apps.maps','com.android.calendar', 'com.weather.Weather'],\n",
    "                   'shopping_food_travel': [ 'com.wahanda.marketplace', 'com.contextlogic.wish', 'com.fision',  'com.app.tgtg', 'com.airbnb.android'],\n",
    "                   'sports': [ 'com.espn.score_center', 'de.motain.iliga', 'com.popularapp.thirtydayfitnesschallenge', 'com.bleacherreport.android.teamstream', 'ch.publibike.app', 'homedia.sky.sport'],\n",
    "                   'efficiency': ['com.google.android.gm', 'com.microsoft.office.word','com.example.android.notepad', 'com.thisclicks.wiw','com.google.android.googlequicksearchbox','com.google.android.gm','com.google.android.gms', 'com.android.email', 'com.google.android.apps.translate', 'cn.wps.moffice_eng'],\n",
    "                   'entertainment': ['com.apple.android.music','com.google.android.apps.books', 'com.huawei.camera', 'com.google.android.youtube', 'com.adobe.lrmobile','com.huawei.himovie.overseas', 'com.netflix.mediaclient','com.google.android.youtube','com.spotify.music', 'com.android.camera', 'com.miui.player', 'fm.player'],\n",
    "                   'social_media': ['com.instagram.android', 'com.whatsapp','com.facebook.katana', 'com.android.contacts', 'com.pinterest','com.instagram.android', 'com.whatsapp', 'com.facebook.orca', 'com.facebook.katana', 'com.android.mms','com.android.contacts','jp.naver.line.android',  'com.Slack'],\n",
    "                   'system': [ 'com.huawei.systemmanager', 'com.ohh2ahh.zuerimensa', 'com.android.incallui','com.android.settings', 'com.huawei.android.internal.app', 'com.android.gallery3d','com.android.vending', 'com.huawei.android.hwouc','com.miui.gallery', 'com.android.settings', 'com.miui.securitycenter', 'com.miui.cleanmaster', 'com.android.providers.downloads.ui', 'com.android.vending',  'com.android.systemui', 'com.android.incallui', 'com.mi.android.globalFileexplorer','android']\n",
    "                  }"
   ]
  },
  {
   "cell_type": "code",
   "execution_count": 18,
   "id": "9c279ad7",
   "metadata": {},
   "outputs": [
    {
     "data": {
      "text/plain": [
       "(128, 1)"
      ]
     },
     "execution_count": 18,
     "metadata": {},
     "output_type": "execute_result"
    }
   ],
   "source": [
    "list_feature_app_category = []\n",
    "for digit in input:\n",
    "    for key, value in dict_app.items():\n",
    "        for element in value:\n",
    "            if element== app[digit]:\n",
    "                list_feature_app_category.append(category.index(key))\n",
    "                break\n",
    "feature_app_category = np.array(list_feature_app_category).reshape(len(list_feature_app_category),1)\n",
    "feature_app_category.shape"
   ]
  },
  {
   "cell_type": "code",
   "execution_count": 19,
   "id": "c4db656d",
   "metadata": {},
   "outputs": [
    {
     "name": "stdout",
     "output_type": "stream",
     "text": [
      "(110, 1)\n"
     ]
    }
   ],
   "source": [
    "feature_valid_app_category=[]\n",
    "for index in valid_index:\n",
    "    feature_valid_app_category.append(feature_app_category[index][0])\n",
    "feature_valid_app_category = np.array(feature_valid_app_category).reshape(len(feature_valid_app_category),1)\n",
    "print(feature_valid_app_category.shape)"
   ]
  },
  {
   "cell_type": "markdown",
   "id": "07cc5c35",
   "metadata": {},
   "source": [
    "# Label with categories"
   ]
  },
  {
   "cell_type": "code",
   "execution_count": 20,
   "id": "8b4f18dd",
   "metadata": {},
   "outputs": [
    {
     "data": {
      "text/plain": [
       "(128, 1)"
      ]
     },
     "execution_count": 20,
     "metadata": {},
     "output_type": "execute_result"
    }
   ],
   "source": [
    "list_label_category = []\n",
    "for digit in label:\n",
    "    for key, value in dict_app.items():\n",
    "        for element in value:\n",
    "            if element== app[digit]:\n",
    "                list_label_category.append(category.index(key))\n",
    "                break\n",
    "label_category = np.array(list_label_category).reshape(len(list_label_category),1)\n",
    "label_category.shape"
   ]
  },
  {
   "cell_type": "code",
   "execution_count": 21,
   "id": "fc044b83",
   "metadata": {},
   "outputs": [
    {
     "name": "stdout",
     "output_type": "stream",
     "text": [
      "[6 6 7 7 8 7 7 5 8 1 7 7 7 7 7 5 7 7 7 7 7 7 7 5 1 1 6 6 1 2 1 5 5 5 8 8 7\n",
      " 7 7 6 7 7 7 1 7 1 7 1 1 7 7 7 1 1 1 1 1 1 7 2 7 2 7 7 7 8 5 7 7 8 7 7 7 7\n",
      " 2 7 6 5 1 7 6 7 6 7 7 7 5 1 8 8 7 5 7 5 5 1 5 6 8 8 6 8 6 8 7 2 7 7 7 3]\n"
     ]
    }
   ],
   "source": [
    "label_valid_category=[]\n",
    "for index in valid_index:\n",
    "    label_valid_category.append(label_category[index][0])\n",
    "label_valid_category = np.array(label_valid_category).reshape(len(label_valid_category),)\n",
    "print(label_valid_category)"
   ]
  },
  {
   "cell_type": "markdown",
   "id": "4e639d37",
   "metadata": {},
   "source": [
    "# Feature of app frequency"
   ]
  },
  {
   "cell_type": "code",
   "execution_count": 22,
   "id": "c80e60d1",
   "metadata": {},
   "outputs": [
    {
     "data": {
      "text/plain": [
       "(128, 1)"
      ]
     },
     "execution_count": 22,
     "metadata": {},
     "output_type": "execute_result"
    }
   ],
   "source": [
    "hash_app_frequency = {}\n",
    "for digit in input:\n",
    "    hash_app_frequency[digit] = (hash_app_frequency.get(digit, 0) + 1)\n",
    "for digit in label:\n",
    "    hash_app_frequency[digit] = (hash_app_frequency.get(digit, 0) + 1)\n",
    "    \n",
    "list_app_frequency = []\n",
    "for digit in input:\n",
    "    list_app_frequency.append(hash_app_frequency.get(digit, 0))\n",
    "feature_app_frequency = np.array(list_app_frequency).reshape(len(list_app_frequency),1)\n",
    "feature_app_frequency.shape"
   ]
  },
  {
   "cell_type": "code",
   "execution_count": 23,
   "id": "c366300d",
   "metadata": {
    "scrolled": false
   },
   "outputs": [
    {
     "name": "stdout",
     "output_type": "stream",
     "text": [
      "(110, 1)\n"
     ]
    }
   ],
   "source": [
    "feature_valid_app_frequency=[]\n",
    "for index in valid_index:\n",
    "    feature_valid_app_frequency.append(feature_app_frequency[index][0])\n",
    "feature_valid_app_frequency = np.array(feature_valid_app_frequency).reshape(len(feature_valid_app_frequency),1)\n",
    "print(feature_valid_app_frequency.shape)"
   ]
  },
  {
   "cell_type": "markdown",
   "id": "0e7d995e",
   "metadata": {},
   "source": [
    "# Feature Duration"
   ]
  },
  {
   "cell_type": "code",
   "execution_count": 24,
   "id": "f576793f",
   "metadata": {},
   "outputs": [
    {
     "name": "stdout",
     "output_type": "stream",
     "text": [
      "(110, 1)\n"
     ]
    }
   ],
   "source": [
    "feature_duration = np.array(duration).reshape(len(duration),1)\n",
    "feature_valid_duration = []\n",
    "for index in valid_index:\n",
    "    feature_valid_duration.append(feature_duration[index][0])\n",
    "feature_valid_duration = np.array(feature_valid_duration).reshape(len(feature_valid_duration),1)\n",
    "print(feature_valid_duration.shape)"
   ]
  },
  {
   "cell_type": "markdown",
   "id": "190578a1",
   "metadata": {},
   "source": [
    "# Feature TimeOfTheDay"
   ]
  },
  {
   "cell_type": "code",
   "execution_count": 25,
   "id": "4753d67e",
   "metadata": {},
   "outputs": [
    {
     "name": "stdout",
     "output_type": "stream",
     "text": [
      "(110, 1)\n"
     ]
    }
   ],
   "source": [
    "# switching time:\n",
    "feature_switchingTime = []\n",
    "for element in temp_switchingTime:\n",
    "    feature_switchingTime.append(int(element))\n",
    "\n",
    "    \n",
    "# switching timedate\n",
    "temp = []\n",
    "for index in range(len(temp_switchingTimeDate)):\n",
    "    temp.append(temp_switchingTimeDate[index][11:13]+temp_switchingTimeDate[index][14:16]+temp_switchingTimeDate[index][17:19])\n",
    "feature_switchingTimeDate = []\n",
    "for element in temp:\n",
    "    feature_switchingTimeDate.append(int(element))\n",
    "tt_feature_switchingTimeDate = np.array(feature_switchingTimeDate).reshape(len(feature_switchingTimeDate),1)\n",
    "feature_valid_switchingTimeDate = []\n",
    "for index in valid_index:\n",
    "    feature_valid_switchingTimeDate.append(tt_feature_switchingTimeDate[index][0])\n",
    "feature_valid_switchingTimeDate = np.array(feature_valid_switchingTimeDate).reshape(len(feature_valid_switchingTimeDate),1)\n",
    "print(feature_valid_switchingTimeDate.shape)"
   ]
  },
  {
   "cell_type": "markdown",
   "id": "610d3ae4",
   "metadata": {},
   "source": [
    "# Feature DeviceStatus(3/5/10)"
   ]
  },
  {
   "cell_type": "code",
   "execution_count": 26,
   "id": "610f97d7",
   "metadata": {},
   "outputs": [
    {
     "name": "stdout",
     "output_type": "stream",
     "text": [
      "128\n"
     ]
    }
   ],
   "source": [
    "deviceStatus3=[0]*len(feature_switchingTime)\n",
    "deviceStatus5=[0]*len(feature_switchingTime)\n",
    "deviceStatus10=[0]*len(feature_switchingTime)\n",
    "for recording in os.listdir(account_path):\n",
    "    recording_path = os.path.join (account_path, str(recording))\n",
    "    \n",
    "    assert(os.path.exists(recording_path))\n",
    "\n",
    "\n",
    "    # open each of the recording file\n",
    "    \n",
    "    with open (os.path.join(recording_path, \"video_data.txt\")) as video_file:\n",
    "        video_data = json.load(video_file)[\"video_data\"]\n",
    "        #num_session = len(video_data)\n",
    "        #????????????????????????????????????????????? something wrong with the video_data for recording 001&002\n",
    "        \n",
    "            \n",
    "        with open(os.path.join(recording_path, \"device_data.txt\")) as device_file:\n",
    "            device_data = json.load(device_file)[\"device_data\"]\n",
    "\n",
    "            for d_index in range(len(device_data)):\n",
    "                for s_index in range(len(feature_switchingTime)):\n",
    "                    if device_data[d_index][\"time\"] >= feature_switchingTime[s_index] - 3*1_000_000_000 and device_data[d_index][\"time\"] <= feature_switchingTime[s_index]:\n",
    "                        deviceStatus3[s_index]+=1\n",
    "                    if device_data[d_index][\"time\"] >= feature_switchingTime[s_index] - 5*1_000_000_000 and device_data[d_index][\"time\"] <= feature_switchingTime[s_index]:\n",
    "                        deviceStatus5[s_index]+=1                    \n",
    "                    if device_data[d_index][\"time\"] >= feature_switchingTime[s_index] - 10*1_000_000_000 and device_data[d_index][\"time\"] <= feature_switchingTime[s_index]:\n",
    "                        deviceStatus10[s_index]+=1            \n",
    "print(len(deviceStatus3))"
   ]
  },
  {
   "cell_type": "code",
   "execution_count": 27,
   "id": "d419ee25",
   "metadata": {},
   "outputs": [
    {
     "name": "stdout",
     "output_type": "stream",
     "text": [
      "(110, 1)\n"
     ]
    }
   ],
   "source": [
    "feature_deviceStatus3 = np.array(deviceStatus3).reshape(len(deviceStatus3),1)\n",
    "feature_valid_deviceStatus3 = []\n",
    "for index in valid_index:\n",
    "    feature_valid_deviceStatus3.append(feature_deviceStatus3[index][0])\n",
    "feature_valid_deviceStatus3 = np.array(feature_valid_deviceStatus3).reshape(len(feature_valid_deviceStatus3),1)\n",
    "print(feature_valid_deviceStatus3.shape)"
   ]
  },
  {
   "cell_type": "markdown",
   "id": "d35901d7",
   "metadata": {},
   "source": [
    "# Feature TouchEvent(3/5/10)"
   ]
  },
  {
   "cell_type": "code",
   "execution_count": 28,
   "id": "d8de8da4",
   "metadata": {},
   "outputs": [
    {
     "name": "stdout",
     "output_type": "stream",
     "text": [
      "128\n"
     ]
    }
   ],
   "source": [
    "# touch data: happened touch events in the past 3/5/10 seconds\n",
    "touchTimes_data3=[0]*len(feature_switchingTime)\n",
    "touchTimes_data5=[0]*len(feature_switchingTime)\n",
    "touchTimes_data10=[0]*len(feature_switchingTime)\n",
    "for recording in os.listdir(account_path):\n",
    "    recording_path = os.path.join (account_path, str(recording))\n",
    "    \n",
    "    assert(os.path.exists(recording_path))\n",
    "\n",
    "\n",
    "    # open each of the recording file\n",
    "    \n",
    "    with open (os.path.join(recording_path, \"video_data.txt\")) as video_file:\n",
    "        video_data = json.load(video_file)[\"video_data\"]\n",
    "        #num_session = len(video_data)\n",
    "        #????????????????????????????????????????????? something wrong with the video_data for recording 001&002\n",
    "        \n",
    "\n",
    "        for file in os.listdir(recording_path):\n",
    "            if str(file)[:7] == \"Session\":\n",
    "                # open each of the session file\n",
    "                session_path = os.path.join(recording_path, str(file))\n",
    "\n",
    "                assert(os.path.exists(session_path))\n",
    "\n",
    "                with open(os.path.join(session_path, \"touch_data.txt\")) as touch_file:\n",
    "                    touch_data = json.load(touch_file)[\"touch_data\"]\n",
    "\n",
    "                    for t_index in range(len(touch_data)):\n",
    "                        for s_index in range(len(feature_switchingTime)):\n",
    "                            if touch_data[t_index][\"time\"] >= feature_switchingTime[s_index] - 3*1_000_000_000 and touch_data[t_index][\"time\"] <= feature_switchingTime[s_index]:\n",
    "                                touchTimes_data3[s_index]+=1\n",
    "                            if touch_data[t_index][\"time\"] >= feature_switchingTime[s_index] - 5*1_000_000_000 and touch_data[t_index][\"time\"] <= feature_switchingTime[s_index]:\n",
    "                                touchTimes_data5[s_index]+=1                    \n",
    "                            if touch_data[t_index][\"time\"] >= feature_switchingTime[s_index] - 10*1_000_000_000 and touch_data[t_index][\"time\"] <= feature_switchingTime[s_index]:\n",
    "                                touchTimes_data10[s_index]+=1            \n",
    "print(len(touchTimes_data3))"
   ]
  },
  {
   "cell_type": "code",
   "execution_count": 29,
   "id": "94de932e",
   "metadata": {},
   "outputs": [
    {
     "name": "stdout",
     "output_type": "stream",
     "text": [
      "(110, 1)\n"
     ]
    }
   ],
   "source": [
    "feature_touchTimes3 = np.array(touchTimes_data3).reshape(len(touchTimes_data3),1)\n",
    "feature_valid_touchTimes3 = []\n",
    "for index in valid_index:\n",
    "    feature_valid_touchTimes3.append(feature_touchTimes3[index][0])\n",
    "feature_valid_touchTimes3 = np.array(feature_valid_touchTimes3).reshape(len(feature_valid_touchTimes3),1)\n",
    "print(feature_valid_touchTimes3.shape)"
   ]
  },
  {
   "cell_type": "markdown",
   "id": "4ce5b1d4",
   "metadata": {},
   "source": [
    "# valid Label"
   ]
  },
  {
   "cell_type": "code",
   "execution_count": 30,
   "id": "1859536a",
   "metadata": {},
   "outputs": [
    {
     "name": "stdout",
     "output_type": "stream",
     "text": [
      "(110,)\n"
     ]
    }
   ],
   "source": [
    "label_app = np.array(label).reshape(len(label),1)\n",
    "label_valid_app=[]\n",
    "for index in valid_index:\n",
    "    label_valid_app.append(label_app[index][0])\n",
    "label_valid_app = np.array(label_valid_app).reshape(len(label_valid_category),)\n",
    "print(label_valid_app.shape)"
   ]
  },
  {
   "cell_type": "markdown",
   "id": "b8007940",
   "metadata": {},
   "source": [
    "# Function"
   ]
  },
  {
   "cell_type": "code",
   "execution_count": 31,
   "id": "d6bbbfd5",
   "metadata": {},
   "outputs": [],
   "source": [
    "def predict_top_k(X_test, y_test, model, k=3):\n",
    "\n",
    "    probs = model.predict_proba(X_test)\n",
    "    labels = model.classes_\n",
    "    result = 0\n",
    "\n",
    "    for i in range(probs.shape[0]):\n",
    "        a = probs[i]\n",
    "        index = heapq.nlargest(k, range(probs.shape[1]), a.take)\n",
    "        for element in index:\n",
    "            if labels[element] == y_test[i]:\n",
    "                result+=1\n",
    "    \n",
    "    return result/y_test.shape[0]\n",
    "\n",
    "def kNN_training (feature, label):\n",
    "    valid_X = scaler.fit_transform(feature)\n",
    "    valid_y = label\n",
    "    X_train, X_test, y_train, y_test = train_test_split(valid_X, valid_y, random_state=0)\n",
    "    model = KNeighborsClassifier(n_neighbors=7, weights='uniform').fit(X_train,y_train)\n",
    "    accuracy = model.score(X_test, y_test)\n",
    "    top_accuracy4 = predict_top_k(X_test, y_test, model, k=4)\n",
    "    top_accuracy8 = predict_top_k(X_test, y_test, model, k=8)\n",
    "    return accuracy, top_accuracy4, top_accuracy8\n",
    "\n",
    "def rf_training (feature, label):\n",
    "    valid_X = scaler.fit_transform(feature)\n",
    "    valid_y = label\n",
    "    X_train, X_test, y_train, y_test = train_test_split(valid_X, valid_y, random_state=0)\n",
    "    model = RandomForestClassifier(n_estimators=50).fit(X_train,y_train)\n",
    "    accuracy = model.score(X_test, y_test)\n",
    "    top_accuracy4 = predict_top_k(X_test, y_test, model, k=4)\n",
    "    top_accuracy8 = predict_top_k(X_test, y_test, model, k=8)\n",
    "    return accuracy, top_accuracy4, top_accuracy8\n",
    "\n",
    "def Ada_training (feature, label):\n",
    "    valid_X = scaler.fit_transform(feature)\n",
    "    valid_y = label\n",
    "    X_train, X_test, y_train, y_test = train_test_split(valid_X, valid_y, random_state=0)\n",
    "    model = AdaBoostClassifier(n_estimators=100, random_state=0).fit(X_train,y_train)\n",
    "    accuracy = model.score(X_test, y_test)\n",
    "    top_accuracy4 = predict_top_k(X_test, y_test, model, k=4)\n",
    "    top_accuracy8 = predict_top_k(X_test, y_test, model, k=8)\n",
    "    return accuracy, top_accuracy4, top_accuracy8\n",
    "\n",
    "def dummy_training(feature, label):\n",
    "    dummy = DummyClassifier(strategy=\"most_frequent\")\n",
    "    dummy = dummy.fit(feature, label)\n",
    "    accuracy = dummy.score(feature, label)\n",
    "    return accuracy\n",
    "\n",
    "def calculateMeanRF(feature, label):\n",
    "    accuracy=[]\n",
    "    top4=[]\n",
    "    top8=[]\n",
    "    for i in range(5):\n",
    "        accuracy_rf, top_accuracy_rf4, top_accuracy_rf8= rf_training (feature, label)\n",
    "        accuracy.append(accuracy_rf)\n",
    "        top4.append(top_accuracy_rf4)\n",
    "        top8.append(top_accuracy_rf8)\n",
    "    return sum(accuracy)/len(accuracy), sum(top4)/len(top4), sum(top8)/len(top8)\n",
    "\n",
    "def calculateMeanKNN(feature, label):\n",
    "    accuracy=[]\n",
    "    top4=[]\n",
    "    top8=[]\n",
    "    for i in range(5):\n",
    "        accuracy_kNN, top_accuracy_kNN4, top_accuracy_kNN8= kNN_training (feature, label)\n",
    "        accuracy.append(accuracy_kNN)\n",
    "        top4.append(top_accuracy_kNN4)\n",
    "        top8.append(top_accuracy_kNN8)\n",
    "    return sum(accuracy)/len(accuracy), sum(top4)/len(top4), sum(top8)/len(top8)\n",
    "\n",
    "def calculateMeanAda(feature, label):\n",
    "    accuracy=[]\n",
    "    top4=[]\n",
    "    top8=[]\n",
    "    for i in range(5):\n",
    "        accuracy_kNN, top_accuracy_kNN4, top_accuracy_kNN8= Ada_training (feature, label)\n",
    "        accuracy.append(accuracy_kNN)\n",
    "        top4.append(top_accuracy_kNN4)\n",
    "        top8.append(top_accuracy_kNN8)\n",
    "    return sum(accuracy)/len(accuracy), sum(top4)/len(top4), sum(top8)/len(top8)"
   ]
  },
  {
   "cell_type": "markdown",
   "id": "afc6fb07",
   "metadata": {},
   "source": [
    "# Features Summary"
   ]
  },
  {
   "cell_type": "code",
   "execution_count": 32,
   "id": "45e34e36",
   "metadata": {},
   "outputs": [
    {
     "name": "stdout",
     "output_type": "stream",
     "text": [
      "(110, 1)\n",
      "(110, 1)\n",
      "(110, 1)\n",
      "(110, 1)\n",
      "(110, 1)\n",
      "(110, 1)\n",
      "(110, 1)\n",
      "(110, 8)\n",
      "(110, 8)\n",
      "(110, 8)\n",
      "(110,)\n",
      "(110,)\n"
     ]
    }
   ],
   "source": [
    "print(feature_valid_app.shape)\n",
    "print(feature_valid_duration.shape)\n",
    "print(feature_valid_switchingTimeDate.shape)\n",
    "print(feature_valid_deviceStatus3.shape)\n",
    "print(feature_valid_touchTimes3.shape)\n",
    "print(feature_valid_app_category.shape)\n",
    "print(feature_valid_app_frequency.shape)\n",
    "print(features_mean_video.shape)\n",
    "print(features_var_video.shape)\n",
    "print(features_std_video.shape)\n",
    "print(label_valid_category.shape)\n",
    "print(label_valid_app.shape)"
   ]
  },
  {
   "cell_type": "code",
   "execution_count": 33,
   "id": "53c5dcb5",
   "metadata": {},
   "outputs": [
    {
     "name": "stdout",
     "output_type": "stream",
     "text": [
      "(110, 31)\n"
     ]
    }
   ],
   "source": [
    "allFeatures = np.concatenate([feature_valid_app,\n",
    "                              feature_valid_duration,\n",
    "                              feature_valid_switchingTimeDate,\n",
    "                              feature_valid_deviceStatus3,\n",
    "                              feature_valid_touchTimes3,\n",
    "                              feature_valid_app_category, \n",
    "                              feature_valid_app_frequency, \n",
    "                              features_mean_video, \n",
    "                              features_var_video,\n",
    "                              features_std_video],\n",
    "                        axis=1)\n",
    "print(allFeatures.shape)"
   ]
  },
  {
   "cell_type": "code",
   "execution_count": 41,
   "id": "dbf2d290",
   "metadata": {},
   "outputs": [
    {
     "name": "stdout",
     "output_type": "stream",
     "text": [
      "False\n"
     ]
    }
   ],
   "source": [
    "isnan = np.isnan(features_var_video) # 判断每个元素是不是nan,返回[False,False,False,False,True]\n",
    "\n",
    "print(True in isnan) # 判断isnan中是否包含True, 返回 True"
   ]
  },
  {
   "cell_type": "markdown",
   "id": "c28c6997",
   "metadata": {},
   "source": [
    "# Feature Selection"
   ]
  },
  {
   "cell_type": "code",
   "execution_count": 34,
   "id": "e3cbfc88",
   "metadata": {},
   "outputs": [
    {
     "name": "stderr",
     "output_type": "stream",
     "text": [
      "D:\\Softwares\\Anaconda3\\lib\\site-packages\\sklearn\\svm\\_base.py:985: ConvergenceWarning: Liblinear failed to converge, increase the number of iterations.\n",
      "  warnings.warn(\"Liblinear failed to converge, increase \"\n"
     ]
    },
    {
     "data": {
      "text/plain": [
       "(110, 3)"
      ]
     },
     "execution_count": 34,
     "metadata": {},
     "output_type": "execute_result"
    }
   ],
   "source": [
    "#L1-based feature selection for all 288+1 features\n",
    "from sklearn.feature_selection import SelectFromModel\n",
    "from sklearn.svm import LinearSVC\n",
    "\n",
    "linearsvc = LinearSVC(C=0.01, penalty='l1', dual=False).fit(allFeatures, label_valid_app)\n",
    "model = SelectFromModel(linearsvc, prefit=True)\n",
    "X_new_l1 = model.transform(allFeatures)\n",
    "X_new_l1.shape"
   ]
  },
  {
   "cell_type": "code",
   "execution_count": 35,
   "id": "e193394c",
   "metadata": {},
   "outputs": [
    {
     "data": {
      "text/plain": [
       "(110, 12)"
      ]
     },
     "execution_count": 35,
     "metadata": {},
     "output_type": "execute_result"
    }
   ],
   "source": [
    "from sklearn.ensemble import ExtraTreesClassifier\n",
    "from sklearn.feature_selection import SelectFromModel\n",
    "clf = ExtraTreesClassifier(n_estimators=100).fit(allFeatures, label_valid_app)\n",
    "model = SelectFromModel(clf, prefit=True)\n",
    "X_new_tree = model.transform(allFeatures)\n",
    "X_new_tree.shape"
   ]
  },
  {
   "cell_type": "markdown",
   "id": "86c4d0a5",
   "metadata": {},
   "source": [
    "# Model Performance"
   ]
  },
  {
   "cell_type": "code",
   "execution_count": 36,
   "id": "d1a0b916",
   "metadata": {},
   "outputs": [
    {
     "name": "stdout",
     "output_type": "stream",
     "text": [
      "0.2785714285714286 0.5928571428571429 0.7285714285714285\n"
     ]
    }
   ],
   "source": [
    "accuracy_rf, top_accuracy_rf4, top_accuracy_rf8 = calculateMeanRF(X_new_tree, label_valid_app)\n",
    "print(accuracy_rf, top_accuracy_rf4, top_accuracy_rf8)"
   ]
  },
  {
   "cell_type": "code",
   "execution_count": 37,
   "id": "7fca4220",
   "metadata": {},
   "outputs": [
    {
     "name": "stdout",
     "output_type": "stream",
     "text": [
      "0.21428571428571427 0.6071428571428571 0.75\n"
     ]
    }
   ],
   "source": [
    "accuracy_kNN, top_accuracy_kNN4, top_accuracy_kNN8 = calculateMeanKNN(X_new_tree, label_valid_app)\n",
    "print(accuracy_kNN, top_accuracy_kNN4, top_accuracy_kNN8)"
   ]
  },
  {
   "cell_type": "code",
   "execution_count": 38,
   "id": "82e7fe8a",
   "metadata": {},
   "outputs": [
    {
     "name": "stdout",
     "output_type": "stream",
     "text": [
      "0.21428571428571427 0.5357142857142857 0.6071428571428571\n"
     ]
    }
   ],
   "source": [
    "accuracy_ada, top_accuracy_ada4, top_accuracy_ada8 = calculateMeanAda(X_new_tree, label_valid_app)\n",
    "print(accuracy_ada, top_accuracy_ada4, top_accuracy_ada8)"
   ]
  },
  {
   "cell_type": "markdown",
   "id": "a9b31a60",
   "metadata": {},
   "source": [
    "# ================================================"
   ]
  },
  {
   "cell_type": "code",
   "execution_count": null,
   "id": "7dcf4192",
   "metadata": {},
   "outputs": [],
   "source": [
    "accuracy_dummy = dummy_training(X_new_tree, label_valid_app)\n",
    "print(accuracy_dummy)"
   ]
  },
  {
   "cell_type": "code",
   "execution_count": null,
   "id": "2e8f6a47",
   "metadata": {},
   "outputs": [],
   "source": [
    "# 1. probabilistic model                            check\n",
    "# 2. columns manuelly select                        check\n",
    "# 3. mean, variance, standard deviation             check\n",
    "# 4. weights of the frequency                       check\n",
    "# 5. categorical app                                check\n",
    "# 6. feature selection                              check"
   ]
  },
  {
   "cell_type": "code",
   "execution_count": null,
   "id": "f8e1ad74",
   "metadata": {},
   "outputs": [],
   "source": [
    "# todolist\n",
    "# 1. prev. app sequence\n",
    "# 2. dummy classifier                    check\n",
    "# 3. class to class                      check \n",
    "# 4. automate classification             tbd"
   ]
  }
 ],
 "metadata": {
  "kernelspec": {
   "display_name": "Python 3",
   "language": "python",
   "name": "python3"
  },
  "language_info": {
   "codemirror_mode": {
    "name": "ipython",
    "version": 3
   },
   "file_extension": ".py",
   "mimetype": "text/x-python",
   "name": "python",
   "nbconvert_exporter": "python",
   "pygments_lexer": "ipython3",
   "version": "3.8.8"
  }
 },
 "nbformat": 4,
 "nbformat_minor": 5
}
