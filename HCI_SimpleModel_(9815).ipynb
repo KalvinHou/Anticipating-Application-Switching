{
 "cells": [
  {
   "cell_type": "code",
   "execution_count": 36,
   "id": "1e01f078",
   "metadata": {},
   "outputs": [],
   "source": [
    "import tensorflow as tf\n",
    "import matplotlib.pyplot as plt\n",
    "import heapq\n",
    "import cv2\n",
    "import pandas as pd\n",
    "from tensorflow import keras\n",
    "import numpy as np\n",
    "import os\n",
    "import json\n",
    "from sklearn.ensemble import AdaBoostClassifier\n",
    "from sklearn.neighbors import KNeighborsClassifier\n",
    "from sklearn.ensemble import RandomForestClassifier\n",
    "from sklearn.dummy import DummyClassifier\n",
    "from sklearn.model_selection import train_test_split\n",
    "from sklearn import metrics\n",
    "from sklearn.preprocessing import StandardScaler"
   ]
  },
  {
   "cell_type": "markdown",
   "id": "e2bdaf8a",
   "metadata": {},
   "source": [
    "# 0. Data Preprocessing"
   ]
  },
  {
   "cell_type": "code",
   "execution_count": 2,
   "id": "8cf99d23",
   "metadata": {},
   "outputs": [],
   "source": [
    "#Feature Normalization:\n",
    "scaler = StandardScaler()"
   ]
  },
  {
   "cell_type": "markdown",
   "id": "0896db45",
   "metadata": {},
   "source": [
    "# 1. One-Feature-Model:   \n",
    "\n",
    "Regard application swichting as the only feature, \n",
    "e.g. instagram --> whatsapp \n",
    "instagram as X_data\n",
    "whatsapp as y_label\n"
   ]
  },
  {
   "cell_type": "code",
   "execution_count": 3,
   "id": "f0c36387",
   "metadata": {
    "scrolled": true
   },
   "outputs": [
    {
     "name": "stdout",
     "output_type": "stream",
     "text": [
      "INPUT DATA:\n",
      "665\n",
      "['com.android.settings', 'com.android.calendar', 'com.android.calendar', 'com.google.android.youtube', 'com.android.chrome', 'com.google.android.youtube', 'com.android.email', 'com.google.android.youtube', 'com.facebook.katana', 'com.espn.score_center', 'com.espn.score_center', 'com.instagram.android', 'com.google.android.youtube', 'com.google.android.youtube', 'com.whatsapp', 'com.google.android.youtube', 'com.whatsapp', 'com.google.android.youtube', 'com.android.settings', 'com.google.android.youtube', 'de.motain.iliga', 'com.whatsapp', 'com.google.android.youtube', 'com.whatsapp', 'com.whatsapp', 'com.android.chrome', 'com.whatsapp', 'com.google.android.youtube', 'com.google.android.youtube', 'com.android.chrome', 'com.android.chrome', 'com.popularapp.thirtydayfitnesschallenge', 'com.whatsapp', 'com.android.email', 'com.whatsapp', 'com.facebook.katana', 'com.google.android.apps.maps', 'com.whatsapp', 'com.android.deskclock', 'com.whatsapp', 'com.google.android.apps.maps', 'com.whatsapp', 'com.google.android.youtube', 'com.whatsapp', 'com.whatsapp', 'com.android.email', 'com.android.email', 'com.google.android.youtube', 'com.whatsapp', 'com.whatsapp', 'com.google.android.youtube', 'com.google.android.youtube', 'com.google.android.youtube', 'com.whatsapp', 'com.whatsapp', 'com.android.systemui', 'com.google.android.youtube', 'com.android.systemui', 'com.whatsapp', 'com.android.email', 'com.google.android.youtube', 'com.android.email', 'com.google.android.youtube', 'com.google.android.youtube', 'com.whatsapp', 'com.google.android.youtube', 'com.google.android.youtube', 'com.google.android.youtube', 'com.android.email', 'com.google.android.youtube', 'com.android.email', 'com.android.incallui', 'com.android.email', 'com.google.android.gm', 'com.google.android.youtube', 'com.google.android.youtube', 'com.bleacherreport.android.teamstream', 'com.android.systemui', 'com.google.android.youtube', 'com.android.systemui', 'com.bleacherreport.android.teamstream', 'com.android.chrome', 'com.google.android.youtube', 'com.android.systemui', 'com.google.android.youtube', 'com.google.android.youtube', 'com.google.android.youtube', 'com.whatsapp', 'com.google.android.youtube', 'com.whatsapp', 'com.google.android.youtube', 'com.google.android.youtube', 'com.android.chrome', 'com.android.systemui', 'com.google.android.youtube', 'com.whatsapp', 'com.android.systemui', 'com.google.android.youtube', 'com.whatsapp', 'com.android.systemui', 'com.google.android.youtube', 'com.whatsapp', 'com.android.systemui', 'com.google.android.youtube', 'com.whatsapp', 'com.android.systemui', 'com.google.android.youtube', 'com.whatsapp', 'com.android.systemui', 'com.whatsapp', 'com.android.systemui', 'com.google.android.youtube', 'com.whatsapp', 'com.whatsapp', 'com.whatsapp', 'com.miui.player', 'com.miui.player', 'com.android.chrome', 'com.android.chrome', 'com.android.chrome', 'com.android.chrome', 'com.android.chrome', 'com.google.android.youtube', 'com.google.android.youtube', 'com.google.android.youtube', 'com.google.android.youtube', 'com.facebook.katana', 'com.google.android.youtube', 'com.google.android.youtube', 'com.instagram.android', 'com.android.email', 'com.instagram.android', 'com.google.android.youtube', 'com.android.chrome', 'com.google.android.youtube', 'com.google.android.youtube', 'com.android.chrome', 'com.google.android.youtube', 'com.android.systemui', 'com.android.chrome', 'com.android.vending', 'com.google.android.youtube', 'com.google.android.youtube', 'com.android.chrome', 'com.whatsapp', 'com.whatsapp', 'com.android.email', 'com.whatsapp', 'com.bleacherreport.android.teamstream', 'com.google.android.gm', 'com.bleacherreport.android.teamstream', 'com.android.chrome', 'com.whatsapp', 'com.android.chrome', 'com.google.android.youtube', 'com.android.systemui', 'com.google.android.gm', 'com.google.android.youtube', 'com.whatsapp', 'com.whatsapp', 'com.google.android.youtube', 'com.google.android.youtube', 'com.google.android.youtube', 'com.whatsapp', 'com.google.android.youtube', 'com.whatsapp', 'com.whatsapp', 'com.whatsapp', 'com.whatsapp', 'com.whatsapp', 'com.fision', 'com.google.android.youtube', 'com.android.vending', 'com.google.android.youtube', 'com.whatsapp', 'com.google.android.youtube', 'com.whatsapp', 'com.google.android.youtube', 'com.android.systemui', 'com.whatsapp', 'com.android.systemui', 'com.google.android.youtube', 'com.android.chrome', 'com.android.systemui', 'com.google.android.youtube', 'com.google.android.youtube', 'com.google.android.youtube', 'com.whatsapp', 'com.facebook.katana', 'com.whatsapp', 'com.google.android.youtube', 'com.google.android.youtube', 'com.google.android.youtube', 'com.google.android.youtube', 'com.espn.score_center', 'com.google.android.youtube', 'com.google.android.youtube', 'com.weather.Weather', 'com.android.systemui', 'com.google.android.youtube', 'com.android.email', 'com.android.calendar', 'com.android.systemui', 'com.android.email', 'com.whatsapp', 'com.android.email', 'com.google.android.youtube', 'com.android.email', 'com.google.android.youtube', 'com.android.deskclock', 'com.google.android.youtube', 'com.google.android.youtube', 'com.google.android.gm', 'com.app.tgtg', 'com.google.android.apps.maps', 'com.google.android.apps.maps', 'com.android.chrome', 'com.google.android.youtube', 'com.android.email', 'com.google.android.youtube', 'com.google.android.youtube', 'com.google.android.youtube', 'com.android.chrome', 'com.google.android.youtube', 'com.whatsapp', 'com.google.android.youtube', 'com.whatsapp', 'com.whatsapp', 'com.bleacherreport.android.teamstream', 'com.android.chrome', 'com.bleacherreport.android.teamstream', 'com.android.chrome', 'com.whatsapp', 'com.facebook.katana', 'com.google.android.youtube', 'com.android.chrome', 'com.bleacherreport.android.teamstream', 'com.google.android.gm', 'com.google.android.apps.translate', 'com.google.android.gm', 'com.bleacherreport.android.teamstream', 'com.android.chrome', 'com.bleacherreport.android.teamstream', 'com.google.android.youtube', 'com.google.android.gm', 'com.whatsapp', 'com.google.android.youtube', 'com.android.systemui', 'com.whatsapp', 'com.google.android.youtube', 'com.whatsapp', 'com.google.android.youtube', 'com.google.android.youtube', 'com.whatsapp', 'com.espn.score_center', 'com.instagram.android', 'com.instagram.android', 'com.google.android.youtube', 'com.google.android.youtube', 'com.google.android.youtube', 'com.google.android.youtube', 'com.android.chrome', 'com.android.systemui', 'com.google.android.youtube', 'com.google.android.gm', 'com.android.systemui', 'com.google.android.youtube', 'com.google.android.youtube', 'com.google.android.gm', 'com.android.systemui', 'com.google.android.gm', 'com.android.systemui', 'com.google.android.youtube', 'com.google.android.youtube', 'com.google.android.apps.maps', 'com.google.android.youtube', 'com.google.android.youtube', 'com.ubs.swidKXJ.android', 'com.ubs.swidK2Y.android', 'com.ubs.swidKXJ.android', 'com.android.systemui', 'com.google.android.youtube', 'com.whatsapp', 'com.instagram.android', 'com.miui.cleanmaster', 'com.mi.android.globalFileexplorer', 'android', 'com.miui.gallery', 'com.mi.android.globalFileexplorer', 'com.miui.gallery', 'com.mi.android.globalFileexplorer', 'com.miui.gallery', 'com.mi.android.globalFileexplorer', 'com.miui.gallery', 'com.mi.android.globalFileexplorer', 'com.miui.gallery', 'com.mi.android.globalFileexplorer', 'com.miui.gallery', 'com.mi.android.globalFileexplorer', 'com.miui.gallery', 'com.mi.android.globalFileexplorer', 'com.google.android.youtube', 'com.google.android.youtube', 'com.android.deskclock', 'com.google.android.youtube', 'com.google.android.youtube', 'ch.publibike.app', 'com.android.deskclock', 'ch.publibike.app', 'com.google.android.apps.maps', 'com.google.android.apps.maps', 'com.google.android.apps.maps', 'com.app.tgtg', 'com.google.android.gm', 'com.app.tgtg', 'com.facebook.katana', 'com.facebook.katana', 'com.app.tgtg', 'com.app.tgtg', 'ch.publibike.app', 'ch.publibike.app', 'com.google.android.youtube', 'com.google.android.gm', 'de.motain.iliga', 'de.motain.iliga', 'de.motain.iliga', 'com.android.deskclock', 'com.android.deskclock', 'com.android.chrome', 'com.google.android.youtube', 'com.whatsapp', 'de.motain.iliga', 'de.motain.iliga', 'de.motain.iliga', 'de.motain.iliga', 'com.android.chrome', 'com.android.chrome', 'com.google.android.youtube', 'com.miui.gallery', 'com.mi.android.globalFileexplorer', 'android', 'com.UCMobile.intl', 'com.mi.android.globalFileexplorer', 'com.facebook.katana', 'com.facebook.katana', 'com.facebook.katana', 'com.facebook.orca', 'com.google.android.youtube', 'homedia.sky.sport', 'homedia.sky.sport', 'com.ubs.swidK2Y.android', 'com.android.calendar', 'com.android.calendar', 'com.android.calendar', 'com.android.calendar', 'com.android.calendar', 'com.ubs.swidK2Y.android', 'com.ubs.swidKXJ.android', 'com.ubs.swidK2Y.android', 'com.ubs.swidKXJ.android', 'com.ubs.swidKXJ.android', 'com.ubs.swidK2Y.android', 'com.ubs.swidKXJ.android', 'com.android.chrome', 'com.ubs.swidKXJ.android', 'com.android.calendar', 'com.android.email', 'com.android.calendar', 'com.android.systemui', 'com.android.email', 'com.android.calendar', 'com.android.calendar', 'com.android.calendar', 'com.android.calendar', 'com.android.calendar', 'com.android.calendar', 'com.android.contacts', 'com.whatsapp', 'com.android.systemui', 'com.whatsapp', 'com.instagram.android', 'com.whatsapp', 'com.google.android.youtube', 'homedia.sky.sport', 'de.motain.iliga', 'com.facebook.katana', 'com.ubs.swidK2Y.android', 'com.google.android.gm', 'com.android.chrome', 'com.google.android.gm', 'com.whatsapp', 'com.android.calendar', 'com.whatsapp', 'com.android.calendar', 'com.android.systemui', 'com.whatsapp', 'com.google.android.gm', 'com.android.systemui', 'com.google.android.gm', 'com.google.android.gm', 'com.android.vending', 'com.android.chrome', 'com.espn.score_center', 'com.android.chrome', 'com.whatsapp', 'com.whatsapp', 'com.whatsapp', 'com.espn.score_center', 'com.google.android.apps.maps', 'com.google.android.apps.maps', 'com.google.android.youtube', 'com.bleacherreport.android.teamstream', 'com.android.chrome', 'com.bleacherreport.android.teamstream', 'com.bleacherreport.android.teamstream', 'com.android.chrome', 'com.bleacherreport.android.teamstream', 'com.android.chrome', 'com.bleacherreport.android.teamstream', 'com.instagram.android', 'com.espn.score_center', 'com.facebook.katana', 'com.miui.securitycenter', 'com.android.email', 'com.android.systemui', 'com.google.android.gm', 'com.google.android.youtube', 'jp.naver.line.android', 'com.google.android.apps.maps', 'com.google.android.youtube', 'com.whatsapp', 'com.google.android.youtube', 'com.whatsapp', 'com.android.systemui', 'com.google.android.youtube', 'fm.player', 'fm.player', 'fm.player', 'com.google.android.gm', 'jp.naver.line.android', 'com.android.chrome', 'fm.player', 'com.google.android.youtube', 'com.google.android.gm', 'com.android.email', 'com.google.android.gm', 'com.google.android.youtube', 'com.android.email', 'com.android.systemui', 'com.google.android.youtube', 'com.google.android.youtube', 'com.whatsapp', 'com.whatsapp', 'com.google.android.youtube', 'com.google.android.youtube', 'jp.naver.line.android', 'com.google.android.youtube', 'com.android.chrome', 'com.google.android.youtube', 'com.google.android.youtube', 'fm.player', 'fm.player', 'com.android.email', 'fm.player', 'com.android.chrome', 'de.motain.iliga', 'com.whatsapp', 'com.instagram.android', 'fm.player', 'com.facebook.katana', 'com.android.systemui', 'com.instagram.android', 'com.google.android.youtube', 'com.google.android.youtube', 'com.whatsapp', 'com.android.systemui', 'com.google.android.youtube', 'com.android.systemui', 'com.google.android.youtube', 'jp.naver.line.android', 'com.google.android.youtube', 'com.whatsapp', 'com.android.systemui', 'com.google.android.youtube', 'com.google.android.youtube', 'com.whatsapp', 'com.google.android.youtube', 'com.google.android.youtube', 'com.google.android.youtube', 'com.google.android.youtube', 'com.google.android.youtube', 'com.google.android.youtube', 'com.google.android.youtube', 'com.google.android.youtube', 'com.android.email', 'com.google.android.youtube', 'com.android.systemui', 'com.android.email', 'com.android.chrome', 'com.google.android.youtube', 'com.google.android.youtube', 'com.whatsapp', 'com.android.systemui', 'com.whatsapp', 'de.motain.iliga', 'jp.naver.line.android', 'com.google.android.youtube', 'com.android.systemui', 'jp.naver.line.android', 'com.google.android.youtube', 'com.google.android.youtube', 'com.google.android.gm', 'com.android.calendar', 'com.android.systemui', 'com.google.android.gm', 'com.google.android.gm', 'com.google.android.youtube', 'com.google.android.youtube', 'com.whatsapp', 'com.airbnb.android', 'com.android.systemui', 'com.whatsapp', 'com.google.android.youtube', 'com.google.android.youtube', 'com.android.settings', 'com.google.android.youtube', 'com.whatsapp', 'com.google.android.gm', 'com.google.android.gm', 'com.google.android.youtube', 'com.whatsapp', 'com.android.email', 'com.google.android.gm', 'com.google.android.gm', 'com.android.systemui', 'com.google.android.youtube', 'com.google.android.youtube', 'com.google.android.youtube', 'com.android.deskclock', 'com.android.chrome', 'com.instagram.android', 'com.google.android.youtube', 'com.google.android.youtube', 'com.whatsapp', 'com.android.systemui', 'com.google.android.youtube', 'com.android.systemui', 'com.whatsapp', 'com.google.android.gm', 'com.android.systemui', 'com.whatsapp', 'com.google.android.youtube', 'com.google.android.youtube', 'com.android.email', 'android', 'cn.wps.moffice_eng', 'com.google.android.packageinstaller', 'cn.wps.moffice_eng', 'cn.wps.moffice_eng', 'com.google.android.youtube', 'com.whatsapp', 'com.google.android.apps.translate', 'com.android.systemui', 'com.whatsapp', 'com.google.android.apps.translate', 'com.google.android.apps.translate', 'com.google.android.youtube', 'com.google.android.youtube', 'com.whatsapp', 'com.google.android.youtube', 'com.android.chrome', 'com.android.email', 'com.android.systemui', 'com.android.chrome', 'com.google.android.youtube', 'com.google.android.youtube', 'com.ubs.swidK2Y.android', 'com.google.android.gm', 'com.whatsapp', 'com.android.deskclock', 'com.whatsapp', 'com.whatsapp', 'com.google.android.youtube', 'com.google.android.youtube', 'com.google.android.youtube', 'com.instagram.android', 'com.android.systemui', 'com.instagram.android', 'com.android.systemui', 'com.google.android.youtube', 'com.android.mms', 'com.google.android.youtube', 'com.whatsapp', 'com.whatsapp', 'com.android.chrome', 'com.google.android.youtube', 'com.android.settings', 'com.whatsapp', 'com.google.android.youtube', 'com.google.android.youtube', 'com.bleacherreport.android.teamstream', 'com.android.chrome', 'com.bleacherreport.android.teamstream', 'com.android.chrome', 'com.bleacherreport.android.teamstream', 'com.android.chrome', 'com.bleacherreport.android.teamstream', 'com.android.chrome', 'com.android.chrome', 'com.google.android.youtube', 'com.google.android.youtube', 'com.android.chrome', 'com.google.android.apps.translate', 'com.android.chrome', 'com.instagram.android', 'com.android.chrome', 'com.weather.Weather', 'com.whatsapp', 'com.miui.securitycenter', 'com.miui.cleanmaster', 'com.whatsapp', 'com.miui.cleanmaster', 'com.mi.android.globalFileexplorer', 'com.miui.securitycenter', 'com.miui.cleanmaster', 'com.miui.cleanmaster', 'com.miui.securitycenter', 'com.miui.cleanmaster', 'com.android.chrome', 'com.android.chrome', 'com.android.chrome', 'com.android.chrome', 'com.google.android.youtube', 'com.google.android.youtube', 'com.facebook.katana', 'com.google.android.youtube', 'com.whatsapp', 'com.google.android.youtube', 'com.google.android.gm', 'com.android.calendar', 'com.google.android.gm', 'com.whatsapp', 'com.google.android.youtube', 'com.whatsapp', 'com.whatsapp', 'com.whatsapp', 'com.android.chrome', 'com.android.systemui', 'com.android.systemui', 'com.google.android.youtube', 'com.facebook.katana', 'com.whatsapp', 'com.google.android.youtube', 'com.google.android.youtube', 'com.android.email', 'com.android.email', 'com.android.calendar', 'com.android.systemui', 'com.android.email', 'com.facebook.katana', 'com.google.android.youtube', 'com.android.email', 'com.google.android.youtube', 'com.android.systemui', 'com.weather.Weather']\n",
      "----------------------------------------------------------------\n",
      "LABEL DATA:\n",
      "665\n",
      "['com.android.calendar', 'com.google.android.youtube', 'com.google.android.youtube', 'com.android.chrome', 'com.google.android.youtube', 'com.android.email', 'com.google.android.youtube', 'com.facebook.katana', 'com.espn.score_center', 'com.instagram.android', 'com.instagram.android', 'com.google.android.youtube', 'com.whatsapp', 'com.whatsapp', 'com.google.android.youtube', 'com.whatsapp', 'com.google.android.youtube', 'com.android.settings', 'com.google.android.youtube', 'com.android.deskclock', 'com.whatsapp', 'com.google.android.youtube', 'com.whatsapp', 'com.android.chrome', 'com.android.chrome', 'com.whatsapp', 'com.google.android.youtube', 'com.android.chrome', 'com.android.chrome', 'com.popularapp.thirtydayfitnesschallenge', 'com.popularapp.thirtydayfitnesschallenge', 'com.whatsapp', 'com.android.email', 'com.whatsapp', 'com.facebook.katana', 'com.google.android.apps.maps', 'com.whatsapp', 'com.android.deskclock', 'com.whatsapp', 'com.google.android.apps.maps', 'com.whatsapp', 'com.google.android.youtube', 'com.whatsapp', 'com.android.email', 'com.android.email', 'com.google.android.youtube', 'com.google.android.youtube', 'com.whatsapp', 'com.google.android.youtube', 'com.google.android.youtube', 'com.whatsapp', 'com.whatsapp', 'com.whatsapp', 'com.android.systemui', 'com.android.systemui', 'com.google.android.youtube', 'com.android.systemui', 'com.whatsapp', 'com.android.email', 'com.google.android.youtube', 'com.android.email', 'com.google.android.youtube', 'com.whatsapp', 'com.whatsapp', 'com.google.android.youtube', 'com.android.email', 'com.android.email', 'com.android.email', 'com.google.android.youtube', 'com.android.email', 'com.android.incallui', 'com.android.email', 'com.google.android.gm', 'com.google.android.youtube', 'com.bleacherreport.android.teamstream', 'com.bleacherreport.android.teamstream', 'com.android.systemui', 'com.google.android.youtube', 'com.android.systemui', 'com.bleacherreport.android.teamstream', 'com.android.chrome', 'com.google.android.youtube', 'com.android.systemui', 'com.google.android.youtube', 'com.whatsapp', 'com.whatsapp', 'com.whatsapp', 'com.google.android.youtube', 'com.whatsapp', 'com.google.android.youtube', 'com.android.chrome', 'com.android.chrome', 'com.android.systemui', 'com.google.android.youtube', 'com.whatsapp', 'com.android.systemui', 'com.google.android.youtube', 'com.whatsapp', 'com.android.systemui', 'com.google.android.youtube', 'com.whatsapp', 'com.android.systemui', 'com.google.android.youtube', 'com.whatsapp', 'com.android.systemui', 'com.google.android.youtube', 'com.whatsapp', 'com.android.systemui', 'com.whatsapp', 'com.android.systemui', 'com.google.android.youtube', 'com.whatsapp', 'com.miui.player', 'com.miui.player', 'com.miui.player', 'com.android.chrome', 'com.android.chrome', 'com.google.android.youtube', 'com.google.android.youtube', 'com.google.android.youtube', 'com.google.android.youtube', 'com.google.android.youtube', 'com.android.chrome', 'com.android.chrome', 'com.android.chrome', 'com.facebook.katana', 'com.google.android.youtube', 'com.instagram.android', 'com.instagram.android', 'com.android.email', 'com.instagram.android', 'com.google.android.youtube', 'com.android.chrome', 'com.google.android.youtube', 'com.android.chrome', 'com.android.chrome', 'com.google.android.youtube', 'com.android.systemui', 'com.android.chrome', 'com.android.vending', 'com.google.android.youtube', 'com.android.chrome', 'com.android.chrome', 'com.whatsapp', 'com.android.email', 'com.android.email', 'com.whatsapp', 'com.google.android.gm', 'com.google.android.gm', 'com.bleacherreport.android.teamstream', 'com.android.chrome', 'com.whatsapp', 'com.android.chrome', 'com.google.android.youtube', 'com.android.systemui', 'com.google.android.gm', 'com.google.android.youtube', 'com.whatsapp', 'com.google.android.youtube', 'com.google.android.youtube', 'com.whatsapp', 'com.whatsapp', 'com.whatsapp', 'com.google.android.youtube', 'com.whatsapp', 'com.fision', 'com.fision', 'com.fision', 'com.fision', 'com.fision', 'com.google.android.youtube', 'com.android.vending', 'com.google.android.youtube', 'com.whatsapp', 'com.google.android.youtube', 'com.whatsapp', 'com.google.android.youtube', 'com.android.systemui', 'com.whatsapp', 'com.android.systemui', 'com.google.android.youtube', 'com.android.chrome', 'com.android.systemui', 'com.google.android.youtube', 'com.whatsapp', 'com.whatsapp', 'com.whatsapp', 'com.facebook.katana', 'com.whatsapp', 'com.google.android.youtube', 'com.espn.score_center', 'com.espn.score_center', 'com.espn.score_center', 'com.espn.score_center', 'com.google.android.youtube', 'com.android.systemui', 'com.android.systemui', 'com.android.systemui', 'com.google.android.youtube', 'com.android.email', 'com.android.calendar', 'com.android.systemui', 'com.android.email', 'com.whatsapp', 'com.android.email', 'com.google.android.youtube', 'com.android.email', 'com.google.android.youtube', 'com.android.deskclock', 'com.google.android.youtube', 'com.google.android.gm', 'com.google.android.gm', 'com.app.tgtg', 'com.google.android.apps.maps', 'com.android.chrome', 'com.android.chrome', 'com.google.android.youtube', 'com.android.email', 'com.google.android.youtube', 'com.android.chrome', 'com.android.chrome', 'com.android.chrome', 'com.google.android.youtube', 'com.whatsapp', 'com.google.android.youtube', 'com.whatsapp', 'com.bleacherreport.android.teamstream', 'com.bleacherreport.android.teamstream', 'com.android.chrome', 'com.bleacherreport.android.teamstream', 'com.android.chrome', 'com.whatsapp', 'com.facebook.katana', 'com.google.android.youtube', 'com.android.chrome', 'com.bleacherreport.android.teamstream', 'com.google.android.gm', 'com.google.android.apps.translate', 'com.google.android.gm', 'com.bleacherreport.android.teamstream', 'com.android.chrome', 'com.bleacherreport.android.teamstream', 'com.google.android.youtube', 'com.google.android.gm', 'com.whatsapp', 'com.google.android.youtube', 'com.android.systemui', 'com.whatsapp', 'com.google.android.youtube', 'com.whatsapp', 'com.google.android.youtube', 'com.whatsapp', 'com.whatsapp', 'com.espn.score_center', 'com.instagram.android', 'com.google.android.youtube', 'com.google.android.youtube', 'com.android.chrome', 'com.android.chrome', 'com.android.chrome', 'com.android.chrome', 'com.android.systemui', 'com.google.android.youtube', 'com.google.android.gm', 'com.android.systemui', 'com.google.android.youtube', 'com.miui.cleanmaster', 'com.google.android.gm', 'com.android.systemui', 'com.google.android.gm', 'com.android.systemui', 'com.google.android.youtube', 'com.google.android.apps.maps', 'com.google.android.apps.maps', 'com.google.android.youtube', 'com.ubs.swidKXJ.android', 'com.ubs.swidKXJ.android', 'com.ubs.swidK2Y.android', 'com.ubs.swidKXJ.android', 'com.android.systemui', 'com.google.android.youtube', 'com.whatsapp', 'com.instagram.android', 'com.miui.cleanmaster', 'com.mi.android.globalFileexplorer', 'android', 'com.miui.gallery', 'com.mi.android.globalFileexplorer', 'com.miui.gallery', 'com.mi.android.globalFileexplorer', 'com.miui.gallery', 'com.mi.android.globalFileexplorer', 'com.miui.gallery', 'com.mi.android.globalFileexplorer', 'com.miui.gallery', 'com.mi.android.globalFileexplorer', 'com.miui.gallery', 'com.mi.android.globalFileexplorer', 'com.miui.gallery', 'com.mi.android.globalFileexplorer', 'com.google.android.youtube', 'com.android.deskclock', 'com.android.deskclock', 'com.google.android.youtube', 'ch.publibike.app', 'ch.publibike.app', 'com.android.deskclock', 'ch.publibike.app', 'com.google.android.apps.maps', 'com.app.tgtg', 'com.app.tgtg', 'com.app.tgtg', 'com.google.android.gm', 'com.app.tgtg', 'com.facebook.katana', 'com.app.tgtg', 'com.app.tgtg', 'ch.publibike.app', 'ch.publibike.app', 'com.google.android.youtube', 'com.google.android.youtube', 'com.google.android.gm', 'com.android.systemui', 'com.android.deskclock', 'com.android.deskclock', 'com.android.deskclock', 'com.android.chrome', 'com.android.chrome', 'com.google.android.youtube', 'com.whatsapp', 'com.google.android.gm', 'com.android.chrome', 'com.android.chrome', 'com.android.chrome', 'com.android.chrome', 'com.google.android.youtube', 'com.google.android.youtube', 'com.android.systemui', 'com.mi.android.globalFileexplorer', 'android', 'com.UCMobile.intl', 'com.mi.android.globalFileexplorer', 'com.facebook.katana', 'com.facebook.orca', 'com.facebook.orca', 'com.facebook.orca', 'com.google.android.youtube', 'homedia.sky.sport', 'com.ubs.swidK2Y.android', 'com.ubs.swidK2Y.android', 'com.android.calendar', 'com.ubs.swidK2Y.android', 'com.ubs.swidK2Y.android', 'com.ubs.swidK2Y.android', 'com.ubs.swidK2Y.android', 'com.ubs.swidK2Y.android', 'com.ubs.swidKXJ.android', 'com.ubs.swidK2Y.android', 'com.ubs.swidKXJ.android', 'com.ubs.swidK2Y.android', 'com.ubs.swidK2Y.android', 'com.ubs.swidKXJ.android', 'com.android.chrome', 'com.ubs.swidKXJ.android', 'com.android.calendar', 'com.android.email', 'com.android.calendar', 'com.android.systemui', 'com.android.email', 'com.android.calendar', 'com.android.contacts', 'com.android.contacts', 'com.android.contacts', 'com.android.contacts', 'com.android.contacts', 'com.android.contacts', 'com.whatsapp', 'com.android.systemui', 'com.whatsapp', 'com.instagram.android', 'com.whatsapp', 'com.google.android.youtube', 'homedia.sky.sport', 'de.motain.iliga', 'com.facebook.katana', 'com.ubs.swidK2Y.android', 'com.google.android.gm', 'com.android.chrome', 'com.google.android.gm', 'com.whatsapp', 'com.android.calendar', 'com.whatsapp', 'com.android.calendar', 'com.android.systemui', 'com.whatsapp', 'com.google.android.gm', 'com.android.systemui', 'com.google.android.gm', 'com.android.vending', 'com.android.vending', 'com.android.chrome', 'com.espn.score_center', 'com.android.chrome', 'com.whatsapp', 'com.espn.score_center', 'com.espn.score_center', 'com.espn.score_center', 'com.google.android.apps.maps', 'com.google.android.youtube', 'com.google.android.youtube', 'com.bleacherreport.android.teamstream', 'com.android.chrome', 'com.bleacherreport.android.teamstream', 'com.android.chrome', 'com.android.chrome', 'com.bleacherreport.android.teamstream', 'com.android.chrome', 'com.bleacherreport.android.teamstream', 'com.instagram.android', 'com.espn.score_center', 'com.facebook.katana', 'com.miui.securitycenter', 'com.miui.cleanmaster', 'com.android.systemui', 'com.google.android.gm', 'com.android.systemui', 'jp.naver.line.android', 'com.google.android.apps.maps', 'com.google.android.youtube', 'com.whatsapp', 'com.google.android.youtube', 'com.whatsapp', 'com.android.systemui', 'com.google.android.youtube', 'fm.player', 'com.google.android.gm', 'com.google.android.gm', 'com.google.android.gm', 'jp.naver.line.android', 'com.android.chrome', 'fm.player', 'com.google.android.youtube', 'com.google.android.gm', 'com.android.email', 'com.google.android.gm', 'com.google.android.youtube', 'com.android.email', 'com.android.systemui', 'com.google.android.youtube', 'com.whatsapp', 'com.whatsapp', 'com.google.android.youtube', 'com.google.android.youtube', 'jp.naver.line.android', 'jp.naver.line.android', 'com.google.android.youtube', 'com.android.chrome', 'com.google.android.youtube', 'fm.player', 'fm.player', 'com.android.email', 'com.android.email', 'fm.player', 'com.android.chrome', 'de.motain.iliga', 'com.whatsapp', 'com.instagram.android', 'fm.player', 'com.facebook.katana', 'com.android.systemui', 'com.instagram.android', 'com.google.android.youtube', 'com.whatsapp', 'com.whatsapp', 'com.android.systemui', 'com.google.android.youtube', 'com.android.systemui', 'com.google.android.youtube', 'jp.naver.line.android', 'com.google.android.youtube', 'com.whatsapp', 'com.android.systemui', 'com.google.android.youtube', 'com.whatsapp', 'com.whatsapp', 'com.google.android.youtube', 'com.android.email', 'com.android.email', 'com.android.email', 'com.android.email', 'com.android.email', 'com.android.email', 'com.android.email', 'com.android.email', 'com.google.android.youtube', 'com.android.systemui', 'com.android.email', 'com.android.chrome', 'com.google.android.youtube', 'com.whatsapp', 'com.whatsapp', 'com.google.android.youtube', 'com.whatsapp', 'de.motain.iliga', 'jp.naver.line.android', 'com.google.android.youtube', 'com.android.systemui', 'jp.naver.line.android', 'com.google.android.youtube', 'com.google.android.gm', 'com.google.android.gm', 'com.android.calendar', 'com.android.systemui', 'com.google.android.gm', 'com.google.android.youtube', 'com.google.android.youtube', 'com.whatsapp', 'com.whatsapp', 'com.airbnb.android', 'com.android.systemui', 'com.whatsapp', 'com.google.android.youtube', 'com.android.settings', 'com.android.settings', 'com.google.android.youtube', 'com.whatsapp', 'com.google.android.gm', 'com.google.android.youtube', 'com.google.android.youtube', 'com.whatsapp', 'com.android.email', 'com.google.android.gm', 'com.google.android.youtube', 'com.google.android.youtube', 'com.google.android.youtube', 'com.android.systemui', 'com.android.deskclock', 'com.android.deskclock', 'com.android.chrome', 'com.instagram.android', 'com.google.android.youtube', 'com.whatsapp', 'com.whatsapp', 'com.android.systemui', 'com.google.android.youtube', 'com.android.systemui', 'com.whatsapp', 'com.google.android.gm', 'com.android.systemui', 'com.whatsapp', 'com.google.android.youtube', 'com.android.email', 'com.android.email', 'android', 'cn.wps.moffice_eng', 'com.google.android.packageinstaller', 'cn.wps.moffice_eng', 'com.google.android.youtube', 'com.google.android.youtube', 'com.whatsapp', 'com.google.android.apps.translate', 'com.android.systemui', 'com.whatsapp', 'com.google.android.apps.translate', 'com.google.android.youtube', 'com.google.android.youtube', 'com.whatsapp', 'com.whatsapp', 'com.google.android.youtube', 'com.android.chrome', 'com.android.email', 'com.android.systemui', 'com.android.chrome', 'com.google.android.youtube', 'com.ubs.swidK2Y.android', 'com.ubs.swidK2Y.android', 'com.google.android.gm', 'com.whatsapp', 'com.android.deskclock', 'com.whatsapp', 'com.google.android.youtube', 'com.google.android.youtube', 'com.instagram.android', 'com.instagram.android', 'com.instagram.android', 'com.android.systemui', 'com.instagram.android', 'com.android.systemui', 'com.google.android.youtube', 'com.android.mms', 'com.google.android.youtube', 'com.whatsapp', 'com.android.chrome', 'com.android.chrome', 'com.google.android.youtube', 'fm.player', 'com.whatsapp', 'com.google.android.youtube', 'com.bleacherreport.android.teamstream', 'com.bleacherreport.android.teamstream', 'com.android.chrome', 'com.bleacherreport.android.teamstream', 'com.android.chrome', 'com.bleacherreport.android.teamstream', 'com.android.chrome', 'com.bleacherreport.android.teamstream', 'com.android.chrome', 'com.google.android.youtube', 'com.google.android.youtube', 'com.android.chrome', 'com.android.chrome', 'com.google.android.apps.translate', 'com.android.chrome', 'com.instagram.android', 'com.android.chrome', 'com.weather.Weather', 'com.whatsapp', 'com.miui.securitycenter', 'com.miui.cleanmaster', 'com.whatsapp', 'com.miui.cleanmaster', 'com.mi.android.globalFileexplorer', 'com.miui.securitycenter', 'com.miui.cleanmaster', 'com.miui.securitycenter', 'com.miui.securitycenter', 'com.miui.cleanmaster', 'com.android.chrome', 'com.google.android.youtube', 'com.google.android.youtube', 'com.google.android.youtube', 'com.google.android.youtube', 'com.facebook.katana', 'com.facebook.katana', 'com.google.android.youtube', 'com.whatsapp', 'com.google.android.youtube', 'com.google.android.gm', 'com.android.calendar', 'com.google.android.gm', 'com.whatsapp', 'com.google.android.youtube', 'com.whatsapp', 'com.android.chrome', 'com.android.chrome', 'com.android.chrome', 'com.android.systemui', 'com.google.android.youtube', 'com.google.android.youtube', 'com.facebook.katana', 'com.whatsapp', 'com.google.android.youtube', 'com.instagram.android', 'com.android.email', 'com.android.calendar', 'com.android.calendar', 'com.android.systemui', 'com.android.email', 'com.facebook.katana', 'com.google.android.youtube', 'com.android.email', 'com.google.android.youtube', 'com.android.systemui', 'com.weather.Weather', 'com.android.systemui']\n",
      "[203374825907540, 203885025593788, 203911289964871, 204041493929926, 204396355115520, 204404610059475, 204461604335495, 205086161762913, 205495860318969, 206124673434015, 206125786961619, 206359810705280, 206768592989846, 208718223594387, 210084272943449, 210117543804946, 210306357297842, 214423516619605, 214426370050177, 214432652575643, 528259540895805, 528285584111837, 528699541902147, 529175266971964, 529946846654636, 529982991518841, 530026791484189, 530060581110530, 530061673546727, 530355276373751, 530827158544769, 531891308470040, 531917895571488, 531952356212100, 531975296026466, 532343479065753, 535174008916003, 535307291651837, 535315160055011, 535350773782133, 535426477178875, 535454667777666, 535515817102851, 535886196210727, 536163058626247, 536460501623945, 536462659143892, 538455499018105, 540122750698111, 540158925469035, 541411995960271, 541989331164579, 543493379400795, 544126079873187, 545532816018692, 545533334504681, 545534759040722, 545536843752961, 546361300693011, 546371201603632, 546383997844982, 546413724756064, 546703284235117, 546712442675947, 546722349270370, 547737025969922, 548195051842039, 548208722800784, 548234348082076, 548793513762175, 548824946112371, 548845835991738, 550986526344920, 550995871083510, 551144141710277, 551269377617104, 551329721292445, 551334146634423, 551337231348015, 551338799543536, 551383267406591, 551402024267261, 551430110652875, 551430621204281, 552163635800815, 552330463778928, 552330981542522, 552386409181928, 552498623000947, 552503872262039, 553216778307913, 553221034827755, 553229548713898, 553230596109835, 553647266748947, 553709391471944, 553710440138923, 554349831126595, 554402182351367, 554402703794804, 554510646321430, 554549289593499, 554550340571154, 554595458708377, 554637222701746, 554638260569975, 554714423115779, 554738940346082, 554740004366082, 554749948486235, 554750480797849, 555122530682603, 556808089679617, 557253124311370, 557495409304559, 560434407292979, 560438130738342, 561960089777636, 562099660318985, 563324566523486, 563711508223963, 563816470894131, 564746463819799, 564748067264955, 564752766146880, 566351657199823, 566499014576226, 567111274932687, 567111792496958, 568325206701419, 568366405887549, 568367960469111, 568423257457944, 568548878201021, 572688210507031, 573000147375401, 573003813022535, 573010189484616, 573011514970501, 573593034099550, 573597890964965, 731766934900008, 732872861227034, 734450412973671, 742667919804287, 742880734664674, 742882838185142, 742912645025027, 746411493390870, 746566366886697, 746591489209708, 746709158661850, 746731996598040, 746874575808350, 747638957462277, 794797291122159, 794803536137365, 796438237189985, 803799004171344, 803807341238424, 808784632687866, 810713471516710, 810715553560355, 810761594180493, 812812937585232, 812957226462989, 813204384108832, 814467774772306, 814839590558727, 814859436777469, 815089097254204, 815109641909613, 815117053826017, 815124380311951, 815210018062596, 815233144410452, 815312795439952, 815315400370212, 815316455255836, 815324865379948, 815328234578853, 815479506747285, 815622089621814, 815623131798532, 816364197769187, 816486358019713, 816731828008265, 816769488701584, 816795619334387, 816797167802095, 818404166095127, 819030846680826, 821839526736122, 821841110718777, 822340893618014, 823066390987621, 823146272184778, 834663966941873, 869273856349963, 869396069768562, 869411135291213, 869425182483186, 869426233749801, 869602413835254, 869605528594472, 869608108229106, 869960016884962, 870002623593018, 870356130708717, 870358843960382, 870568407592542, 871014353542059, 871026947107575, 871109962423794, 872206643151635, 872215131234132, 872458547446539, 876610554039851, 876623573012294, 876973441360493, 877754660960039, 878016222260981, 878075307930229, 878686018931455, 878733695369405, 878775659637462, 879289058436894, 879289596194498, 879411199408045, 879470555313700, 879751420721561, 879943364102530, 879951171367631, 880000999839278, 880108997704133, 880113381024965, 880178479895305, 880193603418163, 880210874652792, 880212427154510, 880367438125910, 880480254690919, 880567918725364, 881405431783430, 881415851705718, 881427459976807, 881432678714253, 881434389627742, 881468320726896, 881488672283294, 881491764027772, 882608411600583, 882608941189593, 882625075098389, 882650081105828, 884472170421457, 885020194910362, 887015894700874, 889689795896260, 891091086166701, 892379381923032, 892382010769489, 892383050903656, 896006092017430, 896011065401230, 896012101641125, 896898786606516, 899188537206611, 899198477200253, 899199523434680, 899207317654990, 899208362184729, 900007222063415, 900025713418251, 900168753632728, 901684584318400, 901927852911849, 901942277452572, 901958314810900, 902135461892967, 902137596501196, 906485132486100, 906494987892242, 906997449478092, 907168726224641, 907185185679427, 907189379753123, 907189890574008, 907214273223634, 907216390456029, 907221063719517, 907222085150767, 907223662316704, 907226774136129, 907234538606856, 907236607888209, 907294768844853, 907298952548966, 907306729683443, 907308291467140, 907459121612030, 907887562724627, 909418225966283, 910015970367409, 910360180970351, 910617893472440, 910623094229261, 910625209573271, 910986420705945, 911039620272175, 911129632130526, 911137437879950, 911189656722586, 911222320875803, 911319598130506, 911593578370870, 911598261947431, 911655626679961, 911656677379648, 912488232563341, 912488754078810, 916050277613263, 916058117901542, 916401951679264, 916926524464188, 916938995937829, 919667838349519, 919669912933528, 919769137626928, 921389721424869, 952395592663961, 12547920141411, 12752411917992, 13319194997238, 13320312177811, 15618390136687, 16039245031214, 16485538262971, 73520784125030, 73700663210326, 73705375569439, 73720998201152, 73756032785826, 74732379313033, 76542234507408, 76546453383708, 76576067057603, 76834315094432, 79258809409311, 79260431197019, 79460676878557, 79585076404855, 79586104840688, 79589228711312, 79592835764800, 79595970311830, 79696341018407, 79706816300330, 79719760918762, 79733887059799, 79754699437030, 79766539834474, 79839255985644, 79842886030642, 79904650669786, 80409734435615, 80427839814566, 80443921155602, 80447047230444, 80463703898302, 80477589066682, 80480690383817, 80482723587826, 80484264308086, 80491433816156, 80497554544227, 80504189564693, 80538916553742, 80542506124366, 80563993366754, 80595859523564, 80688564835873, 80698958936910, 80731795916794, 81735314136011, 81999841863722, 82086890589158, 82465619602904, 82486467302896, 83209176860085, 83248392675799, 83254593783922, 83270412579489, 83298568286613, 83300649769269, 83304354308642, 83348175664928, 83349743562427, 84120722211479, 84125386614915, 84148516001416, 84494738070868, 84567395679434, 88044500822554, 89351005817560, 89423573161124, 89424605058103, 89481570521779, 89638082389425, 89640195691247, 89950723314878, 90106257407840, 90211957968945, 90451292602135, 90460596137496, 90706015883028, 90773834296283, 90834443792979, 90905780166649, 91220414035436, 91263770222815, 91272094953645, 91273113799582, 138310098444267, 138311160316819, 138356550285447, 140239308794677, 140307609615901, 140393053353316, 140524624876443, 140700678434345, 140772401450463, 140819430855081, 140819946248049, 141712639091450, 142889483866886, 143582702015267, 145022202333676, 145069651904283, 145079541399019, 145123172051450, 145128929509781, 145234177915158, 145695906253263, 145706210346436, 145713403047840, 146662423645134, 146673875002005, 146674400363202, 146995907400528, 148416319864926, 150231886774221, 150293493250969, 151904890640088, 151933465478984, 151978562361102, 152002069380676, 152021485621763, 153503467780671, 153729985943501, 153934908035037, 153984018888300, 158481330551897, 158630530514704, 158858099838315, 159187920282929, 159797548299259, 159863871501734, 159867018682983, 159871165350741, 159872723973241, 160019949315528, 160711822433858, 161795641179849, 161828084822024, 161829651347023, 162211235191982, 162228978882704, 162255234644621, 162281289854716, 162951790186283, 162974740300597, 162975797452107, 162992562838298, 163644246490185, 163703973979485, 164211322908302, 165561158076069, 166107244661642, 166366516363105, 166868571609320, 167054157779093, 167599973051437, 169690463619116, 169694075688802, 169707217329266, 169708809629786, 169740088999982, 169801539841781, 170683041768889, 170938150017018, 170966332476226, 24636917121907, 24644154572842, 24697562119384, 25433797972020, 25452000527898, 25452518374825, 25521060394434, 26192506987460, 26426628377110, 26452476922725, 26478775967455, 26479819054277, 26634729820312, 26635778865155, 27195088135826, 29794776380507, 29877428988443, 29919066896343, 29925227087018, 30196631810871, 30936060198208, 30996857298133, 30997577187975, 31995052597022, 32023961251802, 32576762945601, 32577822885392, 32620969467823, 32626211752301, 32628261832352, 32688026250662, 32688539090610, 49674746280424, 51664238974925, 99901967560780, 99903009596821, 99926959498114, 101863936389631, 102269485248643, 104742182147072, 104963462901311, 104993088149320, 104997232715361, 104998290878902, 104999529945360, 105016180839572, 105027072294620, 105028121471651, 105032827566232, 109793021930946, 109796140930841, 109840805463272, 109845453476030, 109858929942067, 109862013955503, 109921601902614, 109922641850895, 110692441455809, 110700300817004, 110712743340489, 110713799031634, 110754581093286, 110974544359295, 110978882255231, 111916471462813, 111916995153281, 111933690178223, 111940445074002, 112154450407253, 112190946861198, 112192503149999, 112220376622332, 112712459290461, 112718203863063, 112749338288884, 112779044885904, 113574294939063, 113576915658385, 114644753461487, 114662959738199, 114981906799171, 117009212486924, 117037506370403, 117052160148366, 117053760045084, 117069014545703, 117070067609244, 117395711947399, 117739120851382, 118056588721209, 118792760018397, 118812445865629, 118841708807233, 120739069549634, 9172444832738, 9218227187408, 9236732365995, 10531681641334, 10554768533669, 10568761586633, 10633189347962, 10756885133801, 10764851029371, 10809510777947, 11071313840816, 11203737292849, 11207955955191, 12663650091685, 12668373956943, 12777796524506, 12788125769345, 12817837914282, 12885465935767, 12945619911525, 13330068654243, 14002223117111, 14010029678515, 14020667354396, 14023310341478, 15843259613451, 15851794278396, 15854913557666, 15877062605105, 15889042787080, 15973082026214, 15974123341578, 16785362320325, 16878395758101, 16879420679299, 16924795484021, 18731947103207, 19057579119541, 20090912698626, 66729762784655, 66770413061775, 66780854508698, 66791258588850, 66792794765620, 66796951298900, 66812592946133, 66827076430920, 66953183419413, 69077006695130, 69081128511014, 69096818788716, 69114833223969, 69123118850685, 69354888129086, 70303502531797, 70402989994364, 70560050196647, 81245519528692, 82473815291742, 82485174315904, 82494951289702, 82495992612879, 82508380561051, 82588441449823, 83200222322609, 83207446046408, 105815872576816, 105818213217284, 105861835060444]\n"
     ]
    }
   ],
   "source": [
    "account_path = r\"D:\\Dokuments\\Project_of_HCI\\emva-dataset\\EMVA_from_gDrive\\ba704297-b90c-4761-b706-728379fa9815\"\n",
    "input_raw = []\n",
    "label_raw = []\n",
    "temp_switchingTime = []\n",
    "temp_switchingTimeDate = []\n",
    "duration = []\n",
    "\n",
    "for recording in os.listdir(account_path):\n",
    "    recording_path = os.path.join (account_path, str(recording))\n",
    "    \n",
    "    assert(os.path.exists(recording_path))\n",
    "\n",
    "    list_session = []\n",
    "    for file in os.listdir(recording_path):\n",
    "        if str(file)[:7] == \"Session\":\n",
    "            list_session.append(str(file))\n",
    "\n",
    "    #if list_session==[]:\n",
    "    #    continue    \n",
    "    \n",
    "    with open (os.path.join(recording_path, \"application_data.txt\")) as application_file:\n",
    "        application_data = json.load(application_file)[\"application_data\"]\n",
    "        application_index = 0\n",
    "        while application_index < len(application_data):\n",
    "            if (application_data[application_index][\"name\"] != \"com.miui.home\" \n",
    "            and application_data[application_index][\"name\"] != \"ch.ethz.inf.vs.staals.visualattentionrecorder\"):\n",
    "                num = 1\n",
    "                while application_index+num < len(application_data):\n",
    "                    if (application_data[application_index+num][\"name\"] != \"com.miui.home\" \n",
    "                    and application_data[application_index+num][\"name\"] != \"ch.ethz.inf.vs.staals.visualattentionrecorder\"\n",
    "                    and application_data[application_index+num][\"name\"] != application_data[application_index][\"name\"]):\n",
    "                        input_raw.append (application_data[application_index][\"name\"])\n",
    "                        label_raw.append (application_data[application_index+num][\"name\"])\n",
    "                        temp_switchingTime.append (application_data[application_index+1][\"time\"])\n",
    "                        temp_switchingTimeDate.append (application_data[application_index+1][\"timeDate\"])\n",
    "                        duration.append (application_data[application_index+num][\"time\"] - application_data[application_index][\"time\"])\n",
    "                        break\n",
    "                    else:\n",
    "                        num += 1\n",
    "            \n",
    "            application_index += 1\n",
    "\n",
    "print(\"INPUT DATA:\")\n",
    "print(len(input_raw))\n",
    "print(input_raw)\n",
    "print(\"----------------------------------------------------------------\")\n",
    "print(\"LABEL DATA:\")\n",
    "print(len(label_raw))\n",
    "print(label_raw)\n",
    "print(temp_switchingTime)\n",
    "feature_switchingTime = temp_switchingTime"
   ]
  },
  {
   "cell_type": "code",
   "execution_count": 4,
   "id": "17dc993b",
   "metadata": {
    "scrolled": true
   },
   "outputs": [
    {
     "name": "stdout",
     "output_type": "stream",
     "text": [
      "[0, 1, 1, 2, 3, 2, 4, 2, 5, 6, 6, 7, 2, 2, 8, 2, 8, 2, 0, 2, 9, 8, 2, 8, 8, 3, 8, 2, 2, 3, 3, 10, 8, 4, 8, 5, 11, 8, 12, 8, 11, 8, 2, 8, 8, 4, 4, 2, 8, 8, 2, 2, 2, 8, 8, 13, 2, 13, 8, 4, 2, 4, 2, 2, 8, 2, 2, 2, 4, 2, 4, 14, 4, 15, 2, 2, 16, 13, 2, 13, 16, 3, 2, 13, 2, 2, 2, 8, 2, 8, 2, 2, 3, 13, 2, 8, 13, 2, 8, 13, 2, 8, 13, 2, 8, 13, 2, 8, 13, 8, 13, 2, 8, 8, 8, 17, 17, 3, 3, 3, 3, 3, 2, 2, 2, 2, 5, 2, 2, 7, 4, 7, 2, 3, 2, 2, 3, 2, 13, 3, 18, 2, 2, 3, 8, 8, 4, 8, 16, 15, 16, 3, 8, 3, 2, 13, 15, 2, 8, 8, 2, 2, 2, 8, 2, 8, 8, 8, 8, 8, 19, 2, 18, 2, 8, 2, 8, 2, 13, 8, 13, 2, 3, 13, 2, 2, 2, 8, 5, 8, 2, 2, 2, 2, 6, 2, 2, 20, 13, 2, 4, 1, 13, 4, 8, 4, 2, 4, 2, 12, 2, 2, 15, 21, 11, 11, 3, 2, 4, 2, 2, 2, 3, 2, 8, 2, 8, 8, 16, 3, 16, 3, 8, 5, 2, 3, 16, 15, 22, 15, 16, 3, 16, 2, 15, 8, 2, 13, 8, 2, 8, 2, 2, 8, 6, 7, 7, 2, 2, 2, 2, 3, 13, 2, 15, 13, 2, 2, 15, 13, 15, 13, 2, 2, 11, 2, 2, 23, 24, 23, 13, 2, 8, 7, 25, 26, 27, 28, 26, 28, 26, 28, 26, 28, 26, 28, 26, 28, 26, 28, 26, 2, 2, 12, 2, 2, 29, 12, 29, 11, 11, 11, 21, 15, 21, 5, 5, 21, 21, 29, 29, 2, 15, 9, 9, 9, 12, 12, 3, 2, 8, 9, 9, 9, 9, 3, 3, 2, 28, 26, 27, 30, 26, 5, 5, 5, 31, 2, 32, 32, 24, 1, 1, 1, 1, 1, 24, 23, 24, 23, 23, 24, 23, 3, 23, 1, 4, 1, 13, 4, 1, 1, 1, 1, 1, 1, 33, 8, 13, 8, 7, 8, 2, 32, 9, 5, 24, 15, 3, 15, 8, 1, 8, 1, 13, 8, 15, 13, 15, 15, 18, 3, 6, 3, 8, 8, 8, 6, 11, 11, 2, 16, 3, 16, 16, 3, 16, 3, 16, 7, 6, 5, 34, 4, 13, 15, 2, 35, 11, 2, 8, 2, 8, 13, 2, 36, 36, 36, 15, 35, 3, 36, 2, 15, 4, 15, 2, 4, 13, 2, 2, 8, 8, 2, 2, 35, 2, 3, 2, 2, 36, 36, 4, 36, 3, 9, 8, 7, 36, 5, 13, 7, 2, 2, 8, 13, 2, 13, 2, 35, 2, 8, 13, 2, 2, 8, 2, 2, 2, 2, 2, 2, 2, 2, 4, 2, 13, 4, 3, 2, 2, 8, 13, 8, 9, 35, 2, 13, 35, 2, 2, 15, 1, 13, 15, 15, 2, 2, 8, 37, 13, 8, 2, 2, 0, 2, 8, 15, 15, 2, 8, 4, 15, 15, 13, 2, 2, 2, 12, 3, 7, 2, 2, 8, 13, 2, 13, 8, 15, 13, 8, 2, 2, 4, 27, 38, 39, 38, 38, 2, 8, 22, 13, 8, 22, 22, 2, 2, 8, 2, 3, 4, 13, 3, 2, 2, 24, 15, 8, 12, 8, 8, 2, 2, 2, 7, 13, 7, 13, 2, 40, 2, 8, 8, 3, 2, 0, 8, 2, 2, 16, 3, 16, 3, 16, 3, 16, 3, 3, 2, 2, 3, 22, 3, 7, 3, 20, 8, 34, 25, 8, 25, 26, 34, 25, 25, 34, 25, 3, 3, 3, 3, 2, 2, 5, 2, 8, 2, 15, 1, 15, 8, 2, 8, 8, 8, 3, 13, 13, 2, 5, 8, 2, 2, 4, 4, 1, 13, 4, 5, 2, 4, 2, 13, 20]\n",
      "[1, 2, 2, 3, 2, 4, 2, 5, 6, 7, 7, 2, 8, 8, 2, 8, 2, 0, 2, 12, 8, 2, 8, 3, 3, 8, 2, 3, 3, 10, 10, 8, 4, 8, 5, 11, 8, 12, 8, 11, 8, 2, 8, 4, 4, 2, 2, 8, 2, 2, 8, 8, 8, 13, 13, 2, 13, 8, 4, 2, 4, 2, 8, 8, 2, 4, 4, 4, 2, 4, 14, 4, 15, 2, 16, 16, 13, 2, 13, 16, 3, 2, 13, 2, 8, 8, 8, 2, 8, 2, 3, 3, 13, 2, 8, 13, 2, 8, 13, 2, 8, 13, 2, 8, 13, 2, 8, 13, 8, 13, 2, 8, 17, 17, 17, 3, 3, 2, 2, 2, 2, 2, 3, 3, 3, 5, 2, 7, 7, 4, 7, 2, 3, 2, 3, 3, 2, 13, 3, 18, 2, 3, 3, 8, 4, 4, 8, 15, 15, 16, 3, 8, 3, 2, 13, 15, 2, 8, 2, 2, 8, 8, 8, 2, 8, 19, 19, 19, 19, 19, 2, 18, 2, 8, 2, 8, 2, 13, 8, 13, 2, 3, 13, 2, 8, 8, 8, 5, 8, 2, 6, 6, 6, 6, 2, 13, 13, 13, 2, 4, 1, 13, 4, 8, 4, 2, 4, 2, 12, 2, 15, 15, 21, 11, 3, 3, 2, 4, 2, 3, 3, 3, 2, 8, 2, 8, 16, 16, 3, 16, 3, 8, 5, 2, 3, 16, 15, 22, 15, 16, 3, 16, 2, 15, 8, 2, 13, 8, 2, 8, 2, 8, 8, 6, 7, 2, 2, 3, 3, 3, 3, 13, 2, 15, 13, 2, 25, 15, 13, 15, 13, 2, 11, 11, 2, 23, 23, 24, 23, 13, 2, 8, 7, 25, 26, 27, 28, 26, 28, 26, 28, 26, 28, 26, 28, 26, 28, 26, 28, 26, 2, 12, 12, 2, 29, 29, 12, 29, 11, 21, 21, 21, 15, 21, 5, 21, 21, 29, 29, 2, 2, 15, 13, 12, 12, 12, 3, 3, 2, 8, 15, 3, 3, 3, 3, 2, 2, 13, 26, 27, 30, 26, 5, 31, 31, 31, 2, 32, 24, 24, 1, 24, 24, 24, 24, 24, 23, 24, 23, 24, 24, 23, 3, 23, 1, 4, 1, 13, 4, 1, 33, 33, 33, 33, 33, 33, 8, 13, 8, 7, 8, 2, 32, 9, 5, 24, 15, 3, 15, 8, 1, 8, 1, 13, 8, 15, 13, 15, 18, 18, 3, 6, 3, 8, 6, 6, 6, 11, 2, 2, 16, 3, 16, 3, 3, 16, 3, 16, 7, 6, 5, 34, 25, 13, 15, 13, 35, 11, 2, 8, 2, 8, 13, 2, 36, 15, 15, 15, 35, 3, 36, 2, 15, 4, 15, 2, 4, 13, 2, 8, 8, 2, 2, 35, 35, 2, 3, 2, 36, 36, 4, 4, 36, 3, 9, 8, 7, 36, 5, 13, 7, 2, 8, 8, 13, 2, 13, 2, 35, 2, 8, 13, 2, 8, 8, 2, 4, 4, 4, 4, 4, 4, 4, 4, 2, 13, 4, 3, 2, 8, 8, 2, 8, 9, 35, 2, 13, 35, 2, 15, 15, 1, 13, 15, 2, 2, 8, 8, 37, 13, 8, 2, 0, 0, 2, 8, 15, 2, 2, 8, 4, 15, 2, 2, 2, 13, 12, 12, 3, 7, 2, 8, 8, 13, 2, 13, 8, 15, 13, 8, 2, 4, 4, 27, 38, 39, 38, 2, 2, 8, 22, 13, 8, 22, 2, 2, 8, 8, 2, 3, 4, 13, 3, 2, 24, 24, 15, 8, 12, 8, 2, 2, 7, 7, 7, 13, 7, 13, 2, 40, 2, 8, 3, 3, 2, 36, 8, 2, 16, 16, 3, 16, 3, 16, 3, 16, 3, 2, 2, 3, 3, 22, 3, 7, 3, 20, 8, 34, 25, 8, 25, 26, 34, 25, 34, 34, 25, 3, 2, 2, 2, 2, 5, 5, 2, 8, 2, 15, 1, 15, 8, 2, 8, 3, 3, 3, 13, 2, 2, 5, 8, 2, 7, 4, 1, 1, 13, 4, 5, 2, 4, 2, 13, 20, 13]\n"
     ]
    }
   ],
   "source": [
    "app = []\n",
    "for i in range(len(input_raw)):\n",
    "    signal = 1\n",
    "    for j in range(len(app)):\n",
    "        if app[j]==input_raw[i]:\n",
    "            signal = 0\n",
    "            break \n",
    "    if signal!=0:\n",
    "        app.append(input_raw[i])\n",
    "for i in range(len(label_raw)):\n",
    "    signal = 1\n",
    "    for j in range(len(app)):\n",
    "        if app[j]==label_raw[i]:\n",
    "            signal = 0\n",
    "            break \n",
    "    if signal!=0:\n",
    "        app.append(label_raw[i])\n",
    "input = []\n",
    "for element in input_raw:\n",
    "    input.append(app.index(element))\n",
    "print(input)\n",
    "label = []\n",
    "for element in label_raw:\n",
    "    label.append(app.index(element))\n",
    "print(label)"
   ]
  },
  {
   "cell_type": "code",
   "execution_count": 5,
   "id": "6f00751e",
   "metadata": {},
   "outputs": [
    {
     "data": {
      "text/plain": [
       "41"
      ]
     },
     "execution_count": 5,
     "metadata": {},
     "output_type": "execute_result"
    }
   ],
   "source": [
    "feature_app = np.array(input)\n",
    "np_label = np.array(label)\n",
    "feature_app = feature_app.reshape(len(input_raw),1)\n",
    "len(app)"
   ]
  },
  {
   "cell_type": "code",
   "execution_count": 6,
   "id": "050d13eb",
   "metadata": {},
   "outputs": [
    {
     "data": {
      "text/plain": [
       "(665, 1)"
      ]
     },
     "execution_count": 6,
     "metadata": {},
     "output_type": "execute_result"
    }
   ],
   "source": [
    "feature_app.shape"
   ]
  },
  {
   "cell_type": "markdown",
   "id": "2cad1889",
   "metadata": {},
   "source": [
    "# from app(1 feature) to app"
   ]
  },
  {
   "cell_type": "code",
   "execution_count": 7,
   "id": "b4b1bc3f",
   "metadata": {},
   "outputs": [
    {
     "data": {
      "text/plain": [
       "(665,)"
      ]
     },
     "execution_count": 7,
     "metadata": {},
     "output_type": "execute_result"
    }
   ],
   "source": [
    "X = scaler.fit_transform(feature_app)\n",
    "y = np_label\n",
    "y.shape"
   ]
  },
  {
   "cell_type": "code",
   "execution_count": 8,
   "id": "9cc3ab47",
   "metadata": {},
   "outputs": [],
   "source": [
    "X_train, X_test, y_train, y_test = train_test_split(X, y, random_state=0)"
   ]
  },
  {
   "cell_type": "markdown",
   "id": "99e1c971",
   "metadata": {},
   "source": [
    "## kNN Model:"
   ]
  },
  {
   "cell_type": "code",
   "execution_count": 9,
   "id": "d6560f4a",
   "metadata": {},
   "outputs": [
    {
     "name": "stdout",
     "output_type": "stream",
     "text": [
      "0.3413173652694611\n"
     ]
    }
   ],
   "source": [
    "kNN = KNeighborsClassifier(n_neighbors=7, weights='distance').fit(X_train,y_train) #probabilistic \n",
    "model_1_kNN = kNN.score(X_test, y_test)\n",
    "print(model_1_kNN)"
   ]
  },
  {
   "cell_type": "markdown",
   "id": "5ef6250d",
   "metadata": {},
   "source": [
    "# Random Forest Model:"
   ]
  },
  {
   "cell_type": "code",
   "execution_count": 10,
   "id": "8be3d195",
   "metadata": {},
   "outputs": [
    {
     "name": "stdout",
     "output_type": "stream",
     "text": [
      "0.33532934131736525\n"
     ]
    }
   ],
   "source": [
    "rf = RandomForestClassifier(n_estimators=30)\n",
    "rf.fit(X_train,y_train)\n",
    "model_1_rf = rf.score(X_test, y_test)\n",
    "print(model_1_rf)"
   ]
  },
  {
   "cell_type": "markdown",
   "id": "40612ecd",
   "metadata": {},
   "source": [
    "# 2. Model plus video features:\n",
    "\n",
    "Video features are extracted from .csv file\n",
    "Still with 3 different time windows"
   ]
  },
  {
   "cell_type": "code",
   "execution_count": 52,
   "id": "c3cde1ca",
   "metadata": {},
   "outputs": [],
   "source": [
    "def extractFeatures(df_temp, switchingTime, sessionStartTime, timeWindow):\n",
    "    df = df_temp.iloc[:,2:]\n",
    "    index_timestamp_list=[]\n",
    "    for index,timestamp in df[\"timestamp\"].items():\n",
    "        if timestamp >= (switchingTime-sessionStartTime)/1_000_000_000 - timeWindow and timestamp <= (switchingTime-sessionStartTime)/1_000_000_000:\n",
    "            index_timestamp_list.append(index)\n",
    "\n",
    "    df_timestamp_window = pd.DataFrame(columns=df.columns.values.tolist())\n",
    "    for i in index_timestamp_list:\n",
    "        df_timestamp_window=df_timestamp_window.append(df.iloc[i],ignore_index=True)\n",
    "\n",
    "    index_confidence_list=[]\n",
    "    for index,confidence in df_timestamp_window[\"confidence\"].items():#use confidence or we could use \"sucess==1\" to check the validity\n",
    "        if confidence > 0.8:\n",
    "            index_confidence_list.append(index)\n",
    "\n",
    "    df_window = pd.DataFrame(columns=df.columns.values.tolist())#contains the valid and high confidence features for all frames during the time window\n",
    "    for i in index_confidence_list:\n",
    "        df_window=df_window.append(df_timestamp_window.iloc[i],ignore_index=True)\n",
    "\n",
    "    #df_window.mean()series form of all averaged value for the features during the time window\n",
    "    video_mean_features = df_window.mean().values[3:11]#final features for one switch (291 video features totally)\n",
    "    video_var_features = df_window.var().values[3:11]\n",
    "    video_std_features = df_window.std().values[3:11]\n",
    "    return video_mean_features, video_var_features, video_std_features"
   ]
  },
  {
   "cell_type": "code",
   "execution_count": 57,
   "id": "dd32eae3",
   "metadata": {
    "scrolled": true
   },
   "outputs": [
    {
     "name": "stdout",
     "output_type": "stream",
     "text": [
      "Recording 000\n",
      "Session 0000\n",
      "Session 0002\n",
      "Session 0003\n",
      "Session 0004\n",
      "Session 0005\n",
      "Session 0006\n",
      "Session 0007\n",
      "Session 0008\n",
      "Session 0009\n",
      "Session 0010\n",
      "Session 0011\n",
      "Recording 001\n",
      "Session 0000\n",
      "Session 0001\n",
      "Session 0002\n",
      "Session 0003\n",
      "Session 0004\n",
      "Session 0005\n",
      "Session 0006\n",
      "Session 0007\n",
      "Session 0008\n",
      "Session 0009\n",
      "Session 0010\n",
      "Session 0011\n",
      "Session 0012\n",
      "Session 0013\n",
      "Session 0014\n",
      "Session 0015\n",
      "Session 0016\n",
      "Session 0017\n",
      "Session 0018\n",
      "Session 0019\n",
      "Session 0020\n",
      "Session 0021\n",
      "Session 0022\n",
      "Recording 002\n",
      "Session 0000\n",
      "Session 0001\n",
      "Session 0002\n",
      "Recording 003\n",
      "Session 0000\n",
      "Recording 004\n",
      "Session 0000\n",
      "Session 0001\n",
      "Session 0002\n",
      "Recording 005\n",
      "Session 0000\n",
      "Session 0001\n",
      "Recording 006\n",
      "Session 0000\n",
      "Session 0001\n",
      "Session 0002\n",
      "Session 0003\n",
      "Session 0004\n",
      "Session 0005\n",
      "Session 0006\n",
      "Session 0007\n",
      "Session 0008\n",
      "Recording 007\n",
      "Recording 008\n",
      "Session 0000\n",
      "Session 0001\n",
      "Session 0002\n",
      "Session 0003\n",
      "Session 0004\n",
      "Session 0005\n",
      "Session 0006\n",
      "Session 0007\n",
      "Session 0008\n",
      "Session 0009\n",
      "Session 0010\n",
      "Session 0011\n",
      "Session 0012\n",
      "Session 0013\n",
      "Session 0014\n",
      "Session 0015\n",
      "Session 0016\n",
      "Recording 009\n",
      "Session 0000\n",
      "Session 0001\n",
      "Session 0002\n",
      "Recording 010\n",
      "Session 0000\n",
      "Session 0001\n",
      "Session 0002\n",
      "Session 0003\n",
      "Session 0004\n",
      "Session 0005\n",
      "Recording 011\n",
      "Session 0000\n",
      "Recording 012\n",
      "Session 0000\n",
      "Session 0001\n",
      "Session 0002\n",
      "Session 0003\n",
      "Session 0004\n",
      "Recording 013\n",
      "Session 0000\n",
      "Recording 014\n",
      "Session 0000\n",
      "Session 0001\n",
      "Session 0002\n",
      "Session 0003\n",
      "Session 0004\n",
      "Session 0005\n",
      "Session 0006\n",
      "Session 0007\n",
      "Session 0008\n",
      "Session 0009\n",
      "Session 0010\n",
      "Session 0011\n",
      "Session 0012\n",
      "Session 0013\n",
      "Session 0014\n",
      "Session 0015\n",
      "Session 0016\n",
      "Session 0017\n",
      "Session 0018\n",
      "Session 0019\n",
      "Session 0020\n",
      "Recording 015\n",
      "Session 0000\n",
      "Recording 016\n",
      "Session 0000\n",
      "Session 0001\n",
      "Session 0002\n",
      "Session 0003\n",
      "Session 0004\n",
      "Session 0005\n",
      "Session 0006\n",
      "Session 0007\n",
      "Session 0008\n",
      "Session 0009\n",
      "Session 0010\n",
      "Session 0011\n",
      "Session 0012\n",
      "Session 0013\n",
      "Session 0014\n",
      "Session 0015\n",
      "Session 0016\n",
      "Session 0017\n",
      "Session 0018\n",
      "Session 0019\n",
      "Session 0020\n",
      "Session 0021\n",
      "Session 0022\n",
      "Session 0023\n",
      "Session 0024\n",
      "Session 0025\n",
      "Session 0026\n",
      "Session 0027\n",
      "Recording 017\n",
      "Session 0000\n",
      "Session 0001\n",
      "Session 0002\n",
      "Session 0003\n",
      "Session 0004\n",
      "Session 0005\n",
      "Session 0006\n",
      "Session 0007\n",
      "Session 0008\n",
      "Session 0009\n",
      "Session 0010\n",
      "Session 0011\n",
      "Recording 018\n",
      "Session 0000\n",
      "Session 0001\n",
      "Session 0002\n",
      "Recording 019\n",
      "Session 0000\n",
      "Session 0001\n",
      "Session 0002\n",
      "Session 0003\n",
      "Session 0004\n",
      "Session 0005\n",
      "Session 0006\n",
      "Session 0007\n",
      "Session 0008\n",
      "Session 0009\n",
      "Session 0010\n",
      "Session 0011\n",
      "Session 0012\n",
      "Session 0013\n",
      "Session 0014\n",
      "Session 0015\n",
      "Recording 020\n",
      "Session 0000\n",
      "Session 0001\n",
      "Session 0002\n",
      "Session 0003\n",
      "Session 0004\n",
      "Session 0005\n",
      "Session 0006\n",
      "Session 0007\n",
      "Recording 021\n",
      "Session 0000\n",
      "Session 0001\n",
      "Session 0002\n",
      "Session 0003\n",
      "Session 0004\n",
      "Session 0005\n",
      "Session 0006\n",
      "Recording 022\n",
      "Session 0000\n",
      "Session 0001\n",
      "Session 0002\n",
      "Session 0003\n",
      "Session 0004\n",
      "Recording 023\n",
      "Session 0000\n",
      "Session 0001\n",
      "Session 0002\n",
      "Session 0003\n",
      "Session 0004\n",
      "Session 0005\n",
      "Session 0006\n",
      "Recording 024\n",
      "[0, 7, 8, 0, 1, 2, 21, 25, 26, 28, 37, 38, 39, 40, 41, 21, 28, 35, 125, 126, 127, 128, 129, 130, 131, 132, 133, 148, 149, 150, 151, 152, 153, 154, 155, 156, 162, 164, 198, 212, 213, 214, 215, 219, 220, 221, 222, 224, 227, 228, 229, 230, 231, 232, 233, 234, 237, 238, 239, 240, 241, 242, 206, 207, 212, 213, 216, 217, 218, 219, 220, 221, 222, 273, 325, 327, 328, 329, 611, 612, 613, 334, 616, 621, 624, 625, 626, 627, 338, 339, 340, 341, 342, 345, 347, 349, 350, 362, 366, 367, 368, 369, 370, 371, 372, 373, 374, 375, 376, 377, 378, 379, 380, 381, 382, 383, 338, 339, 340, 341, 342, 349, 350, 352, 353, 354, 355, 356, 357, 366, 371, 372, 373, 374, 375, 376, 338, 339, 340, 341, 342, 423, 424, 425, 426, 427, 428, 430, 431, 432, 433, 434, 435, 437, 438, 439, 441, 444, 445, 446, 447, 448, 426, 432, 433, 436, 437, 438, 439, 440, 441, 444, 445, 446, 447, 448, 430, 432, 433, 435, 436, 437, 438, 439, 440, 441, 442, 502, 503, 504, 505, 506, 507, 509, 512, 513, 515, 516, 517, 521, 523, 524, 525, 526, 502, 503, 504, 505, 534, 535, 536, 537, 538, 539, 540, 536, 537, 538, 540, 597, 598, 599, 600, 602, 603, 605, 332, 609, 610, 611, 612, 613, 614, 615, 619, 620, 621, 622, 623, 624, 625, 626, 627, 628, 629, 630, 631, 632, 633, 634, 635, 636, 637, 638, 639, 640, 641, 644, 645, 646, 647, 648, 649, 650, 651, 652, 348, 349, 381, 382, 388, 654, 655, 656, 657, 658, 659, 389, 390, 391, 392, 393, 394, 395, 660, 661]\n"
     ]
    }
   ],
   "source": [
    "# video features in the past timeWindow=3/5/10 seconds\n",
    "timeWindow = 3\n",
    "list_mean_features_video = []\n",
    "list_var_features_video = []\n",
    "list_std_features_video = []\n",
    "valid_index=[]\n",
    "\n",
    "for recording in os.listdir(account_path):\n",
    "    recording_path = os.path.join (account_path, str(recording))\n",
    "    \n",
    "    assert(os.path.exists(recording_path))\n",
    "\n",
    "    print(recording)\n",
    "    \n",
    "    # open each of the recording file\n",
    "    \n",
    "    with open (os.path.join(recording_path, \"video_data.txt\")) as video_file:\n",
    "        video_data = json.load(video_file)[\"video_data\"]\n",
    "    \n",
    "        #num_session = len(video_data)\n",
    "        #????????????????????????????????????????????? something wrong with the video_data for recording 001&002\n",
    "        \n",
    "        # count the number of sessions\n",
    "        list_session = []\n",
    "        for file in os.listdir(recording_path):\n",
    "            if str(file)[:7] == \"Session\":\n",
    "                list_session.append(str(file))\n",
    "        \n",
    "        if list_session==[]:\n",
    "            continue\n",
    "        \n",
    "        \n",
    "        # open each of the session file\n",
    "        for session in list_session:\n",
    "            session_path = os.path.join(recording_path, session)\n",
    "            \n",
    "            assert(os.path.exists(session_path))\n",
    "            \n",
    "            #get the timestamp which the video started recording\n",
    "            sessionStartTime = video_data[int(session[-1])][\"startTime\"]\n",
    "            sessionStopTime = video_data[int(session[-1])][\"stopTime\"]\n",
    "            \n",
    "            \n",
    "            if os.path.exists((os.path.join(session_path, \"r_video.csv\")))==False:\n",
    "                continue\n",
    "            df_temp = pd.read_csv(os.path.join(session_path, \"r_video.csv\"))\n",
    "\n",
    "            print(session)\n",
    "  \n",
    "            for switchingTime in feature_switchingTime:\n",
    "                if switchingTime < sessionStopTime and switchingTime > sessionStartTime:\n",
    "\n",
    "                    mean_video_features_switching, var_video_features_switching, std_video_features_switching = extractFeatures(df_temp, switchingTime, sessionStartTime, timeWindow)\n",
    "                    isnan1 = np.isnan(np.array(mean_video_features_switching.tolist()))\n",
    "                    isnan2 = np.isnan(np.array(var_video_features_switching.tolist()))\n",
    "                    isnan3 = np.isnan(np.array(std_video_features_switching.tolist()))\n",
    "                    p1 = True in isnan1\n",
    "                    p2 = True in isnan2\n",
    "                    p3 = True in isnan3\n",
    "                    if p1==False and p2==False and p3==False:\n",
    "                        valid_index.append(feature_switchingTime.index(switchingTime))\n",
    "                        list_mean_features_video.append(mean_video_features_switching.tolist())\n",
    "                        list_var_features_video.append(var_video_features_switching.tolist())\n",
    "                        list_std_features_video.append(std_video_features_switching.tolist())\n",
    "features_mean_video = np.array(list_mean_features_video)\n",
    "features_var_video = np.array(list_var_features_video)\n",
    "features_std_video = np.array(list_std_features_video)\n",
    "print(valid_index)"
   ]
  },
  {
   "cell_type": "code",
   "execution_count": 62,
   "id": "fe69f02d",
   "metadata": {},
   "outputs": [
    {
     "name": "stdout",
     "output_type": "stream",
     "text": [
      "[0, 7, 8, 0, 1, 2, 21, 25, 26, 28, 37, 38, 39, 40, 41, 21, 28, 35, 125, 126, 127, 128, 129, 130, 131, 132, 133, 148, 149, 150, 151, 152, 153, 154, 155, 156, 162, 164, 198, 212, 213, 214, 215, 219, 220, 221, 222, 224, 227, 228, 229, 230, 231, 232, 233, 234, 237, 238, 239, 240, 241, 242, 206, 207, 212, 213, 216, 217, 218, 219, 220, 221, 222, 273, 325, 327, 328, 329, 611, 612, 613, 334, 616, 621, 624, 625, 626, 627, 338, 339, 340, 341, 342, 345, 347, 349, 350, 362, 366, 367, 368, 369, 370, 371, 372, 373, 374, 375, 376, 377, 378, 379, 380, 381, 382, 383, 338, 339, 340, 341, 342, 349, 350, 352, 353, 354, 355, 356, 357, 366, 371, 372, 373, 374, 375, 376, 338, 339, 340, 341, 342, 423, 424, 425, 426, 427, 428, 430, 431, 432, 433, 434, 435, 437, 438, 439, 441, 444, 445, 446, 447, 448, 426, 432, 433, 436, 437, 438, 439, 440, 441, 444, 445, 446, 447, 448, 430, 432, 433, 435, 436, 437, 438, 439, 440, 441, 442, 502, 503, 504, 505, 506, 507, 509, 512, 513, 515, 516, 517, 521, 523, 524, 525, 526, 502, 503, 504, 505, 534, 535, 536, 537, 538, 539, 540, 536, 537, 538, 540, 597, 598, 599, 600, 602, 603, 605, 332, 609, 610, 611, 612, 613, 614, 615, 619, 620, 621, 622, 623, 624, 625, 626, 627, 628, 629, 630, 631, 632, 633, 634, 635, 636, 637, 638, 639, 640, 641, 644, 645, 646, 647, 648, 649, 650, 651, 652, 348, 349, 381, 382, 388, 654, 655, 656, 657, 658, 659, 389, 390, 391, 392, 393, 394, 395, 660, 661]\n"
     ]
    }
   ],
   "source": [
    "features_mean_video = np.array(list_mean_features_video)\n",
    "features_var_video = np.array(list_var_features_video)\n",
    "features_std_video = np.array(list_std_features_video)\n",
    "print(valid_index)"
   ]
  },
  {
   "cell_type": "code",
   "execution_count": 63,
   "id": "23ae10f2",
   "metadata": {},
   "outputs": [],
   "source": [
    "# There's a shrinkage of the dataset between feature_video(110) and feature_app(128)\n",
    "# The problems can be:\n",
    "# 1. There are no Session document in Recording but video_data and application_data show the application switching\n",
    "# 2. Video_data shows there are n totally sessions but only m(m<n) sessions instead"
   ]
  },
  {
   "cell_type": "code",
   "execution_count": 64,
   "id": "b759c284",
   "metadata": {},
   "outputs": [
    {
     "name": "stdout",
     "output_type": "stream",
     "text": [
      "(286, 1)\n"
     ]
    }
   ],
   "source": [
    "feature_valid_app=[]\n",
    "feature_valid_switchingTime=[]\n",
    "valid_label=[]\n",
    "for index in valid_index:\n",
    "    feature_valid_app.append(feature_app[index][0])\n",
    "    feature_valid_switchingTime.append(feature_switchingTime[index])\n",
    "    valid_label.append(np_label[index])\n",
    "feature_valid_app = np.array(feature_valid_app).reshape(len(feature_valid_app),1)\n",
    "valid_label = np.array(valid_label)\n",
    "print(feature_valid_app.shape)"
   ]
  },
  {
   "cell_type": "code",
   "execution_count": 65,
   "id": "4e6deed0",
   "metadata": {},
   "outputs": [
    {
     "data": {
      "text/plain": [
       "(286,)"
      ]
     },
     "execution_count": 65,
     "metadata": {},
     "output_type": "execute_result"
    }
   ],
   "source": [
    "valid_label.shape"
   ]
  },
  {
   "cell_type": "markdown",
   "id": "72a797ac",
   "metadata": {},
   "source": [
    "# Feature of app category:"
   ]
  },
  {
   "cell_type": "code",
   "execution_count": 66,
   "id": "208e4655",
   "metadata": {},
   "outputs": [
    {
     "data": {
      "text/plain": [
       "['com.android.settings',\n",
       " 'com.android.calendar',\n",
       " 'com.google.android.youtube',\n",
       " 'com.android.chrome',\n",
       " 'com.android.email',\n",
       " 'com.facebook.katana',\n",
       " 'com.espn.score_center',\n",
       " 'com.instagram.android',\n",
       " 'com.whatsapp',\n",
       " 'de.motain.iliga',\n",
       " 'com.popularapp.thirtydayfitnesschallenge',\n",
       " 'com.google.android.apps.maps',\n",
       " 'com.android.deskclock',\n",
       " 'com.android.systemui',\n",
       " 'com.android.incallui',\n",
       " 'com.google.android.gm',\n",
       " 'com.bleacherreport.android.teamstream',\n",
       " 'com.miui.player',\n",
       " 'com.android.vending',\n",
       " 'com.fision',\n",
       " 'com.weather.Weather',\n",
       " 'com.app.tgtg',\n",
       " 'com.google.android.apps.translate',\n",
       " 'com.ubs.swidKXJ.android',\n",
       " 'com.ubs.swidK2Y.android',\n",
       " 'com.miui.cleanmaster',\n",
       " 'com.mi.android.globalFileexplorer',\n",
       " 'android',\n",
       " 'com.miui.gallery',\n",
       " 'ch.publibike.app',\n",
       " 'com.UCMobile.intl',\n",
       " 'com.facebook.orca',\n",
       " 'homedia.sky.sport',\n",
       " 'com.android.contacts',\n",
       " 'com.miui.securitycenter',\n",
       " 'jp.naver.line.android',\n",
       " 'fm.player',\n",
       " 'com.airbnb.android',\n",
       " 'cn.wps.moffice_eng',\n",
       " 'com.google.android.packageinstaller',\n",
       " 'com.android.mms']"
      ]
     },
     "execution_count": 66,
     "metadata": {},
     "output_type": "execute_result"
    }
   ],
   "source": [
    "app"
   ]
  },
  {
   "cell_type": "code",
   "execution_count": 67,
   "id": "2b8132a6",
   "metadata": {},
   "outputs": [],
   "source": [
    "category = ['financial', 'explorer', 'tools', 'shopping_food_travel',  'sports', 'efficiency', 'entertainment', 'social_media', 'system', 'others']\n",
    "dict_app = {'financial': ['ro.bcr.georgego','com.eTokenBCR','com.revolut.revolut', 'com.ubs.swidKXJ.android', 'com.ubs.swidK2Y.android',],\n",
    "                   'explorer': [ 'com.android.chrome','com.android.browser', 'com.android.htmlviewer','com.android.chrome', 'com.UCMobile.intl'],\n",
    "                   'tools': [ 'com.huawei.search', 'com.android.calendar','com.google.android.apps.maps', 'ch.admin.meteoswiss','com.android.deskclock','com.android.deskclock','com.google.android.apps.maps','com.android.calendar', 'com.weather.Weather'],\n",
    "                   'shopping_food_travel': [ 'com.wahanda.marketplace', 'com.contextlogic.wish', 'com.fision',  'com.app.tgtg', 'com.airbnb.android'],\n",
    "                   'sports': [ 'com.espn.score_center', 'de.motain.iliga', 'com.popularapp.thirtydayfitnesschallenge', 'com.bleacherreport.android.teamstream', 'ch.publibike.app', 'homedia.sky.sport'],\n",
    "                   'efficiency': ['com.google.android.gm', 'com.microsoft.office.word','com.example.android.notepad', 'com.thisclicks.wiw','com.google.android.googlequicksearchbox','com.google.android.gm','com.google.android.gms', 'com.android.email', 'com.google.android.apps.translate', 'cn.wps.moffice_eng'],\n",
    "                   'entertainment': ['com.apple.android.music','com.google.android.apps.books', 'com.huawei.camera', 'com.google.android.youtube', 'com.adobe.lrmobile','com.huawei.himovie.overseas', 'com.netflix.mediaclient','com.google.android.youtube','com.spotify.music', 'com.android.camera', 'com.miui.player', 'fm.player'],\n",
    "                   'social_media': ['com.instagram.android', 'com.whatsapp','com.facebook.katana', 'com.android.contacts', 'com.pinterest','com.instagram.android', 'com.whatsapp', 'com.facebook.orca', 'com.facebook.katana', 'com.android.mms','com.android.contacts','jp.naver.line.android',  'com.Slack'],\n",
    "                   'system': [ 'com.huawei.systemmanager', 'com.ohh2ahh.zuerimensa', 'com.android.incallui','com.android.settings', 'com.huawei.android.internal.app', 'com.android.gallery3d','com.android.vending', 'com.huawei.android.hwouc','com.miui.gallery', 'com.android.settings', 'com.miui.securitycenter', 'com.miui.cleanmaster', 'com.android.providers.downloads.ui', 'com.android.vending',  'com.android.systemui', 'com.android.incallui', 'com.mi.android.globalFileexplorer','android']\n",
    "                  }"
   ]
  },
  {
   "cell_type": "code",
   "execution_count": 68,
   "id": "c601e667",
   "metadata": {},
   "outputs": [
    {
     "data": {
      "text/plain": [
       "(664, 1)"
      ]
     },
     "execution_count": 68,
     "metadata": {},
     "output_type": "execute_result"
    }
   ],
   "source": [
    "list_feature_app_category = []\n",
    "for digit in input:\n",
    "    for key, value in dict_app.items():\n",
    "        for element in value:\n",
    "            if element== app[digit]:\n",
    "                list_feature_app_category.append(category.index(key))\n",
    "                break\n",
    "feature_app_category = np.array(list_feature_app_category).reshape(len(list_feature_app_category),1)\n",
    "feature_app_category.shape"
   ]
  },
  {
   "cell_type": "code",
   "execution_count": 69,
   "id": "fb6957cb",
   "metadata": {},
   "outputs": [
    {
     "name": "stdout",
     "output_type": "stream",
     "text": [
      "(286, 1)\n"
     ]
    }
   ],
   "source": [
    "feature_valid_app_category=[]\n",
    "for index in valid_index:\n",
    "    feature_valid_app_category.append(feature_app_category[index][0])\n",
    "feature_valid_app_category = np.array(feature_valid_app_category).reshape(len(feature_valid_app_category),1)\n",
    "print(feature_valid_app_category.shape)"
   ]
  },
  {
   "cell_type": "markdown",
   "id": "e77eeb35",
   "metadata": {},
   "source": [
    "# Label with categories"
   ]
  },
  {
   "cell_type": "code",
   "execution_count": 70,
   "id": "b75d837f",
   "metadata": {},
   "outputs": [
    {
     "name": "stdout",
     "output_type": "stream",
     "text": [
      "(286,)\n"
     ]
    }
   ],
   "source": [
    "list_label_category = []\n",
    "for digit in label:\n",
    "    for key, value in dict_app.items():\n",
    "        for element in value:\n",
    "            if element== app[digit]:\n",
    "                list_label_category.append(category.index(key))\n",
    "                break\n",
    "label_category = np.array(list_label_category).reshape(len(list_label_category),1)\n",
    "label_valid_category=[]\n",
    "for index in valid_index:\n",
    "    label_valid_category.append(label_category[index][0])\n",
    "label_valid_category = np.array(label_valid_category).reshape(len(label_valid_category),)\n",
    "print(label_valid_category.shape)"
   ]
  },
  {
   "cell_type": "markdown",
   "id": "e7de59a4",
   "metadata": {},
   "source": [
    "# Feature of app frequency"
   ]
  },
  {
   "cell_type": "code",
   "execution_count": 71,
   "id": "a4b45ba8",
   "metadata": {},
   "outputs": [
    {
     "data": {
      "text/plain": [
       "(665, 1)"
      ]
     },
     "execution_count": 71,
     "metadata": {},
     "output_type": "execute_result"
    }
   ],
   "source": [
    "hash_app_frequency = {}\n",
    "for digit in input:\n",
    "    hash_app_frequency[digit] = (hash_app_frequency.get(digit, 0) + 1)\n",
    "for digit in label:\n",
    "    hash_app_frequency[digit] = (hash_app_frequency.get(digit, 0) + 1)\n",
    "    \n",
    "list_app_frequency = []\n",
    "for digit in input:\n",
    "    list_app_frequency.append(hash_app_frequency.get(digit, 0))\n",
    "feature_app_frequency = np.array(list_app_frequency).reshape(len(list_app_frequency),1)\n",
    "feature_app_frequency.shape"
   ]
  },
  {
   "cell_type": "code",
   "execution_count": 72,
   "id": "1f5013d9",
   "metadata": {
    "scrolled": true
   },
   "outputs": [
    {
     "name": "stdout",
     "output_type": "stream",
     "text": [
      "(286, 1)\n"
     ]
    }
   ],
   "source": [
    "feature_valid_app_frequency=[]\n",
    "for index in valid_index:\n",
    "    feature_valid_app_frequency.append(feature_app_frequency[index][0])\n",
    "feature_valid_app_frequency = np.array(feature_valid_app_frequency).reshape(len(feature_valid_app_frequency),1)\n",
    "print(feature_valid_app_frequency.shape)"
   ]
  },
  {
   "cell_type": "markdown",
   "id": "6a111c61",
   "metadata": {},
   "source": [
    "# Feature Duration"
   ]
  },
  {
   "cell_type": "code",
   "execution_count": 73,
   "id": "716d605f",
   "metadata": {},
   "outputs": [
    {
     "name": "stdout",
     "output_type": "stream",
     "text": [
      "(286, 1)\n"
     ]
    }
   ],
   "source": [
    "feature_duration = np.array(duration).reshape(len(duration),1)\n",
    "feature_valid_duration = []\n",
    "for index in valid_index:\n",
    "    feature_valid_duration.append(feature_duration[index][0])\n",
    "feature_valid_duration = np.array(feature_valid_duration).reshape(len(feature_valid_duration),1)\n",
    "print(feature_valid_duration.shape)"
   ]
  },
  {
   "cell_type": "markdown",
   "id": "5171d0ab",
   "metadata": {},
   "source": [
    "# Feature TimeOfTheDay"
   ]
  },
  {
   "cell_type": "code",
   "execution_count": 74,
   "id": "c38697c7",
   "metadata": {},
   "outputs": [
    {
     "name": "stdout",
     "output_type": "stream",
     "text": [
      "(286, 1)\n"
     ]
    }
   ],
   "source": [
    "# switching time:\n",
    "feature_switchingTime = []\n",
    "for element in temp_switchingTime:\n",
    "    feature_switchingTime.append(int(element))\n",
    "\n",
    "    \n",
    "# switching timedate\n",
    "temp = []\n",
    "for index in range(len(temp_switchingTimeDate)):\n",
    "    temp.append(temp_switchingTimeDate[index][11:13]+temp_switchingTimeDate[index][14:16]+temp_switchingTimeDate[index][17:19])\n",
    "feature_switchingTimeDate = []\n",
    "for element in temp:\n",
    "    feature_switchingTimeDate.append(int(element))\n",
    "tt_feature_switchingTimeDate = np.array(feature_switchingTimeDate).reshape(len(feature_switchingTimeDate),1)\n",
    "feature_valid_switchingTimeDate = []\n",
    "for index in valid_index:\n",
    "    feature_valid_switchingTimeDate.append(tt_feature_switchingTimeDate[index][0])\n",
    "feature_valid_switchingTimeDate = np.array(feature_valid_switchingTimeDate).reshape(len(feature_valid_switchingTimeDate),1)\n",
    "print(feature_valid_switchingTimeDate.shape)"
   ]
  },
  {
   "cell_type": "markdown",
   "id": "2ca7593d",
   "metadata": {},
   "source": [
    "# Feature DeviceStatus(3/5/10)"
   ]
  },
  {
   "cell_type": "code",
   "execution_count": 75,
   "id": "4e169227",
   "metadata": {},
   "outputs": [
    {
     "name": "stdout",
     "output_type": "stream",
     "text": [
      "665\n"
     ]
    }
   ],
   "source": [
    "deviceStatus3=[0]*len(feature_switchingTime)\n",
    "deviceStatus5=[0]*len(feature_switchingTime)\n",
    "deviceStatus10=[0]*len(feature_switchingTime)\n",
    "for recording in os.listdir(account_path):\n",
    "    recording_path = os.path.join (account_path, str(recording))\n",
    "    \n",
    "    assert(os.path.exists(recording_path))\n",
    "\n",
    "    if os.path.exists((os.path.join(recording_path, \"video_data.txt\")))==False:\n",
    "        continue\n",
    "    # open each of the recording file\n",
    "    \n",
    "    with open (os.path.join(recording_path, \"video_data.txt\")) as video_file:\n",
    "        video_data = json.load(video_file)[\"video_data\"]\n",
    "        #num_session = len(video_data)\n",
    "        #????????????????????????????????????????????? something wrong with the video_data for recording 001&002\n",
    "        \n",
    "            \n",
    "        with open(os.path.join(recording_path, \"device_data.txt\")) as device_file:\n",
    "            device_data = json.load(device_file)[\"device_data\"]\n",
    "\n",
    "            for d_index in range(len(device_data)):\n",
    "                for s_index in range(len(feature_switchingTime)):\n",
    "                    if device_data[d_index][\"time\"] >= feature_switchingTime[s_index] - 3*1_000_000_000 and device_data[d_index][\"time\"] <= feature_switchingTime[s_index]:\n",
    "                        deviceStatus3[s_index]+=1\n",
    "                    if device_data[d_index][\"time\"] >= feature_switchingTime[s_index] - 5*1_000_000_000 and device_data[d_index][\"time\"] <= feature_switchingTime[s_index]:\n",
    "                        deviceStatus5[s_index]+=1                    \n",
    "                    if device_data[d_index][\"time\"] >= feature_switchingTime[s_index] - 10*1_000_000_000 and device_data[d_index][\"time\"] <= feature_switchingTime[s_index]:\n",
    "                        deviceStatus10[s_index]+=1            \n",
    "print(len(deviceStatus3))"
   ]
  },
  {
   "cell_type": "code",
   "execution_count": 76,
   "id": "c80108f8",
   "metadata": {},
   "outputs": [
    {
     "name": "stdout",
     "output_type": "stream",
     "text": [
      "(286, 1)\n"
     ]
    }
   ],
   "source": [
    "feature_deviceStatus3 = np.array(deviceStatus3).reshape(len(deviceStatus3),1)\n",
    "feature_valid_deviceStatus3 = []\n",
    "for index in valid_index:\n",
    "    feature_valid_deviceStatus3.append(feature_deviceStatus3[index][0])\n",
    "feature_valid_deviceStatus3 = np.array(feature_valid_deviceStatus3).reshape(len(feature_valid_deviceStatus3),1)\n",
    "print(feature_valid_deviceStatus3.shape)"
   ]
  },
  {
   "cell_type": "markdown",
   "id": "5236a005",
   "metadata": {},
   "source": [
    "# Feature TouchEvent(3/5/10)"
   ]
  },
  {
   "cell_type": "code",
   "execution_count": 77,
   "id": "e4021a2c",
   "metadata": {},
   "outputs": [
    {
     "name": "stdout",
     "output_type": "stream",
     "text": [
      "665\n"
     ]
    }
   ],
   "source": [
    "# touch data: happened touch events in the past 3/5/10 seconds\n",
    "touchTimes_data3=[0]*len(feature_switchingTime)\n",
    "touchTimes_data5=[0]*len(feature_switchingTime)\n",
    "touchTimes_data10=[0]*len(feature_switchingTime)\n",
    "for recording in os.listdir(account_path):\n",
    "    recording_path = os.path.join (account_path, str(recording))\n",
    "    \n",
    "    assert(os.path.exists(recording_path))\n",
    "\n",
    "    if os.path.exists((os.path.join(recording_path, \"video_data.txt\")))==False:\n",
    "        continue\n",
    "    # open each of the recording file\n",
    "    \n",
    "    with open (os.path.join(recording_path, \"video_data.txt\")) as video_file:\n",
    "        video_data = json.load(video_file)[\"video_data\"]\n",
    "        #num_session = len(video_data)\n",
    "        #????????????????????????????????????????????? something wrong with the video_data for recording 001&002\n",
    "        \n",
    "\n",
    "        for file in os.listdir(recording_path):\n",
    "            if str(file)[:7] == \"Session\":\n",
    "                # open each of the session file\n",
    "                session_path = os.path.join(recording_path, str(file))\n",
    "\n",
    "                assert(os.path.exists(session_path))\n",
    "\n",
    "                with open(os.path.join(session_path, \"touch_data.txt\")) as touch_file:\n",
    "                    touch_data = json.load(touch_file)[\"touch_data\"]\n",
    "\n",
    "                    for t_index in range(len(touch_data)):\n",
    "                        for s_index in range(len(feature_switchingTime)):\n",
    "                            if touch_data[t_index][\"time\"] >= feature_switchingTime[s_index] - 3*1_000_000_000 and touch_data[t_index][\"time\"] <= feature_switchingTime[s_index]:\n",
    "                                touchTimes_data3[s_index]+=1\n",
    "                            if touch_data[t_index][\"time\"] >= feature_switchingTime[s_index] - 5*1_000_000_000 and touch_data[t_index][\"time\"] <= feature_switchingTime[s_index]:\n",
    "                                touchTimes_data5[s_index]+=1                    \n",
    "                            if touch_data[t_index][\"time\"] >= feature_switchingTime[s_index] - 10*1_000_000_000 and touch_data[t_index][\"time\"] <= feature_switchingTime[s_index]:\n",
    "                                touchTimes_data10[s_index]+=1            \n",
    "print(len(touchTimes_data3))"
   ]
  },
  {
   "cell_type": "code",
   "execution_count": 78,
   "id": "8265cfac",
   "metadata": {},
   "outputs": [
    {
     "name": "stdout",
     "output_type": "stream",
     "text": [
      "(286, 1)\n"
     ]
    }
   ],
   "source": [
    "feature_touchTimes3 = np.array(touchTimes_data3).reshape(len(touchTimes_data3),1)\n",
    "feature_valid_touchTimes3 = []\n",
    "for index in valid_index:\n",
    "    feature_valid_touchTimes3.append(feature_touchTimes3[index][0])\n",
    "feature_valid_touchTimes3 = np.array(feature_valid_touchTimes3).reshape(len(feature_valid_touchTimes3),1)\n",
    "print(feature_valid_touchTimes3.shape)"
   ]
  },
  {
   "cell_type": "markdown",
   "id": "f3820ac4",
   "metadata": {},
   "source": [
    "# valid Label"
   ]
  },
  {
   "cell_type": "code",
   "execution_count": 79,
   "id": "ff1d8cfd",
   "metadata": {},
   "outputs": [
    {
     "name": "stdout",
     "output_type": "stream",
     "text": [
      "(286,)\n"
     ]
    }
   ],
   "source": [
    "label_app = np.array(label).reshape(len(label),1)\n",
    "label_valid_app=[]\n",
    "for index in valid_index:\n",
    "    label_valid_app.append(label_app[index][0])\n",
    "label_valid_app = np.array(label_valid_app).reshape(len(label_valid_category),)\n",
    "print(label_valid_app.shape)"
   ]
  },
  {
   "cell_type": "markdown",
   "id": "9ad17c86",
   "metadata": {},
   "source": [
    "# Function"
   ]
  },
  {
   "cell_type": "code",
   "execution_count": 80,
   "id": "429cb5fa",
   "metadata": {},
   "outputs": [],
   "source": [
    "def predict_top_k(X_test, y_test, model, k=3):\n",
    "\n",
    "    probs = model.predict_proba(X_test)\n",
    "    labels = model.classes_\n",
    "    result = 0\n",
    "\n",
    "    for i in range(probs.shape[0]):\n",
    "        a = probs[i]\n",
    "        index = heapq.nlargest(k, range(probs.shape[1]), a.take)\n",
    "        for element in index:\n",
    "            if labels[element] == y_test[i]:\n",
    "                result+=1\n",
    "    \n",
    "    return result/y_test.shape[0]\n",
    "\n",
    "def kNN_training (feature, label):\n",
    "    valid_X = scaler.fit_transform(feature)\n",
    "    valid_y = label\n",
    "    X_train, X_test, y_train, y_test = train_test_split(valid_X, valid_y, random_state=0)\n",
    "    model = KNeighborsClassifier(n_neighbors=7, weights='uniform').fit(X_train,y_train)\n",
    "    accuracy = model.score(X_test, y_test)\n",
    "    top_accuracy4 = predict_top_k(X_test, y_test, model, k=4)\n",
    "    top_accuracy8 = predict_top_k(X_test, y_test, model, k=8)\n",
    "    return accuracy, top_accuracy4, top_accuracy8\n",
    "\n",
    "def rf_training (feature, label):\n",
    "    valid_X = scaler.fit_transform(feature)\n",
    "    valid_y = label\n",
    "    X_train, X_test, y_train, y_test = train_test_split(valid_X, valid_y, random_state=0)\n",
    "    model = RandomForestClassifier(n_estimators=50).fit(X_train,y_train)\n",
    "    accuracy = model.score(X_test, y_test)\n",
    "    top_accuracy4 = predict_top_k(X_test, y_test, model, k=4)\n",
    "    top_accuracy8 = predict_top_k(X_test, y_test, model, k=8)\n",
    "    return accuracy, top_accuracy4, top_accuracy8\n",
    "\n",
    "def Ada_training (feature, label):\n",
    "    valid_X = scaler.fit_transform(feature)\n",
    "    valid_y = label\n",
    "    X_train, X_test, y_train, y_test = train_test_split(valid_X, valid_y, random_state=0)\n",
    "    model = AdaBoostClassifier(n_estimators=100, random_state=0).fit(X_train,y_train)\n",
    "    accuracy = model.score(X_test, y_test)\n",
    "    top_accuracy4 = predict_top_k(X_test, y_test, model, k=4)\n",
    "    top_accuracy8 = predict_top_k(X_test, y_test, model, k=8)\n",
    "    return accuracy, top_accuracy4, top_accuracy8\n",
    "\n",
    "def dummy_training(feature, label):\n",
    "    dummy = DummyClassifier(strategy=\"most_frequent\")\n",
    "    dummy = dummy.fit(feature, label)\n",
    "    accuracy = dummy.score(feature, label)\n",
    "    return accuracy\n",
    "\n",
    "def calculateMeanRF(feature, label):\n",
    "    accuracy=[]\n",
    "    top4=[]\n",
    "    top8=[]\n",
    "    for i in range(5):\n",
    "        accuracy_rf, top_accuracy_rf4, top_accuracy_rf8= rf_training (feature, label)\n",
    "        accuracy.append(accuracy_rf)\n",
    "        top4.append(top_accuracy_rf4)\n",
    "        top8.append(top_accuracy_rf8)\n",
    "    return sum(accuracy)/len(accuracy), sum(top4)/len(top4), sum(top8)/len(top8)\n",
    "\n",
    "def calculateMeanKNN(feature, label):\n",
    "    accuracy=[]\n",
    "    top4=[]\n",
    "    top8=[]\n",
    "    for i in range(5):\n",
    "        accuracy_kNN, top_accuracy_kNN4, top_accuracy_kNN8= kNN_training (feature, label)\n",
    "        accuracy.append(accuracy_kNN)\n",
    "        top4.append(top_accuracy_kNN4)\n",
    "        top8.append(top_accuracy_kNN8)\n",
    "    return sum(accuracy)/len(accuracy), sum(top4)/len(top4), sum(top8)/len(top8)\n",
    "\n",
    "def calculateMeanAda(feature, label):\n",
    "    accuracy=[]\n",
    "    top4=[]\n",
    "    top8=[]\n",
    "    for i in range(5):\n",
    "        accuracy_kNN, top_accuracy_kNN4, top_accuracy_kNN8= Ada_training (feature, label)\n",
    "        accuracy.append(accuracy_kNN)\n",
    "        top4.append(top_accuracy_kNN4)\n",
    "        top8.append(top_accuracy_kNN8)\n",
    "    return sum(accuracy)/len(accuracy), sum(top4)/len(top4), sum(top8)/len(top8)"
   ]
  },
  {
   "cell_type": "markdown",
   "id": "05a6e5a0",
   "metadata": {},
   "source": [
    "# Feature Summary"
   ]
  },
  {
   "cell_type": "code",
   "execution_count": 81,
   "id": "d117d96e",
   "metadata": {
    "scrolled": true
   },
   "outputs": [
    {
     "name": "stdout",
     "output_type": "stream",
     "text": [
      "(286, 1)\n",
      "(286, 1)\n",
      "(286, 1)\n",
      "(286, 1)\n",
      "(286, 1)\n",
      "(286, 1)\n",
      "(286, 1)\n",
      "(286, 8)\n",
      "(286, 8)\n",
      "(286, 8)\n",
      "(286,)\n",
      "(286,)\n"
     ]
    }
   ],
   "source": [
    "print(feature_valid_app.shape)\n",
    "print(feature_valid_duration.shape)\n",
    "print(feature_valid_switchingTimeDate.shape)\n",
    "print(feature_valid_deviceStatus3.shape)\n",
    "print(feature_valid_touchTimes3.shape)\n",
    "print(feature_valid_app_category.shape)\n",
    "print(feature_valid_app_frequency.shape)\n",
    "print(features_mean_video.shape)\n",
    "print(features_var_video.shape)\n",
    "print(features_std_video.shape)\n",
    "print(label_valid_category.shape)\n",
    "print(label_valid_app.shape)"
   ]
  },
  {
   "cell_type": "code",
   "execution_count": 82,
   "id": "2a742694",
   "metadata": {},
   "outputs": [
    {
     "name": "stdout",
     "output_type": "stream",
     "text": [
      "(286, 31)\n"
     ]
    }
   ],
   "source": [
    "allFeatures = np.concatenate([feature_valid_app,\n",
    "                              feature_valid_duration,\n",
    "                              feature_valid_switchingTimeDate,\n",
    "                              feature_valid_deviceStatus3,\n",
    "                              feature_valid_touchTimes3,\n",
    "                              feature_valid_app_category, \n",
    "                              feature_valid_app_frequency, \n",
    "                              features_mean_video, \n",
    "                              features_var_video,\n",
    "                              features_std_video],\n",
    "                        axis=1)\n",
    "print(allFeatures.shape)"
   ]
  },
  {
   "cell_type": "code",
   "execution_count": 83,
   "id": "17ceddb1",
   "metadata": {},
   "outputs": [
    {
     "name": "stdout",
     "output_type": "stream",
     "text": [
      "False\n"
     ]
    }
   ],
   "source": [
    "isnan = np.isnan(features_std_video) # 判断每个元素是不是nan,返回[False,False,False,False,True]\n",
    "\n",
    "print(True in isnan) # 判断isnan中是否包含True, 返回 True"
   ]
  },
  {
   "cell_type": "markdown",
   "id": "91aa7bbb",
   "metadata": {},
   "source": [
    "# Feature Selection"
   ]
  },
  {
   "cell_type": "code",
   "execution_count": 84,
   "id": "c6342870",
   "metadata": {},
   "outputs": [
    {
     "name": "stderr",
     "output_type": "stream",
     "text": [
      "D:\\Softwares\\Anaconda3\\lib\\site-packages\\sklearn\\svm\\_base.py:985: ConvergenceWarning: Liblinear failed to converge, increase the number of iterations.\n",
      "  warnings.warn(\"Liblinear failed to converge, increase \"\n"
     ]
    },
    {
     "data": {
      "text/plain": [
       "(286, 5)"
      ]
     },
     "execution_count": 84,
     "metadata": {},
     "output_type": "execute_result"
    }
   ],
   "source": [
    "#L1-based feature selection for all 288+1 features\n",
    "from sklearn.feature_selection import SelectFromModel\n",
    "from sklearn.svm import LinearSVC\n",
    "\n",
    "linearsvc = LinearSVC(C=0.01, penalty='l1', dual=False).fit(allFeatures, label_valid_app)\n",
    "model = SelectFromModel(linearsvc, prefit=True)\n",
    "X_new_l1 = model.transform(allFeatures)\n",
    "X_new_l1.shape"
   ]
  },
  {
   "cell_type": "code",
   "execution_count": 85,
   "id": "972a474e",
   "metadata": {},
   "outputs": [
    {
     "data": {
      "text/plain": [
       "(286, 6)"
      ]
     },
     "execution_count": 85,
     "metadata": {},
     "output_type": "execute_result"
    }
   ],
   "source": [
    "from sklearn.ensemble import ExtraTreesClassifier\n",
    "from sklearn.feature_selection import SelectFromModel\n",
    "clf = ExtraTreesClassifier(n_estimators=100).fit(allFeatures, label_valid_app)\n",
    "model = SelectFromModel(clf, prefit=True)\n",
    "X_new_tree = model.transform(allFeatures)\n",
    "X_new_tree.shape"
   ]
  },
  {
   "cell_type": "markdown",
   "id": "d3dd1c0c",
   "metadata": {},
   "source": [
    "# Model Performance"
   ]
  },
  {
   "cell_type": "code",
   "execution_count": 86,
   "id": "1412ee59",
   "metadata": {},
   "outputs": [
    {
     "name": "stdout",
     "output_type": "stream",
     "text": [
      "0.6027777777777779 0.7527777777777778 0.8083333333333333\n"
     ]
    }
   ],
   "source": [
    "accuracy_rf, top_accuracy_rf4, top_accuracy_rf8 = calculateMeanRF(X_new_tree, label_valid_app)\n",
    "print(accuracy_rf, top_accuracy_rf4, top_accuracy_rf8)"
   ]
  },
  {
   "cell_type": "code",
   "execution_count": 87,
   "id": "d71d3c82",
   "metadata": {},
   "outputs": [
    {
     "name": "stdout",
     "output_type": "stream",
     "text": [
      "0.3194444444444444 0.6944444444444444 0.8055555555555556\n"
     ]
    }
   ],
   "source": [
    "accuracy_kNN, top_accuracy_kNN4, top_accuracy_kNN8 = calculateMeanKNN(X_new_tree, label_valid_app)\n",
    "print(accuracy_kNN, top_accuracy_kNN4, top_accuracy_kNN8)"
   ]
  },
  {
   "cell_type": "code",
   "execution_count": 88,
   "id": "1b1dc500",
   "metadata": {},
   "outputs": [
    {
     "name": "stdout",
     "output_type": "stream",
     "text": [
      "0.19444444444444445 0.5972222222222222 0.7083333333333334\n"
     ]
    }
   ],
   "source": [
    "accuracy_ada, top_accuracy_ada4, top_accuracy_ada8 = calculateMeanAda(X_new_tree, label_valid_app)\n",
    "print(accuracy_ada, top_accuracy_ada4, top_accuracy_ada8)"
   ]
  },
  {
   "cell_type": "markdown",
   "id": "d6170f80",
   "metadata": {},
   "source": [
    "# ======================================="
   ]
  },
  {
   "cell_type": "code",
   "execution_count": 89,
   "id": "af078410",
   "metadata": {},
   "outputs": [
    {
     "name": "stdout",
     "output_type": "stream",
     "text": [
      "0.1993006993006993\n"
     ]
    }
   ],
   "source": [
    "accuracy_dummy = dummy_training(feature_valid_app, label_valid_app)\n",
    "print(accuracy_dummy)"
   ]
  },
  {
   "cell_type": "markdown",
   "id": "abd76b9f",
   "metadata": {},
   "source": [
    "# ====================================="
   ]
  },
  {
   "cell_type": "code",
   "execution_count": null,
   "id": "9a393710",
   "metadata": {},
   "outputs": [],
   "source": [
    "# 1. probabilistic model                            check\n",
    "# 2. columns manuelly select                        check\n",
    "# 3. mean, variance, standard deviation             check\n",
    "# 4. weights of the frequency                       check\n",
    "# 5. categorical app                                check"
   ]
  }
 ],
 "metadata": {
  "kernelspec": {
   "display_name": "Python 3",
   "language": "python",
   "name": "python3"
  },
  "language_info": {
   "codemirror_mode": {
    "name": "ipython",
    "version": 3
   },
   "file_extension": ".py",
   "mimetype": "text/x-python",
   "name": "python",
   "nbconvert_exporter": "python",
   "pygments_lexer": "ipython3",
   "version": "3.8.8"
  }
 },
 "nbformat": 4,
 "nbformat_minor": 5
}
