{
 "cells": [
  {
   "cell_type": "code",
   "execution_count": 1,
   "id": "1e01f078",
   "metadata": {},
   "outputs": [],
   "source": [
    "import tensorflow as tf\n",
    "import matplotlib.pyplot as plt\n",
    "import heapq\n",
    "import cv2\n",
    "import pandas as pd\n",
    "from tensorflow import keras\n",
    "import numpy as np\n",
    "import os\n",
    "import json\n",
    "from sklearn.ensemble import AdaBoostClassifier\n",
    "from sklearn.neighbors import KNeighborsClassifier\n",
    "from sklearn.ensemble import RandomForestClassifier\n",
    "from sklearn.dummy import DummyClassifier\n",
    "from sklearn.model_selection import train_test_split\n",
    "from sklearn import metrics\n",
    "from sklearn.preprocessing import StandardScaler"
   ]
  },
  {
   "cell_type": "markdown",
   "id": "e2bdaf8a",
   "metadata": {},
   "source": [
    "# 0. Data Preprocessing"
   ]
  },
  {
   "cell_type": "code",
   "execution_count": 2,
   "id": "8cf99d23",
   "metadata": {},
   "outputs": [],
   "source": [
    "#Feature Normalization:\n",
    "scaler = StandardScaler()"
   ]
  },
  {
   "cell_type": "markdown",
   "id": "0896db45",
   "metadata": {},
   "source": [
    "# 1. One-Feature-Model:   \n",
    "\n",
    "Regard application swichting as the only feature, \n",
    "e.g. instagram --> whatsapp \n",
    "instagram as X_data\n",
    "whatsapp as y_label\n"
   ]
  },
  {
   "cell_type": "code",
   "execution_count": 25,
   "id": "f0c36387",
   "metadata": {
    "scrolled": true
   },
   "outputs": [
    {
     "name": "stdout",
     "output_type": "stream",
     "text": [
      "INPUT DATA:\n",
      "162\n",
      "['com.android.settings', 'com.android.settings', 'com.instagram.android', 'com.miui.securitycenter', 'com.miui.cleanmaster', 'com.instagram.android', 'com.google.android.googlequicksearchbox', 'com.miui.securitycenter', 'com.whatsapp', 'com.google.android.youtube', 'com.instagram.android', 'com.instagram.android', 'com.spotify.music', 'com.whatsapp', 'com.google.android.gm', 'com.android.browser', 'com.whatsapp', 'com.google.android.youtube', 'com.android.settings', 'com.miui.securitycenter', 'com.google.android.youtube', 'com.spotify.music', 'com.Slack', 'com.android.settings', 'com.miui.securitycenter', 'com.instagram.android', 'com.miui.securitycenter', 'com.spotify.music', 'com.instagram.android', 'com.spotify.music', 'com.facebook.orca', 'com.spotify.music', 'com.miui.securitycenter', 'com.spotify.music', 'com.miui.securitycenter', 'com.android.providers.downloads.ui', 'ro.bcr.georgego', 'com.Slack', 'com.instagram.android', 'com.android.camera', 'com.eTokenBCR', 'com.instagram.android', 'com.eTokenBCR', 'com.spotify.music', 'com.facebook.orca', 'com.spotify.music', 'com.spotify.music', 'com.instagram.android', 'com.facebook.katana', 'com.spotify.music', 'com.spotify.music', 'com.instagram.android', 'com.spotify.music', 'com.instagram.android', 'com.facebook.orca', 'com.whatsapp', 'com.android.settings', 'com.instagram.android', 'com.android.htmlviewer', 'com.spotify.music', 'com.spotify.music', 'com.facebook.orca', 'com.whatsapp', 'com.whatsapp', 'com.android.deskclock', 'com.android.deskclock', 'com.android.deskclock', 'com.facebook.orca', 'com.google.android.apps.maps', 'com.google.android.gms', 'com.google.android.apps.maps', 'com.google.android.apps.maps', 'com.google.android.apps.maps', 'com.google.android.apps.maps', 'com.google.android.apps.maps', 'com.android.settings', 'com.facebook.orca', 'com.instagram.android', 'com.instagram.android', 'com.instagram.android', 'com.spotify.music', 'com.android.settings', 'com.spotify.music', 'com.android.camera', 'com.spotify.music', 'com.android.camera', 'com.spotify.music', 'com.spotify.music', 'com.eTokenBCR', 'com.spotify.music', 'com.spotify.music', 'com.spotify.music', 'com.facebook.orca', 'com.spotify.music', 'com.facebook.orca', 'com.spotify.music', 'com.spotify.music', 'com.facebook.orca', 'com.facebook.orca', 'com.facebook.orca', 'com.facebook.orca', 'com.facebook.orca', 'com.android.camera', 'com.miui.gallery', 'com.miui.gallery', 'com.miui.gallery', 'com.miui.gallery', 'com.android.camera', 'com.android.camera', 'com.miui.gallery', 'com.miui.gallery', 'com.android.camera', 'com.android.camera', 'com.android.camera', 'com.miui.gallery', 'com.android.camera', 'com.miui.gallery', 'com.android.camera', 'com.android.camera', 'com.miui.gallery', 'com.android.camera', 'com.miui.gallery', 'com.miui.gallery', 'com.android.camera', 'com.miui.gallery', 'com.android.camera', 'com.miui.gallery', 'com.android.camera', 'com.miui.gallery', 'com.android.settings', 'com.android.settings', 'com.android.mms', 'com.android.mms', 'com.android.mms', 'com.android.contacts', 'com.whatsapp', 'com.facebook.orca', 'com.android.settings', 'com.facebook.orca', 'com.whatsapp', 'com.whatsapp', 'com.spotify.music', 'com.Slack', 'com.spotify.music', 'com.google.android.gm', 'com.android.vending', 'com.spotify.music', 'com.spotify.music', 'com.spotify.music', 'com.spotify.music', 'com.whatsapp', 'com.instagram.android', 'com.android.htmlviewer', 'com.android.htmlviewer', 'com.facebook.orca', 'com.spotify.music', 'com.facebook.orca', 'com.spotify.music', 'com.spotify.music', 'com.facebook.orca', 'com.spotify.music', 'com.spotify.music']\n",
      "----------------------------------------------------------------\n",
      "LABEL DATA:\n",
      "162\n",
      "['com.instagram.android', 'com.instagram.android', 'com.miui.securitycenter', 'com.miui.cleanmaster', 'com.instagram.android', 'com.google.android.googlequicksearchbox', 'com.miui.securitycenter', 'com.miui.cleanmaster', 'com.google.android.youtube', 'com.instagram.android', 'com.spotify.music', 'com.spotify.music', 'com.whatsapp', 'com.google.android.gm', 'com.android.browser', 'com.spotify.music', 'com.google.android.youtube', 'com.android.settings', 'com.miui.securitycenter', 'com.google.android.youtube', 'com.spotify.music', 'com.facebook.orca', 'com.android.settings', 'com.miui.securitycenter', 'com.instagram.android', 'com.miui.securitycenter', 'com.spotify.music', 'com.instagram.android', 'com.google.android.gm', 'com.facebook.orca', 'com.spotify.music', 'com.miui.securitycenter', 'com.spotify.music', 'com.miui.securitycenter', 'com.android.providers.downloads.ui', 'com.Slack', 'com.Slack', 'ro.bcr.georgego', 'com.facebook.orca', 'com.eTokenBCR', 'com.spotify.music', 'com.eTokenBCR', 'com.spotify.music', 'com.facebook.orca', 'com.spotify.music', 'com.facebook.orca', 'com.android.settings', 'com.facebook.katana', 'com.whatsapp', 'com.miui.securitycenter', 'com.instagram.android', 'com.google.android.gm', 'com.instagram.android', 'com.facebook.orca', 'com.instagram.android', 'com.android.settings', 'com.instagram.android', 'com.revolut.revolut', 'com.facebook.orca', 'com.facebook.orca', 'com.facebook.orca', 'com.whatsapp', 'com.android.chrome', 'com.android.chrome', 'com.facebook.orca', 'com.facebook.orca', 'com.facebook.orca', 'com.google.android.apps.maps', 'com.google.android.gms', 'com.google.android.apps.maps', 'com.android.settings', 'com.android.settings', 'com.android.settings', 'com.android.settings', 'com.android.settings', 'com.facebook.orca', 'com.android.settings', 'com.android.settings', 'com.android.settings', 'com.android.settings', 'com.android.settings', 'com.spotify.music', 'com.android.camera', 'com.spotify.music', 'com.android.camera', 'com.spotify.music', 'com.android.settings', 'com.android.settings', 'com.miui.gallery', 'com.facebook.orca', 'com.facebook.orca', 'com.facebook.orca', 'com.spotify.music', 'com.facebook.orca', 'com.spotify.music', 'com.facebook.orca', 'com.facebook.orca', 'com.whatsapp', 'com.android.camera', 'com.android.camera', 'com.android.camera', 'com.android.camera', 'com.miui.gallery', 'com.android.camera', 'com.android.camera', 'com.android.camera', 'com.android.camera', 'com.miui.gallery', 'com.miui.gallery', 'com.android.camera', 'com.android.camera', 'com.miui.gallery', 'com.miui.gallery', 'com.miui.gallery', 'com.android.camera', 'com.miui.gallery', 'com.android.camera', 'com.miui.gallery', 'com.miui.gallery', 'com.android.camera', 'com.miui.gallery', 'com.android.camera', 'com.android.camera', 'com.miui.gallery', 'com.android.camera', 'com.miui.gallery', 'com.android.camera', 'com.miui.gallery', 'com.android.camera', 'com.android.camera', 'com.android.camera', 'com.facebook.orca', 'com.facebook.orca', 'com.facebook.orca', 'com.facebook.orca', 'com.facebook.orca', 'com.android.settings', 'com.facebook.orca', 'com.whatsapp', 'com.facebook.katana', 'com.facebook.katana', 'com.Slack', 'com.spotify.music', 'com.google.android.gm', 'com.android.vending', 'com.spotify.music', 'com.whatsapp', 'com.whatsapp', 'com.whatsapp', 'com.whatsapp', 'com.android.settings', 'com.android.htmlviewer', 'com.facebook.orca', 'com.facebook.orca', 'com.spotify.music', 'com.facebook.orca', 'com.android.settings', 'com.facebook.orca', 'com.facebook.orca', 'com.spotify.music', 'com.android.providers.downloads.ui', 'com.android.settings']\n",
      "[1004170943692311, 1004196676386416, 1004496578404010, 1004508590996193, 1004682415304460, 1004720020470279, 1004726369945745, 1004803164084101, 1039588712083413, 1039594487985285, 1039639406764123, 1039711030779460, 1039775653916883, 1039908672558864, 1039972834336912, 1039980126927638, 1043659510261569, 1043696243426242, 1043697268613898, 1043711264906237, 1043752803457783, 1043781222230741, 1077165503567134, 1077170741399268, 1077178008578484, 1077294398670366, 1077296483653022, 1155954107476003, 1155959802656834, 1156334130234035, 1156336218595441, 1156339080467367, 1156343269605698, 1156371616797667, 1156375317793238, 1156376922985477, 1164218526465246, 1164223522793317, 1169207211723083, 1172514609582655, 1172522849639787, 89704590268228, 89714242655256, 89762835592164, 89763370271852, 90475588217830, 133815154581478, 134531202752350, 134684976329583, 136683615093456, 145138520300540, 145181323647868, 173827253842252, 173912325124876, 173918116685655, 253373648152482, 263135703341904, 263161829205435, 267691924093317, 18627360600830, 20559189287212, 20561325623201, 20742325336198, 20748057199790, 69281614830463, 77169582599881, 77171137502068, 77713049097168, 77832497194727, 77836243610923, 78041963523964, 78369482540427, 78735437701475, 78837752532251, 79254964440529, 90771048707436, 92175794468790, 202167336580708, 202317895486947, 202322076509966, 202365799421095, 202420607969772, 202517228165777, 202553848363107, 202976458468727, 202993722489189, 203515977932219, 204039831522748, 204745433544927, 279860663746279, 280172279189389, 280173903757565, 280174433136159, 280174955426575, 280211522066353, 280478166083491, 280479216777657, 280934589075244, 281476547738579, 281803467884754, 281829418187712, 281875259070820, 283789024632599, 283809294427696, 283920025568226, 284005904776369, 284006430005119, 284014794783710, 284171338911565, 284205890458842, 284206957330977, 284222465905867, 284266527694131, 284489774230970, 284499111732269, 284526780234810, 284530974380173, 284533070880069, 284647670652575, 284655989865228, 284685248415373, 284701401876669, 284799603293141, 284918356037625, 284927680639861, 284928723962674, 284930257125694, 284931333161214, 284932892510537, 295523873487511, 295524907149906, 424165490995235, 426067191716625, 426142637483419, 426800327206655, 446345624270218, 446882720580482, 446900169005580, 446925664202758, 446964911834982, 447158252599632, 71201223889193, 71214652284396, 71472755071589, 71480592897888, 71485284933772, 71614528229504, 72346980442355, 72746383355536, 72747943332202, 73365894093008, 145332464653289, 145619090225718, 145623244608685, 146094675470466, 149477283545673, 149949307316900, 202472787578640, 203383420673501, 204648011380623, 205061741896090, 248325821652359]\n"
     ]
    }
   ],
   "source": [
    "account_path = r\"D:\\Dokuments\\Project_of_HCI\\emva-dataset\\EMVA_from_gDrive\\f5d25f46-5445-4cb5-be13-4d3a3801c0fe\"\n",
    "input_raw = []\n",
    "label_raw = []\n",
    "temp_switchingTime = []\n",
    "temp_switchingTimeDate = []\n",
    "duration = []\n",
    "\n",
    "\n",
    "for recording in os.listdir(account_path):\n",
    "    recording_path = os.path.join (account_path, str(recording))\n",
    "    \n",
    "    assert(os.path.exists(recording_path))\n",
    "\n",
    "    list_session = []\n",
    "    for file in os.listdir(recording_path):\n",
    "        if str(file)[:7] == \"Session\":\n",
    "            list_session.append(str(file))\n",
    "\n",
    "    #if list_session==[]:\n",
    "    #    continue    \n",
    "    \n",
    "    with open (os.path.join(recording_path, \"application_data.txt\")) as application_file:\n",
    "        application_data = json.load(application_file)[\"application_data\"]\n",
    "        application_index = 0\n",
    "        while application_index < len(application_data):\n",
    "            if (application_data[application_index][\"name\"] != \"com.miui.home\" \n",
    "            and application_data[application_index][\"name\"] != \"ch.ethz.inf.vs.staals.visualattentionrecorder\"):\n",
    "                num = 1\n",
    "                while application_index+num < len(application_data):\n",
    "                    if (application_data[application_index+num][\"name\"] != \"com.miui.home\" \n",
    "                    and application_data[application_index+num][\"name\"] != \"ch.ethz.inf.vs.staals.visualattentionrecorder\"\n",
    "                    and application_data[application_index+num][\"name\"] != application_data[application_index][\"name\"]):\n",
    "                        input_raw.append (application_data[application_index][\"name\"])\n",
    "                        label_raw.append (application_data[application_index+num][\"name\"])\n",
    "                        temp_switchingTime.append (application_data[application_index+1][\"time\"])\n",
    "                        temp_switchingTimeDate.append (application_data[application_index+1][\"timeDate\"])\n",
    "                        duration.append (application_data[application_index+num][\"time\"] - application_data[application_index][\"time\"])\n",
    "                        break\n",
    "                    else:\n",
    "                        num += 1\n",
    "            \n",
    "            application_index += 1\n",
    "\n",
    "print(\"INPUT DATA:\")\n",
    "print(len(input_raw))\n",
    "print(input_raw)\n",
    "print(\"----------------------------------------------------------------\")\n",
    "print(\"LABEL DATA:\")\n",
    "print(len(label_raw))\n",
    "print(label_raw)\n",
    "print(temp_switchingTime)\n",
    "feature_switchingTime = temp_switchingTime"
   ]
  },
  {
   "cell_type": "code",
   "execution_count": 4,
   "id": "17dc993b",
   "metadata": {
    "scrolled": true
   },
   "outputs": [
    {
     "name": "stdout",
     "output_type": "stream",
     "text": [
      "[0, 0, 1, 2, 3, 1, 4, 2, 5, 6, 1, 1, 7, 5, 8, 9, 5, 6, 0, 2, 6, 7, 10, 0, 2, 1, 2, 7, 1, 7, 11, 7, 2, 7, 2, 12, 13, 10, 1, 14, 15, 1, 15, 7, 11, 7, 7, 1, 16, 7, 7, 1, 7, 1, 11, 5, 0, 1, 17, 7, 7, 11, 5, 5, 18, 18, 18, 11, 19, 20, 19, 19, 19, 19, 19, 0, 11, 1, 1, 1, 7, 0, 7, 14, 7, 14, 7, 7, 15, 7, 7, 7, 11, 7, 11, 7, 7, 11, 11, 11, 11, 11, 14, 21, 21, 21, 21, 14, 14, 21, 21, 14, 14, 14, 21, 14, 21, 14, 14, 21, 14, 21, 21, 14, 21, 14, 21, 14, 21, 0, 0, 22, 22, 22, 23, 5, 11, 0, 11, 5, 5, 7, 10, 7, 8, 24, 7, 7, 7, 7, 5, 1, 17, 17, 11, 7, 11, 7, 7, 11, 7, 7]\n",
      "[1, 1, 2, 3, 1, 4, 2, 3, 6, 1, 7, 7, 5, 8, 9, 7, 6, 0, 2, 6, 7, 11, 0, 2, 1, 2, 7, 1, 8, 11, 7, 2, 7, 2, 12, 10, 10, 13, 11, 15, 7, 15, 7, 11, 7, 11, 0, 16, 5, 2, 1, 8, 1, 11, 1, 0, 1, 25, 11, 11, 11, 5, 26, 26, 11, 11, 11, 19, 20, 19, 0, 0, 0, 0, 0, 11, 0, 0, 0, 0, 0, 7, 14, 7, 14, 7, 0, 0, 21, 11, 11, 11, 7, 11, 7, 11, 11, 5, 14, 14, 14, 14, 21, 14, 14, 14, 14, 21, 21, 14, 14, 21, 21, 21, 14, 21, 14, 21, 21, 14, 21, 14, 14, 21, 14, 21, 14, 21, 14, 14, 14, 11, 11, 11, 11, 11, 0, 11, 5, 16, 16, 10, 7, 8, 24, 7, 5, 5, 5, 5, 0, 17, 11, 11, 7, 11, 0, 11, 11, 7, 12, 0]\n"
     ]
    }
   ],
   "source": [
    "app = []\n",
    "for i in range(len(input_raw)):\n",
    "    signal = 1\n",
    "    for j in range(len(app)):\n",
    "        if app[j]==input_raw[i]:\n",
    "            signal = 0\n",
    "            break \n",
    "    if signal!=0:\n",
    "        app.append(input_raw[i])\n",
    "for i in range(len(label_raw)):\n",
    "    signal = 1\n",
    "    for j in range(len(app)):\n",
    "        if app[j]==label_raw[i]:\n",
    "            signal = 0\n",
    "            break \n",
    "    if signal!=0:\n",
    "        app.append(label_raw[i])\n",
    "input = []\n",
    "for element in input_raw:\n",
    "    input.append(app.index(element))\n",
    "print(input)\n",
    "label = []\n",
    "for element in label_raw:\n",
    "    label.append(app.index(element))\n",
    "print(label)"
   ]
  },
  {
   "cell_type": "code",
   "execution_count": 5,
   "id": "6f00751e",
   "metadata": {},
   "outputs": [
    {
     "data": {
      "text/plain": [
       "27"
      ]
     },
     "execution_count": 5,
     "metadata": {},
     "output_type": "execute_result"
    }
   ],
   "source": [
    "feature_app = np.array(input)\n",
    "np_label = np.array(label)\n",
    "feature_app = feature_app.reshape(len(input_raw),1)\n",
    "len(app)"
   ]
  },
  {
   "cell_type": "code",
   "execution_count": 6,
   "id": "050d13eb",
   "metadata": {},
   "outputs": [
    {
     "data": {
      "text/plain": [
       "(162, 1)"
      ]
     },
     "execution_count": 6,
     "metadata": {},
     "output_type": "execute_result"
    }
   ],
   "source": [
    "feature_app.shape"
   ]
  },
  {
   "cell_type": "markdown",
   "id": "d5fbc286",
   "metadata": {},
   "source": [
    "# from app(1 feature) to app"
   ]
  },
  {
   "cell_type": "code",
   "execution_count": 7,
   "id": "b4b1bc3f",
   "metadata": {},
   "outputs": [
    {
     "data": {
      "text/plain": [
       "(162,)"
      ]
     },
     "execution_count": 7,
     "metadata": {},
     "output_type": "execute_result"
    }
   ],
   "source": [
    "X = scaler.fit_transform(feature_app)\n",
    "y = np_label\n",
    "y.shape"
   ]
  },
  {
   "cell_type": "code",
   "execution_count": 8,
   "id": "9cc3ab47",
   "metadata": {},
   "outputs": [],
   "source": [
    "X_train, X_test, y_train, y_test = train_test_split(X, y, random_state=0)"
   ]
  },
  {
   "cell_type": "markdown",
   "id": "99e1c971",
   "metadata": {},
   "source": [
    "## kNN Model:"
   ]
  },
  {
   "cell_type": "code",
   "execution_count": 9,
   "id": "d6560f4a",
   "metadata": {},
   "outputs": [
    {
     "name": "stdout",
     "output_type": "stream",
     "text": [
      "0.4634146341463415\n"
     ]
    }
   ],
   "source": [
    "kNN = KNeighborsClassifier(n_neighbors=7, weights='distance').fit(X_train,y_train) #probabilistic \n",
    "model_1_kNN = kNN.score(X_test, y_test)\n",
    "print(model_1_kNN)"
   ]
  },
  {
   "cell_type": "markdown",
   "id": "5ef6250d",
   "metadata": {},
   "source": [
    "# Random Forest Model:"
   ]
  },
  {
   "cell_type": "code",
   "execution_count": 10,
   "id": "8be3d195",
   "metadata": {},
   "outputs": [
    {
     "name": "stdout",
     "output_type": "stream",
     "text": [
      "0.43902439024390244\n"
     ]
    }
   ],
   "source": [
    "rf = RandomForestClassifier(n_estimators=30)\n",
    "rf.fit(X_train,y_train)\n",
    "model_1_rf = rf.score(X_test, y_test)\n",
    "print(model_1_rf)"
   ]
  },
  {
   "cell_type": "markdown",
   "id": "40612ecd",
   "metadata": {},
   "source": [
    "# 2. Model plus video features:\n",
    "\n",
    "Video features are extracted from .csv file\n",
    "Still with 3 different time windows"
   ]
  },
  {
   "cell_type": "code",
   "execution_count": 11,
   "id": "c3cde1ca",
   "metadata": {},
   "outputs": [],
   "source": [
    "def extractFeatures(df_temp, switchingTime, sessionStartTime, timeWindow):\n",
    "    df = df_temp.iloc[:,2:]\n",
    "    index_timestamp_list=[]\n",
    "    for index,timestamp in df[\"timestamp\"].items():\n",
    "        if timestamp >= (switchingTime-sessionStartTime)/1_000_000_000 - timeWindow and timestamp <= (switchingTime-sessionStartTime)/1_000_000_000:\n",
    "            index_timestamp_list.append(index)\n",
    "\n",
    "    df_timestamp_window = pd.DataFrame(columns=df.columns.values.tolist())\n",
    "    for i in index_timestamp_list:\n",
    "        df_timestamp_window=df_timestamp_window.append(df.iloc[i],ignore_index=True)\n",
    "\n",
    "    index_confidence_list=[]\n",
    "    for index,confidence in df_timestamp_window[\"confidence\"].items():#use confidence or we could use \"sucess==1\" to check the validity\n",
    "        if confidence > 0.8:\n",
    "            index_confidence_list.append(index)\n",
    "\n",
    "    df_window = pd.DataFrame(columns=df.columns.values.tolist())#contains the valid and high confidence features for all frames during the time window\n",
    "    for i in index_confidence_list:\n",
    "        df_window=df_window.append(df_timestamp_window.iloc[i],ignore_index=True)\n",
    "\n",
    "    #df_window.mean()series form of all averaged value for the features during the time window\n",
    "    video_mean_features = df_window.mean().values[3:11]#final features for one switch (291 video features totally)\n",
    "    video_var_features = df_window.var().values[3:11]\n",
    "    video_std_features = df_window.std().values[3:11]\n",
    "    return video_mean_features, video_var_features, video_std_features"
   ]
  },
  {
   "cell_type": "code",
   "execution_count": 12,
   "id": "dd32eae3",
   "metadata": {
    "scrolled": true
   },
   "outputs": [
    {
     "name": "stdout",
     "output_type": "stream",
     "text": [
      "Recording 000\n",
      "Session 0000\n",
      "Recording 001\n",
      "Session 0000\n",
      "Session 0001\n",
      "Session 0002\n",
      "Session 0003\n",
      "Session 0004\n",
      "Session 0005\n",
      "Recording 002\n",
      "Session 0000\n",
      "Session 0001\n",
      "Session 0002\n",
      "Session 0003\n",
      "Session 0004\n",
      "Session 0005\n",
      "Recording 003\n",
      "Session 0000\n",
      "Session 0001\n",
      "Session 0002\n",
      "Recording 004\n",
      "Session 0000\n",
      "Recording 005\n",
      "Session 0000\n",
      "Recording 006\n",
      "Session 0000\n",
      "Recording 007\n",
      "Session 0000\n",
      "Recording 008\n",
      "Session 0000\n",
      "Recording 009\n",
      "Session 0000\n",
      "Session 0001\n",
      "Recording 010\n",
      "Session 0000\n",
      "Recording 011\n",
      "Session 0000\n",
      "Recording 012\n",
      "Session 0000\n",
      "Session 0001\n",
      "Recording 013\n",
      "Session 0000\n",
      "Recording 014\n",
      "Session 0000\n",
      "Recording 015\n",
      "Session 0000\n",
      "Recording 016\n",
      "Session 0000\n",
      "Recording 017\n",
      "Recording 018\n",
      "Recording 019\n",
      "Session 0000\n",
      "Recording 020\n",
      "Session 0000\n",
      "Recording 021\n",
      "Session 0000\n",
      "Recording 022\n",
      "Session 0000\n",
      "Recording 023\n",
      "Session 0000\n",
      "Recording 024\n",
      "Session 0000\n",
      "Recording 025\n",
      "Session 0000\n",
      "Recording 026\n",
      "Session 0000\n",
      "Recording 027\n",
      "Session 0000\n",
      "Recording 028\n",
      "Session 0000\n",
      "Recording 029\n",
      "Session 0000\n",
      "Recording 030\n",
      "Session 0000\n",
      "Session 0001\n",
      "Session 0002\n",
      "Recording 031\n",
      "Session 0000\n",
      "Recording 032\n",
      "Session 0000\n",
      "Recording 033\n",
      "Session 0000\n",
      "Recording 034\n",
      "Session 0000\n",
      "Recording 035\n",
      "Session 0000\n",
      "Recording 036\n",
      "Session 0000\n",
      "Recording 037\n",
      "Session 0000\n",
      "Recording 038\n",
      "Session 0000\n",
      "Recording 039\n",
      "Session 0000\n",
      "Recording 040\n",
      "Session 0000\n",
      "Recording 041\n",
      "Session 0000\n",
      "Recording 042\n",
      "Session 0000\n",
      "Recording 043\n",
      "Session 0000\n",
      "Recording 044\n",
      "Session 0000\n",
      "Recording 045\n",
      "Session 0000\n",
      "Recording 046\n",
      "Session 0000\n",
      "Recording 047\n",
      "Session 0000\n",
      "Recording 048\n",
      "Session 0000\n",
      "Recording 049\n",
      "Session 0000\n",
      "Recording 050\n",
      "Session 0000\n",
      "Recording 051\n",
      "Session 0000\n",
      "Recording 052\n",
      "Session 0000\n",
      "Recording 053\n",
      "Session 0000\n",
      "Recording 054\n",
      "Session 0000\n",
      "Recording 055\n",
      "Session 0000\n",
      "Session 0001\n",
      "Recording 056\n",
      "Session 0000\n",
      "Session 0001\n",
      "Session 0002\n",
      "Session 0003\n",
      "Recording 057\n",
      "Session 0000\n",
      "Session 0001\n",
      "Session 0002\n",
      "Session 0003\n",
      "Recording 058\n",
      "Session 0000\n",
      "Session 0001\n",
      "Recording 059\n",
      "Session 0000\n",
      "Recording 060\n",
      "Session 0000\n",
      "Recording 061\n",
      "Session 0000\n",
      "Recording 062\n",
      "Session 0000\n",
      "Session 0001\n",
      "Session 0002\n",
      "Session 0003\n",
      "Session 0004\n",
      "Session 0005\n",
      "Recording 063\n",
      "Session 0000\n",
      "Session 0001\n",
      "Session 0002\n",
      "Recording 064\n",
      "Session 0000\n",
      "Recording 065\n",
      "Session 0000\n",
      "Recording 066\n",
      "Session 0000\n",
      "Recording 067\n",
      "Session 0000\n",
      "Recording 068\n",
      "Session 0000\n",
      "Recording 069\n",
      "Session 0000\n",
      "Recording 070\n",
      "Session 0000\n",
      "Recording 071\n",
      "Session 0000\n",
      "Session 0001\n",
      "Session 0002\n",
      "Session 0003\n",
      "Session 0004\n",
      "Session 0005\n",
      "Recording 072\n",
      "Session 0000\n",
      "Session 0001\n",
      "Session 0002\n",
      "Session 0003\n",
      "Recording 073\n",
      "Session 0000\n",
      "Session 0001\n",
      "Recording 074\n",
      "Session 0000\n",
      "Recording 075\n",
      "Session 0000\n",
      "Recording 076\n",
      "Session 0000\n",
      "Recording 077\n",
      "Session 0000\n",
      "Recording 078\n",
      "Session 0000\n",
      "Recording 079\n",
      "Session 0000\n",
      "Recording 080\n",
      "Session 0000\n",
      "Session 0001\n",
      "Session 0002\n",
      "Recording 081\n",
      "Session 0000\n",
      "Session 0001\n",
      "Recording 082\n",
      "Session 0000\n",
      "Recording 083\n",
      "Session 0000\n",
      "Session 0001\n",
      "Recording 084\n",
      "Session 0000\n",
      "Session 0001\n",
      "Session 0002\n",
      "Session 0003\n",
      "Recording 085\n",
      "Session 0000\n",
      "Session 0001\n",
      "Session 0002\n",
      "Session 0003\n",
      "Session 0004\n",
      "Recording 086\n",
      "Session 0000\n",
      "Recording 087\n",
      "Session 0000\n",
      "Session 0001\n",
      "Recording 088\n",
      "Session 0000\n",
      "Recording 089\n",
      "Session 0000\n",
      "Recording 090\n",
      "Session 0000\n",
      "Recording 091\n",
      "Session 0000\n",
      "Session 0001\n",
      "Session 0002\n",
      "Session 0003\n",
      "Session 0004\n",
      "Session 0005\n",
      "Session 0006\n",
      "Session 0007\n",
      "Recording 092\n",
      "Session 0000\n",
      "Session 0001\n",
      "Session 0002\n",
      "Session 0003\n",
      "Session 0004\n",
      "Session 0005\n",
      "Session 0006\n",
      "Session 0007\n",
      "Session 0008\n",
      "Session 0009\n",
      "Session 0010\n",
      "Session 0011\n",
      "Session 0012\n",
      "Session 0013\n",
      "Session 0014\n",
      "Session 0015\n",
      "Session 0016\n",
      "Session 0017\n",
      "Session 0018\n",
      "Session 0019\n",
      "Session 0020\n",
      "Session 0021\n",
      "Session 0022\n",
      "Session 0023\n",
      "Recording 093\n",
      "Session 0000\n",
      "Session 0001\n",
      "Recording 094\n",
      "Session 0000\n",
      "Recording 095\n",
      "Session 0000\n",
      "Recording 096\n",
      "Session 0000\n",
      "Session 0001\n",
      "Session 0002\n",
      "Recording 097\n",
      "Session 0000\n",
      "Recording 098\n",
      "Session 0000\n",
      "Recording 099\n",
      "Session 0000\n",
      "Session 0001\n",
      "Session 0002\n",
      "Session 0003\n",
      "Recording 100\n",
      "Session 0000\n",
      "Session 0001\n",
      "Session 0002\n",
      "Session 0003\n",
      "Session 0004\n",
      "Recording 101\n",
      "Session 0000\n",
      "Recording 102\n",
      "Session 0000\n",
      "Session 0001\n",
      "Session 0002\n",
      "Session 0003\n",
      "Session 0004\n",
      "Recording 103\n",
      "Session 0000\n",
      "Recording 104\n",
      "Session 0000\n",
      "Session 0001\n",
      "Session 0002\n",
      "Recording 105\n",
      "Session 0000\n",
      "Recording 106\n",
      "Session 0000\n",
      "Recording 107\n",
      "Session 0000\n",
      "Session 0001\n",
      "Session 0002\n",
      "Session 0003\n",
      "Recording 108\n",
      "Session 0000\n",
      "Session 0001\n",
      "Session 0002\n",
      "Session 0003\n",
      "Session 0004\n",
      "Session 0005\n",
      "Recording 109\n",
      "Session 0000\n",
      "Recording 110\n",
      "Session 0000\n",
      "Session 0001\n",
      "Recording 111\n",
      "Session 0000\n",
      "Recording 112\n",
      "Session 0000\n",
      "Recording 113\n",
      "Session 0000\n",
      "Session 0001\n",
      "Recording 114\n",
      "Session 0000\n",
      "Session 0001\n",
      "Session 0002\n",
      "Session 0003\n",
      "Session 0004\n",
      "Session 0005\n",
      "Session 0006\n",
      "Recording 115\n",
      "Session 0000\n",
      "Session 0001\n",
      "Session 0002\n",
      "Session 0003\n",
      "Session 0004\n",
      "Session 0005\n",
      "Session 0006\n",
      "Session 0007\n",
      "Session 0008\n",
      "Recording 116\n",
      "Session 0000\n",
      "Session 0001\n",
      "Session 0002\n",
      "Session 0003\n",
      "Recording 117\n",
      "Session 0000\n",
      "Session 0001\n",
      "Session 0002\n",
      "Recording 118\n",
      "Session 0000\n",
      "Recording 119\n",
      "Session 0000\n",
      "[0, 1, 2, 3, 4, 5, 6, 8, 9, 11, 12, 13, 14, 15, 16, 17, 18, 19, 20, 21, 22, 23, 25, 26, 28, 29, 30, 31, 32, 33, 34, 35, 36, 37, 38, 41, 42, 43, 44, 45, 46, 47, 48, 49, 50, 51, 151, 52, 53, 54, 55, 57, 58, 59, 61, 63, 66, 67, 68, 69, 75, 79, 80, 81, 82, 84, 87, 88, 159, 91, 92, 93, 94, 96, 97, 98, 103, 105, 106, 105, 106, 130, 131, 132, 133, 134, 142, 149, 50, 151, 152, 153, 154, 155, 156, 157, 84, 158, 159, 160, 161]\n"
     ]
    }
   ],
   "source": [
    "# video features in the past timeWindow=3/5/10 seconds\n",
    "timeWindow = 3\n",
    "list_mean_features_video = []\n",
    "list_var_features_video = []\n",
    "list_std_features_video = []\n",
    "valid_index=[]\n",
    "\n",
    "for recording in os.listdir(account_path):\n",
    "    recording_path = os.path.join (account_path, str(recording))\n",
    "    \n",
    "    assert(os.path.exists(recording_path))\n",
    "\n",
    "    print(recording)\n",
    "    \n",
    "    # open each of the recording file\n",
    "    \n",
    "    with open (os.path.join(recording_path, \"video_data.txt\")) as video_file:\n",
    "        video_data = json.load(video_file)[\"video_data\"]\n",
    "    \n",
    "        #num_session = len(video_data)\n",
    "        #????????????????????????????????????????????? something wrong with the video_data for recording 001&002\n",
    "        \n",
    "        # count the number of sessions\n",
    "        list_session = []\n",
    "        for file in os.listdir(recording_path):\n",
    "            if str(file)[:7] == \"Session\":\n",
    "                list_session.append(str(file))\n",
    "        \n",
    "        if list_session==[]:\n",
    "            continue\n",
    "        \n",
    "        \n",
    "        # open each of the session file\n",
    "        for session in list_session:\n",
    "            session_path = os.path.join(recording_path, session)\n",
    "            \n",
    "            assert(os.path.exists(session_path))\n",
    "            \n",
    "            #get the timestamp which the video started recording\n",
    "            sessionStartTime = video_data[int(session[-1])][\"startTime\"]\n",
    "            sessionStopTime = video_data[int(session[-1])][\"stopTime\"]\n",
    "            \n",
    "            \n",
    "            if os.path.exists((os.path.join(session_path, \"r_video.csv\")))==False:\n",
    "                continue\n",
    "            df_temp = pd.read_csv(os.path.join(session_path, \"r_video.csv\"))\n",
    "\n",
    "            print(session)\n",
    "  \n",
    "            for switchingTime in feature_switchingTime:\n",
    "                if switchingTime < sessionStopTime and switchingTime > sessionStartTime:\n",
    "                    mean_video_features_switching, var_video_features_switching, std_video_features_switching = extractFeatures(df_temp, switchingTime, sessionStartTime, timeWindow)\n",
    "                    if mean_video_features_switching.dtype=='float64' and var_video_features_switching.dtype=='float64' and std_video_features_switching.dtype=='float64':\n",
    "                        valid_index.append(feature_switchingTime.index(switchingTime))\n",
    "                        list_mean_features_video.append(mean_video_features_switching.tolist())\n",
    "                        list_var_features_video.append(var_video_features_switching.tolist())\n",
    "                        list_std_features_video.append(std_video_features_switching.tolist())\n",
    "features_mean_video = np.array(list_mean_features_video)\n",
    "features_var_video = np.array(list_var_features_video)\n",
    "features_std_video = np.array(list_std_features_video)\n",
    "print(valid_index)"
   ]
  },
  {
   "cell_type": "code",
   "execution_count": 13,
   "id": "fe69f02d",
   "metadata": {},
   "outputs": [
    {
     "name": "stdout",
     "output_type": "stream",
     "text": [
      "[0, 1, 2, 3, 4, 5, 6, 8, 9, 11, 12, 13, 14, 15, 16, 17, 18, 19, 20, 21, 22, 23, 25, 26, 28, 29, 30, 31, 32, 33, 34, 35, 36, 37, 38, 41, 42, 43, 44, 45, 46, 47, 48, 49, 50, 51, 151, 52, 53, 54, 55, 57, 58, 59, 61, 63, 66, 67, 68, 69, 75, 79, 80, 81, 82, 84, 87, 88, 159, 91, 92, 93, 94, 96, 97, 98, 103, 105, 106, 105, 106, 130, 131, 132, 133, 134, 142, 149, 50, 151, 152, 153, 154, 155, 156, 157, 84, 158, 159, 160, 161]\n"
     ]
    }
   ],
   "source": [
    "features_mean_video = np.array(list_mean_features_video)\n",
    "features_var_video = np.array(list_var_features_video)\n",
    "features_std_video = np.array(list_std_features_video)\n",
    "print(valid_index)"
   ]
  },
  {
   "cell_type": "code",
   "execution_count": 14,
   "id": "23ae10f2",
   "metadata": {},
   "outputs": [],
   "source": [
    "# There's a shrinkage of the dataset between feature_video(110) and feature_app(128)\n",
    "# The problems can be:\n",
    "# 1. There are no Session document in Recording but video_data and application_data show the application switching\n",
    "# 2. Video_data shows there are n totally sessions but only m(m<n) sessions instead"
   ]
  },
  {
   "cell_type": "code",
   "execution_count": 15,
   "id": "b759c284",
   "metadata": {},
   "outputs": [
    {
     "name": "stdout",
     "output_type": "stream",
     "text": [
      "(101, 1)\n"
     ]
    }
   ],
   "source": [
    "feature_valid_app=[]\n",
    "feature_valid_switchingTime=[]\n",
    "valid_label=[]\n",
    "for index in valid_index:\n",
    "    feature_valid_app.append(feature_app[index][0])\n",
    "    feature_valid_switchingTime.append(feature_switchingTime[index])\n",
    "    valid_label.append(np_label[index])\n",
    "feature_valid_app = np.array(feature_valid_app).reshape(len(feature_valid_app),1)\n",
    "valid_label = np.array(valid_label)\n",
    "print(feature_valid_app.shape)"
   ]
  },
  {
   "cell_type": "code",
   "execution_count": 16,
   "id": "4e6deed0",
   "metadata": {},
   "outputs": [
    {
     "data": {
      "text/plain": [
       "(101,)"
      ]
     },
     "execution_count": 16,
     "metadata": {},
     "output_type": "execute_result"
    }
   ],
   "source": [
    "valid_label.shape"
   ]
  },
  {
   "cell_type": "markdown",
   "id": "72a797ac",
   "metadata": {},
   "source": [
    "# Feature of app category:"
   ]
  },
  {
   "cell_type": "code",
   "execution_count": 17,
   "id": "208e4655",
   "metadata": {},
   "outputs": [
    {
     "data": {
      "text/plain": [
       "['com.android.settings',\n",
       " 'com.instagram.android',\n",
       " 'com.miui.securitycenter',\n",
       " 'com.miui.cleanmaster',\n",
       " 'com.google.android.googlequicksearchbox',\n",
       " 'com.whatsapp',\n",
       " 'com.google.android.youtube',\n",
       " 'com.spotify.music',\n",
       " 'com.google.android.gm',\n",
       " 'com.android.browser',\n",
       " 'com.Slack',\n",
       " 'com.facebook.orca',\n",
       " 'com.android.providers.downloads.ui',\n",
       " 'ro.bcr.georgego',\n",
       " 'com.android.camera',\n",
       " 'com.eTokenBCR',\n",
       " 'com.facebook.katana',\n",
       " 'com.android.htmlviewer',\n",
       " 'com.android.deskclock',\n",
       " 'com.google.android.apps.maps',\n",
       " 'com.google.android.gms',\n",
       " 'com.miui.gallery',\n",
       " 'com.android.mms',\n",
       " 'com.android.contacts',\n",
       " 'com.android.vending',\n",
       " 'com.revolut.revolut',\n",
       " 'com.android.chrome']"
      ]
     },
     "execution_count": 17,
     "metadata": {},
     "output_type": "execute_result"
    }
   ],
   "source": [
    "app"
   ]
  },
  {
   "cell_type": "code",
   "execution_count": 18,
   "id": "9f99ca7d",
   "metadata": {},
   "outputs": [],
   "source": [
    "category = ['financial', 'explorer', 'tools', 'shopping_food_travel',  'sports', 'efficiency', 'entertainment', 'social_media', 'system', 'others']\n",
    "dict_app = {'financial': ['ro.bcr.georgego','com.eTokenBCR','com.revolut.revolut', 'com.ubs.swidKXJ.android', 'com.ubs.swidK2Y.android',],\n",
    "                   'explorer': [ 'com.android.chrome','com.android.browser', 'com.android.htmlviewer','com.android.chrome', 'com.UCMobile.intl'],\n",
    "                   'tools': [ 'com.huawei.search', 'com.android.calendar','com.google.android.apps.maps', 'ch.admin.meteoswiss','com.android.deskclock','com.android.deskclock','com.google.android.apps.maps','com.android.calendar', 'com.weather.Weather'],\n",
    "                   'shopping_food_travel': [ 'com.wahanda.marketplace', 'com.contextlogic.wish', 'com.fision',  'com.app.tgtg', 'com.airbnb.android'],\n",
    "                   'sports': [ 'com.espn.score_center', 'de.motain.iliga', 'com.popularapp.thirtydayfitnesschallenge', 'com.bleacherreport.android.teamstream', 'ch.publibike.app', 'homedia.sky.sport'],\n",
    "                   'efficiency': ['com.google.android.gm', 'com.microsoft.office.word','com.example.android.notepad', 'com.thisclicks.wiw','com.google.android.googlequicksearchbox','com.google.android.gm','com.google.android.gms', 'com.android.email', 'com.google.android.apps.translate', 'cn.wps.moffice_eng'],\n",
    "                   'entertainment': ['com.apple.android.music','com.google.android.apps.books', 'com.huawei.camera', 'com.google.android.youtube', 'com.adobe.lrmobile','com.huawei.himovie.overseas', 'com.netflix.mediaclient','com.google.android.youtube','com.spotify.music', 'com.android.camera', 'com.miui.player', 'fm.player'],\n",
    "                   'social_media': ['com.instagram.android', 'com.whatsapp','com.facebook.katana', 'com.android.contacts', 'com.pinterest','com.instagram.android', 'com.whatsapp', 'com.facebook.orca', 'com.facebook.katana', 'com.android.mms','com.android.contacts','jp.naver.line.android',  'com.Slack'],\n",
    "                   'system': [ 'com.huawei.systemmanager', 'com.ohh2ahh.zuerimensa', 'com.android.incallui','com.android.settings', 'com.huawei.android.internal.app', 'com.android.gallery3d','com.android.vending', 'com.huawei.android.hwouc','com.miui.gallery', 'com.android.settings', 'com.miui.securitycenter', 'com.miui.cleanmaster', 'com.android.providers.downloads.ui', 'com.android.vending',  'com.android.systemui', 'com.android.incallui', 'com.mi.android.globalFileexplorer','android']\n",
    "                  }"
   ]
  },
  {
   "cell_type": "code",
   "execution_count": 19,
   "id": "c601e667",
   "metadata": {},
   "outputs": [
    {
     "data": {
      "text/plain": [
       "(162, 1)"
      ]
     },
     "execution_count": 19,
     "metadata": {},
     "output_type": "execute_result"
    }
   ],
   "source": [
    "list_feature_app_category = []\n",
    "for digit in input:\n",
    "    for key, value in dict_app.items():\n",
    "        for element in value:\n",
    "            if element == app[digit]:\n",
    "                list_feature_app_category.append(category.index(key))\n",
    "                break\n",
    "feature_app_category = np.array(list_feature_app_category).reshape(len(list_feature_app_category),1)\n",
    "feature_app_category.shape"
   ]
  },
  {
   "cell_type": "code",
   "execution_count": 20,
   "id": "fb6957cb",
   "metadata": {},
   "outputs": [],
   "source": [
    "feature_valid_app_category=[]\n",
    "for index in valid_index:\n",
    "    feature_valid_app_category.append(feature_app_category[index][0])\n",
    "feature_valid_app_category = np.array(feature_valid_app_category).reshape(len(feature_valid_app_category),1)"
   ]
  },
  {
   "cell_type": "markdown",
   "id": "e77eeb35",
   "metadata": {},
   "source": [
    "# Label with categories"
   ]
  },
  {
   "cell_type": "code",
   "execution_count": 21,
   "id": "b75d837f",
   "metadata": {},
   "outputs": [
    {
     "name": "stdout",
     "output_type": "stream",
     "text": [
      "[7 7 8 8 7 5 8 6 7 6 7 5 1 6 6 8 8 6 6 7 8 8 8 6 5 7 6 8 6 8 8 7 7 0 7 0 6\n",
      " 7 6 7 8 7 7 8 7 5 1 7 7 7 8 0 7 7 7 1 7 2 5 2 7 8 8 6 6 6 8 8 6 7 6 7 6 7\n",
      " 7 6 6 6 6 6 6 6 7 7 7 7 6 7 7 1 7 7 6 7 8 7 6 7 6 8 8]\n"
     ]
    }
   ],
   "source": [
    "list_label_category = []\n",
    "for digit in label:\n",
    "    for key, value in dict_app.items():\n",
    "        for element in value:\n",
    "            if element== app[digit]:\n",
    "                list_label_category.append(category.index(key))\n",
    "                break\n",
    "label_category = np.array(list_label_category).reshape(len(list_label_category),1)\n",
    "label_valid_category=[]\n",
    "for index in valid_index:\n",
    "    label_valid_category.append(label_category[index][0])\n",
    "label_valid_category = np.array(label_valid_category).reshape(len(label_valid_category),)\n",
    "print(label_valid_category)"
   ]
  },
  {
   "cell_type": "markdown",
   "id": "e7de59a4",
   "metadata": {},
   "source": [
    "# Feature of app frequency"
   ]
  },
  {
   "cell_type": "code",
   "execution_count": 22,
   "id": "a4b45ba8",
   "metadata": {},
   "outputs": [
    {
     "data": {
      "text/plain": [
       "(162, 1)"
      ]
     },
     "execution_count": 22,
     "metadata": {},
     "output_type": "execute_result"
    }
   ],
   "source": [
    "hash_app_frequency = {}\n",
    "for digit in input:\n",
    "    hash_app_frequency[digit] = (hash_app_frequency.get(digit, 0) + 1)\n",
    "for digit in label:\n",
    "    hash_app_frequency[digit] = (hash_app_frequency.get(digit, 0) + 1)\n",
    "    \n",
    "list_app_frequency = []\n",
    "for digit in input:\n",
    "    list_app_frequency.append(hash_app_frequency.get(digit, 0))\n",
    "feature_app_frequency = np.array(list_app_frequency).reshape(len(list_app_frequency),1)\n",
    "feature_app_frequency.shape"
   ]
  },
  {
   "cell_type": "code",
   "execution_count": 23,
   "id": "1f5013d9",
   "metadata": {
    "scrolled": true
   },
   "outputs": [
    {
     "name": "stdout",
     "output_type": "stream",
     "text": [
      "(101, 1)\n"
     ]
    }
   ],
   "source": [
    "feature_valid_app_frequency=[]\n",
    "for index in valid_index:\n",
    "    feature_valid_app_frequency.append(feature_app_frequency[index][0])\n",
    "feature_valid_app_frequency = np.array(feature_valid_app_frequency).reshape(len(feature_valid_app_frequency),1)\n",
    "print(feature_valid_app_frequency.shape)"
   ]
  },
  {
   "cell_type": "markdown",
   "id": "d2b0f5e3",
   "metadata": {},
   "source": [
    "# Feature Duration"
   ]
  },
  {
   "cell_type": "code",
   "execution_count": 26,
   "id": "8181e6a4",
   "metadata": {},
   "outputs": [
    {
     "name": "stdout",
     "output_type": "stream",
     "text": [
      "(101, 1)\n"
     ]
    }
   ],
   "source": [
    "feature_duration = np.array(duration).reshape(len(duration),1)\n",
    "feature_valid_duration = []\n",
    "for index in valid_index:\n",
    "    feature_valid_duration.append(feature_duration[index][0])\n",
    "feature_valid_duration = np.array(feature_valid_duration).reshape(len(feature_valid_duration),1)\n",
    "print(feature_valid_duration.shape)"
   ]
  },
  {
   "cell_type": "markdown",
   "id": "191e6c95",
   "metadata": {},
   "source": [
    "# Feature TimeOfTheDay"
   ]
  },
  {
   "cell_type": "code",
   "execution_count": 27,
   "id": "36a4f210",
   "metadata": {},
   "outputs": [
    {
     "name": "stdout",
     "output_type": "stream",
     "text": [
      "(101, 1)\n"
     ]
    }
   ],
   "source": [
    "# switching time:\n",
    "feature_switchingTime = []\n",
    "for element in temp_switchingTime:\n",
    "    feature_switchingTime.append(int(element))\n",
    "\n",
    "    \n",
    "# switching timedate\n",
    "temp = []\n",
    "for index in range(len(temp_switchingTimeDate)):\n",
    "    temp.append(temp_switchingTimeDate[index][11:13]+temp_switchingTimeDate[index][14:16]+temp_switchingTimeDate[index][17:19])\n",
    "feature_switchingTimeDate = []\n",
    "for element in temp:\n",
    "    feature_switchingTimeDate.append(int(element))\n",
    "tt_feature_switchingTimeDate = np.array(feature_switchingTimeDate).reshape(len(feature_switchingTimeDate),1)\n",
    "feature_valid_switchingTimeDate = []\n",
    "for index in valid_index:\n",
    "    feature_valid_switchingTimeDate.append(tt_feature_switchingTimeDate[index][0])\n",
    "feature_valid_switchingTimeDate = np.array(feature_valid_switchingTimeDate).reshape(len(feature_valid_switchingTimeDate),1)\n",
    "print(feature_valid_switchingTimeDate.shape)"
   ]
  },
  {
   "cell_type": "code",
   "execution_count": 49,
   "id": "0e5cc70b",
   "metadata": {},
   "outputs": [
    {
     "data": {
      "text/plain": [
       "array([[221951],\n",
       "       [222017],\n",
       "       [222517],\n",
       "       [222529],\n",
       "       [222823],\n",
       "       [222900],\n",
       "       [222907],\n",
       "       [ 81009],\n",
       "       [ 81015],\n",
       "       [ 81211],\n",
       "       [ 81316],\n",
       "       [ 81529],\n",
       "       [ 81633],\n",
       "       [ 81640],\n",
       "       [ 91800],\n",
       "       [ 91837],\n",
       "       [ 91838],\n",
       "       [ 91852],\n",
       "       [ 91933],\n",
       "       [ 92002],\n",
       "       [183625],\n",
       "       [183630],\n",
       "       [183834],\n",
       "       [183836],\n",
       "       [162920],\n",
       "       [163535],\n",
       "       [163537],\n",
       "       [163540],\n",
       "       [163544],\n",
       "       [163612],\n",
       "       [163616],\n",
       "       [163617],\n",
       "       [184659],\n",
       "       [184704],\n",
       "       [201008],\n",
       "       [200304],\n",
       "       [200313],\n",
       "       [200402],\n",
       "       [200402],\n",
       "       [201555],\n",
       "       [ 81814],\n",
       "       [ 83010],\n",
       "       [ 83244],\n",
       "       [ 90603],\n",
       "       [112658],\n",
       "       [112740],\n",
       "       [155205],\n",
       "       [192505],\n",
       "       [192631],\n",
       "       [192636],\n",
       "       [173051],\n",
       "       [201400],\n",
       "       [212930],\n",
       "       [155549],\n",
       "       [162803],\n",
       "       [163110],\n",
       "       [ 81133],\n",
       "       [ 82035],\n",
       "       [ 82235],\n",
       "       [ 82238],\n",
       "       [115808],\n",
       "       [185717],\n",
       "       [185801],\n",
       "       [185856],\n",
       "       [190033],\n",
       "       [190812],\n",
       "       [192555],\n",
       "       [193741],\n",
       "       [ 82040],\n",
       "       [163442],\n",
       "       [163442],\n",
       "       [163443],\n",
       "       [163520],\n",
       "       [163947],\n",
       "       [164723],\n",
       "       [165625],\n",
       "       [173517],\n",
       "       [173834],\n",
       "       [173834],\n",
       "       [173834],\n",
       "       [173834],\n",
       "       [205033],\n",
       "       [ 83429],\n",
       "       [ 90610],\n",
       "       [ 90726],\n",
       "       [ 91823],\n",
       "       [191654],\n",
       "       [194227],\n",
       "       [112658],\n",
       "       [155205],\n",
       "       [155651],\n",
       "       [155656],\n",
       "       [160447],\n",
       "       [170110],\n",
       "       [170902],\n",
       "       [ 74425],\n",
       "       [190812],\n",
       "       [ 75935],\n",
       "       [ 82040],\n",
       "       [ 82734],\n",
       "       [202837]])"
      ]
     },
     "execution_count": 49,
     "metadata": {},
     "output_type": "execute_result"
    }
   ],
   "source": [
    "feature_valid_switchingTimeDate"
   ]
  },
  {
   "cell_type": "markdown",
   "id": "4396890d",
   "metadata": {},
   "source": [
    "# Feature DeviceStatus(3/5/10)"
   ]
  },
  {
   "cell_type": "code",
   "execution_count": 28,
   "id": "3afdd6b0",
   "metadata": {},
   "outputs": [
    {
     "name": "stdout",
     "output_type": "stream",
     "text": [
      "162\n"
     ]
    }
   ],
   "source": [
    "deviceStatus3=[0]*len(feature_switchingTime)\n",
    "deviceStatus5=[0]*len(feature_switchingTime)\n",
    "deviceStatus10=[0]*len(feature_switchingTime)\n",
    "for recording in os.listdir(account_path):\n",
    "    recording_path = os.path.join (account_path, str(recording))\n",
    "    \n",
    "    assert(os.path.exists(recording_path))\n",
    "\n",
    "\n",
    "    # open each of the recording file\n",
    "    \n",
    "    with open (os.path.join(recording_path, \"video_data.txt\")) as video_file:\n",
    "        video_data = json.load(video_file)[\"video_data\"]\n",
    "        #num_session = len(video_data)\n",
    "        #????????????????????????????????????????????? something wrong with the video_data for recording 001&002\n",
    "        \n",
    "            \n",
    "        with open(os.path.join(recording_path, \"device_data.txt\")) as device_file:\n",
    "            device_data = json.load(device_file)[\"device_data\"]\n",
    "\n",
    "            for d_index in range(len(device_data)):\n",
    "                for s_index in range(len(feature_switchingTime)):\n",
    "                    if device_data[d_index][\"time\"] >= feature_switchingTime[s_index] - 3*1_000_000_000 and device_data[d_index][\"time\"] <= feature_switchingTime[s_index]:\n",
    "                        deviceStatus3[s_index]+=1\n",
    "                    if device_data[d_index][\"time\"] >= feature_switchingTime[s_index] - 5*1_000_000_000 and device_data[d_index][\"time\"] <= feature_switchingTime[s_index]:\n",
    "                        deviceStatus5[s_index]+=1                    \n",
    "                    if device_data[d_index][\"time\"] >= feature_switchingTime[s_index] - 10*1_000_000_000 and device_data[d_index][\"time\"] <= feature_switchingTime[s_index]:\n",
    "                        deviceStatus10[s_index]+=1            \n",
    "print(len(deviceStatus3))"
   ]
  },
  {
   "cell_type": "code",
   "execution_count": 29,
   "id": "18253bc8",
   "metadata": {},
   "outputs": [
    {
     "name": "stdout",
     "output_type": "stream",
     "text": [
      "(101, 1)\n"
     ]
    }
   ],
   "source": [
    "feature_deviceStatus3 = np.array(deviceStatus3).reshape(len(deviceStatus3),1)\n",
    "feature_valid_deviceStatus3 = []\n",
    "for index in valid_index:\n",
    "    feature_valid_deviceStatus3.append(feature_deviceStatus3[index][0])\n",
    "feature_valid_deviceStatus3 = np.array(feature_valid_deviceStatus3).reshape(len(feature_valid_deviceStatus3),1)\n",
    "print(feature_valid_deviceStatus3.shape)"
   ]
  },
  {
   "cell_type": "markdown",
   "id": "52a4c6e5",
   "metadata": {},
   "source": [
    "# Feature TouchEvent(3/5/10)"
   ]
  },
  {
   "cell_type": "code",
   "execution_count": 30,
   "id": "1faddda9",
   "metadata": {},
   "outputs": [
    {
     "name": "stdout",
     "output_type": "stream",
     "text": [
      "162\n"
     ]
    }
   ],
   "source": [
    "# touch data: happened touch events in the past 3/5/10 seconds\n",
    "touchTimes_data3=[0]*len(feature_switchingTime)\n",
    "touchTimes_data5=[0]*len(feature_switchingTime)\n",
    "touchTimes_data10=[0]*len(feature_switchingTime)\n",
    "for recording in os.listdir(account_path):\n",
    "    recording_path = os.path.join (account_path, str(recording))\n",
    "    \n",
    "    assert(os.path.exists(recording_path))\n",
    "\n",
    "\n",
    "    # open each of the recording file\n",
    "    \n",
    "    with open (os.path.join(recording_path, \"video_data.txt\")) as video_file:\n",
    "        video_data = json.load(video_file)[\"video_data\"]\n",
    "        #num_session = len(video_data)\n",
    "        #????????????????????????????????????????????? something wrong with the video_data for recording 001&002\n",
    "        \n",
    "\n",
    "        for file in os.listdir(recording_path):\n",
    "            if str(file)[:7] == \"Session\":\n",
    "                # open each of the session file\n",
    "                session_path = os.path.join(recording_path, str(file))\n",
    "\n",
    "                assert(os.path.exists(session_path))\n",
    "\n",
    "                with open(os.path.join(session_path, \"touch_data.txt\")) as touch_file:\n",
    "                    touch_data = json.load(touch_file)[\"touch_data\"]\n",
    "\n",
    "                    for t_index in range(len(touch_data)):\n",
    "                        for s_index in range(len(feature_switchingTime)):\n",
    "                            if touch_data[t_index][\"time\"] >= feature_switchingTime[s_index] - 3*1_000_000_000 and touch_data[t_index][\"time\"] <= feature_switchingTime[s_index]:\n",
    "                                touchTimes_data3[s_index]+=1\n",
    "                            if touch_data[t_index][\"time\"] >= feature_switchingTime[s_index] - 5*1_000_000_000 and touch_data[t_index][\"time\"] <= feature_switchingTime[s_index]:\n",
    "                                touchTimes_data5[s_index]+=1                    \n",
    "                            if touch_data[t_index][\"time\"] >= feature_switchingTime[s_index] - 10*1_000_000_000 and touch_data[t_index][\"time\"] <= feature_switchingTime[s_index]:\n",
    "                                touchTimes_data10[s_index]+=1            \n",
    "print(len(touchTimes_data3))"
   ]
  },
  {
   "cell_type": "code",
   "execution_count": 31,
   "id": "40a13059",
   "metadata": {},
   "outputs": [
    {
     "name": "stdout",
     "output_type": "stream",
     "text": [
      "(101, 1)\n"
     ]
    }
   ],
   "source": [
    "feature_touchTimes3 = np.array(touchTimes_data3).reshape(len(touchTimes_data3),1)\n",
    "feature_valid_touchTimes3 = []\n",
    "for index in valid_index:\n",
    "    feature_valid_touchTimes3.append(feature_touchTimes3[index][0])\n",
    "feature_valid_touchTimes3 = np.array(feature_valid_touchTimes3).reshape(len(feature_valid_touchTimes3),1)\n",
    "print(feature_valid_touchTimes3.shape)"
   ]
  },
  {
   "cell_type": "markdown",
   "id": "4d43a02d",
   "metadata": {},
   "source": [
    "# valid Label"
   ]
  },
  {
   "cell_type": "code",
   "execution_count": 32,
   "id": "00a85e3e",
   "metadata": {},
   "outputs": [
    {
     "name": "stdout",
     "output_type": "stream",
     "text": [
      "(101,)\n"
     ]
    }
   ],
   "source": [
    "label_app = np.array(label).reshape(len(label),1)\n",
    "label_valid_app=[]\n",
    "for index in valid_index:\n",
    "    label_valid_app.append(label_app[index][0])\n",
    "label_valid_app = np.array(label_valid_app).reshape(len(label_valid_category),)\n",
    "print(label_valid_app.shape)"
   ]
  },
  {
   "cell_type": "markdown",
   "id": "17638f51",
   "metadata": {},
   "source": [
    "# Function"
   ]
  },
  {
   "cell_type": "code",
   "execution_count": 33,
   "id": "d047fd1f",
   "metadata": {},
   "outputs": [],
   "source": [
    "def predict_top_k(X_test, y_test, model, k=3):\n",
    "\n",
    "    probs = model.predict_proba(X_test)\n",
    "    labels = model.classes_\n",
    "    result = 0\n",
    "\n",
    "    for i in range(probs.shape[0]):\n",
    "        a = probs[i]\n",
    "        index = heapq.nlargest(k, range(probs.shape[1]), a.take)\n",
    "        for element in index:\n",
    "            if labels[element] == y_test[i]:\n",
    "                result+=1\n",
    "    \n",
    "    return result/y_test.shape[0]\n",
    "\n",
    "def kNN_training (feature, label):\n",
    "    valid_X = scaler.fit_transform(feature)\n",
    "    valid_y = label\n",
    "    X_train, X_test, y_train, y_test = train_test_split(valid_X, valid_y, random_state=0)\n",
    "    model = KNeighborsClassifier(n_neighbors=7, weights='uniform').fit(X_train,y_train)\n",
    "    accuracy = model.score(X_test, y_test)\n",
    "    top_accuracy4 = predict_top_k(X_test, y_test, model, k=4)\n",
    "    top_accuracy8 = predict_top_k(X_test, y_test, model, k=8)\n",
    "    return accuracy, top_accuracy4, top_accuracy8\n",
    "\n",
    "def rf_training (feature, label):\n",
    "    valid_X = scaler.fit_transform(feature)\n",
    "    valid_y = label\n",
    "    X_train, X_test, y_train, y_test = train_test_split(valid_X, valid_y, random_state=0)\n",
    "    model = RandomForestClassifier(n_estimators=50).fit(X_train,y_train)\n",
    "    accuracy = model.score(X_test, y_test)\n",
    "    top_accuracy4 = predict_top_k(X_test, y_test, model, k=4)\n",
    "    top_accuracy8 = predict_top_k(X_test, y_test, model, k=8)\n",
    "    return accuracy, top_accuracy4, top_accuracy8\n",
    "\n",
    "def Ada_training (feature, label):\n",
    "    valid_X = scaler.fit_transform(feature)\n",
    "    valid_y = label\n",
    "    X_train, X_test, y_train, y_test = train_test_split(valid_X, valid_y, random_state=0)\n",
    "    model = AdaBoostClassifier(n_estimators=100, random_state=0).fit(X_train,y_train)\n",
    "    accuracy = model.score(X_test, y_test)\n",
    "    top_accuracy4 = predict_top_k(X_test, y_test, model, k=4)\n",
    "    top_accuracy8 = predict_top_k(X_test, y_test, model, k=8)\n",
    "    return accuracy, top_accuracy4, top_accuracy8\n",
    "\n",
    "def dummy_training(feature, label):\n",
    "    dummy = DummyClassifier(strategy=\"most_frequent\")\n",
    "    dummy = dummy.fit(feature, label)\n",
    "    accuracy = dummy.score(feature, label)\n",
    "    return accuracy\n",
    "\n",
    "def calculateMeanRF(feature, label):\n",
    "    accuracy=[]\n",
    "    top4=[]\n",
    "    top8=[]\n",
    "    for i in range(5):\n",
    "        accuracy_rf, top_accuracy_rf4, top_accuracy_rf8= rf_training (feature, label)\n",
    "        accuracy.append(accuracy_rf)\n",
    "        top4.append(top_accuracy_rf4)\n",
    "        top8.append(top_accuracy_rf8)\n",
    "    return sum(accuracy)/len(accuracy), sum(top4)/len(top4), sum(top8)/len(top8)\n",
    "\n",
    "def calculateMeanKNN(feature, label):\n",
    "    accuracy=[]\n",
    "    top4=[]\n",
    "    top8=[]\n",
    "    for i in range(5):\n",
    "        accuracy_kNN, top_accuracy_kNN4, top_accuracy_kNN8= kNN_training (feature, label)\n",
    "        accuracy.append(accuracy_kNN)\n",
    "        top4.append(top_accuracy_kNN4)\n",
    "        top8.append(top_accuracy_kNN8)\n",
    "    return sum(accuracy)/len(accuracy), sum(top4)/len(top4), sum(top8)/len(top8)\n",
    "\n",
    "def calculateMeanAda(feature, label):\n",
    "    accuracy=[]\n",
    "    top4=[]\n",
    "    top8=[]\n",
    "    for i in range(5):\n",
    "        accuracy_kNN, top_accuracy_kNN4, top_accuracy_kNN8= Ada_training (feature, label)\n",
    "        accuracy.append(accuracy_kNN)\n",
    "        top4.append(top_accuracy_kNN4)\n",
    "        top8.append(top_accuracy_kNN8)\n",
    "    return sum(accuracy)/len(accuracy), sum(top4)/len(top4), sum(top8)/len(top8)"
   ]
  },
  {
   "cell_type": "markdown",
   "id": "b15a203d",
   "metadata": {},
   "source": [
    "# Features Summary"
   ]
  },
  {
   "cell_type": "code",
   "execution_count": 34,
   "id": "c3be708e",
   "metadata": {},
   "outputs": [
    {
     "name": "stdout",
     "output_type": "stream",
     "text": [
      "(101, 1)\n",
      "(101, 1)\n",
      "(101, 1)\n",
      "(101, 1)\n",
      "(101, 1)\n",
      "(101, 1)\n",
      "(101, 1)\n",
      "(101, 8)\n",
      "(101, 8)\n",
      "(101, 8)\n",
      "(101,)\n",
      "(101,)\n"
     ]
    }
   ],
   "source": [
    "print(feature_valid_app.shape)\n",
    "print(feature_valid_duration.shape)\n",
    "print(feature_valid_switchingTimeDate.shape)\n",
    "print(feature_valid_deviceStatus3.shape)\n",
    "print(feature_valid_touchTimes3.shape)\n",
    "print(feature_valid_app_category.shape)\n",
    "print(feature_valid_app_frequency.shape)\n",
    "print(features_mean_video.shape)\n",
    "print(features_var_video.shape)\n",
    "print(features_std_video.shape)\n",
    "print(label_valid_category.shape)\n",
    "print(label_valid_app.shape)"
   ]
  },
  {
   "cell_type": "code",
   "execution_count": 43,
   "id": "364a5726",
   "metadata": {},
   "outputs": [
    {
     "name": "stdout",
     "output_type": "stream",
     "text": [
      "(101, 31)\n"
     ]
    }
   ],
   "source": [
    "allFeatures = np.concatenate([feature_valid_app,\n",
    "                              feature_valid_duration,\n",
    "                              feature_valid_switchingTimeDate,\n",
    "                              feature_valid_deviceStatus3,\n",
    "                              feature_valid_touchTimes3,\n",
    "                              feature_valid_app_category, \n",
    "                              feature_valid_app_frequency, \n",
    "                              features_mean_video, \n",
    "                              features_var_video,\n",
    "                              features_std_video],\n",
    "                              axis=1)\n",
    "print(allFeatures.shape)"
   ]
  },
  {
   "cell_type": "markdown",
   "id": "88b5a580",
   "metadata": {},
   "source": [
    "# Feature Selection"
   ]
  },
  {
   "cell_type": "code",
   "execution_count": 44,
   "id": "c6342870",
   "metadata": {},
   "outputs": [
    {
     "name": "stderr",
     "output_type": "stream",
     "text": [
      "D:\\Softwares\\Anaconda3\\lib\\site-packages\\sklearn\\svm\\_base.py:985: ConvergenceWarning: Liblinear failed to converge, increase the number of iterations.\n",
      "  warnings.warn(\"Liblinear failed to converge, increase \"\n"
     ]
    },
    {
     "data": {
      "text/plain": [
       "(101, 3)"
      ]
     },
     "execution_count": 44,
     "metadata": {},
     "output_type": "execute_result"
    }
   ],
   "source": [
    "#L1-based feature selection for all 288+1 features\n",
    "from sklearn.feature_selection import SelectFromModel\n",
    "from sklearn.svm import LinearSVC\n",
    "\n",
    "linearsvc = LinearSVC(C=0.01, penalty='l1', dual=False).fit(allFeatures, label_valid_app)\n",
    "model = SelectFromModel(linearsvc, prefit=True)\n",
    "X_new_l1 = model.transform(allFeatures)\n",
    "X_new_l1.shape"
   ]
  },
  {
   "cell_type": "code",
   "execution_count": 45,
   "id": "f213adcb",
   "metadata": {},
   "outputs": [
    {
     "data": {
      "text/plain": [
       "(101, 9)"
      ]
     },
     "execution_count": 45,
     "metadata": {},
     "output_type": "execute_result"
    }
   ],
   "source": [
    "from sklearn.ensemble import ExtraTreesClassifier\n",
    "from sklearn.feature_selection import SelectFromModel\n",
    "clf = ExtraTreesClassifier(n_estimators=100).fit(allFeatures, label_valid_app)\n",
    "model = SelectFromModel(clf, prefit=True)\n",
    "X_new_tree = model.transform(allFeatures)\n",
    "X_new_tree.shape"
   ]
  },
  {
   "cell_type": "markdown",
   "id": "9f3426b7",
   "metadata": {},
   "source": [
    "# Model Performance"
   ]
  },
  {
   "cell_type": "code",
   "execution_count": 46,
   "id": "0cfe01b1",
   "metadata": {},
   "outputs": [
    {
     "name": "stdout",
     "output_type": "stream",
     "text": [
      "0.3 0.6230769230769232 0.7846153846153845\n"
     ]
    }
   ],
   "source": [
    "accuracy_rf, top_accuracy_rf4, top_accuracy_rf8 = calculateMeanRF(X_new_tree, label_valid_app)\n",
    "print(accuracy_rf, top_accuracy_rf4, top_accuracy_rf8)"
   ]
  },
  {
   "cell_type": "code",
   "execution_count": 47,
   "id": "5e40e6fd",
   "metadata": {},
   "outputs": [
    {
     "name": "stdout",
     "output_type": "stream",
     "text": [
      "0.15384615384615385 0.5 0.6538461538461539\n"
     ]
    }
   ],
   "source": [
    "accuracy_kNN, top_accuracy_kNN4, top_accuracy_kNN8 = calculateMeanKNN(X_new_tree, label_valid_app)\n",
    "print(accuracy_kNN, top_accuracy_kNN4, top_accuracy_kNN8)"
   ]
  },
  {
   "cell_type": "code",
   "execution_count": 48,
   "id": "828373b0",
   "metadata": {},
   "outputs": [
    {
     "name": "stdout",
     "output_type": "stream",
     "text": [
      "0.19230769230769232 0.4230769230769231 0.7692307692307693\n"
     ]
    }
   ],
   "source": [
    "accuracy_ada, top_accuracy_ada4, top_accuracy_ada8 = calculateMeanAda(X_new_tree, label_valid_app)\n",
    "print(accuracy_ada, top_accuracy_ada4, top_accuracy_ada8)"
   ]
  },
  {
   "cell_type": "markdown",
   "id": "83934774",
   "metadata": {},
   "source": [
    "# ========================================================"
   ]
  },
  {
   "cell_type": "code",
   "execution_count": null,
   "id": "9a393710",
   "metadata": {},
   "outputs": [],
   "source": [
    "# 1. probabilistic model                            check\n",
    "# 2. columns manuelly select                        check\n",
    "# 3. mean, variance, standard deviation             check\n",
    "# 4. weights of the frequency                       check\n",
    "# 5. categorical app                                check"
   ]
  },
  {
   "cell_type": "code",
   "execution_count": 55,
   "id": "2bdeb3c0",
   "metadata": {},
   "outputs": [
    {
     "data": {
      "text/html": [
       "<div>\n",
       "<style scoped>\n",
       "    .dataframe tbody tr th:only-of-type {\n",
       "        vertical-align: middle;\n",
       "    }\n",
       "\n",
       "    .dataframe tbody tr th {\n",
       "        vertical-align: top;\n",
       "    }\n",
       "\n",
       "    .dataframe thead th {\n",
       "        text-align: right;\n",
       "    }\n",
       "</style>\n",
       "<table border=\"1\" class=\"dataframe\">\n",
       "  <thead>\n",
       "    <tr style=\"text-align: right;\">\n",
       "      <th></th>\n",
       "      <th>confidence</th>\n",
       "      <th>success</th>\n",
       "      <th>gaze_0_x</th>\n",
       "      <th>gaze_0_y</th>\n",
       "      <th>gaze_0_z</th>\n",
       "      <th>gaze_1_x</th>\n",
       "      <th>gaze_1_y</th>\n",
       "      <th>gaze_1_z</th>\n",
       "      <th>gaze_angle_x</th>\n",
       "      <th>gaze_angle_y</th>\n",
       "      <th>...</th>\n",
       "      <th>eye_lmk_Z_46</th>\n",
       "      <th>eye_lmk_Z_47</th>\n",
       "      <th>eye_lmk_Z_48</th>\n",
       "      <th>eye_lmk_Z_49</th>\n",
       "      <th>eye_lmk_Z_50</th>\n",
       "      <th>eye_lmk_Z_51</th>\n",
       "      <th>eye_lmk_Z_52</th>\n",
       "      <th>eye_lmk_Z_53</th>\n",
       "      <th>eye_lmk_Z_54</th>\n",
       "      <th>eye_lmk_Z_55</th>\n",
       "    </tr>\n",
       "  </thead>\n",
       "  <tbody>\n",
       "    <tr>\n",
       "      <th>0</th>\n",
       "      <td>0.98</td>\n",
       "      <td>1</td>\n",
       "      <td>-0.058954</td>\n",
       "      <td>-0.457938</td>\n",
       "      <td>-0.887027</td>\n",
       "      <td>-0.135234</td>\n",
       "      <td>-0.456709</td>\n",
       "      <td>-0.879277</td>\n",
       "      <td>-0.110</td>\n",
       "      <td>-0.478</td>\n",
       "      <td>...</td>\n",
       "      <td>416.0</td>\n",
       "      <td>416.9</td>\n",
       "      <td>419.5</td>\n",
       "      <td>419.7</td>\n",
       "      <td>420.5</td>\n",
       "      <td>421.4</td>\n",
       "      <td>422.0</td>\n",
       "      <td>421.8</td>\n",
       "      <td>421.0</td>\n",
       "      <td>420.1</td>\n",
       "    </tr>\n",
       "    <tr>\n",
       "      <th>1</th>\n",
       "      <td>0.98</td>\n",
       "      <td>1</td>\n",
       "      <td>-0.053291</td>\n",
       "      <td>-0.443624</td>\n",
       "      <td>-0.894627</td>\n",
       "      <td>-0.143240</td>\n",
       "      <td>-0.442300</td>\n",
       "      <td>-0.885355</td>\n",
       "      <td>-0.110</td>\n",
       "      <td>-0.462</td>\n",
       "      <td>...</td>\n",
       "      <td>426.4</td>\n",
       "      <td>427.4</td>\n",
       "      <td>429.6</td>\n",
       "      <td>429.7</td>\n",
       "      <td>430.4</td>\n",
       "      <td>431.3</td>\n",
       "      <td>431.8</td>\n",
       "      <td>431.6</td>\n",
       "      <td>430.9</td>\n",
       "      <td>430.1</td>\n",
       "    </tr>\n",
       "    <tr>\n",
       "      <th>2</th>\n",
       "      <td>0.98</td>\n",
       "      <td>1</td>\n",
       "      <td>-0.074696</td>\n",
       "      <td>-0.357094</td>\n",
       "      <td>-0.931077</td>\n",
       "      <td>-0.129029</td>\n",
       "      <td>-0.425962</td>\n",
       "      <td>-0.895493</td>\n",
       "      <td>-0.111</td>\n",
       "      <td>-0.405</td>\n",
       "      <td>...</td>\n",
       "      <td>423.7</td>\n",
       "      <td>424.7</td>\n",
       "      <td>426.9</td>\n",
       "      <td>427.0</td>\n",
       "      <td>427.6</td>\n",
       "      <td>428.5</td>\n",
       "      <td>429.0</td>\n",
       "      <td>429.0</td>\n",
       "      <td>428.3</td>\n",
       "      <td>427.4</td>\n",
       "    </tr>\n",
       "    <tr>\n",
       "      <th>3</th>\n",
       "      <td>0.93</td>\n",
       "      <td>1</td>\n",
       "      <td>-0.042742</td>\n",
       "      <td>-0.400226</td>\n",
       "      <td>-0.915419</td>\n",
       "      <td>-0.191986</td>\n",
       "      <td>-0.352971</td>\n",
       "      <td>-0.915725</td>\n",
       "      <td>-0.127</td>\n",
       "      <td>-0.390</td>\n",
       "      <td>...</td>\n",
       "      <td>435.4</td>\n",
       "      <td>436.6</td>\n",
       "      <td>438.9</td>\n",
       "      <td>439.1</td>\n",
       "      <td>439.7</td>\n",
       "      <td>440.4</td>\n",
       "      <td>440.9</td>\n",
       "      <td>440.8</td>\n",
       "      <td>440.1</td>\n",
       "      <td>439.4</td>\n",
       "    </tr>\n",
       "    <tr>\n",
       "      <th>4</th>\n",
       "      <td>0.03</td>\n",
       "      <td>0</td>\n",
       "      <td>0.000000</td>\n",
       "      <td>0.000000</td>\n",
       "      <td>0.000000</td>\n",
       "      <td>0.000000</td>\n",
       "      <td>0.000000</td>\n",
       "      <td>0.000000</td>\n",
       "      <td>0.000</td>\n",
       "      <td>0.000</td>\n",
       "      <td>...</td>\n",
       "      <td>369.3</td>\n",
       "      <td>370.0</td>\n",
       "      <td>372.3</td>\n",
       "      <td>372.9</td>\n",
       "      <td>373.7</td>\n",
       "      <td>374.4</td>\n",
       "      <td>374.5</td>\n",
       "      <td>373.9</td>\n",
       "      <td>373.1</td>\n",
       "      <td>372.4</td>\n",
       "    </tr>\n",
       "    <tr>\n",
       "      <th>...</th>\n",
       "      <td>...</td>\n",
       "      <td>...</td>\n",
       "      <td>...</td>\n",
       "      <td>...</td>\n",
       "      <td>...</td>\n",
       "      <td>...</td>\n",
       "      <td>...</td>\n",
       "      <td>...</td>\n",
       "      <td>...</td>\n",
       "      <td>...</td>\n",
       "      <td>...</td>\n",
       "      <td>...</td>\n",
       "      <td>...</td>\n",
       "      <td>...</td>\n",
       "      <td>...</td>\n",
       "      <td>...</td>\n",
       "      <td>...</td>\n",
       "      <td>...</td>\n",
       "      <td>...</td>\n",
       "      <td>...</td>\n",
       "      <td>...</td>\n",
       "    </tr>\n",
       "    <tr>\n",
       "      <th>369</th>\n",
       "      <td>0.03</td>\n",
       "      <td>0</td>\n",
       "      <td>0.000000</td>\n",
       "      <td>0.000000</td>\n",
       "      <td>0.000000</td>\n",
       "      <td>0.000000</td>\n",
       "      <td>0.000000</td>\n",
       "      <td>0.000000</td>\n",
       "      <td>0.000</td>\n",
       "      <td>0.000</td>\n",
       "      <td>...</td>\n",
       "      <td>256.7</td>\n",
       "      <td>255.0</td>\n",
       "      <td>259.8</td>\n",
       "      <td>260.3</td>\n",
       "      <td>261.9</td>\n",
       "      <td>263.9</td>\n",
       "      <td>264.9</td>\n",
       "      <td>264.5</td>\n",
       "      <td>262.8</td>\n",
       "      <td>260.9</td>\n",
       "    </tr>\n",
       "    <tr>\n",
       "      <th>370</th>\n",
       "      <td>0.03</td>\n",
       "      <td>0</td>\n",
       "      <td>0.000000</td>\n",
       "      <td>0.000000</td>\n",
       "      <td>0.000000</td>\n",
       "      <td>0.000000</td>\n",
       "      <td>0.000000</td>\n",
       "      <td>0.000000</td>\n",
       "      <td>0.000</td>\n",
       "      <td>0.000</td>\n",
       "      <td>...</td>\n",
       "      <td>258.0</td>\n",
       "      <td>256.2</td>\n",
       "      <td>261.0</td>\n",
       "      <td>261.5</td>\n",
       "      <td>263.1</td>\n",
       "      <td>265.0</td>\n",
       "      <td>266.1</td>\n",
       "      <td>265.6</td>\n",
       "      <td>263.9</td>\n",
       "      <td>262.0</td>\n",
       "    </tr>\n",
       "    <tr>\n",
       "      <th>371</th>\n",
       "      <td>0.03</td>\n",
       "      <td>0</td>\n",
       "      <td>0.000000</td>\n",
       "      <td>0.000000</td>\n",
       "      <td>0.000000</td>\n",
       "      <td>0.000000</td>\n",
       "      <td>0.000000</td>\n",
       "      <td>0.000000</td>\n",
       "      <td>0.000</td>\n",
       "      <td>0.000</td>\n",
       "      <td>...</td>\n",
       "      <td>264.3</td>\n",
       "      <td>262.6</td>\n",
       "      <td>267.3</td>\n",
       "      <td>267.7</td>\n",
       "      <td>269.4</td>\n",
       "      <td>271.3</td>\n",
       "      <td>272.4</td>\n",
       "      <td>271.9</td>\n",
       "      <td>270.3</td>\n",
       "      <td>268.3</td>\n",
       "    </tr>\n",
       "    <tr>\n",
       "      <th>372</th>\n",
       "      <td>0.03</td>\n",
       "      <td>0</td>\n",
       "      <td>0.000000</td>\n",
       "      <td>0.000000</td>\n",
       "      <td>0.000000</td>\n",
       "      <td>0.000000</td>\n",
       "      <td>0.000000</td>\n",
       "      <td>0.000000</td>\n",
       "      <td>0.000</td>\n",
       "      <td>0.000</td>\n",
       "      <td>...</td>\n",
       "      <td>259.0</td>\n",
       "      <td>257.3</td>\n",
       "      <td>261.9</td>\n",
       "      <td>262.4</td>\n",
       "      <td>264.1</td>\n",
       "      <td>266.0</td>\n",
       "      <td>267.0</td>\n",
       "      <td>266.6</td>\n",
       "      <td>264.9</td>\n",
       "      <td>263.0</td>\n",
       "    </tr>\n",
       "    <tr>\n",
       "      <th>373</th>\n",
       "      <td>0.03</td>\n",
       "      <td>0</td>\n",
       "      <td>0.000000</td>\n",
       "      <td>0.000000</td>\n",
       "      <td>0.000000</td>\n",
       "      <td>0.000000</td>\n",
       "      <td>0.000000</td>\n",
       "      <td>0.000000</td>\n",
       "      <td>0.000</td>\n",
       "      <td>0.000</td>\n",
       "      <td>...</td>\n",
       "      <td>251.6</td>\n",
       "      <td>249.9</td>\n",
       "      <td>254.5</td>\n",
       "      <td>254.9</td>\n",
       "      <td>256.6</td>\n",
       "      <td>258.6</td>\n",
       "      <td>259.6</td>\n",
       "      <td>259.2</td>\n",
       "      <td>257.5</td>\n",
       "      <td>255.6</td>\n",
       "    </tr>\n",
       "  </tbody>\n",
       "</table>\n",
       "<p>374 rows × 290 columns</p>\n",
       "</div>"
      ],
      "text/plain": [
       "     confidence  success  gaze_0_x  gaze_0_y  gaze_0_z  gaze_1_x  gaze_1_y  \\\n",
       "0          0.98        1 -0.058954 -0.457938 -0.887027 -0.135234 -0.456709   \n",
       "1          0.98        1 -0.053291 -0.443624 -0.894627 -0.143240 -0.442300   \n",
       "2          0.98        1 -0.074696 -0.357094 -0.931077 -0.129029 -0.425962   \n",
       "3          0.93        1 -0.042742 -0.400226 -0.915419 -0.191986 -0.352971   \n",
       "4          0.03        0  0.000000  0.000000  0.000000  0.000000  0.000000   \n",
       "..          ...      ...       ...       ...       ...       ...       ...   \n",
       "369        0.03        0  0.000000  0.000000  0.000000  0.000000  0.000000   \n",
       "370        0.03        0  0.000000  0.000000  0.000000  0.000000  0.000000   \n",
       "371        0.03        0  0.000000  0.000000  0.000000  0.000000  0.000000   \n",
       "372        0.03        0  0.000000  0.000000  0.000000  0.000000  0.000000   \n",
       "373        0.03        0  0.000000  0.000000  0.000000  0.000000  0.000000   \n",
       "\n",
       "     gaze_1_z  gaze_angle_x  gaze_angle_y  ...  eye_lmk_Z_46  eye_lmk_Z_47  \\\n",
       "0   -0.879277        -0.110        -0.478  ...         416.0         416.9   \n",
       "1   -0.885355        -0.110        -0.462  ...         426.4         427.4   \n",
       "2   -0.895493        -0.111        -0.405  ...         423.7         424.7   \n",
       "3   -0.915725        -0.127        -0.390  ...         435.4         436.6   \n",
       "4    0.000000         0.000         0.000  ...         369.3         370.0   \n",
       "..        ...           ...           ...  ...           ...           ...   \n",
       "369  0.000000         0.000         0.000  ...         256.7         255.0   \n",
       "370  0.000000         0.000         0.000  ...         258.0         256.2   \n",
       "371  0.000000         0.000         0.000  ...         264.3         262.6   \n",
       "372  0.000000         0.000         0.000  ...         259.0         257.3   \n",
       "373  0.000000         0.000         0.000  ...         251.6         249.9   \n",
       "\n",
       "     eye_lmk_Z_48  eye_lmk_Z_49  eye_lmk_Z_50  eye_lmk_Z_51  eye_lmk_Z_52  \\\n",
       "0           419.5         419.7         420.5         421.4         422.0   \n",
       "1           429.6         429.7         430.4         431.3         431.8   \n",
       "2           426.9         427.0         427.6         428.5         429.0   \n",
       "3           438.9         439.1         439.7         440.4         440.9   \n",
       "4           372.3         372.9         373.7         374.4         374.5   \n",
       "..            ...           ...           ...           ...           ...   \n",
       "369         259.8         260.3         261.9         263.9         264.9   \n",
       "370         261.0         261.5         263.1         265.0         266.1   \n",
       "371         267.3         267.7         269.4         271.3         272.4   \n",
       "372         261.9         262.4         264.1         266.0         267.0   \n",
       "373         254.5         254.9         256.6         258.6         259.6   \n",
       "\n",
       "     eye_lmk_Z_53  eye_lmk_Z_54  eye_lmk_Z_55  \n",
       "0           421.8         421.0         420.1  \n",
       "1           431.6         430.9         430.1  \n",
       "2           429.0         428.3         427.4  \n",
       "3           440.8         440.1         439.4  \n",
       "4           373.9         373.1         372.4  \n",
       "..            ...           ...           ...  \n",
       "369         264.5         262.8         260.9  \n",
       "370         265.6         263.9         262.0  \n",
       "371         271.9         270.3         268.3  \n",
       "372         266.6         264.9         263.0  \n",
       "373         259.2         257.5         255.6  \n",
       "\n",
       "[374 rows x 290 columns]"
      ]
     },
     "execution_count": 55,
     "metadata": {},
     "output_type": "execute_result"
    }
   ],
   "source": [
    "gaze = pd.read_csv(r\"E:\\37be2146-0a9a-4876-aef9-89a771363418\\37be2146-0a9a-4876-aef9-89a771363418\\Recording 001\\Session 0002\\r_video.csv\")\n",
    "gaze.iloc[:,3:]"
   ]
  },
  {
   "cell_type": "code",
   "execution_count": null,
   "id": "808d4dfc",
   "metadata": {},
   "outputs": [],
   "source": []
  }
 ],
 "metadata": {
  "kernelspec": {
   "display_name": "Python 3",
   "language": "python",
   "name": "python3"
  },
  "language_info": {
   "codemirror_mode": {
    "name": "ipython",
    "version": 3
   },
   "file_extension": ".py",
   "mimetype": "text/x-python",
   "name": "python",
   "nbconvert_exporter": "python",
   "pygments_lexer": "ipython3",
   "version": "3.8.8"
  }
 },
 "nbformat": 4,
 "nbformat_minor": 5
}
